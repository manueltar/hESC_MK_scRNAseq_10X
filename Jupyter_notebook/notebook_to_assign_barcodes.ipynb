{
 "cells": [
  {
   "cell_type": "markdown",
   "id": "6aa90505-d963-4f35-be51-e57a2b285ffa",
   "metadata": {},
   "source": [
    "# Load packages and libraries"
   ]
  },
  {
   "cell_type": "code",
   "execution_count": 187,
   "id": "abcc97a1-28a1-4588-939d-0adc2b54439d",
   "metadata": {
    "execution": {
     "iopub.execute_input": "2025-10-14T10:43:00.436729Z",
     "iopub.status.busy": "2025-10-14T10:43:00.435445Z",
     "iopub.status.idle": "2025-10-14T10:43:49.153357Z",
     "shell.execute_reply": "2025-10-14T10:43:49.151999Z"
    },
    "vscode": {
     "languageId": "r"
    }
   },
   "outputs": [
    {
     "data": {
      "text/html": [
       "'/home/manuel.tardaguila/conda_envs/multiome_QC_DEF/lib/R/library'"
      ],
      "text/latex": [
       "'/home/manuel.tardaguila/conda\\_envs/multiome\\_QC\\_DEF/lib/R/library'"
      ],
      "text/markdown": [
       "'/home/manuel.tardaguila/conda_envs/multiome_QC_DEF/lib/R/library'"
      ],
      "text/plain": [
       "[1] \"/home/manuel.tardaguila/conda_envs/multiome_QC_DEF/lib/R/library\""
      ]
     },
     "metadata": {},
     "output_type": "display_data"
    },
    {
     "data": {
      "text/html": [
       "'/home/manuel.tardaguila/conda_envs/multiome_QC_DEF/lib/R/library'"
      ],
      "text/latex": [
       "'/home/manuel.tardaguila/conda\\_envs/multiome\\_QC\\_DEF/lib/R/library'"
      ],
      "text/markdown": [
       "'/home/manuel.tardaguila/conda_envs/multiome_QC_DEF/lib/R/library'"
      ],
      "text/plain": [
       "[1] \"/home/manuel.tardaguila/conda_envs/multiome_QC_DEF/lib/R/library\""
      ]
     },
     "metadata": {},
     "output_type": "display_data"
    },
    {
     "data": {
      "text/html": [
       "TRUE"
      ],
      "text/latex": [
       "TRUE"
      ],
      "text/markdown": [
       "TRUE"
      ],
      "text/plain": [
       "[1] TRUE"
      ]
     },
     "metadata": {},
     "output_type": "display_data"
    },
    {
     "data": {
      "text/plain": [
       "Module(leidenalg)"
      ]
     },
     "metadata": {},
     "output_type": "display_data"
    }
   ],
   "source": [
    ".libPaths()\n",
    ".libPaths(new = c(\"/home/manuel.tardaguila/conda_envs/multiome_QC_DEF/lib/R/library\"))\n",
    ".libPaths()\n",
    "# sessionInfo()\n",
    "\n",
    "Sys.setenv(RETICULATE_PYTHON=\"/home/manuel.tardaguila/conda_envs/multiome_QC_DEF/bin/python\")\n",
    "library(reticulate)\n",
    "reticulate::use_python(\"/home/manuel.tardaguila/conda_envs/multiome_QC_DEF/bin/python\")\n",
    "reticulate::use_condaenv(\"/home/manuel.tardaguila/conda_envs/multiome_QC_DEF\")\n",
    "reticulate::py_module_available(module='leidenalg')\n",
    "reticulate::import('leidenalg')\n",
    "suppressMessages(library(\"optparse\"))\n",
    "suppressMessages(library(hdf5r))\n",
    "suppressMessages(library(Seurat))\n",
    "suppressMessages(library(Signac))\n",
    "suppressMessages(library(EnsDb.Hsapiens.v86))\n",
    "suppressMessages(library(dplyr))\n",
    "suppressMessages(library(ggplot2))\n",
    "suppressMessages(library(Matrix))\n",
    "suppressMessages(library(data.table))\n",
    "suppressMessages(library(ggpubr))\n",
    "suppressMessages(library(ggplot2))\n",
    "suppressMessages(library(scDblFinder))\n",
    "suppressMessages(library(\"tidyr\"))\n",
    "suppressMessages(library(\"tibble\"))\n",
    "suppressMessages(library(\"biovizBase\"))\n",
    "suppressMessages(library(\"patchwork\"))\n",
    "suppressMessages(library(glmGamPoi))\n",
    "suppressMessages(library(SeuratData))\n",
    "suppressMessages(library(SeuratDisk))\n",
    "library(svglite)\n",
    "library(RColorBrewer)\n",
    "library(forcats)\n",
    "library(cowplot)\n",
    "\n",
    "\n"
   ]
  },
  {
   "cell_type": "markdown",
   "id": "2fde3c4f-09d2-4108-b589-cb4d0808fb2a",
   "metadata": {},
   "source": [
    "# Checkpoint with all the cells, annotated and rpca integrated"
   ]
  },
  {
   "cell_type": "code",
   "execution_count": 188,
   "id": "2d776103-3535-41b6-a315-4c71270849cb",
   "metadata": {
    "execution": {
     "iopub.execute_input": "2025-10-14T10:43:49.156566Z",
     "iopub.status.busy": "2025-10-14T10:43:49.155434Z",
     "iopub.status.idle": "2025-10-14T10:44:42.026819Z",
     "shell.execute_reply": "2025-10-14T10:44:42.024472Z"
    }
   },
   "outputs": [],
   "source": [
    "setwd(\"/scratch/manuel.tardaguila/hESC_MK_SCRNAseq_10X/no_competition/processing_outputs/\")\n",
    "\n",
    "adata<-readRDS(file=\"merged_unprocessed_db_filt_clustered_QCed_cell_annotated_rpca_integrate_clustered_subcluster_majority_vote.rds\")"
   ]
  },
  {
   "cell_type": "code",
   "execution_count": 189,
   "id": "44152023-198e-4971-bd2e-1c75a9da0b15",
   "metadata": {
    "execution": {
     "iopub.execute_input": "2025-10-14T10:44:42.030422Z",
     "iopub.status.busy": "2025-10-14T10:44:42.029217Z",
     "iopub.status.idle": "2025-10-14T10:44:42.050070Z",
     "shell.execute_reply": "2025-10-14T10:44:42.048751Z"
    }
   },
   "outputs": [
    {
     "data": {
      "text/plain": [
       "An object of class Seurat \n",
       "104138 features across 35220 samples within 4 assays \n",
       "Active assay: SCT (28364 features, 0 variable features)\n",
       " 3 layers present: counts, data, scale.data\n",
       " 3 other assays present: RNA, RNA_raw, integrated\n",
       " 2 dimensional reductions calculated: pca, umap"
      ]
     },
     "metadata": {},
     "output_type": "display_data"
    }
   ],
   "source": [
    "adata"
   ]
  },
  {
   "cell_type": "markdown",
   "id": "3cd05dd0-3d75-4403-bfc6-d470361f728d",
   "metadata": {},
   "source": [
    "# Read targeted amplified GEX no Cell Bender"
   ]
  },
  {
   "cell_type": "markdown",
   "id": "03346242-3bb4-4356-b67a-3180f3076fed",
   "metadata": {},
   "source": [
    "## Read each of the files in Seurat Diff1"
   ]
  },
  {
   "cell_type": "code",
   "execution_count": 190,
   "id": "7dc3f508-324b-4947-9c8f-6807954d9879",
   "metadata": {
    "execution": {
     "iopub.execute_input": "2025-10-14T10:44:42.053345Z",
     "iopub.status.busy": "2025-10-14T10:44:42.052207Z",
     "iopub.status.idle": "2025-10-14T10:44:54.858621Z",
     "shell.execute_reply": "2025-10-14T10:44:54.856665Z"
    }
   },
   "outputs": [
    {
     "name": "stderr",
     "output_type": "stream",
     "text": [
      "Warning message:\n",
      "\"Feature names cannot have underscores ('_'), replacing with dashes ('-')\"\n",
      "Warning message:\n",
      "\"Feature names cannot have underscores ('_'), replacing with dashes ('-')\"\n"
     ]
    }
   ],
   "source": [
    " adata_samp_1                 <- CreateSeuratObject(counts=Read10X_h5(file.path(\"/scratch/manuel.tardaguila/hESC_MK_SCRNAseq_10X/no_competition/targeted_amplicon_GEX/MCO_01373_3GEX/outs/\", 'raw_feature_bc_matrix.h5')))\n",
    "  \n",
    " adata_samp_1$orig.ident<-'MCO_01373_3GEX'\n",
    "\n",
    "adata_samp_2                 <- CreateSeuratObject(counts=Read10X_h5(file.path(\"/scratch/manuel.tardaguila/hESC_MK_SCRNAseq_10X/no_competition/targeted_amplicon_GEX/MCO_01374_3GEX/outs/\", 'raw_feature_bc_matrix.h5')))\n",
    "  \n",
    "adata_samp_2$orig.ident<-'MCO_01374_3GEX'\n",
    "\n"
   ]
  },
  {
   "cell_type": "markdown",
   "id": "883e1372-5dfb-4333-8622-c8e5c19467fa",
   "metadata": {},
   "source": [
    "## combine them in a single object"
   ]
  },
  {
   "cell_type": "code",
   "execution_count": 191,
   "id": "891d4525-d580-496e-a00e-bf140a2967a6",
   "metadata": {
    "execution": {
     "iopub.execute_input": "2025-10-14T10:44:54.861672Z",
     "iopub.status.busy": "2025-10-14T10:44:54.860680Z",
     "iopub.status.idle": "2025-10-14T10:45:06.990500Z",
     "shell.execute_reply": "2025-10-14T10:45:06.989225Z"
    }
   },
   "outputs": [
    {
     "data": {
      "text/plain": [
       "An object of class Seurat \n",
       "12 features across 662043 samples within 1 assay \n",
       "Active assay: RNA (12 features, 0 variable features)\n",
       " 1 layer present: counts"
      ]
     },
     "metadata": {},
     "output_type": "display_data"
    }
   ],
   "source": [
    "adatas<-list()\n",
    "\n",
    "adatas[[1]]<-adata_samp_1\n",
    "adatas[[2]]<-adata_samp_2\n",
    "\n",
    "\n",
    "sample_array<-c('MCO_01373_3GEX','MCO_01374_3GEX')\n",
    "\n",
    "merged = merge(x =adatas[[1]], y=adatas[2], add.cell.ids = sample_array )\n",
    "\n",
    "merged[[\"RNA\"]] <-JoinLayers(merged[[\"RNA\"]])\n",
    "\n",
    "merged\n"
   ]
  },
  {
   "cell_type": "markdown",
   "id": "8d7a788d-3cc6-4736-bffb-c6c448200caf",
   "metadata": {},
   "source": [
    "## Only use the barcodes that are part of my final object"
   ]
  },
  {
   "cell_type": "code",
   "execution_count": 192,
   "id": "a7cf2654-05e6-435e-ad1a-530d8cdeed07",
   "metadata": {
    "execution": {
     "iopub.execute_input": "2025-10-14T10:45:06.993403Z",
     "iopub.status.busy": "2025-10-14T10:45:06.992401Z",
     "iopub.status.idle": "2025-10-14T10:45:07.042934Z",
     "shell.execute_reply": "2025-10-14T10:45:07.041671Z"
    }
   },
   "outputs": [
    {
     "name": "stdout",
     "output_type": "stream",
     "text": [
      " chr [1:35216] \"MCO_01373_3GEX_AAACCAAAGTAGACTT-1\" ...\n"
     ]
    }
   ],
   "source": [
    "joint.bcs <- intersect(colnames(adata), colnames(merged))\n",
    "\n",
    "str(joint.bcs)"
   ]
  },
  {
   "cell_type": "code",
   "execution_count": 193,
   "id": "a6d552c5-186a-4937-8f1c-0191ec89e404",
   "metadata": {
    "execution": {
     "iopub.execute_input": "2025-10-14T10:45:07.045854Z",
     "iopub.status.busy": "2025-10-14T10:45:07.044826Z",
     "iopub.status.idle": "2025-10-14T10:45:12.603086Z",
     "shell.execute_reply": "2025-10-14T10:45:12.601837Z"
    }
   },
   "outputs": [
    {
     "data": {
      "text/plain": [
       "An object of class Seurat \n",
       "12 features across 35216 samples within 1 assay \n",
       "Active assay: RNA (12 features, 0 variable features)\n",
       " 1 layer present: counts"
      ]
     },
     "metadata": {},
     "output_type": "display_data"
    }
   ],
   "source": [
    "merged_restricted <- subset(merged, cells = joint.bcs)\n",
    "\n",
    "merged_restricted"
   ]
  },
  {
   "cell_type": "code",
   "execution_count": 194,
   "id": "e42d7ae0-37df-45a9-943e-abb9730e33e1",
   "metadata": {
    "execution": {
     "iopub.execute_input": "2025-10-14T10:45:12.605939Z",
     "iopub.status.busy": "2025-10-14T10:45:12.604948Z",
     "iopub.status.idle": "2025-10-14T10:45:12.636220Z",
     "shell.execute_reply": "2025-10-14T10:45:12.634854Z"
    }
   },
   "outputs": [],
   "source": [
    "HTO_NOCellBender_counts<-GetAssayData(\n",
    "  merged_restricted,\n",
    "  layer = c(\"counts\"))+1\n",
    "\n",
    "### Adding a pseudocount as seen in https://github.com/satijalab/seurat/issues/5640\n"
   ]
  },
  {
   "cell_type": "code",
   "execution_count": 195,
   "id": "0eadce3a-35bc-4d6f-9ac1-da15d73169dc",
   "metadata": {
    "execution": {
     "iopub.execute_input": "2025-10-14T10:45:12.639141Z",
     "iopub.status.busy": "2025-10-14T10:45:12.638166Z",
     "iopub.status.idle": "2025-10-14T10:45:12.651000Z",
     "shell.execute_reply": "2025-10-14T10:45:12.649882Z"
    }
   },
   "outputs": [
    {
     "name": "stdout",
     "output_type": "stream",
     "text": [
      "Formal class 'dgeMatrix' [package \"Matrix\"] with 4 slots\n",
      "  ..@ Dim     : int [1:2] 12 35216\n",
      "  ..@ Dimnames:List of 2\n",
      "  .. ..$ : chr [1:12] \"GFP-chrGFP-WTA\" \"GFP-chrGFP-WTB\" \"GFP-chrGFP-WTC\" \"GFP-chrGFP-rs1\" ...\n",
      "  .. ..$ : chr [1:35216] \"MCO_01373_3GEX_AAACCAAAGTAGACTT-1\" \"MCO_01373_3GEX_AAACCAAAGTCATCGA-1\" \"MCO_01373_3GEX_AAACCAAAGTGAACTT-1\" \"MCO_01373_3GEX_AAACCATTCCCAGGTG-1\" ...\n",
      "  ..@ x       : num [1:422592] 4 11 3 7 1 8 11 3 11 19 ...\n",
      "  ..@ factors : list()\n"
     ]
    }
   ],
   "source": [
    "str(HTO_NOCellBender_counts)"
   ]
  },
  {
   "cell_type": "code",
   "execution_count": 196,
   "id": "b5c02647-ef1f-45f5-874d-8f139a37ad02",
   "metadata": {
    "execution": {
     "iopub.execute_input": "2025-10-14T10:45:12.653772Z",
     "iopub.status.busy": "2025-10-14T10:45:12.652801Z",
     "iopub.status.idle": "2025-10-14T10:45:13.148252Z",
     "shell.execute_reply": "2025-10-14T10:45:13.146851Z"
    }
   },
   "outputs": [],
   "source": [
    "merged_restricted[[\"HTO_NOCellBender\"]] <- CreateAssayObject(counts = HTO_NOCellBender_counts)"
   ]
  },
  {
   "cell_type": "code",
   "execution_count": 197,
   "id": "5793bb29-6de6-42c3-a342-5c8530d419f4",
   "metadata": {
    "execution": {
     "iopub.execute_input": "2025-10-14T10:45:13.151172Z",
     "iopub.status.busy": "2025-10-14T10:45:13.150172Z",
     "iopub.status.idle": "2025-10-14T10:45:13.164362Z",
     "shell.execute_reply": "2025-10-14T10:45:13.163223Z"
    }
   },
   "outputs": [
    {
     "data": {
      "text/plain": [
       "An object of class Seurat \n",
       "24 features across 35216 samples within 2 assays \n",
       "Active assay: RNA (12 features, 0 variable features)\n",
       " 1 layer present: counts\n",
       " 1 other assay present: HTO_NOCellBender"
      ]
     },
     "metadata": {},
     "output_type": "display_data"
    }
   ],
   "source": [
    "merged_restricted"
   ]
  },
  {
   "cell_type": "markdown",
   "id": "756f9c96-f9f7-40f7-b574-5ac82164f6a7",
   "metadata": {
    "editable": true,
    "slideshow": {
     "slide_type": ""
    },
    "tags": []
   },
   "source": [
    "## normalize CLR"
   ]
  },
  {
   "cell_type": "code",
   "execution_count": 198,
   "id": "9d3ae64a-9e7a-40b4-91d6-9b07a8af9cf4",
   "metadata": {
    "execution": {
     "iopub.execute_input": "2025-10-14T10:45:13.167189Z",
     "iopub.status.busy": "2025-10-14T10:45:13.166180Z",
     "iopub.status.idle": "2025-10-14T10:45:13.521479Z",
     "shell.execute_reply": "2025-10-14T10:45:13.520099Z"
    }
   },
   "outputs": [
    {
     "name": "stderr",
     "output_type": "stream",
     "text": [
      "Normalizing across features\n",
      "\n"
     ]
    }
   ],
   "source": [
    "merged_restricted <- NormalizeData(merged_restricted, assay = \"HTO_NOCellBender\", normalization.method = \"CLR\")\n"
   ]
  },
  {
   "cell_type": "markdown",
   "id": "66ad5e14-5bc4-46a8-9c5f-29fd4c753c09",
   "metadata": {},
   "source": [
    "## Demultiplex using HTO Demux"
   ]
  },
  {
   "cell_type": "code",
   "execution_count": 199,
   "id": "028e6591-0596-4f54-9d6b-2fe8798d43e6",
   "metadata": {
    "execution": {
     "iopub.execute_input": "2025-10-14T10:45:13.524377Z",
     "iopub.status.busy": "2025-10-14T10:45:13.523380Z",
     "iopub.status.idle": "2025-10-14T10:45:18.502776Z",
     "shell.execute_reply": "2025-10-14T10:45:18.501390Z"
    }
   },
   "outputs": [
    {
     "name": "stderr",
     "output_type": "stream",
     "text": [
      "Cutoff for GFP-chrGFP-WTA : 10 reads\n",
      "\n",
      "Cutoff for GFP-chrGFP-WTB : 29 reads\n",
      "\n",
      "Cutoff for GFP-chrGFP-WTC : 15 reads\n",
      "\n",
      "Cutoff for GFP-chrGFP-rs1 : 23 reads\n",
      "\n",
      "Cutoff for GFP-chrGFP-rs2 : 6 reads\n",
      "\n",
      "Cutoff for GFP-chrGFP-rs3 : 39 reads\n",
      "\n",
      "Cutoff for GFP-chrGFP-R882H1 : 33 reads\n",
      "\n",
      "Cutoff for GFP-chrGFP-R882H2 : 5 reads\n",
      "\n",
      "Cutoff for GFP-chrGFP-R882H3 : 23 reads\n",
      "\n",
      "Cutoff for GFP-chrGFP-rs-R882H1 : 26 reads\n",
      "\n",
      "Cutoff for GFP-chrGFP-rs-R882H2 : 6 reads\n",
      "\n",
      "Cutoff for GFP-chrGFP-rs-R882H3 : 31 reads\n",
      "\n"
     ]
    }
   ],
   "source": [
    "merged_restricted <- HTODemux(merged_restricted, assay = \"HTO_NOCellBender\", positive.quantile = 0.99)\n"
   ]
  },
  {
   "cell_type": "code",
   "execution_count": 200,
   "id": "43666a6d-d59f-470a-9014-7ca9dfef67f1",
   "metadata": {
    "execution": {
     "iopub.execute_input": "2025-10-14T10:45:18.505718Z",
     "iopub.status.busy": "2025-10-14T10:45:18.504712Z",
     "iopub.status.idle": "2025-10-14T10:45:18.520148Z",
     "shell.execute_reply": "2025-10-14T10:45:18.518992Z"
    }
   },
   "outputs": [
    {
     "name": "stdout",
     "output_type": "stream",
     "text": [
      "'data.frame':\t35216 obs. of  11 variables:\n",
      " $ orig.ident                            : chr  \"MCO_01373_3GEX\" \"MCO_01373_3GEX\" \"MCO_01373_3GEX\" \"MCO_01373_3GEX\" ...\n",
      " $ nCount_RNA                            : num  77 333 120 340 247 342 62 50 464 82 ...\n",
      " $ nFeature_RNA                          : int  11 12 12 12 12 12 12 10 12 11 ...\n",
      " $ nCount_HTO_NOCellBender               : num  89 345 132 352 259 354 74 62 476 94 ...\n",
      " $ nFeature_HTO_NOCellBender             : int  12 12 12 12 12 12 12 12 12 12 ...\n",
      " $ HTO_NOCellBender_maxID                : chr  \"GFP-chrGFP-R882H2\" \"GFP-chrGFP-WTB\" \"GFP-chrGFP-rs2\" \"GFP-chrGFP-R882H1\" ...\n",
      " $ HTO_NOCellBender_secondID             : chr  \"GFP-chrGFP-rs-R882H1\" \"GFP-chrGFP-R882H2\" \"GFP-chrGFP-rs-R882H2\" \"GFP-chrGFP-rs-R882H2\" ...\n",
      " $ HTO_NOCellBender_margin               : num  0.0784 0.4822 0.2661 0.2626 0.2262 ...\n",
      " $ HTO_NOCellBender_classification       : chr  \"Negative\" \"GFP-chrGFP-R882H2_GFP-chrGFP-WTB\" \"Negative\" \"GFP-chrGFP-R882H1_GFP-chrGFP-rs-R882H2\" ...\n",
      " $ HTO_NOCellBender_classification.global: chr  \"Negative\" \"Doublet\" \"Negative\" \"Doublet\" ...\n",
      " $ hash.ID                               : Factor w/ 14 levels \"Doublet\",\"Negative\",..: 2 1 2 1 1 1 3 2 1 2 ...\n"
     ]
    }
   ],
   "source": [
    "str(merged_restricted@meta.data)"
   ]
  },
  {
   "cell_type": "code",
   "execution_count": 201,
   "id": "0d074392-93dc-4799-b42c-c14704157003",
   "metadata": {
    "execution": {
     "iopub.execute_input": "2025-10-14T10:45:18.522975Z",
     "iopub.status.busy": "2025-10-14T10:45:18.522004Z",
     "iopub.status.idle": "2025-10-14T10:45:18.534088Z",
     "shell.execute_reply": "2025-10-14T10:45:18.532936Z"
    }
   },
   "outputs": [
    {
     "data": {
      "text/html": [
       "<style>\n",
       ".dl-inline {width: auto; margin:0; padding: 0}\n",
       ".dl-inline>dt, .dl-inline>dd {float: none; width: auto; display: inline-block}\n",
       ".dl-inline>dt::after {content: \":\\0020\"; padding-right: .5ex}\n",
       ".dl-inline>dt:not(:first-of-type) {padding-left: .5ex}\n",
       "</style><dl class=dl-inline><dt>Doublet</dt><dd>29637</dd><dt>Negative</dt><dd>3037</dd><dt>GFP-chrGFP-WTA</dt><dd>135</dd><dt>GFP-chrGFP-R882H3</dt><dd>212</dd><dt>GFP-chrGFP-rs3</dt><dd>262</dd><dt>GFP-chrGFP-rs2</dt><dd>58</dd><dt>GFP-chrGFP-R882H2</dt><dd>70</dd><dt>GFP-chrGFP-rs-R882H2</dt><dd>68</dd><dt>GFP-chrGFP-rs1</dt><dd>278</dd><dt>GFP-chrGFP-WTB</dt><dd>254</dd><dt>GFP-chrGFP-rs-R882H1</dt><dd>278</dd><dt>GFP-chrGFP-WTC</dt><dd>187</dd><dt>GFP-chrGFP-rs-R882H3</dt><dd>287</dd><dt>GFP-chrGFP-R882H1</dt><dd>453</dd></dl>\n"
      ],
      "text/latex": [
       "\\begin{description*}\n",
       "\\item[Doublet] 29637\n",
       "\\item[Negative] 3037\n",
       "\\item[GFP-chrGFP-WTA] 135\n",
       "\\item[GFP-chrGFP-R882H3] 212\n",
       "\\item[GFP-chrGFP-rs3] 262\n",
       "\\item[GFP-chrGFP-rs2] 58\n",
       "\\item[GFP-chrGFP-R882H2] 70\n",
       "\\item[GFP-chrGFP-rs-R882H2] 68\n",
       "\\item[GFP-chrGFP-rs1] 278\n",
       "\\item[GFP-chrGFP-WTB] 254\n",
       "\\item[GFP-chrGFP-rs-R882H1] 278\n",
       "\\item[GFP-chrGFP-WTC] 187\n",
       "\\item[GFP-chrGFP-rs-R882H3] 287\n",
       "\\item[GFP-chrGFP-R882H1] 453\n",
       "\\end{description*}\n"
      ],
      "text/markdown": [
       "Doublet\n",
       ":   29637Negative\n",
       ":   3037GFP-chrGFP-WTA\n",
       ":   135GFP-chrGFP-R882H3\n",
       ":   212GFP-chrGFP-rs3\n",
       ":   262GFP-chrGFP-rs2\n",
       ":   58GFP-chrGFP-R882H2\n",
       ":   70GFP-chrGFP-rs-R882H2\n",
       ":   68GFP-chrGFP-rs1\n",
       ":   278GFP-chrGFP-WTB\n",
       ":   254GFP-chrGFP-rs-R882H1\n",
       ":   278GFP-chrGFP-WTC\n",
       ":   187GFP-chrGFP-rs-R882H3\n",
       ":   287GFP-chrGFP-R882H1\n",
       ":   453\n",
       "\n"
      ],
      "text/plain": [
       "             Doublet             Negative       GFP-chrGFP-WTA \n",
       "               29637                 3037                  135 \n",
       "   GFP-chrGFP-R882H3       GFP-chrGFP-rs3       GFP-chrGFP-rs2 \n",
       "                 212                  262                   58 \n",
       "   GFP-chrGFP-R882H2 GFP-chrGFP-rs-R882H2       GFP-chrGFP-rs1 \n",
       "                  70                   68                  278 \n",
       "      GFP-chrGFP-WTB GFP-chrGFP-rs-R882H1       GFP-chrGFP-WTC \n",
       "                 254                  278                  187 \n",
       "GFP-chrGFP-rs-R882H3    GFP-chrGFP-R882H1 \n",
       "                 287                  453 "
      ]
     },
     "metadata": {},
     "output_type": "display_data"
    }
   ],
   "source": [
    "summary(merged_restricted@meta.data$hash.ID)"
   ]
  },
  {
   "cell_type": "code",
   "execution_count": 202,
   "id": "7302e8fd-e5fa-4acd-93b1-a9370903a252",
   "metadata": {
    "execution": {
     "iopub.execute_input": "2025-10-14T10:45:18.536871Z",
     "iopub.status.busy": "2025-10-14T10:45:18.535898Z",
     "iopub.status.idle": "2025-10-14T10:45:18.630840Z",
     "shell.execute_reply": "2025-10-14T10:45:18.629616Z"
    }
   },
   "outputs": [
    {
     "data": {
      "text/plain": [
       "\n",
       " Doublet Negative  Singlet \n",
       "   29637     3037     2542 "
      ]
     },
     "metadata": {},
     "output_type": "display_data"
    }
   ],
   "source": [
    "table(merged_restricted$HTO_NOCellBender_classification.global)"
   ]
  },
  {
   "cell_type": "code",
   "execution_count": 203,
   "id": "a9116cf3-56a8-443c-8384-197ecccfee3d",
   "metadata": {
    "execution": {
     "iopub.execute_input": "2025-10-14T10:45:18.633852Z",
     "iopub.status.busy": "2025-10-14T10:45:18.632859Z",
     "iopub.status.idle": "2025-10-14T10:45:22.107291Z",
     "shell.execute_reply": "2025-10-14T10:45:22.105949Z"
    }
   },
   "outputs": [],
   "source": [
    "# Group cells based on the max HTO_NOCellBender signal\n",
    "Idents(merged_restricted) <- \"HTO_NOCellBender_maxID\"\n",
    "rp1<-RidgePlot(merged_restricted, assay = \"HTO_NOCellBender\", features = rownames(merged_restricted[[\"HTO_NOCellBender\"]])[1], ncol = 1)+\n",
    "             theme(legend.title = element_blank(),\n",
    "                      legend.text = element_text(color=\"black\", family=\"sans\"),\n",
    "                      legend.key.size = unit(0.25, 'cm'), #change legend key size\n",
    "                      legend.key.height = unit(0.25, 'cm'), #change legend key height\n",
    "                      legend.key.width = unit(0.25, 'cm'), #change legend key width\n",
    "                      legend.position=\"hidden\")\n",
    "\n",
    "rp2<-RidgePlot(merged_restricted, assay = \"HTO_NOCellBender\", features = rownames(merged_restricted[[\"HTO_NOCellBender\"]])[2], ncol = 1)+\n",
    "             theme(legend.title = element_blank(),\n",
    "                      legend.text = element_text(color=\"black\", family=\"sans\"),\n",
    "                      legend.key.size = unit(0.25, 'cm'), #change legend key size\n",
    "                      legend.key.height = unit(0.25, 'cm'), #change legend key height\n",
    "                      legend.key.width = unit(0.25, 'cm'), #change legend key width\n",
    "                      legend.position=\"hidden\")\n",
    "\n",
    "rp3<-RidgePlot(merged_restricted, assay = \"HTO_NOCellBender\", features = rownames(merged_restricted[[\"HTO_NOCellBender\"]])[3], ncol = 1)+\n",
    "             theme(legend.title = element_blank(),\n",
    "                      legend.text = element_text(color=\"black\", family=\"sans\"),\n",
    "                      legend.key.size = unit(0.25, 'cm'), #change legend key size\n",
    "                      legend.key.height = unit(0.25, 'cm'), #change legend key height\n",
    "                      legend.key.width = unit(0.25, 'cm'), #change legend key width\n",
    "                      legend.position=\"hidden\")\n",
    "\n",
    "rp4<-RidgePlot(merged_restricted, assay = \"HTO_NOCellBender\", features = rownames(merged_restricted[[\"HTO_NOCellBender\"]])[4], ncol = 1)+\n",
    "             theme(legend.title = element_blank(),\n",
    "                      legend.text = element_text(color=\"black\", family=\"sans\"),\n",
    "                      legend.key.size = unit(0.25, 'cm'), #change legend key size\n",
    "                      legend.key.height = unit(0.25, 'cm'), #change legend key height\n",
    "                      legend.key.width = unit(0.25, 'cm'), #change legend key width\n",
    "                      legend.position=\"hidden\")\n",
    "\n",
    "##\n",
    "\n",
    "rp5<-RidgePlot(merged_restricted, assay = \"HTO_NOCellBender\", features = rownames(merged_restricted[[\"HTO_NOCellBender\"]])[5], ncol = 1)+\n",
    "             theme(legend.title = element_blank(),\n",
    "                      legend.text = element_text(color=\"black\", family=\"sans\"),\n",
    "                      legend.key.size = unit(0.25, 'cm'), #change legend key size\n",
    "                      legend.key.height = unit(0.25, 'cm'), #change legend key height\n",
    "                      legend.key.width = unit(0.25, 'cm'), #change legend key width\n",
    "                      legend.position=\"hidden\")\n",
    "\n",
    "rp6<-RidgePlot(merged_restricted, assay = \"HTO_NOCellBender\", features = rownames(merged_restricted[[\"HTO_NOCellBender\"]])[6], ncol = 1)+\n",
    "             theme(legend.title = element_blank(),\n",
    "                      legend.text = element_text(color=\"black\", family=\"sans\"),\n",
    "                      legend.key.size = unit(0.25, 'cm'), #change legend key size\n",
    "                      legend.key.height = unit(0.25, 'cm'), #change legend key height\n",
    "                      legend.key.width = unit(0.25, 'cm'), #change legend key width\n",
    "                      legend.position=\"hidden\")\n",
    "\n",
    "rp7<-RidgePlot(merged_restricted, assay = \"HTO_NOCellBender\", features = rownames(merged_restricted[[\"HTO_NOCellBender\"]])[7], ncol = 1)+\n",
    "             theme(legend.title = element_blank(),\n",
    "                      legend.text = element_text(color=\"black\", family=\"sans\"),\n",
    "                      legend.key.size = unit(0.25, 'cm'), #change legend key size\n",
    "                      legend.key.height = unit(0.25, 'cm'), #change legend key height\n",
    "                      legend.key.width = unit(0.25, 'cm'), #change legend key width\n",
    "                      legend.position=\"hidden\")\n",
    "\n",
    "rp8<-RidgePlot(merged_restricted, assay = \"HTO_NOCellBender\", features = rownames(merged_restricted[[\"HTO_NOCellBender\"]])[8], ncol = 1)+\n",
    "             theme(legend.title = element_blank(),\n",
    "                      legend.text = element_text(color=\"black\", family=\"sans\"),\n",
    "                      legend.key.size = unit(0.25, 'cm'), #change legend key size\n",
    "                      legend.key.height = unit(0.25, 'cm'), #change legend key height\n",
    "                      legend.key.width = unit(0.25, 'cm'), #change legend key width\n",
    "                      legend.position=\"hidden\")\n",
    "\n",
    "##\n",
    "\n",
    "rp9<-RidgePlot(merged_restricted, assay = \"HTO_NOCellBender\", features = rownames(merged_restricted[[\"HTO_NOCellBender\"]])[9], ncol = 1)+\n",
    "             theme(legend.title = element_blank(),\n",
    "                      legend.text = element_text(color=\"black\", family=\"sans\"),\n",
    "                      legend.key.size = unit(0.25, 'cm'), #change legend key size\n",
    "                      legend.key.height = unit(0.25, 'cm'), #change legend key height\n",
    "                      legend.key.width = unit(0.25, 'cm'), #change legend key width\n",
    "                      legend.position=\"hidden\")\n",
    "\n",
    "rp10<-RidgePlot(merged_restricted, assay = \"HTO_NOCellBender\", features = rownames(merged_restricted[[\"HTO_NOCellBender\"]])[10], ncol = 1)+\n",
    "             theme(legend.title = element_blank(),\n",
    "                      legend.text = element_text(color=\"black\", family=\"sans\"),\n",
    "                      legend.key.size = unit(0.25, 'cm'), #change legend key size\n",
    "                      legend.key.height = unit(0.25, 'cm'), #change legend key height\n",
    "                      legend.key.width = unit(0.25, 'cm'), #change legend key width\n",
    "                      legend.position=\"hidden\")\n",
    "\n",
    "rp11<-RidgePlot(merged_restricted, assay = \"HTO_NOCellBender\", features = rownames(merged_restricted[[\"HTO_NOCellBender\"]])[11], ncol = 1)+\n",
    "             theme(legend.title = element_blank(),\n",
    "                      legend.text = element_text(color=\"black\", family=\"sans\"),\n",
    "                      legend.key.size = unit(0.25, 'cm'), #change legend key size\n",
    "                      legend.key.height = unit(0.25, 'cm'), #change legend key height\n",
    "                      legend.key.width = unit(0.25, 'cm'), #change legend key width\n",
    "                      legend.position=\"hidden\")\n",
    "\n",
    "rp12<-RidgePlot(merged_restricted, assay = \"HTO_NOCellBender\", features = rownames(merged_restricted[[\"HTO_NOCellBender\"]])[12], ncol = 1)+\n",
    "             theme(legend.title = element_blank(),\n",
    "                      legend.text = element_text(color=\"black\", family=\"sans\"),\n",
    "                      legend.key.size = unit(0.25, 'cm'), #change legend key size\n",
    "                      legend.key.height = unit(0.25, 'cm'), #change legend key height\n",
    "                      legend.key.width = unit(0.25, 'cm'), #change legend key width\n",
    "                      legend.position=\"hidden\")"
   ]
  },
  {
   "cell_type": "code",
   "execution_count": 204,
   "id": "7bce8857-38b5-4f32-a3b8-06d50f1d612d",
   "metadata": {
    "editable": true,
    "execution": {
     "iopub.execute_input": "2025-10-14T10:45:22.110123Z",
     "iopub.status.busy": "2025-10-14T10:45:22.109177Z",
     "iopub.status.idle": "2025-10-14T10:45:22.117695Z",
     "shell.execute_reply": "2025-10-14T10:45:22.116619Z"
    },
    "slideshow": {
     "slide_type": ""
    },
    "tags": []
   },
   "outputs": [],
   "source": [
    "path_Genotyping<-\"/group/soranzo/manuel.tardaguila/2025_hESC_MK_SCRNAseq_10X/no_competition/Genotyping/\""
   ]
  },
  {
   "cell_type": "code",
   "execution_count": 205,
   "id": "91a05bf3-1d92-4004-8761-77bfe38cb608",
   "metadata": {
    "execution": {
     "iopub.execute_input": "2025-10-14T10:45:22.120358Z",
     "iopub.status.busy": "2025-10-14T10:45:22.119443Z",
     "iopub.status.idle": "2025-10-14T10:45:22.173417Z",
     "shell.execute_reply": "2025-10-14T10:45:22.172305Z"
    }
   },
   "outputs": [],
   "source": [
    "if (file.exists(path_Genotyping)){\n",
    "\n",
    "    }else{\n",
    "\n",
    "    dir.create(path_Genotyping)\n",
    "    }"
   ]
  },
  {
   "cell_type": "code",
   "execution_count": 206,
   "id": "d1b7f595-8f0c-43fc-ba6f-16e697f1db09",
   "metadata": {
    "editable": true,
    "execution": {
     "iopub.execute_input": "2025-10-14T10:45:22.176149Z",
     "iopub.status.busy": "2025-10-14T10:45:22.175232Z",
     "iopub.status.idle": "2025-10-14T10:45:22.183426Z",
     "shell.execute_reply": "2025-10-14T10:45:22.182350Z"
    },
    "slideshow": {
     "slide_type": ""
    },
    "tags": []
   },
   "outputs": [],
   "source": [
    "path_graphs<-paste(path_Genotyping,\"graphs/\",sep='')"
   ]
  },
  {
   "cell_type": "code",
   "execution_count": 207,
   "id": "8f3da427-252a-42b8-9a8e-ec28767a2a86",
   "metadata": {
    "execution": {
     "iopub.execute_input": "2025-10-14T10:45:22.186049Z",
     "iopub.status.busy": "2025-10-14T10:45:22.185133Z",
     "iopub.status.idle": "2025-10-14T10:45:22.296494Z",
     "shell.execute_reply": "2025-10-14T10:45:22.295366Z"
    }
   },
   "outputs": [],
   "source": [
    "if (file.exists(path_graphs)){\n",
    "\n",
    "    }else{\n",
    "\n",
    "    dir.create(path_graphs)\n",
    "    }"
   ]
  },
  {
   "cell_type": "code",
   "execution_count": 208,
   "id": "61d8afd2-e771-44d1-862d-350fbd0e6668",
   "metadata": {
    "editable": true,
    "execution": {
     "iopub.execute_input": "2025-10-14T10:45:22.299218Z",
     "iopub.status.busy": "2025-10-14T10:45:22.298293Z",
     "iopub.status.idle": "2025-10-14T10:45:23.215141Z",
     "shell.execute_reply": "2025-10-14T10:45:23.213776Z"
    },
    "slideshow": {
     "slide_type": ""
    },
    "tags": []
   },
   "outputs": [
    {
     "name": "stderr",
     "output_type": "stream",
     "text": [
      "Picking joint bandwidth of 0.0483\n",
      "\n",
      "Picking joint bandwidth of 0.0456\n",
      "\n",
      "Picking joint bandwidth of 0.0473\n",
      "\n"
     ]
    },
    {
     "data": {
      "text/html": [
       "<strong>png:</strong> 2"
      ],
      "text/latex": [
       "\\textbf{png:} 2"
      ],
      "text/markdown": [
       "**png:** 2"
      ],
      "text/plain": [
       "png \n",
       "  2 "
      ]
     },
     "metadata": {},
     "output_type": "display_data"
    }
   ],
   "source": [
    "setwd(path_graphs)\n",
    "png(file='Ridgeplot_assignation_WTs_NO_CellBender.png', width =1050, height = 350)\n",
    "rp1 | rp2 | rp3\n",
    "dev.off()"
   ]
  },
  {
   "cell_type": "code",
   "execution_count": 209,
   "id": "7211c25d-bdd8-4328-bd6c-af70ebe3663d",
   "metadata": {
    "editable": true,
    "execution": {
     "iopub.execute_input": "2025-10-14T10:45:23.218230Z",
     "iopub.status.busy": "2025-10-14T10:45:23.217221Z",
     "iopub.status.idle": "2025-10-14T10:45:24.214255Z",
     "shell.execute_reply": "2025-10-14T10:45:24.213049Z"
    },
    "slideshow": {
     "slide_type": ""
    },
    "tags": []
   },
   "outputs": [
    {
     "name": "stderr",
     "output_type": "stream",
     "text": [
      "Picking joint bandwidth of 0.0445\n",
      "\n",
      "Picking joint bandwidth of 0.0749\n",
      "\n",
      "Picking joint bandwidth of 0.0475\n",
      "\n"
     ]
    },
    {
     "data": {
      "text/html": [
       "<strong>png:</strong> 2"
      ],
      "text/latex": [
       "\\textbf{png:} 2"
      ],
      "text/markdown": [
       "**png:** 2"
      ],
      "text/plain": [
       "png \n",
       "  2 "
      ]
     },
     "metadata": {},
     "output_type": "display_data"
    }
   ],
   "source": [
    "setwd(path_graphs)\n",
    "png(file='Ridgeplot_assignation_rs_NO_CellBender.png', width =1050, height = 350)\n",
    "rp4 | rp5 | rp6\n",
    "dev.off()"
   ]
  },
  {
   "cell_type": "code",
   "execution_count": 210,
   "id": "9dbb387e-4f2c-4eda-90e6-698259ab8004",
   "metadata": {
    "execution": {
     "iopub.execute_input": "2025-10-14T10:45:24.216997Z",
     "iopub.status.busy": "2025-10-14T10:45:24.216027Z",
     "iopub.status.idle": "2025-10-14T10:45:25.135589Z",
     "shell.execute_reply": "2025-10-14T10:45:25.134351Z"
    }
   },
   "outputs": [
    {
     "name": "stderr",
     "output_type": "stream",
     "text": [
      "Picking joint bandwidth of 0.045\n",
      "\n",
      "Picking joint bandwidth of 0.0842\n",
      "\n",
      "Picking joint bandwidth of 0.0653\n",
      "\n"
     ]
    },
    {
     "data": {
      "text/html": [
       "<strong>png:</strong> 2"
      ],
      "text/latex": [
       "\\textbf{png:} 2"
      ],
      "text/markdown": [
       "**png:** 2"
      ],
      "text/plain": [
       "png \n",
       "  2 "
      ]
     },
     "metadata": {},
     "output_type": "display_data"
    }
   ],
   "source": [
    "setwd(path_graphs)\n",
    "png(file='Ridgeplot_assignation_DNMT3A_NO_CellBender.png', width =1050, height = 350)\n",
    "rp7 | rp8 | rp9\n",
    "dev.off()"
   ]
  },
  {
   "cell_type": "code",
   "execution_count": 211,
   "id": "481681ab-8bf8-4901-a0e4-73006b9f1724",
   "metadata": {
    "execution": {
     "iopub.execute_input": "2025-10-14T10:45:25.138416Z",
     "iopub.status.busy": "2025-10-14T10:45:25.137444Z",
     "iopub.status.idle": "2025-10-14T10:45:26.211361Z",
     "shell.execute_reply": "2025-10-14T10:45:26.210145Z"
    }
   },
   "outputs": [
    {
     "name": "stderr",
     "output_type": "stream",
     "text": [
      "Picking joint bandwidth of 0.0463\n",
      "\n",
      "Picking joint bandwidth of 0.0816\n",
      "\n",
      "Picking joint bandwidth of 0.0443\n",
      "\n"
     ]
    },
    {
     "data": {
      "text/html": [
       "<strong>png:</strong> 2"
      ],
      "text/latex": [
       "\\textbf{png:} 2"
      ],
      "text/markdown": [
       "**png:** 2"
      ],
      "text/plain": [
       "png \n",
       "  2 "
      ]
     },
     "metadata": {},
     "output_type": "display_data"
    }
   ],
   "source": [
    "setwd(path_graphs)\n",
    "png(file='Ridgeplot_assignation_Double_mutants_NO_CellBender.png', width =1050, height = 350)\n",
    "rp10 | rp11 | rp12\n",
    "dev.off()"
   ]
  },
  {
   "cell_type": "markdown",
   "id": "18d82964-d1cf-4e8b-8738-15e9025580a6",
   "metadata": {
    "editable": true,
    "slideshow": {
     "slide_type": ""
    },
    "tags": []
   },
   "source": [
    "### Save this assignation"
   ]
  },
  {
   "cell_type": "code",
   "execution_count": 212,
   "id": "a1a872f4-9d2d-4bb6-a849-62c41c123318",
   "metadata": {
    "execution": {
     "iopub.execute_input": "2025-10-14T10:45:26.214137Z",
     "iopub.status.busy": "2025-10-14T10:45:26.213183Z",
     "iopub.status.idle": "2025-10-14T10:45:26.227029Z",
     "shell.execute_reply": "2025-10-14T10:45:26.225921Z"
    }
   },
   "outputs": [
    {
     "data": {
      "text/html": [
       "<style>\n",
       ".list-inline {list-style: none; margin:0; padding: 0}\n",
       ".list-inline>li {display: inline-block}\n",
       ".list-inline>li:not(:last-child)::after {content: \"\\00b7\"; padding: 0 .5ex}\n",
       "</style>\n",
       "<ol class=list-inline><li>'orig.ident'</li><li>'nCount_RNA'</li><li>'nFeature_RNA'</li><li>'nCount_HTO_NOCellBender'</li><li>'nFeature_HTO_NOCellBender'</li><li>'HTO_NOCellBender_maxID'</li><li>'HTO_NOCellBender_secondID'</li><li>'HTO_NOCellBender_margin'</li><li>'HTO_NOCellBender_classification'</li><li>'HTO_NOCellBender_classification.global'</li><li>'hash.ID'</li></ol>\n"
      ],
      "text/latex": [
       "\\begin{enumerate*}\n",
       "\\item 'orig.ident'\n",
       "\\item 'nCount\\_RNA'\n",
       "\\item 'nFeature\\_RNA'\n",
       "\\item 'nCount\\_HTO\\_NOCellBender'\n",
       "\\item 'nFeature\\_HTO\\_NOCellBender'\n",
       "\\item 'HTO\\_NOCellBender\\_maxID'\n",
       "\\item 'HTO\\_NOCellBender\\_secondID'\n",
       "\\item 'HTO\\_NOCellBender\\_margin'\n",
       "\\item 'HTO\\_NOCellBender\\_classification'\n",
       "\\item 'HTO\\_NOCellBender\\_classification.global'\n",
       "\\item 'hash.ID'\n",
       "\\end{enumerate*}\n"
      ],
      "text/markdown": [
       "1. 'orig.ident'\n",
       "2. 'nCount_RNA'\n",
       "3. 'nFeature_RNA'\n",
       "4. 'nCount_HTO_NOCellBender'\n",
       "5. 'nFeature_HTO_NOCellBender'\n",
       "6. 'HTO_NOCellBender_maxID'\n",
       "7. 'HTO_NOCellBender_secondID'\n",
       "8. 'HTO_NOCellBender_margin'\n",
       "9. 'HTO_NOCellBender_classification'\n",
       "10. 'HTO_NOCellBender_classification.global'\n",
       "11. 'hash.ID'\n",
       "\n",
       "\n"
      ],
      "text/plain": [
       " [1] \"orig.ident\"                            \n",
       " [2] \"nCount_RNA\"                            \n",
       " [3] \"nFeature_RNA\"                          \n",
       " [4] \"nCount_HTO_NOCellBender\"               \n",
       " [5] \"nFeature_HTO_NOCellBender\"             \n",
       " [6] \"HTO_NOCellBender_maxID\"                \n",
       " [7] \"HTO_NOCellBender_secondID\"             \n",
       " [8] \"HTO_NOCellBender_margin\"               \n",
       " [9] \"HTO_NOCellBender_classification\"       \n",
       "[10] \"HTO_NOCellBender_classification.global\"\n",
       "[11] \"hash.ID\"                               "
      ]
     },
     "metadata": {},
     "output_type": "display_data"
    },
    {
     "name": "stdout",
     "output_type": "stream",
     "text": [
      " chr [1:35216] \"MCO_01373_3GEX_AAACCAAAGTAGACTT-1\" ...\n"
     ]
    }
   ],
   "source": [
    "colnames(merged_restricted@meta.data)\n",
    "\n",
    "\n",
    "str(row.names(merged_restricted@meta.data))"
   ]
  },
  {
   "cell_type": "code",
   "execution_count": 213,
   "id": "7519e725-1584-4bbc-bb3b-2bbe307310f1",
   "metadata": {
    "editable": true,
    "execution": {
     "iopub.execute_input": "2025-10-14T10:45:26.229794Z",
     "iopub.status.busy": "2025-10-14T10:45:26.228837Z",
     "iopub.status.idle": "2025-10-14T10:45:26.236702Z",
     "shell.execute_reply": "2025-10-14T10:45:26.235626Z"
    },
    "slideshow": {
     "slide_type": ""
    },
    "tags": []
   },
   "outputs": [],
   "source": [
    "path_save<-\"/scratch/manuel.tardaguila/hESC_MK_SCRNAseq_10X/no_competition/targeted_amplicon_GEX/processing_outputs/\""
   ]
  },
  {
   "cell_type": "code",
   "execution_count": 214,
   "id": "c5396a3e-b0b5-4de1-88e0-f92263189771",
   "metadata": {
    "execution": {
     "iopub.execute_input": "2025-10-14T10:45:26.239354Z",
     "iopub.status.busy": "2025-10-14T10:45:26.238423Z",
     "iopub.status.idle": "2025-10-14T10:45:26.479210Z",
     "shell.execute_reply": "2025-10-14T10:45:26.477750Z"
    }
   },
   "outputs": [],
   "source": [
    "setwd(path_save)\n",
    "\n",
    "write.csv(merged_restricted@meta.data,\"NO_CellBender_Barcodes_demux_assignation.csv\")"
   ]
  },
  {
   "cell_type": "markdown",
   "id": "84e1266d-95f5-47ca-8b60-3decc3354b9e",
   "metadata": {},
   "source": [
    "## Add new Genotype Annotation to adata"
   ]
  },
  {
   "cell_type": "code",
   "execution_count": 215,
   "id": "2e80fe4a-389a-4630-a30c-79190b3ca876",
   "metadata": {
    "execution": {
     "iopub.execute_input": "2025-10-14T10:45:26.482505Z",
     "iopub.status.busy": "2025-10-14T10:45:26.481356Z",
     "iopub.status.idle": "2025-10-14T10:45:26.493040Z",
     "shell.execute_reply": "2025-10-14T10:45:26.491822Z"
    }
   },
   "outputs": [
    {
     "data": {
      "text/html": [
       "<style>\n",
       ".list-inline {list-style: none; margin:0; padding: 0}\n",
       ".list-inline>li {display: inline-block}\n",
       ".list-inline>li:not(:last-child)::after {content: \"\\00b7\"; padding: 0 .5ex}\n",
       "</style>\n",
       "<ol class=list-inline><li>'orig.ident'</li><li>'nCount_RNA'</li><li>'nFeature_RNA'</li><li>'nCount_RNA_raw'</li><li>'nFeature_RNA_raw'</li><li>'percent.mt'</li><li>'scDblFinder.class'</li><li>'scDblFinder.score'</li><li>'scDblFinder.weighted'</li><li>'scDblFinder.cxds_score'</li><li>'Diff'</li><li>'nCount_SCT'</li><li>'nFeature_SCT'</li><li>'SCT_snn_res.2'</li><li>'seurat_clusters'</li><li>'SCT_snn_res.0.5'</li><li>'CellTypist_label_Alsinet'</li><li>'CellTypist_conf_score_Alsinet'</li><li>'CellTypist_label_FBMA'</li><li>'CellTypist_conf_score_FBMA'</li><li>'CellTypist_label_Immune_ALL_low'</li><li>'CellTypist_conf_score_Immune_ALL_low'</li><li>'Integrated_annotation'</li><li>'integrated_nn_res.0.5'</li><li>'Subclusters_2'</li><li>'Subclusters_5'</li><li>'Subclusters_7'</li><li>'Subclusters_9'</li><li>'Subclusters_10'</li><li>'Subclusters_11'</li><li>'Subclusters_13'</li><li>'my_own_clusters'</li><li>'Integrated_annotation_after_rpca'</li></ol>\n"
      ],
      "text/latex": [
       "\\begin{enumerate*}\n",
       "\\item 'orig.ident'\n",
       "\\item 'nCount\\_RNA'\n",
       "\\item 'nFeature\\_RNA'\n",
       "\\item 'nCount\\_RNA\\_raw'\n",
       "\\item 'nFeature\\_RNA\\_raw'\n",
       "\\item 'percent.mt'\n",
       "\\item 'scDblFinder.class'\n",
       "\\item 'scDblFinder.score'\n",
       "\\item 'scDblFinder.weighted'\n",
       "\\item 'scDblFinder.cxds\\_score'\n",
       "\\item 'Diff'\n",
       "\\item 'nCount\\_SCT'\n",
       "\\item 'nFeature\\_SCT'\n",
       "\\item 'SCT\\_snn\\_res.2'\n",
       "\\item 'seurat\\_clusters'\n",
       "\\item 'SCT\\_snn\\_res.0.5'\n",
       "\\item 'CellTypist\\_label\\_Alsinet'\n",
       "\\item 'CellTypist\\_conf\\_score\\_Alsinet'\n",
       "\\item 'CellTypist\\_label\\_FBMA'\n",
       "\\item 'CellTypist\\_conf\\_score\\_FBMA'\n",
       "\\item 'CellTypist\\_label\\_Immune\\_ALL\\_low'\n",
       "\\item 'CellTypist\\_conf\\_score\\_Immune\\_ALL\\_low'\n",
       "\\item 'Integrated\\_annotation'\n",
       "\\item 'integrated\\_nn\\_res.0.5'\n",
       "\\item 'Subclusters\\_2'\n",
       "\\item 'Subclusters\\_5'\n",
       "\\item 'Subclusters\\_7'\n",
       "\\item 'Subclusters\\_9'\n",
       "\\item 'Subclusters\\_10'\n",
       "\\item 'Subclusters\\_11'\n",
       "\\item 'Subclusters\\_13'\n",
       "\\item 'my\\_own\\_clusters'\n",
       "\\item 'Integrated\\_annotation\\_after\\_rpca'\n",
       "\\end{enumerate*}\n"
      ],
      "text/markdown": [
       "1. 'orig.ident'\n",
       "2. 'nCount_RNA'\n",
       "3. 'nFeature_RNA'\n",
       "4. 'nCount_RNA_raw'\n",
       "5. 'nFeature_RNA_raw'\n",
       "6. 'percent.mt'\n",
       "7. 'scDblFinder.class'\n",
       "8. 'scDblFinder.score'\n",
       "9. 'scDblFinder.weighted'\n",
       "10. 'scDblFinder.cxds_score'\n",
       "11. 'Diff'\n",
       "12. 'nCount_SCT'\n",
       "13. 'nFeature_SCT'\n",
       "14. 'SCT_snn_res.2'\n",
       "15. 'seurat_clusters'\n",
       "16. 'SCT_snn_res.0.5'\n",
       "17. 'CellTypist_label_Alsinet'\n",
       "18. 'CellTypist_conf_score_Alsinet'\n",
       "19. 'CellTypist_label_FBMA'\n",
       "20. 'CellTypist_conf_score_FBMA'\n",
       "21. 'CellTypist_label_Immune_ALL_low'\n",
       "22. 'CellTypist_conf_score_Immune_ALL_low'\n",
       "23. 'Integrated_annotation'\n",
       "24. 'integrated_nn_res.0.5'\n",
       "25. 'Subclusters_2'\n",
       "26. 'Subclusters_5'\n",
       "27. 'Subclusters_7'\n",
       "28. 'Subclusters_9'\n",
       "29. 'Subclusters_10'\n",
       "30. 'Subclusters_11'\n",
       "31. 'Subclusters_13'\n",
       "32. 'my_own_clusters'\n",
       "33. 'Integrated_annotation_after_rpca'\n",
       "\n",
       "\n"
      ],
      "text/plain": [
       " [1] \"orig.ident\"                          \n",
       " [2] \"nCount_RNA\"                          \n",
       " [3] \"nFeature_RNA\"                        \n",
       " [4] \"nCount_RNA_raw\"                      \n",
       " [5] \"nFeature_RNA_raw\"                    \n",
       " [6] \"percent.mt\"                          \n",
       " [7] \"scDblFinder.class\"                   \n",
       " [8] \"scDblFinder.score\"                   \n",
       " [9] \"scDblFinder.weighted\"                \n",
       "[10] \"scDblFinder.cxds_score\"              \n",
       "[11] \"Diff\"                                \n",
       "[12] \"nCount_SCT\"                          \n",
       "[13] \"nFeature_SCT\"                        \n",
       "[14] \"SCT_snn_res.2\"                       \n",
       "[15] \"seurat_clusters\"                     \n",
       "[16] \"SCT_snn_res.0.5\"                     \n",
       "[17] \"CellTypist_label_Alsinet\"            \n",
       "[18] \"CellTypist_conf_score_Alsinet\"       \n",
       "[19] \"CellTypist_label_FBMA\"               \n",
       "[20] \"CellTypist_conf_score_FBMA\"          \n",
       "[21] \"CellTypist_label_Immune_ALL_low\"     \n",
       "[22] \"CellTypist_conf_score_Immune_ALL_low\"\n",
       "[23] \"Integrated_annotation\"               \n",
       "[24] \"integrated_nn_res.0.5\"               \n",
       "[25] \"Subclusters_2\"                       \n",
       "[26] \"Subclusters_5\"                       \n",
       "[27] \"Subclusters_7\"                       \n",
       "[28] \"Subclusters_9\"                       \n",
       "[29] \"Subclusters_10\"                      \n",
       "[30] \"Subclusters_11\"                      \n",
       "[31] \"Subclusters_13\"                      \n",
       "[32] \"my_own_clusters\"                     \n",
       "[33] \"Integrated_annotation_after_rpca\"    "
      ]
     },
     "metadata": {},
     "output_type": "display_data"
    }
   ],
   "source": [
    "colnames(adata@meta.data)"
   ]
  },
  {
   "cell_type": "markdown",
   "id": "019c5716-71d9-4b6d-a514-6654f049ef3e",
   "metadata": {},
   "source": [
    "### Eliminate residual Assigned_GFPbc from GEX not amplified libraries"
   ]
  },
  {
   "cell_type": "code",
   "execution_count": 216,
   "id": "d987d178-bc02-4842-810d-b6e3e60a3556",
   "metadata": {
    "execution": {
     "iopub.execute_input": "2025-10-14T10:45:26.495884Z",
     "iopub.status.busy": "2025-10-14T10:45:26.494903Z",
     "iopub.status.idle": "2025-10-14T10:45:26.503134Z",
     "shell.execute_reply": "2025-10-14T10:45:26.501984Z"
    }
   },
   "outputs": [],
   "source": [
    "adata@meta.data$Assigned_GFPbc<-NA"
   ]
  },
  {
   "cell_type": "code",
   "execution_count": 217,
   "id": "123996ac-ec86-48e8-83e3-45e534d4d626",
   "metadata": {
    "execution": {
     "iopub.execute_input": "2025-10-14T10:45:26.505937Z",
     "iopub.status.busy": "2025-10-14T10:45:26.504925Z",
     "iopub.status.idle": "2025-10-14T10:45:26.578444Z",
     "shell.execute_reply": "2025-10-14T10:45:26.576994Z"
    }
   },
   "outputs": [],
   "source": [
    "adata<-AddMetaData(object= adata,\n",
    "                  metadata= merged_restricted@meta.data$hash.ID,\n",
    "                  col.name = \"Assignation_demux_NO_CellBender\")"
   ]
  },
  {
   "cell_type": "code",
   "execution_count": 218,
   "id": "01938479-6ea1-46da-ace3-c5c576a24696",
   "metadata": {
    "execution": {
     "iopub.execute_input": "2025-10-14T10:45:26.581612Z",
     "iopub.status.busy": "2025-10-14T10:45:26.580533Z",
     "iopub.status.idle": "2025-10-14T10:45:26.593513Z",
     "shell.execute_reply": "2025-10-14T10:45:26.592300Z"
    }
   },
   "outputs": [
    {
     "data": {
      "text/html": [
       "<style>\n",
       ".dl-inline {width: auto; margin:0; padding: 0}\n",
       ".dl-inline>dt, .dl-inline>dd {float: none; width: auto; display: inline-block}\n",
       ".dl-inline>dt::after {content: \":\\0020\"; padding-right: .5ex}\n",
       ".dl-inline>dt:not(:first-of-type) {padding-left: .5ex}\n",
       "</style><dl class=dl-inline><dt>Doublet</dt><dd>29639</dd><dt>Negative</dt><dd>3039</dd><dt>GFP-chrGFP-WTA</dt><dd>135</dd><dt>GFP-chrGFP-R882H3</dt><dd>212</dd><dt>GFP-chrGFP-rs3</dt><dd>262</dd><dt>GFP-chrGFP-rs2</dt><dd>58</dd><dt>GFP-chrGFP-R882H2</dt><dd>70</dd><dt>GFP-chrGFP-rs-R882H2</dt><dd>68</dd><dt>GFP-chrGFP-rs1</dt><dd>278</dd><dt>GFP-chrGFP-WTB</dt><dd>254</dd><dt>GFP-chrGFP-rs-R882H1</dt><dd>278</dd><dt>GFP-chrGFP-WTC</dt><dd>187</dd><dt>GFP-chrGFP-rs-R882H3</dt><dd>287</dd><dt>GFP-chrGFP-R882H1</dt><dd>453</dd></dl>\n"
      ],
      "text/latex": [
       "\\begin{description*}\n",
       "\\item[Doublet] 29639\n",
       "\\item[Negative] 3039\n",
       "\\item[GFP-chrGFP-WTA] 135\n",
       "\\item[GFP-chrGFP-R882H3] 212\n",
       "\\item[GFP-chrGFP-rs3] 262\n",
       "\\item[GFP-chrGFP-rs2] 58\n",
       "\\item[GFP-chrGFP-R882H2] 70\n",
       "\\item[GFP-chrGFP-rs-R882H2] 68\n",
       "\\item[GFP-chrGFP-rs1] 278\n",
       "\\item[GFP-chrGFP-WTB] 254\n",
       "\\item[GFP-chrGFP-rs-R882H1] 278\n",
       "\\item[GFP-chrGFP-WTC] 187\n",
       "\\item[GFP-chrGFP-rs-R882H3] 287\n",
       "\\item[GFP-chrGFP-R882H1] 453\n",
       "\\end{description*}\n"
      ],
      "text/markdown": [
       "Doublet\n",
       ":   29639Negative\n",
       ":   3039GFP-chrGFP-WTA\n",
       ":   135GFP-chrGFP-R882H3\n",
       ":   212GFP-chrGFP-rs3\n",
       ":   262GFP-chrGFP-rs2\n",
       ":   58GFP-chrGFP-R882H2\n",
       ":   70GFP-chrGFP-rs-R882H2\n",
       ":   68GFP-chrGFP-rs1\n",
       ":   278GFP-chrGFP-WTB\n",
       ":   254GFP-chrGFP-rs-R882H1\n",
       ":   278GFP-chrGFP-WTC\n",
       ":   187GFP-chrGFP-rs-R882H3\n",
       ":   287GFP-chrGFP-R882H1\n",
       ":   453\n",
       "\n"
      ],
      "text/plain": [
       "             Doublet             Negative       GFP-chrGFP-WTA \n",
       "               29639                 3039                  135 \n",
       "   GFP-chrGFP-R882H3       GFP-chrGFP-rs3       GFP-chrGFP-rs2 \n",
       "                 212                  262                   58 \n",
       "   GFP-chrGFP-R882H2 GFP-chrGFP-rs-R882H2       GFP-chrGFP-rs1 \n",
       "                  70                   68                  278 \n",
       "      GFP-chrGFP-WTB GFP-chrGFP-rs-R882H1       GFP-chrGFP-WTC \n",
       "                 254                  278                  187 \n",
       "GFP-chrGFP-rs-R882H3    GFP-chrGFP-R882H1 \n",
       "                 287                  453 "
      ]
     },
     "metadata": {},
     "output_type": "display_data"
    }
   ],
   "source": [
    "summary(as.factor(adata@meta.data$Assignation_demux_NO_CellBender))"
   ]
  },
  {
   "cell_type": "code",
   "execution_count": 219,
   "id": "62905367-fe31-48c5-8f8d-87635e303250",
   "metadata": {
    "execution": {
     "iopub.execute_input": "2025-10-14T10:45:26.596545Z",
     "iopub.status.busy": "2025-10-14T10:45:26.595507Z",
     "iopub.status.idle": "2025-10-14T10:45:26.604662Z",
     "shell.execute_reply": "2025-10-14T10:45:26.603401Z"
    }
   },
   "outputs": [],
   "source": [
    "adata@meta.data$Assigned_GFPbc_demux__NO_CellBender<-gsub(\"^GFP-\",\"\",adata@meta.data$Assignation_demux_NO_CellBender)"
   ]
  },
  {
   "cell_type": "code",
   "execution_count": 220,
   "id": "b4db5fb7-0f67-474b-bcc1-0f24e453a3a8",
   "metadata": {
    "execution": {
     "iopub.execute_input": "2025-10-14T10:45:26.607644Z",
     "iopub.status.busy": "2025-10-14T10:45:26.606583Z",
     "iopub.status.idle": "2025-10-14T10:45:26.623840Z",
     "shell.execute_reply": "2025-10-14T10:45:26.622629Z"
    }
   },
   "outputs": [],
   "source": [
    "adata@meta.data$Assigned_GFPbc_demux__NO_CellBender<-gsub(\"-\",\"_\",adata@meta.data$Assigned_GFPbc_demux__NO_CellBender)"
   ]
  },
  {
   "cell_type": "code",
   "execution_count": 221,
   "id": "99613a8c-096a-479e-a75e-4d771006b3d5",
   "metadata": {
    "execution": {
     "iopub.execute_input": "2025-10-14T10:45:26.626788Z",
     "iopub.status.busy": "2025-10-14T10:45:26.625759Z",
     "iopub.status.idle": "2025-10-14T10:45:26.638845Z",
     "shell.execute_reply": "2025-10-14T10:45:26.637683Z"
    }
   },
   "outputs": [
    {
     "data": {
      "text/html": [
       "<style>\n",
       ".dl-inline {width: auto; margin:0; padding: 0}\n",
       ".dl-inline>dt, .dl-inline>dd {float: none; width: auto; display: inline-block}\n",
       ".dl-inline>dt::after {content: \":\\0020\"; padding-right: .5ex}\n",
       ".dl-inline>dt:not(:first-of-type) {padding-left: .5ex}\n",
       "</style><dl class=dl-inline><dt>chrGFP_R882H1</dt><dd>453</dd><dt>chrGFP_R882H2</dt><dd>70</dd><dt>chrGFP_R882H3</dt><dd>212</dd><dt>chrGFP_rs_R882H1</dt><dd>278</dd><dt>chrGFP_rs_R882H2</dt><dd>68</dd><dt>chrGFP_rs_R882H3</dt><dd>287</dd><dt>chrGFP_rs1</dt><dd>278</dd><dt>chrGFP_rs2</dt><dd>58</dd><dt>chrGFP_rs3</dt><dd>262</dd><dt>chrGFP_WTA</dt><dd>135</dd><dt>chrGFP_WTB</dt><dd>254</dd><dt>chrGFP_WTC</dt><dd>187</dd><dt>Doublet</dt><dd>29639</dd><dt>Negative</dt><dd>3039</dd></dl>\n"
      ],
      "text/latex": [
       "\\begin{description*}\n",
       "\\item[chrGFP\\textbackslash{}\\_R882H1] 453\n",
       "\\item[chrGFP\\textbackslash{}\\_R882H2] 70\n",
       "\\item[chrGFP\\textbackslash{}\\_R882H3] 212\n",
       "\\item[chrGFP\\textbackslash{}\\_rs\\textbackslash{}\\_R882H1] 278\n",
       "\\item[chrGFP\\textbackslash{}\\_rs\\textbackslash{}\\_R882H2] 68\n",
       "\\item[chrGFP\\textbackslash{}\\_rs\\textbackslash{}\\_R882H3] 287\n",
       "\\item[chrGFP\\textbackslash{}\\_rs1] 278\n",
       "\\item[chrGFP\\textbackslash{}\\_rs2] 58\n",
       "\\item[chrGFP\\textbackslash{}\\_rs3] 262\n",
       "\\item[chrGFP\\textbackslash{}\\_WTA] 135\n",
       "\\item[chrGFP\\textbackslash{}\\_WTB] 254\n",
       "\\item[chrGFP\\textbackslash{}\\_WTC] 187\n",
       "\\item[Doublet] 29639\n",
       "\\item[Negative] 3039\n",
       "\\end{description*}\n"
      ],
      "text/markdown": [
       "chrGFP_R882H1\n",
       ":   453chrGFP_R882H2\n",
       ":   70chrGFP_R882H3\n",
       ":   212chrGFP_rs_R882H1\n",
       ":   278chrGFP_rs_R882H2\n",
       ":   68chrGFP_rs_R882H3\n",
       ":   287chrGFP_rs1\n",
       ":   278chrGFP_rs2\n",
       ":   58chrGFP_rs3\n",
       ":   262chrGFP_WTA\n",
       ":   135chrGFP_WTB\n",
       ":   254chrGFP_WTC\n",
       ":   187Doublet\n",
       ":   29639Negative\n",
       ":   3039\n",
       "\n"
      ],
      "text/plain": [
       "   chrGFP_R882H1    chrGFP_R882H2    chrGFP_R882H3 chrGFP_rs_R882H1 \n",
       "             453               70              212              278 \n",
       "chrGFP_rs_R882H2 chrGFP_rs_R882H3       chrGFP_rs1       chrGFP_rs2 \n",
       "              68              287              278               58 \n",
       "      chrGFP_rs3       chrGFP_WTA       chrGFP_WTB       chrGFP_WTC \n",
       "             262              135              254              187 \n",
       "         Doublet         Negative \n",
       "           29639             3039 "
      ]
     },
     "metadata": {},
     "output_type": "display_data"
    }
   ],
   "source": [
    "summary(as.factor(adata@meta.data$Assigned_GFPbc_demux__NO_CellBender))"
   ]
  },
  {
   "cell_type": "code",
   "execution_count": 222,
   "id": "00fca079-44f8-4e22-ac18-f0a7b28d1736",
   "metadata": {
    "execution": {
     "iopub.execute_input": "2025-10-14T10:45:26.641711Z",
     "iopub.status.busy": "2025-10-14T10:45:26.640693Z",
     "iopub.status.idle": "2025-10-14T10:45:26.650005Z",
     "shell.execute_reply": "2025-10-14T10:45:26.648795Z"
    }
   },
   "outputs": [],
   "source": [
    "adata@meta.data$Assigned_GFPbc_demux__NO_CellBender<-factor(adata@meta.data$Assigned_GFPbc_demux__NO_CellBender,\n",
    "                                       levels = c(\"chrGFP_WTA\",\"chrGFP_WTB\",\"chrGFP_WTC\",\n",
    "                                                  \"chrGFP_rs1\",\"chrGFP_rs2\",\"chrGFP_rs3\",\n",
    "                                                  \"chrGFP_R882H1\",\"chrGFP_R882H2\",\"chrGFP_R882H3\",\n",
    "                                                  \"chrGFP_rs_R882H1\",\"chrGFP_rs_R882H2\",\"chrGFP_rs_R882H3\",\"Doublet\",\"Negative\"),\n",
    "                                       ordered=T)"
   ]
  },
  {
   "cell_type": "code",
   "execution_count": 223,
   "id": "21a35382-6753-4b1e-8650-842d86165f4a",
   "metadata": {
    "execution": {
     "iopub.execute_input": "2025-10-14T10:45:26.652878Z",
     "iopub.status.busy": "2025-10-14T10:45:26.651854Z",
     "iopub.status.idle": "2025-10-14T10:45:26.663501Z",
     "shell.execute_reply": "2025-10-14T10:45:26.662336Z"
    }
   },
   "outputs": [
    {
     "data": {
      "text/html": [
       "<style>\n",
       ".dl-inline {width: auto; margin:0; padding: 0}\n",
       ".dl-inline>dt, .dl-inline>dd {float: none; width: auto; display: inline-block}\n",
       ".dl-inline>dt::after {content: \":\\0020\"; padding-right: .5ex}\n",
       ".dl-inline>dt:not(:first-of-type) {padding-left: .5ex}\n",
       "</style><dl class=dl-inline><dt>chrGFP_WTA</dt><dd>135</dd><dt>chrGFP_WTB</dt><dd>254</dd><dt>chrGFP_WTC</dt><dd>187</dd><dt>chrGFP_rs1</dt><dd>278</dd><dt>chrGFP_rs2</dt><dd>58</dd><dt>chrGFP_rs3</dt><dd>262</dd><dt>chrGFP_R882H1</dt><dd>453</dd><dt>chrGFP_R882H2</dt><dd>70</dd><dt>chrGFP_R882H3</dt><dd>212</dd><dt>chrGFP_rs_R882H1</dt><dd>278</dd><dt>chrGFP_rs_R882H2</dt><dd>68</dd><dt>chrGFP_rs_R882H3</dt><dd>287</dd><dt>Doublet</dt><dd>29639</dd><dt>Negative</dt><dd>3039</dd></dl>\n"
      ],
      "text/latex": [
       "\\begin{description*}\n",
       "\\item[chrGFP\\textbackslash{}\\_WTA] 135\n",
       "\\item[chrGFP\\textbackslash{}\\_WTB] 254\n",
       "\\item[chrGFP\\textbackslash{}\\_WTC] 187\n",
       "\\item[chrGFP\\textbackslash{}\\_rs1] 278\n",
       "\\item[chrGFP\\textbackslash{}\\_rs2] 58\n",
       "\\item[chrGFP\\textbackslash{}\\_rs3] 262\n",
       "\\item[chrGFP\\textbackslash{}\\_R882H1] 453\n",
       "\\item[chrGFP\\textbackslash{}\\_R882H2] 70\n",
       "\\item[chrGFP\\textbackslash{}\\_R882H3] 212\n",
       "\\item[chrGFP\\textbackslash{}\\_rs\\textbackslash{}\\_R882H1] 278\n",
       "\\item[chrGFP\\textbackslash{}\\_rs\\textbackslash{}\\_R882H2] 68\n",
       "\\item[chrGFP\\textbackslash{}\\_rs\\textbackslash{}\\_R882H3] 287\n",
       "\\item[Doublet] 29639\n",
       "\\item[Negative] 3039\n",
       "\\end{description*}\n"
      ],
      "text/markdown": [
       "chrGFP_WTA\n",
       ":   135chrGFP_WTB\n",
       ":   254chrGFP_WTC\n",
       ":   187chrGFP_rs1\n",
       ":   278chrGFP_rs2\n",
       ":   58chrGFP_rs3\n",
       ":   262chrGFP_R882H1\n",
       ":   453chrGFP_R882H2\n",
       ":   70chrGFP_R882H3\n",
       ":   212chrGFP_rs_R882H1\n",
       ":   278chrGFP_rs_R882H2\n",
       ":   68chrGFP_rs_R882H3\n",
       ":   287Doublet\n",
       ":   29639Negative\n",
       ":   3039\n",
       "\n"
      ],
      "text/plain": [
       "      chrGFP_WTA       chrGFP_WTB       chrGFP_WTC       chrGFP_rs1 \n",
       "             135              254              187              278 \n",
       "      chrGFP_rs2       chrGFP_rs3    chrGFP_R882H1    chrGFP_R882H2 \n",
       "              58              262              453               70 \n",
       "   chrGFP_R882H3 chrGFP_rs_R882H1 chrGFP_rs_R882H2 chrGFP_rs_R882H3 \n",
       "             212              278               68              287 \n",
       "         Doublet         Negative \n",
       "           29639             3039 "
      ]
     },
     "metadata": {},
     "output_type": "display_data"
    }
   ],
   "source": [
    "summary(adata@meta.data$Assigned_GFPbc_demux__NO_CellBender)"
   ]
  },
  {
   "cell_type": "code",
   "execution_count": 224,
   "id": "c707fb01-8c71-4c16-9085-631e04379c6b",
   "metadata": {
    "execution": {
     "iopub.execute_input": "2025-10-14T10:45:26.666433Z",
     "iopub.status.busy": "2025-10-14T10:45:26.665412Z",
     "iopub.status.idle": "2025-10-14T10:45:26.676239Z",
     "shell.execute_reply": "2025-10-14T10:45:26.675067Z"
    }
   },
   "outputs": [
    {
     "data": {
      "text/html": [
       "<style>\n",
       ".list-inline {list-style: none; margin:0; padding: 0}\n",
       ".list-inline>li {display: inline-block}\n",
       ".list-inline>li:not(:last-child)::after {content: \"\\00b7\"; padding: 0 .5ex}\n",
       "</style>\n",
       "<ol class=list-inline><li>'orig.ident'</li><li>'nCount_RNA'</li><li>'nFeature_RNA'</li><li>'nCount_RNA_raw'</li><li>'nFeature_RNA_raw'</li><li>'percent.mt'</li><li>'scDblFinder.class'</li><li>'scDblFinder.score'</li><li>'scDblFinder.weighted'</li><li>'scDblFinder.cxds_score'</li><li>'Diff'</li><li>'nCount_SCT'</li><li>'nFeature_SCT'</li><li>'SCT_snn_res.2'</li><li>'seurat_clusters'</li><li>'SCT_snn_res.0.5'</li><li>'CellTypist_label_Alsinet'</li><li>'CellTypist_conf_score_Alsinet'</li><li>'CellTypist_label_FBMA'</li><li>'CellTypist_conf_score_FBMA'</li><li>'CellTypist_label_Immune_ALL_low'</li><li>'CellTypist_conf_score_Immune_ALL_low'</li><li>'Integrated_annotation'</li><li>'integrated_nn_res.0.5'</li><li>'Subclusters_2'</li><li>'Subclusters_5'</li><li>'Subclusters_7'</li><li>'Subclusters_9'</li><li>'Subclusters_10'</li><li>'Subclusters_11'</li><li>'Subclusters_13'</li><li>'my_own_clusters'</li><li>'Integrated_annotation_after_rpca'</li><li>'Assigned_GFPbc'</li><li>'Assignation_demux_NO_CellBender'</li><li>'Assigned_GFPbc_demux__NO_CellBender'</li></ol>\n"
      ],
      "text/latex": [
       "\\begin{enumerate*}\n",
       "\\item 'orig.ident'\n",
       "\\item 'nCount\\_RNA'\n",
       "\\item 'nFeature\\_RNA'\n",
       "\\item 'nCount\\_RNA\\_raw'\n",
       "\\item 'nFeature\\_RNA\\_raw'\n",
       "\\item 'percent.mt'\n",
       "\\item 'scDblFinder.class'\n",
       "\\item 'scDblFinder.score'\n",
       "\\item 'scDblFinder.weighted'\n",
       "\\item 'scDblFinder.cxds\\_score'\n",
       "\\item 'Diff'\n",
       "\\item 'nCount\\_SCT'\n",
       "\\item 'nFeature\\_SCT'\n",
       "\\item 'SCT\\_snn\\_res.2'\n",
       "\\item 'seurat\\_clusters'\n",
       "\\item 'SCT\\_snn\\_res.0.5'\n",
       "\\item 'CellTypist\\_label\\_Alsinet'\n",
       "\\item 'CellTypist\\_conf\\_score\\_Alsinet'\n",
       "\\item 'CellTypist\\_label\\_FBMA'\n",
       "\\item 'CellTypist\\_conf\\_score\\_FBMA'\n",
       "\\item 'CellTypist\\_label\\_Immune\\_ALL\\_low'\n",
       "\\item 'CellTypist\\_conf\\_score\\_Immune\\_ALL\\_low'\n",
       "\\item 'Integrated\\_annotation'\n",
       "\\item 'integrated\\_nn\\_res.0.5'\n",
       "\\item 'Subclusters\\_2'\n",
       "\\item 'Subclusters\\_5'\n",
       "\\item 'Subclusters\\_7'\n",
       "\\item 'Subclusters\\_9'\n",
       "\\item 'Subclusters\\_10'\n",
       "\\item 'Subclusters\\_11'\n",
       "\\item 'Subclusters\\_13'\n",
       "\\item 'my\\_own\\_clusters'\n",
       "\\item 'Integrated\\_annotation\\_after\\_rpca'\n",
       "\\item 'Assigned\\_GFPbc'\n",
       "\\item 'Assignation\\_demux\\_NO\\_CellBender'\n",
       "\\item 'Assigned\\_GFPbc\\_demux\\_\\_NO\\_CellBender'\n",
       "\\end{enumerate*}\n"
      ],
      "text/markdown": [
       "1. 'orig.ident'\n",
       "2. 'nCount_RNA'\n",
       "3. 'nFeature_RNA'\n",
       "4. 'nCount_RNA_raw'\n",
       "5. 'nFeature_RNA_raw'\n",
       "6. 'percent.mt'\n",
       "7. 'scDblFinder.class'\n",
       "8. 'scDblFinder.score'\n",
       "9. 'scDblFinder.weighted'\n",
       "10. 'scDblFinder.cxds_score'\n",
       "11. 'Diff'\n",
       "12. 'nCount_SCT'\n",
       "13. 'nFeature_SCT'\n",
       "14. 'SCT_snn_res.2'\n",
       "15. 'seurat_clusters'\n",
       "16. 'SCT_snn_res.0.5'\n",
       "17. 'CellTypist_label_Alsinet'\n",
       "18. 'CellTypist_conf_score_Alsinet'\n",
       "19. 'CellTypist_label_FBMA'\n",
       "20. 'CellTypist_conf_score_FBMA'\n",
       "21. 'CellTypist_label_Immune_ALL_low'\n",
       "22. 'CellTypist_conf_score_Immune_ALL_low'\n",
       "23. 'Integrated_annotation'\n",
       "24. 'integrated_nn_res.0.5'\n",
       "25. 'Subclusters_2'\n",
       "26. 'Subclusters_5'\n",
       "27. 'Subclusters_7'\n",
       "28. 'Subclusters_9'\n",
       "29. 'Subclusters_10'\n",
       "30. 'Subclusters_11'\n",
       "31. 'Subclusters_13'\n",
       "32. 'my_own_clusters'\n",
       "33. 'Integrated_annotation_after_rpca'\n",
       "34. 'Assigned_GFPbc'\n",
       "35. 'Assignation_demux_NO_CellBender'\n",
       "36. 'Assigned_GFPbc_demux__NO_CellBender'\n",
       "\n",
       "\n"
      ],
      "text/plain": [
       " [1] \"orig.ident\"                          \n",
       " [2] \"nCount_RNA\"                          \n",
       " [3] \"nFeature_RNA\"                        \n",
       " [4] \"nCount_RNA_raw\"                      \n",
       " [5] \"nFeature_RNA_raw\"                    \n",
       " [6] \"percent.mt\"                          \n",
       " [7] \"scDblFinder.class\"                   \n",
       " [8] \"scDblFinder.score\"                   \n",
       " [9] \"scDblFinder.weighted\"                \n",
       "[10] \"scDblFinder.cxds_score\"              \n",
       "[11] \"Diff\"                                \n",
       "[12] \"nCount_SCT\"                          \n",
       "[13] \"nFeature_SCT\"                        \n",
       "[14] \"SCT_snn_res.2\"                       \n",
       "[15] \"seurat_clusters\"                     \n",
       "[16] \"SCT_snn_res.0.5\"                     \n",
       "[17] \"CellTypist_label_Alsinet\"            \n",
       "[18] \"CellTypist_conf_score_Alsinet\"       \n",
       "[19] \"CellTypist_label_FBMA\"               \n",
       "[20] \"CellTypist_conf_score_FBMA\"          \n",
       "[21] \"CellTypist_label_Immune_ALL_low\"     \n",
       "[22] \"CellTypist_conf_score_Immune_ALL_low\"\n",
       "[23] \"Integrated_annotation\"               \n",
       "[24] \"integrated_nn_res.0.5\"               \n",
       "[25] \"Subclusters_2\"                       \n",
       "[26] \"Subclusters_5\"                       \n",
       "[27] \"Subclusters_7\"                       \n",
       "[28] \"Subclusters_9\"                       \n",
       "[29] \"Subclusters_10\"                      \n",
       "[30] \"Subclusters_11\"                      \n",
       "[31] \"Subclusters_13\"                      \n",
       "[32] \"my_own_clusters\"                     \n",
       "[33] \"Integrated_annotation_after_rpca\"    \n",
       "[34] \"Assigned_GFPbc\"                      \n",
       "[35] \"Assignation_demux_NO_CellBender\"     \n",
       "[36] \"Assigned_GFPbc_demux__NO_CellBender\" "
      ]
     },
     "metadata": {},
     "output_type": "display_data"
    }
   ],
   "source": [
    "colnames(adata@meta.data)"
   ]
  },
  {
   "cell_type": "markdown",
   "id": "e53cd2e7-db45-4561-a2ef-9b1b8321433a",
   "metadata": {},
   "source": [
    "# Read targeted amplified GEX with Cell Bender correction"
   ]
  },
  {
   "cell_type": "markdown",
   "id": "533d9c6e-b615-4c40-bae1-70ee8217e36f",
   "metadata": {},
   "source": [
    "## From diff 1"
   ]
  },
  {
   "cell_type": "code",
   "execution_count": 225,
   "id": "afb1e3e7-94b6-4525-807d-065a295a26e2",
   "metadata": {
    "execution": {
     "iopub.execute_input": "2025-10-14T10:45:26.679100Z",
     "iopub.status.busy": "2025-10-14T10:45:26.678081Z",
     "iopub.status.idle": "2025-10-14T10:45:39.682017Z",
     "shell.execute_reply": "2025-10-14T10:45:39.680687Z"
    }
   },
   "outputs": [
    {
     "name": "stderr",
     "output_type": "stream",
     "text": [
      "Warning message:\n",
      "\"Feature names cannot have underscores ('_'), replacing with dashes ('-')\"\n",
      "Warning message:\n",
      "\"Feature names cannot have underscores ('_'), replacing with dashes ('-')\"\n"
     ]
    }
   ],
   "source": [
    "cb_counts = Read10X_h5(file.path(\"/scratch/manuel.tardaguila/hESC_MK_SCRNAseq_10X/no_competition/targeted_amplicon_GEX/processing_outputs/MCO_01373_3GEX/\", 'cellbender_gex_seurat.h5'))\n",
    "\n",
    "adata_samp_1_CellBender = CreateSeuratObject(counts = cb_counts)\n",
    "adata_samp_1_CellBender$orig.ident<-'MCO_01373_3GEX'\n",
    "\n",
    "cb_counts = Read10X_h5(file.path(\"/scratch/manuel.tardaguila/hESC_MK_SCRNAseq_10X/no_competition/targeted_amplicon_GEX/processing_outputs/MCO_01374_3GEX/\", 'cellbender_gex_seurat.h5'))\n",
    "\n",
    "adata_samp_2_CellBender = CreateSeuratObject(counts = cb_counts)\n",
    "adata_samp_2_CellBender$orig.ident<-'MCO_01374_3GEX'\n",
    "\n"
   ]
  },
  {
   "cell_type": "markdown",
   "id": "fca1d645-0b4c-4fe5-8aa3-72ef25fe846b",
   "metadata": {},
   "source": [
    "## combine them in a single object"
   ]
  },
  {
   "cell_type": "code",
   "execution_count": 226,
   "id": "23f45b28-b605-4162-8b55-f0e401e2d1b8",
   "metadata": {
    "execution": {
     "iopub.execute_input": "2025-10-14T10:45:39.684865Z",
     "iopub.status.busy": "2025-10-14T10:45:39.683901Z",
     "iopub.status.idle": "2025-10-14T10:45:52.075450Z",
     "shell.execute_reply": "2025-10-14T10:45:52.074203Z"
    }
   },
   "outputs": [
    {
     "data": {
      "text/plain": [
       "An object of class Seurat \n",
       "12 features across 662043 samples within 1 assay \n",
       "Active assay: RNA (12 features, 0 variable features)\n",
       " 1 layer present: counts"
      ]
     },
     "metadata": {},
     "output_type": "display_data"
    }
   ],
   "source": [
    "adatas<-list()\n",
    "\n",
    "adatas[[1]]<-adata_samp_1_CellBender\n",
    "adatas[[2]]<-adata_samp_2_CellBender\n",
    "\n",
    "\n",
    "sample_array<-c('MCO_01373_3GEX','MCO_01374_3GEX')\n",
    "\n",
    "merged_CellBender = merge(x =adatas[[1]], y=adatas[2], add.cell.ids = sample_array )\n",
    "\n",
    "merged_CellBender[[\"RNA\"]] <-JoinLayers(merged_CellBender[[\"RNA\"]])\n",
    "\n",
    "merged_CellBender\n"
   ]
  },
  {
   "cell_type": "markdown",
   "id": "98591a66-99b6-47d4-97ec-ce83c6be63aa",
   "metadata": {},
   "source": [
    "## Only use the barcodes that are part of my final object"
   ]
  },
  {
   "cell_type": "code",
   "execution_count": 227,
   "id": "0e7b95bb-b3f3-4dd8-9606-2b74fd4f6a52",
   "metadata": {
    "execution": {
     "iopub.execute_input": "2025-10-14T10:45:52.078459Z",
     "iopub.status.busy": "2025-10-14T10:45:52.077368Z",
     "iopub.status.idle": "2025-10-14T10:45:52.124622Z",
     "shell.execute_reply": "2025-10-14T10:45:52.123368Z"
    }
   },
   "outputs": [
    {
     "name": "stdout",
     "output_type": "stream",
     "text": [
      " chr [1:35216] \"MCO_01373_3GEX_AAACCAAAGTAGACTT-1\" ...\n"
     ]
    }
   ],
   "source": [
    "joint.bcs <- intersect(colnames(adata), colnames(merged_CellBender))\n",
    "\n",
    "str(joint.bcs)"
   ]
  },
  {
   "cell_type": "code",
   "execution_count": 228,
   "id": "74c9a6d1-325b-463e-b27b-05130bb7e560",
   "metadata": {
    "execution": {
     "iopub.execute_input": "2025-10-14T10:45:52.127501Z",
     "iopub.status.busy": "2025-10-14T10:45:52.126505Z",
     "iopub.status.idle": "2025-10-14T10:45:58.104850Z",
     "shell.execute_reply": "2025-10-14T10:45:58.103485Z"
    }
   },
   "outputs": [
    {
     "data": {
      "text/plain": [
       "An object of class Seurat \n",
       "12 features across 35216 samples within 1 assay \n",
       "Active assay: RNA (12 features, 0 variable features)\n",
       " 1 layer present: counts"
      ]
     },
     "metadata": {},
     "output_type": "display_data"
    }
   ],
   "source": [
    "merged_CellBender_restricted <- subset(merged_CellBender, cells = joint.bcs)\n",
    "\n",
    "merged_CellBender_restricted"
   ]
  },
  {
   "cell_type": "code",
   "execution_count": 229,
   "id": "e3ff5011-1101-4f3c-8251-e0a11c96e55c",
   "metadata": {
    "execution": {
     "iopub.execute_input": "2025-10-14T10:45:58.108018Z",
     "iopub.status.busy": "2025-10-14T10:45:58.106959Z",
     "iopub.status.idle": "2025-10-14T10:45:58.139055Z",
     "shell.execute_reply": "2025-10-14T10:45:58.137676Z"
    }
   },
   "outputs": [],
   "source": [
    "hto_CellBender_counts<-GetAssayData(\n",
    "  merged_CellBender_restricted,\n",
    "  layer = c(\"counts\"))+1\n",
    "\n",
    "### Adding a pseudocount as seen in https://github.com/satijalab/seurat/issues/5640\n"
   ]
  },
  {
   "cell_type": "code",
   "execution_count": 230,
   "id": "c417b97e-c158-41df-9ad1-5f654f3d1eeb",
   "metadata": {
    "execution": {
     "iopub.execute_input": "2025-10-14T10:45:58.142120Z",
     "iopub.status.busy": "2025-10-14T10:45:58.141059Z",
     "iopub.status.idle": "2025-10-14T10:45:58.154406Z",
     "shell.execute_reply": "2025-10-14T10:45:58.153221Z"
    }
   },
   "outputs": [
    {
     "name": "stdout",
     "output_type": "stream",
     "text": [
      "Formal class 'dgeMatrix' [package \"Matrix\"] with 4 slots\n",
      "  ..@ Dim     : int [1:2] 12 35216\n",
      "  ..@ Dimnames:List of 2\n",
      "  .. ..$ : chr [1:12] \"GFP-chrGFP-WTA\" \"GFP-chrGFP-WTB\" \"GFP-chrGFP-WTC\" \"GFP-chrGFP-rs1\" ...\n",
      "  .. ..$ : chr [1:35216] \"MCO_01373_3GEX_AAACCAAAGTAGACTT-1\" \"MCO_01373_3GEX_AAACCAAAGTCATCGA-1\" \"MCO_01373_3GEX_AAACCAAAGTGAACTT-1\" \"MCO_01373_3GEX_AAACCATTCCCAGGTG-1\" ...\n",
      "  ..@ x       : num [1:422592] 3 9 3 6 1 7 10 2 9 17 ...\n",
      "  ..@ factors : list()\n"
     ]
    }
   ],
   "source": [
    "str(hto_CellBender_counts)"
   ]
  },
  {
   "cell_type": "code",
   "execution_count": 231,
   "id": "b1bd5267-ed4c-4ee3-9123-144b1ff4af1c",
   "metadata": {
    "execution": {
     "iopub.execute_input": "2025-10-14T10:45:58.157306Z",
     "iopub.status.busy": "2025-10-14T10:45:58.156297Z",
     "iopub.status.idle": "2025-10-14T10:45:58.726352Z",
     "shell.execute_reply": "2025-10-14T10:45:58.724874Z"
    }
   },
   "outputs": [],
   "source": [
    "merged_CellBender_restricted[[\"HTO_CellBender\"]] <- CreateAssayObject(counts = hto_CellBender_counts)"
   ]
  },
  {
   "cell_type": "code",
   "execution_count": 232,
   "id": "98b850b6-62f6-4dcd-b1e1-6c00818d1113",
   "metadata": {
    "execution": {
     "iopub.execute_input": "2025-10-14T10:45:58.729511Z",
     "iopub.status.busy": "2025-10-14T10:45:58.728413Z",
     "iopub.status.idle": "2025-10-14T10:45:58.743846Z",
     "shell.execute_reply": "2025-10-14T10:45:58.742555Z"
    }
   },
   "outputs": [
    {
     "data": {
      "text/plain": [
       "An object of class Seurat \n",
       "24 features across 35216 samples within 2 assays \n",
       "Active assay: RNA (12 features, 0 variable features)\n",
       " 1 layer present: counts\n",
       " 1 other assay present: HTO_CellBender"
      ]
     },
     "metadata": {},
     "output_type": "display_data"
    }
   ],
   "source": [
    "merged_CellBender_restricted"
   ]
  },
  {
   "cell_type": "markdown",
   "id": "7d252a72-84ac-4b20-965c-06a736c7feb1",
   "metadata": {
    "editable": true,
    "slideshow": {
     "slide_type": ""
    },
    "tags": []
   },
   "source": [
    "## normalize CLR"
   ]
  },
  {
   "cell_type": "code",
   "execution_count": 233,
   "id": "fdf4223f-85e9-4e79-b56d-5252cc6ccc27",
   "metadata": {
    "execution": {
     "iopub.execute_input": "2025-10-14T10:45:58.746934Z",
     "iopub.status.busy": "2025-10-14T10:45:58.745882Z",
     "iopub.status.idle": "2025-10-14T10:45:59.070953Z",
     "shell.execute_reply": "2025-10-14T10:45:59.069457Z"
    }
   },
   "outputs": [
    {
     "name": "stderr",
     "output_type": "stream",
     "text": [
      "Normalizing across features\n",
      "\n"
     ]
    }
   ],
   "source": [
    "merged_CellBender_restricted <- NormalizeData(merged_CellBender_restricted, assay = \"HTO_CellBender\", normalization.method = \"CLR\")\n"
   ]
  },
  {
   "cell_type": "markdown",
   "id": "a9bc45dd-d884-4ae0-bbe3-96c7fb06eaae",
   "metadata": {},
   "source": [
    "## Demultiplex using HTO Demux"
   ]
  },
  {
   "cell_type": "code",
   "execution_count": 234,
   "id": "edb8b853-2797-4e03-adc9-557c9519733c",
   "metadata": {
    "execution": {
     "iopub.execute_input": "2025-10-14T10:45:59.074220Z",
     "iopub.status.busy": "2025-10-14T10:45:59.073103Z",
     "iopub.status.idle": "2025-10-14T10:46:04.506494Z",
     "shell.execute_reply": "2025-10-14T10:46:04.505085Z"
    }
   },
   "outputs": [
    {
     "name": "stderr",
     "output_type": "stream",
     "text": [
      "Cutoff for GFP-chrGFP-WTA : 5 reads\n",
      "\n",
      "Cutoff for GFP-chrGFP-WTB : 16 reads\n",
      "\n",
      "Cutoff for GFP-chrGFP-WTC : 8 reads\n",
      "\n",
      "Cutoff for GFP-chrGFP-rs1 : 12 reads\n",
      "\n",
      "Cutoff for GFP-chrGFP-rs2 : 4 reads\n",
      "\n",
      "Cutoff for GFP-chrGFP-rs3 : 22 reads\n",
      "\n",
      "Cutoff for GFP-chrGFP-R882H1 : 17 reads\n",
      "\n",
      "Cutoff for GFP-chrGFP-R882H2 : 4 reads\n",
      "\n",
      "Cutoff for GFP-chrGFP-R882H3 : 12 reads\n",
      "\n",
      "Cutoff for GFP-chrGFP-rs-R882H1 : 13 reads\n",
      "\n",
      "Cutoff for GFP-chrGFP-rs-R882H2 : 4 reads\n",
      "\n",
      "Cutoff for GFP-chrGFP-rs-R882H3 : 17 reads\n",
      "\n"
     ]
    }
   ],
   "source": [
    "merged_CellBender_restricted <- HTODemux(merged_CellBender_restricted, assay = \"HTO_CellBender\", positive.quantile = 0.99)\n"
   ]
  },
  {
   "cell_type": "code",
   "execution_count": 235,
   "id": "3f0f999f-a7d9-4b11-a7ee-fa1967f2efee",
   "metadata": {
    "execution": {
     "iopub.execute_input": "2025-10-14T10:46:04.509490Z",
     "iopub.status.busy": "2025-10-14T10:46:04.508471Z",
     "iopub.status.idle": "2025-10-14T10:46:04.521270Z",
     "shell.execute_reply": "2025-10-14T10:46:04.520111Z"
    }
   },
   "outputs": [
    {
     "data": {
      "text/html": [
       "<style>\n",
       ".dl-inline {width: auto; margin:0; padding: 0}\n",
       ".dl-inline>dt, .dl-inline>dd {float: none; width: auto; display: inline-block}\n",
       ".dl-inline>dt::after {content: \":\\0020\"; padding-right: .5ex}\n",
       ".dl-inline>dt:not(:first-of-type) {padding-left: .5ex}\n",
       "</style><dl class=dl-inline><dt>Doublet</dt><dd>31902</dd><dt>GFP-chrGFP-rs-R882H1</dt><dd>95</dd><dt>GFP-chrGFP-WTA</dt><dd>47</dd><dt>Negative</dt><dd>2285</dd><dt>GFP-chrGFP-R882H2</dt><dd>51</dd><dt>GFP-chrGFP-R882H3</dt><dd>86</dd><dt>GFP-chrGFP-WTB</dt><dd>120</dd><dt>GFP-chrGFP-R882H1</dt><dd>105</dd><dt>GFP-chrGFP-rs1</dt><dd>149</dd><dt>GFP-chrGFP-WTC</dt><dd>75</dd><dt>GFP-chrGFP-rs-R882H2</dt><dd>45</dd><dt>GFP-chrGFP-rs3</dt><dd>138</dd><dt>GFP-chrGFP-rs2</dt><dd>30</dd><dt>GFP-chrGFP-rs-R882H3</dt><dd>88</dd></dl>\n"
      ],
      "text/latex": [
       "\\begin{description*}\n",
       "\\item[Doublet] 31902\n",
       "\\item[GFP-chrGFP-rs-R882H1] 95\n",
       "\\item[GFP-chrGFP-WTA] 47\n",
       "\\item[Negative] 2285\n",
       "\\item[GFP-chrGFP-R882H2] 51\n",
       "\\item[GFP-chrGFP-R882H3] 86\n",
       "\\item[GFP-chrGFP-WTB] 120\n",
       "\\item[GFP-chrGFP-R882H1] 105\n",
       "\\item[GFP-chrGFP-rs1] 149\n",
       "\\item[GFP-chrGFP-WTC] 75\n",
       "\\item[GFP-chrGFP-rs-R882H2] 45\n",
       "\\item[GFP-chrGFP-rs3] 138\n",
       "\\item[GFP-chrGFP-rs2] 30\n",
       "\\item[GFP-chrGFP-rs-R882H3] 88\n",
       "\\end{description*}\n"
      ],
      "text/markdown": [
       "Doublet\n",
       ":   31902GFP-chrGFP-rs-R882H1\n",
       ":   95GFP-chrGFP-WTA\n",
       ":   47Negative\n",
       ":   2285GFP-chrGFP-R882H2\n",
       ":   51GFP-chrGFP-R882H3\n",
       ":   86GFP-chrGFP-WTB\n",
       ":   120GFP-chrGFP-R882H1\n",
       ":   105GFP-chrGFP-rs1\n",
       ":   149GFP-chrGFP-WTC\n",
       ":   75GFP-chrGFP-rs-R882H2\n",
       ":   45GFP-chrGFP-rs3\n",
       ":   138GFP-chrGFP-rs2\n",
       ":   30GFP-chrGFP-rs-R882H3\n",
       ":   88\n",
       "\n"
      ],
      "text/plain": [
       "             Doublet GFP-chrGFP-rs-R882H1       GFP-chrGFP-WTA \n",
       "               31902                   95                   47 \n",
       "            Negative    GFP-chrGFP-R882H2    GFP-chrGFP-R882H3 \n",
       "                2285                   51                   86 \n",
       "      GFP-chrGFP-WTB    GFP-chrGFP-R882H1       GFP-chrGFP-rs1 \n",
       "                 120                  105                  149 \n",
       "      GFP-chrGFP-WTC GFP-chrGFP-rs-R882H2       GFP-chrGFP-rs3 \n",
       "                  75                   45                  138 \n",
       "      GFP-chrGFP-rs2 GFP-chrGFP-rs-R882H3 \n",
       "                  30                   88 "
      ]
     },
     "metadata": {},
     "output_type": "display_data"
    }
   ],
   "source": [
    "summary(merged_CellBender_restricted@meta.data$hash.ID)"
   ]
  },
  {
   "cell_type": "markdown",
   "id": "d9af12bc-e1fb-42e6-b99b-af8f43b2718b",
   "metadata": {},
   "source": [
    "## Add CellBender Demux to Genotype Annotation to adata"
   ]
  },
  {
   "cell_type": "code",
   "execution_count": 236,
   "id": "b902a3fa-7804-4097-8dc4-36ac20b58974",
   "metadata": {
    "execution": {
     "iopub.execute_input": "2025-10-14T10:46:04.524106Z",
     "iopub.status.busy": "2025-10-14T10:46:04.523122Z",
     "iopub.status.idle": "2025-10-14T10:46:04.707258Z",
     "shell.execute_reply": "2025-10-14T10:46:04.705870Z"
    }
   },
   "outputs": [],
   "source": [
    "adata<-AddMetaData(object= adata,\n",
    "                  metadata= merged_CellBender_restricted@meta.data$hash.ID,\n",
    "                  col.name = \"Assignation_demux_CellBender\")"
   ]
  },
  {
   "cell_type": "code",
   "execution_count": 237,
   "id": "06dc45b2-ecf1-47c2-98d0-3c6883a5803e",
   "metadata": {
    "execution": {
     "iopub.execute_input": "2025-10-14T10:46:04.710252Z",
     "iopub.status.busy": "2025-10-14T10:46:04.709214Z",
     "iopub.status.idle": "2025-10-14T10:46:04.721649Z",
     "shell.execute_reply": "2025-10-14T10:46:04.720483Z"
    }
   },
   "outputs": [
    {
     "data": {
      "text/html": [
       "<style>\n",
       ".dl-inline {width: auto; margin:0; padding: 0}\n",
       ".dl-inline>dt, .dl-inline>dd {float: none; width: auto; display: inline-block}\n",
       ".dl-inline>dt::after {content: \":\\0020\"; padding-right: .5ex}\n",
       ".dl-inline>dt:not(:first-of-type) {padding-left: .5ex}\n",
       "</style><dl class=dl-inline><dt>Doublet</dt><dd>31905</dd><dt>GFP-chrGFP-rs-R882H1</dt><dd>96</dd><dt>GFP-chrGFP-WTA</dt><dd>47</dd><dt>Negative</dt><dd>2285</dd><dt>GFP-chrGFP-R882H2</dt><dd>51</dd><dt>GFP-chrGFP-R882H3</dt><dd>86</dd><dt>GFP-chrGFP-WTB</dt><dd>120</dd><dt>GFP-chrGFP-R882H1</dt><dd>105</dd><dt>GFP-chrGFP-rs1</dt><dd>149</dd><dt>GFP-chrGFP-WTC</dt><dd>75</dd><dt>GFP-chrGFP-rs-R882H2</dt><dd>45</dd><dt>GFP-chrGFP-rs3</dt><dd>138</dd><dt>GFP-chrGFP-rs2</dt><dd>30</dd><dt>GFP-chrGFP-rs-R882H3</dt><dd>88</dd></dl>\n"
      ],
      "text/latex": [
       "\\begin{description*}\n",
       "\\item[Doublet] 31905\n",
       "\\item[GFP-chrGFP-rs-R882H1] 96\n",
       "\\item[GFP-chrGFP-WTA] 47\n",
       "\\item[Negative] 2285\n",
       "\\item[GFP-chrGFP-R882H2] 51\n",
       "\\item[GFP-chrGFP-R882H3] 86\n",
       "\\item[GFP-chrGFP-WTB] 120\n",
       "\\item[GFP-chrGFP-R882H1] 105\n",
       "\\item[GFP-chrGFP-rs1] 149\n",
       "\\item[GFP-chrGFP-WTC] 75\n",
       "\\item[GFP-chrGFP-rs-R882H2] 45\n",
       "\\item[GFP-chrGFP-rs3] 138\n",
       "\\item[GFP-chrGFP-rs2] 30\n",
       "\\item[GFP-chrGFP-rs-R882H3] 88\n",
       "\\end{description*}\n"
      ],
      "text/markdown": [
       "Doublet\n",
       ":   31905GFP-chrGFP-rs-R882H1\n",
       ":   96GFP-chrGFP-WTA\n",
       ":   47Negative\n",
       ":   2285GFP-chrGFP-R882H2\n",
       ":   51GFP-chrGFP-R882H3\n",
       ":   86GFP-chrGFP-WTB\n",
       ":   120GFP-chrGFP-R882H1\n",
       ":   105GFP-chrGFP-rs1\n",
       ":   149GFP-chrGFP-WTC\n",
       ":   75GFP-chrGFP-rs-R882H2\n",
       ":   45GFP-chrGFP-rs3\n",
       ":   138GFP-chrGFP-rs2\n",
       ":   30GFP-chrGFP-rs-R882H3\n",
       ":   88\n",
       "\n"
      ],
      "text/plain": [
       "             Doublet GFP-chrGFP-rs-R882H1       GFP-chrGFP-WTA \n",
       "               31905                   96                   47 \n",
       "            Negative    GFP-chrGFP-R882H2    GFP-chrGFP-R882H3 \n",
       "                2285                   51                   86 \n",
       "      GFP-chrGFP-WTB    GFP-chrGFP-R882H1       GFP-chrGFP-rs1 \n",
       "                 120                  105                  149 \n",
       "      GFP-chrGFP-WTC GFP-chrGFP-rs-R882H2       GFP-chrGFP-rs3 \n",
       "                  75                   45                  138 \n",
       "      GFP-chrGFP-rs2 GFP-chrGFP-rs-R882H3 \n",
       "                  30                   88 "
      ]
     },
     "metadata": {},
     "output_type": "display_data"
    }
   ],
   "source": [
    "summary(as.factor(adata@meta.data$Assignation_demux_CellBender))"
   ]
  },
  {
   "cell_type": "code",
   "execution_count": 238,
   "id": "ea639aad-b1da-4dcf-a716-5867ffd79b81",
   "metadata": {
    "execution": {
     "iopub.execute_input": "2025-10-14T10:46:04.724515Z",
     "iopub.status.busy": "2025-10-14T10:46:04.723514Z",
     "iopub.status.idle": "2025-10-14T10:46:04.732448Z",
     "shell.execute_reply": "2025-10-14T10:46:04.731243Z"
    }
   },
   "outputs": [],
   "source": [
    "adata@meta.data$Assigned_GFPbc_demux_CellBender<-gsub(\"^GFP-\",\"\",adata@meta.data$Assignation_demux_CellBender)"
   ]
  },
  {
   "cell_type": "code",
   "execution_count": 239,
   "id": "dd433240-960c-40da-9ae7-776b84d527c0",
   "metadata": {
    "execution": {
     "iopub.execute_input": "2025-10-14T10:46:04.735256Z",
     "iopub.status.busy": "2025-10-14T10:46:04.734286Z",
     "iopub.status.idle": "2025-10-14T10:46:04.750115Z",
     "shell.execute_reply": "2025-10-14T10:46:04.748979Z"
    }
   },
   "outputs": [],
   "source": [
    "adata@meta.data$Assigned_GFPbc_demux_CellBender<-gsub(\"-\",\"_\",adata@meta.data$Assigned_GFPbc_demux_CellBender)"
   ]
  },
  {
   "cell_type": "code",
   "execution_count": 240,
   "id": "39ef92d6-6179-4aee-8fa2-81f8aae3a2f7",
   "metadata": {
    "execution": {
     "iopub.execute_input": "2025-10-14T10:46:04.752887Z",
     "iopub.status.busy": "2025-10-14T10:46:04.751906Z",
     "iopub.status.idle": "2025-10-14T10:46:04.764556Z",
     "shell.execute_reply": "2025-10-14T10:46:04.763415Z"
    }
   },
   "outputs": [
    {
     "data": {
      "text/html": [
       "<style>\n",
       ".dl-inline {width: auto; margin:0; padding: 0}\n",
       ".dl-inline>dt, .dl-inline>dd {float: none; width: auto; display: inline-block}\n",
       ".dl-inline>dt::after {content: \":\\0020\"; padding-right: .5ex}\n",
       ".dl-inline>dt:not(:first-of-type) {padding-left: .5ex}\n",
       "</style><dl class=dl-inline><dt>chrGFP_R882H1</dt><dd>105</dd><dt>chrGFP_R882H2</dt><dd>51</dd><dt>chrGFP_R882H3</dt><dd>86</dd><dt>chrGFP_rs_R882H1</dt><dd>96</dd><dt>chrGFP_rs_R882H2</dt><dd>45</dd><dt>chrGFP_rs_R882H3</dt><dd>88</dd><dt>chrGFP_rs1</dt><dd>149</dd><dt>chrGFP_rs2</dt><dd>30</dd><dt>chrGFP_rs3</dt><dd>138</dd><dt>chrGFP_WTA</dt><dd>47</dd><dt>chrGFP_WTB</dt><dd>120</dd><dt>chrGFP_WTC</dt><dd>75</dd><dt>Doublet</dt><dd>31905</dd><dt>Negative</dt><dd>2285</dd></dl>\n"
      ],
      "text/latex": [
       "\\begin{description*}\n",
       "\\item[chrGFP\\textbackslash{}\\_R882H1] 105\n",
       "\\item[chrGFP\\textbackslash{}\\_R882H2] 51\n",
       "\\item[chrGFP\\textbackslash{}\\_R882H3] 86\n",
       "\\item[chrGFP\\textbackslash{}\\_rs\\textbackslash{}\\_R882H1] 96\n",
       "\\item[chrGFP\\textbackslash{}\\_rs\\textbackslash{}\\_R882H2] 45\n",
       "\\item[chrGFP\\textbackslash{}\\_rs\\textbackslash{}\\_R882H3] 88\n",
       "\\item[chrGFP\\textbackslash{}\\_rs1] 149\n",
       "\\item[chrGFP\\textbackslash{}\\_rs2] 30\n",
       "\\item[chrGFP\\textbackslash{}\\_rs3] 138\n",
       "\\item[chrGFP\\textbackslash{}\\_WTA] 47\n",
       "\\item[chrGFP\\textbackslash{}\\_WTB] 120\n",
       "\\item[chrGFP\\textbackslash{}\\_WTC] 75\n",
       "\\item[Doublet] 31905\n",
       "\\item[Negative] 2285\n",
       "\\end{description*}\n"
      ],
      "text/markdown": [
       "chrGFP_R882H1\n",
       ":   105chrGFP_R882H2\n",
       ":   51chrGFP_R882H3\n",
       ":   86chrGFP_rs_R882H1\n",
       ":   96chrGFP_rs_R882H2\n",
       ":   45chrGFP_rs_R882H3\n",
       ":   88chrGFP_rs1\n",
       ":   149chrGFP_rs2\n",
       ":   30chrGFP_rs3\n",
       ":   138chrGFP_WTA\n",
       ":   47chrGFP_WTB\n",
       ":   120chrGFP_WTC\n",
       ":   75Doublet\n",
       ":   31905Negative\n",
       ":   2285\n",
       "\n"
      ],
      "text/plain": [
       "   chrGFP_R882H1    chrGFP_R882H2    chrGFP_R882H3 chrGFP_rs_R882H1 \n",
       "             105               51               86               96 \n",
       "chrGFP_rs_R882H2 chrGFP_rs_R882H3       chrGFP_rs1       chrGFP_rs2 \n",
       "              45               88              149               30 \n",
       "      chrGFP_rs3       chrGFP_WTA       chrGFP_WTB       chrGFP_WTC \n",
       "             138               47              120               75 \n",
       "         Doublet         Negative \n",
       "           31905             2285 "
      ]
     },
     "metadata": {},
     "output_type": "display_data"
    }
   ],
   "source": [
    "summary(as.factor(adata@meta.data$Assigned_GFPbc_demux_CellBender))"
   ]
  },
  {
   "cell_type": "code",
   "execution_count": 241,
   "id": "971ce387-f05d-4ede-9d2d-c6617520dcff",
   "metadata": {
    "execution": {
     "iopub.execute_input": "2025-10-14T10:46:04.767346Z",
     "iopub.status.busy": "2025-10-14T10:46:04.766373Z",
     "iopub.status.idle": "2025-10-14T10:46:04.775239Z",
     "shell.execute_reply": "2025-10-14T10:46:04.774071Z"
    }
   },
   "outputs": [],
   "source": [
    "adata@meta.data$Assigned_GFPbc_demux_CellBender<-factor(adata@meta.data$Assigned_GFPbc_demux_CellBender,\n",
    "                                       levels = c(\"chrGFP_WTA\",\"chrGFP_WTB\",\"chrGFP_WTC\",\n",
    "                                                  \"chrGFP_rs1\",\"chrGFP_rs2\",\"chrGFP_rs3\",\n",
    "                                                  \"chrGFP_R882H1\",\"chrGFP_R882H2\",\"chrGFP_R882H3\",\n",
    "                                                  \"chrGFP_rs_R882H1\",\"chrGFP_rs_R882H2\",\"chrGFP_rs_R882H3\",\"Doublet\",\"Negative\"),\n",
    "                                       ordered=T)"
   ]
  },
  {
   "cell_type": "code",
   "execution_count": 242,
   "id": "91da3d76-27b4-4827-af2f-7f08449e1a5b",
   "metadata": {
    "execution": {
     "iopub.execute_input": "2025-10-14T10:46:04.778002Z",
     "iopub.status.busy": "2025-10-14T10:46:04.777021Z",
     "iopub.status.idle": "2025-10-14T10:46:04.788234Z",
     "shell.execute_reply": "2025-10-14T10:46:04.787094Z"
    }
   },
   "outputs": [
    {
     "data": {
      "text/html": [
       "<style>\n",
       ".dl-inline {width: auto; margin:0; padding: 0}\n",
       ".dl-inline>dt, .dl-inline>dd {float: none; width: auto; display: inline-block}\n",
       ".dl-inline>dt::after {content: \":\\0020\"; padding-right: .5ex}\n",
       ".dl-inline>dt:not(:first-of-type) {padding-left: .5ex}\n",
       "</style><dl class=dl-inline><dt>chrGFP_WTA</dt><dd>47</dd><dt>chrGFP_WTB</dt><dd>120</dd><dt>chrGFP_WTC</dt><dd>75</dd><dt>chrGFP_rs1</dt><dd>149</dd><dt>chrGFP_rs2</dt><dd>30</dd><dt>chrGFP_rs3</dt><dd>138</dd><dt>chrGFP_R882H1</dt><dd>105</dd><dt>chrGFP_R882H2</dt><dd>51</dd><dt>chrGFP_R882H3</dt><dd>86</dd><dt>chrGFP_rs_R882H1</dt><dd>96</dd><dt>chrGFP_rs_R882H2</dt><dd>45</dd><dt>chrGFP_rs_R882H3</dt><dd>88</dd><dt>Doublet</dt><dd>31905</dd><dt>Negative</dt><dd>2285</dd></dl>\n"
      ],
      "text/latex": [
       "\\begin{description*}\n",
       "\\item[chrGFP\\textbackslash{}\\_WTA] 47\n",
       "\\item[chrGFP\\textbackslash{}\\_WTB] 120\n",
       "\\item[chrGFP\\textbackslash{}\\_WTC] 75\n",
       "\\item[chrGFP\\textbackslash{}\\_rs1] 149\n",
       "\\item[chrGFP\\textbackslash{}\\_rs2] 30\n",
       "\\item[chrGFP\\textbackslash{}\\_rs3] 138\n",
       "\\item[chrGFP\\textbackslash{}\\_R882H1] 105\n",
       "\\item[chrGFP\\textbackslash{}\\_R882H2] 51\n",
       "\\item[chrGFP\\textbackslash{}\\_R882H3] 86\n",
       "\\item[chrGFP\\textbackslash{}\\_rs\\textbackslash{}\\_R882H1] 96\n",
       "\\item[chrGFP\\textbackslash{}\\_rs\\textbackslash{}\\_R882H2] 45\n",
       "\\item[chrGFP\\textbackslash{}\\_rs\\textbackslash{}\\_R882H3] 88\n",
       "\\item[Doublet] 31905\n",
       "\\item[Negative] 2285\n",
       "\\end{description*}\n"
      ],
      "text/markdown": [
       "chrGFP_WTA\n",
       ":   47chrGFP_WTB\n",
       ":   120chrGFP_WTC\n",
       ":   75chrGFP_rs1\n",
       ":   149chrGFP_rs2\n",
       ":   30chrGFP_rs3\n",
       ":   138chrGFP_R882H1\n",
       ":   105chrGFP_R882H2\n",
       ":   51chrGFP_R882H3\n",
       ":   86chrGFP_rs_R882H1\n",
       ":   96chrGFP_rs_R882H2\n",
       ":   45chrGFP_rs_R882H3\n",
       ":   88Doublet\n",
       ":   31905Negative\n",
       ":   2285\n",
       "\n"
      ],
      "text/plain": [
       "      chrGFP_WTA       chrGFP_WTB       chrGFP_WTC       chrGFP_rs1 \n",
       "              47              120               75              149 \n",
       "      chrGFP_rs2       chrGFP_rs3    chrGFP_R882H1    chrGFP_R882H2 \n",
       "              30              138              105               51 \n",
       "   chrGFP_R882H3 chrGFP_rs_R882H1 chrGFP_rs_R882H2 chrGFP_rs_R882H3 \n",
       "              86               96               45               88 \n",
       "         Doublet         Negative \n",
       "           31905             2285 "
      ]
     },
     "metadata": {},
     "output_type": "display_data"
    }
   ],
   "source": [
    "summary(adata@meta.data$Assigned_GFPbc_demux_CellBender)"
   ]
  },
  {
   "cell_type": "markdown",
   "id": "461d4c6b-64bb-4460-ae31-0e1b3ddf0f41",
   "metadata": {
    "editable": true,
    "slideshow": {
     "slide_type": ""
    },
    "tags": []
   },
   "source": [
    "### Save this assignation"
   ]
  },
  {
   "cell_type": "code",
   "execution_count": 243,
   "id": "5dea4b71-858f-4798-9bad-767ea5860886",
   "metadata": {
    "execution": {
     "iopub.execute_input": "2025-10-14T10:46:04.790967Z",
     "iopub.status.busy": "2025-10-14T10:46:04.789999Z",
     "iopub.status.idle": "2025-10-14T10:46:04.803356Z",
     "shell.execute_reply": "2025-10-14T10:46:04.802205Z"
    }
   },
   "outputs": [
    {
     "data": {
      "text/html": [
       "<style>\n",
       ".list-inline {list-style: none; margin:0; padding: 0}\n",
       ".list-inline>li {display: inline-block}\n",
       ".list-inline>li:not(:last-child)::after {content: \"\\00b7\"; padding: 0 .5ex}\n",
       "</style>\n",
       "<ol class=list-inline><li>'orig.ident'</li><li>'nCount_RNA'</li><li>'nFeature_RNA'</li><li>'nCount_HTO_CellBender'</li><li>'nFeature_HTO_CellBender'</li><li>'HTO_CellBender_maxID'</li><li>'HTO_CellBender_secondID'</li><li>'HTO_CellBender_margin'</li><li>'HTO_CellBender_classification'</li><li>'HTO_CellBender_classification.global'</li><li>'hash.ID'</li></ol>\n"
      ],
      "text/latex": [
       "\\begin{enumerate*}\n",
       "\\item 'orig.ident'\n",
       "\\item 'nCount\\_RNA'\n",
       "\\item 'nFeature\\_RNA'\n",
       "\\item 'nCount\\_HTO\\_CellBender'\n",
       "\\item 'nFeature\\_HTO\\_CellBender'\n",
       "\\item 'HTO\\_CellBender\\_maxID'\n",
       "\\item 'HTO\\_CellBender\\_secondID'\n",
       "\\item 'HTO\\_CellBender\\_margin'\n",
       "\\item 'HTO\\_CellBender\\_classification'\n",
       "\\item 'HTO\\_CellBender\\_classification.global'\n",
       "\\item 'hash.ID'\n",
       "\\end{enumerate*}\n"
      ],
      "text/markdown": [
       "1. 'orig.ident'\n",
       "2. 'nCount_RNA'\n",
       "3. 'nFeature_RNA'\n",
       "4. 'nCount_HTO_CellBender'\n",
       "5. 'nFeature_HTO_CellBender'\n",
       "6. 'HTO_CellBender_maxID'\n",
       "7. 'HTO_CellBender_secondID'\n",
       "8. 'HTO_CellBender_margin'\n",
       "9. 'HTO_CellBender_classification'\n",
       "10. 'HTO_CellBender_classification.global'\n",
       "11. 'hash.ID'\n",
       "\n",
       "\n"
      ],
      "text/plain": [
       " [1] \"orig.ident\"                          \n",
       " [2] \"nCount_RNA\"                          \n",
       " [3] \"nFeature_RNA\"                        \n",
       " [4] \"nCount_HTO_CellBender\"               \n",
       " [5] \"nFeature_HTO_CellBender\"             \n",
       " [6] \"HTO_CellBender_maxID\"                \n",
       " [7] \"HTO_CellBender_secondID\"             \n",
       " [8] \"HTO_CellBender_margin\"               \n",
       " [9] \"HTO_CellBender_classification\"       \n",
       "[10] \"HTO_CellBender_classification.global\"\n",
       "[11] \"hash.ID\"                             "
      ]
     },
     "metadata": {},
     "output_type": "display_data"
    },
    {
     "name": "stdout",
     "output_type": "stream",
     "text": [
      " chr [1:35216] \"MCO_01373_3GEX_AAACCAAAGTAGACTT-1\" ...\n"
     ]
    }
   ],
   "source": [
    "colnames(merged_CellBender_restricted@meta.data)\n",
    "\n",
    "\n",
    "str(row.names(merged_CellBender_restricted@meta.data))"
   ]
  },
  {
   "cell_type": "code",
   "execution_count": 244,
   "id": "04b56835-fb27-4fdf-aacf-cb9a92ecf024",
   "metadata": {
    "editable": true,
    "execution": {
     "iopub.execute_input": "2025-10-14T10:46:04.806151Z",
     "iopub.status.busy": "2025-10-14T10:46:04.805178Z",
     "iopub.status.idle": "2025-10-14T10:46:04.813197Z",
     "shell.execute_reply": "2025-10-14T10:46:04.812062Z"
    },
    "slideshow": {
     "slide_type": ""
    },
    "tags": []
   },
   "outputs": [],
   "source": [
    "path_save<-\"/scratch/manuel.tardaguila/hESC_MK_SCRNAseq_10X/no_competition/targeted_amplicon_GEX/processing_outputs/\""
   ]
  },
  {
   "cell_type": "code",
   "execution_count": 245,
   "id": "a93e8360-93f7-446b-b06b-e8d65aea6551",
   "metadata": {
    "execution": {
     "iopub.execute_input": "2025-10-14T10:46:04.816012Z",
     "iopub.status.busy": "2025-10-14T10:46:04.815001Z",
     "iopub.status.idle": "2025-10-14T10:46:05.079944Z",
     "shell.execute_reply": "2025-10-14T10:46:05.078754Z"
    }
   },
   "outputs": [],
   "source": [
    "setwd(path_save)\n",
    "\n",
    "write.csv(merged_CellBender_restricted@meta.data,\"CellBender_Barcodes_demux_assignation.csv\")"
   ]
  },
  {
   "cell_type": "markdown",
   "id": "ff26067d-5053-4e78-86c5-5092e33c1070",
   "metadata": {},
   "source": [
    "# Add genotyping from GEX not amplified alignment"
   ]
  },
  {
   "cell_type": "markdown",
   "id": "da96ce9c-073b-4e99-93b2-c5bfe5bebe6e",
   "metadata": {},
   "source": [
    "## Diff1"
   ]
  },
  {
   "cell_type": "code",
   "execution_count": 246,
   "id": "504a5966-212a-447e-83b2-91216f95a7e6",
   "metadata": {
    "execution": {
     "iopub.execute_input": "2025-10-14T10:46:05.082736Z",
     "iopub.status.busy": "2025-10-14T10:46:05.081749Z",
     "iopub.status.idle": "2025-10-14T10:46:05.136764Z",
     "shell.execute_reply": "2025-10-14T10:46:05.135611Z"
    }
   },
   "outputs": [
    {
     "name": "stdout",
     "output_type": "stream",
     "text": [
      "'data.frame':\t37306 obs. of  5 variables:\n",
      " $ sample           : Ord.factor w/ 2 levels \"MCO_01373_3GEX\"<..: 1 1 1 1 1 1 1 1 1 1 ...\n",
      " $ CellBC           : chr  \"CB:Z:AAACCATTCGCTGGCA-1\" \"CB:Z:AAACCGCTCTCATGTC-1\" \"CB:Z:AAACGACAGTTGGGCT-1\" \"CB:Z:AAACGCCTCGCGATTA-1\" ...\n",
      " $ GFPbc            : Ord.factor w/ 13 levels \"chrGFP_WTA\"<\"chrGFP_WTB\"<..: 1 1 1 1 1 1 1 1 1 1 ...\n",
      " $ GFPbc_attribution: int  1 1 1 1 1 1 1 1 1 1 ...\n",
      " $ Number_of_UMIS   : int  6 32 12 30 28 33 33 28 37 4 ...\n"
     ]
    }
   ],
   "source": [
    "diff1<-readRDS(file=\"/group/soranzo/manuel.tardaguila/2025_hESC_MK_SCRNAseq_10X/no_competition/count_and_filter/Uniquely_genotyped_and_filtered_larry_barcodes_assignments.rds\")\n",
    "\n",
    "str(diff1)"
   ]
  },
  {
   "cell_type": "code",
   "execution_count": 247,
   "id": "2086e231-838f-4673-83fc-f68d30f3aaa6",
   "metadata": {
    "execution": {
     "iopub.execute_input": "2025-10-14T10:46:05.139562Z",
     "iopub.status.busy": "2025-10-14T10:46:05.138577Z",
     "iopub.status.idle": "2025-10-14T10:46:05.151832Z",
     "shell.execute_reply": "2025-10-14T10:46:05.150681Z"
    }
   },
   "outputs": [
    {
     "name": "stdout",
     "output_type": "stream",
     "text": [
      "'data.frame':\t37306 obs. of  5 variables:\n",
      " $ sample           : Ord.factor w/ 2 levels \"MCO_01373_3GEX\"<..: 1 1 1 1 1 1 1 1 1 1 ...\n",
      " $ CellBC           : chr  \"CB:Z:AAACCATTCGCTGGCA-1\" \"CB:Z:AAACCGCTCTCATGTC-1\" \"CB:Z:AAACGACAGTTGGGCT-1\" \"CB:Z:AAACGCCTCGCGATTA-1\" ...\n",
      " $ GFPbc            : Ord.factor w/ 13 levels \"chrGFP_WTA\"<\"chrGFP_WTB\"<..: 1 1 1 1 1 1 1 1 1 1 ...\n",
      " $ GFPbc_attribution: int  1 1 1 1 1 1 1 1 1 1 ...\n",
      " $ Number_of_UMIS   : int  6 32 12 30 28 33 33 28 37 4 ...\n"
     ]
    }
   ],
   "source": [
    "df<-diff1\n",
    "\n",
    "\n",
    "str(df)"
   ]
  },
  {
   "cell_type": "code",
   "execution_count": 248,
   "id": "2dc256a0-3109-4974-8038-171d7327707e",
   "metadata": {
    "execution": {
     "iopub.execute_input": "2025-10-14T10:46:05.154593Z",
     "iopub.status.busy": "2025-10-14T10:46:05.153612Z",
     "iopub.status.idle": "2025-10-14T10:46:05.220599Z",
     "shell.execute_reply": "2025-10-14T10:46:05.219405Z"
    }
   },
   "outputs": [
    {
     "name": "stdout",
     "output_type": "stream",
     "text": [
      "'data.frame':\t37306 obs. of  6 variables:\n",
      " $ sample           : Ord.factor w/ 2 levels \"MCO_01373_3GEX\"<..: 1 1 1 1 1 1 1 1 1 1 ...\n",
      " $ CellBC           : chr  \"CB:Z:AAACCATTCGCTGGCA-1\" \"CB:Z:AAACCGCTCTCATGTC-1\" \"CB:Z:AAACGACAGTTGGGCT-1\" \"CB:Z:AAACGCCTCGCGATTA-1\" ...\n",
      " $ GFPbc            : Ord.factor w/ 13 levels \"chrGFP_WTA\"<\"chrGFP_WTB\"<..: 1 1 1 1 1 1 1 1 1 1 ...\n",
      " $ GFPbc_attribution: int  1 1 1 1 1 1 1 1 1 1 ...\n",
      " $ Number_of_UMIS   : int  6 32 12 30 28 33 33 28 37 4 ...\n",
      " $ CellID           : chr  \"MCO_01373_3GEX_AAACCATTCGCTGGCA-1\" \"MCO_01373_3GEX_AAACCGCTCTCATGTC-1\" \"MCO_01373_3GEX_AAACGACAGTTGGGCT-1\" \"MCO_01373_3GEX_AAACGCCTCGCGATTA-1\" ...\n"
     ]
    }
   ],
   "source": [
    "# desired format MCO_01373_3GEX_AAACAGCCACAGCCAT-1\n",
    "\n",
    "df$CellID<-paste(df$sample,gsub(\"^[^:]+:[^:]+:\",\"\", df$CellBC),sep=\"_\")\n",
    "\n",
    "str(df)\n"
   ]
  },
  {
   "cell_type": "markdown",
   "id": "19728346-4c3f-4f24-973f-ca6b1ad08dfb",
   "metadata": {},
   "source": [
    "## Filter to 3 UMIs"
   ]
  },
  {
   "cell_type": "code",
   "execution_count": 249,
   "id": "12f792c6-2bc3-4eee-a70a-489b2631cc0a",
   "metadata": {
    "execution": {
     "iopub.execute_input": "2025-10-14T10:46:05.223415Z",
     "iopub.status.busy": "2025-10-14T10:46:05.222429Z",
     "iopub.status.idle": "2025-10-14T10:46:05.241971Z",
     "shell.execute_reply": "2025-10-14T10:46:05.240821Z"
    }
   },
   "outputs": [
    {
     "name": "stdout",
     "output_type": "stream",
     "text": [
      "'data.frame':\t37306 obs. of  6 variables:\n",
      " $ sample           : Ord.factor w/ 2 levels \"MCO_01373_3GEX\"<..: 1 1 1 1 1 1 1 1 1 1 ...\n",
      " $ CellBC           : chr  \"CB:Z:AAACCATTCGCTGGCA-1\" \"CB:Z:AAACCGCTCTCATGTC-1\" \"CB:Z:AAACGACAGTTGGGCT-1\" \"CB:Z:AAACGCCTCGCGATTA-1\" ...\n",
      " $ GFPbc            : Ord.factor w/ 13 levels \"chrGFP_WTA\"<\"chrGFP_WTB\"<..: 1 1 1 1 1 1 1 1 1 1 ...\n",
      " $ GFPbc_attribution: int  1 1 1 1 1 1 1 1 1 1 ...\n",
      " $ Number_of_UMIS   : int  6 32 12 30 28 33 33 28 37 4 ...\n",
      " $ CellID           : chr  \"MCO_01373_3GEX_AAACCATTCGCTGGCA-1\" \"MCO_01373_3GEX_AAACCGCTCTCATGTC-1\" \"MCO_01373_3GEX_AAACGACAGTTGGGCT-1\" \"MCO_01373_3GEX_AAACGCCTCGCGATTA-1\" ...\n"
     ]
    }
   ],
   "source": [
    "df_thresholded<-df[which(df$Number_of_UMIS >= 3 & df$GFPbc_attribution == 1),]\n",
    "\n",
    "str(df_thresholded)"
   ]
  },
  {
   "cell_type": "code",
   "execution_count": 250,
   "id": "f885e53f-9b70-4a2e-8537-15abb85e7255",
   "metadata": {
    "execution": {
     "iopub.execute_input": "2025-10-14T10:46:05.244766Z",
     "iopub.status.busy": "2025-10-14T10:46:05.243780Z",
     "iopub.status.idle": "2025-10-14T10:46:05.253045Z",
     "shell.execute_reply": "2025-10-14T10:46:05.251899Z"
    }
   },
   "outputs": [],
   "source": [
    "row.names(df_thresholded)<-df_thresholded$CellID"
   ]
  },
  {
   "cell_type": "code",
   "execution_count": 251,
   "id": "8ad9465e-e0e9-4fe4-b05f-b1ce1832b8dd",
   "metadata": {
    "execution": {
     "iopub.execute_input": "2025-10-14T10:46:05.255815Z",
     "iopub.status.busy": "2025-10-14T10:46:05.254836Z",
     "iopub.status.idle": "2025-10-14T10:46:05.268007Z",
     "shell.execute_reply": "2025-10-14T10:46:05.266885Z"
    }
   },
   "outputs": [
    {
     "data": {
      "text/html": [
       "37306"
      ],
      "text/latex": [
       "37306"
      ],
      "text/markdown": [
       "37306"
      ],
      "text/plain": [
       "[1] 37306"
      ]
     },
     "metadata": {},
     "output_type": "display_data"
    },
    {
     "name": "stdout",
     "output_type": "stream",
     "text": [
      " chr [1:37306] \"MCO_01373_3GEX_AAACCATTCGCTGGCA-1\" ...\n"
     ]
    }
   ],
   "source": [
    "dim(df_thresholded)[1]\n",
    "\n",
    "str(row.names(df_thresholded))"
   ]
  },
  {
   "cell_type": "code",
   "execution_count": 252,
   "id": "e17fe371-d0a9-4db0-a2a6-815259059b36",
   "metadata": {
    "execution": {
     "iopub.execute_input": "2025-10-14T10:46:05.270795Z",
     "iopub.status.busy": "2025-10-14T10:46:05.269799Z",
     "iopub.status.idle": "2025-10-14T10:46:05.281238Z",
     "shell.execute_reply": "2025-10-14T10:46:05.280049Z"
    }
   },
   "outputs": [
    {
     "data": {
      "text/html": [
       "<style>\n",
       ".dl-inline {width: auto; margin:0; padding: 0}\n",
       ".dl-inline>dt, .dl-inline>dd {float: none; width: auto; display: inline-block}\n",
       ".dl-inline>dt::after {content: \":\\0020\"; padding-right: .5ex}\n",
       ".dl-inline>dt:not(:first-of-type) {padding-left: .5ex}\n",
       "</style><dl class=dl-inline><dt>chrGFP_WTA</dt><dd>1561</dd><dt>chrGFP_WTB</dt><dd>4545</dd><dt>chrGFP_WTC</dt><dd>2292</dd><dt>chrGFP_rs1</dt><dd>3510</dd><dt>chrGFP_rs2</dt><dd>418</dd><dt>chrGFP_rs3</dt><dd>5635</dd><dt>chrGFP_R882H1</dt><dd>5862</dd><dt>chrGFP_R882H2</dt><dd>365</dd><dt>chrGFP_R882H3</dt><dd>3225</dd><dt>chrGFP_rs_R882H1</dt><dd>4116</dd><dt>chrGFP_rs_R882H2</dt><dd>478</dd><dt>chrGFP_rs_R882H3</dt><dd>5022</dd><dt>No_GFPbcs</dt><dd>277</dd></dl>\n"
      ],
      "text/latex": [
       "\\begin{description*}\n",
       "\\item[chrGFP\\textbackslash{}\\_WTA] 1561\n",
       "\\item[chrGFP\\textbackslash{}\\_WTB] 4545\n",
       "\\item[chrGFP\\textbackslash{}\\_WTC] 2292\n",
       "\\item[chrGFP\\textbackslash{}\\_rs1] 3510\n",
       "\\item[chrGFP\\textbackslash{}\\_rs2] 418\n",
       "\\item[chrGFP\\textbackslash{}\\_rs3] 5635\n",
       "\\item[chrGFP\\textbackslash{}\\_R882H1] 5862\n",
       "\\item[chrGFP\\textbackslash{}\\_R882H2] 365\n",
       "\\item[chrGFP\\textbackslash{}\\_R882H3] 3225\n",
       "\\item[chrGFP\\textbackslash{}\\_rs\\textbackslash{}\\_R882H1] 4116\n",
       "\\item[chrGFP\\textbackslash{}\\_rs\\textbackslash{}\\_R882H2] 478\n",
       "\\item[chrGFP\\textbackslash{}\\_rs\\textbackslash{}\\_R882H3] 5022\n",
       "\\item[No\\textbackslash{}\\_GFPbcs] 277\n",
       "\\end{description*}\n"
      ],
      "text/markdown": [
       "chrGFP_WTA\n",
       ":   1561chrGFP_WTB\n",
       ":   4545chrGFP_WTC\n",
       ":   2292chrGFP_rs1\n",
       ":   3510chrGFP_rs2\n",
       ":   418chrGFP_rs3\n",
       ":   5635chrGFP_R882H1\n",
       ":   5862chrGFP_R882H2\n",
       ":   365chrGFP_R882H3\n",
       ":   3225chrGFP_rs_R882H1\n",
       ":   4116chrGFP_rs_R882H2\n",
       ":   478chrGFP_rs_R882H3\n",
       ":   5022No_GFPbcs\n",
       ":   277\n",
       "\n"
      ],
      "text/plain": [
       "      chrGFP_WTA       chrGFP_WTB       chrGFP_WTC       chrGFP_rs1 \n",
       "            1561             4545             2292             3510 \n",
       "      chrGFP_rs2       chrGFP_rs3    chrGFP_R882H1    chrGFP_R882H2 \n",
       "             418             5635             5862              365 \n",
       "   chrGFP_R882H3 chrGFP_rs_R882H1 chrGFP_rs_R882H2 chrGFP_rs_R882H3 \n",
       "            3225             4116              478             5022 \n",
       "       No_GFPbcs \n",
       "             277 "
      ]
     },
     "metadata": {},
     "output_type": "display_data"
    }
   ],
   "source": [
    "summary(as.factor(df_thresholded$GFPbc))"
   ]
  },
  {
   "cell_type": "markdown",
   "id": "fcdacdbb-974f-4b89-89f3-afc021d87425",
   "metadata": {},
   "source": [
    "## Add df_thresholded$GFPbc to adata"
   ]
  },
  {
   "cell_type": "code",
   "execution_count": 253,
   "id": "d5d1b6f0-5d31-458f-b010-c21d7fa12e67",
   "metadata": {
    "execution": {
     "iopub.execute_input": "2025-10-14T10:46:05.284011Z",
     "iopub.status.busy": "2025-10-14T10:46:05.283019Z",
     "iopub.status.idle": "2025-10-14T10:46:05.293574Z",
     "shell.execute_reply": "2025-10-14T10:46:05.292442Z"
    }
   },
   "outputs": [
    {
     "data": {
      "text/html": [
       "<style>\n",
       ".list-inline {list-style: none; margin:0; padding: 0}\n",
       ".list-inline>li {display: inline-block}\n",
       ".list-inline>li:not(:last-child)::after {content: \"\\00b7\"; padding: 0 .5ex}\n",
       "</style>\n",
       "<ol class=list-inline><li>'orig.ident'</li><li>'nCount_RNA'</li><li>'nFeature_RNA'</li><li>'nCount_RNA_raw'</li><li>'nFeature_RNA_raw'</li><li>'percent.mt'</li><li>'scDblFinder.class'</li><li>'scDblFinder.score'</li><li>'scDblFinder.weighted'</li><li>'scDblFinder.cxds_score'</li><li>'Diff'</li><li>'nCount_SCT'</li><li>'nFeature_SCT'</li><li>'SCT_snn_res.2'</li><li>'seurat_clusters'</li><li>'SCT_snn_res.0.5'</li><li>'CellTypist_label_Alsinet'</li><li>'CellTypist_conf_score_Alsinet'</li><li>'CellTypist_label_FBMA'</li><li>'CellTypist_conf_score_FBMA'</li><li>'CellTypist_label_Immune_ALL_low'</li><li>'CellTypist_conf_score_Immune_ALL_low'</li><li>'Integrated_annotation'</li><li>'integrated_nn_res.0.5'</li><li>'Subclusters_2'</li><li>'Subclusters_5'</li><li>'Subclusters_7'</li><li>'Subclusters_9'</li><li>'Subclusters_10'</li><li>'Subclusters_11'</li><li>'Subclusters_13'</li><li>'my_own_clusters'</li><li>'Integrated_annotation_after_rpca'</li><li>'Assigned_GFPbc'</li><li>'Assignation_demux_NO_CellBender'</li><li>'Assigned_GFPbc_demux__NO_CellBender'</li><li>'Assignation_demux_CellBender'</li><li>'Assigned_GFPbc_demux_CellBender'</li></ol>\n"
      ],
      "text/latex": [
       "\\begin{enumerate*}\n",
       "\\item 'orig.ident'\n",
       "\\item 'nCount\\_RNA'\n",
       "\\item 'nFeature\\_RNA'\n",
       "\\item 'nCount\\_RNA\\_raw'\n",
       "\\item 'nFeature\\_RNA\\_raw'\n",
       "\\item 'percent.mt'\n",
       "\\item 'scDblFinder.class'\n",
       "\\item 'scDblFinder.score'\n",
       "\\item 'scDblFinder.weighted'\n",
       "\\item 'scDblFinder.cxds\\_score'\n",
       "\\item 'Diff'\n",
       "\\item 'nCount\\_SCT'\n",
       "\\item 'nFeature\\_SCT'\n",
       "\\item 'SCT\\_snn\\_res.2'\n",
       "\\item 'seurat\\_clusters'\n",
       "\\item 'SCT\\_snn\\_res.0.5'\n",
       "\\item 'CellTypist\\_label\\_Alsinet'\n",
       "\\item 'CellTypist\\_conf\\_score\\_Alsinet'\n",
       "\\item 'CellTypist\\_label\\_FBMA'\n",
       "\\item 'CellTypist\\_conf\\_score\\_FBMA'\n",
       "\\item 'CellTypist\\_label\\_Immune\\_ALL\\_low'\n",
       "\\item 'CellTypist\\_conf\\_score\\_Immune\\_ALL\\_low'\n",
       "\\item 'Integrated\\_annotation'\n",
       "\\item 'integrated\\_nn\\_res.0.5'\n",
       "\\item 'Subclusters\\_2'\n",
       "\\item 'Subclusters\\_5'\n",
       "\\item 'Subclusters\\_7'\n",
       "\\item 'Subclusters\\_9'\n",
       "\\item 'Subclusters\\_10'\n",
       "\\item 'Subclusters\\_11'\n",
       "\\item 'Subclusters\\_13'\n",
       "\\item 'my\\_own\\_clusters'\n",
       "\\item 'Integrated\\_annotation\\_after\\_rpca'\n",
       "\\item 'Assigned\\_GFPbc'\n",
       "\\item 'Assignation\\_demux\\_NO\\_CellBender'\n",
       "\\item 'Assigned\\_GFPbc\\_demux\\_\\_NO\\_CellBender'\n",
       "\\item 'Assignation\\_demux\\_CellBender'\n",
       "\\item 'Assigned\\_GFPbc\\_demux\\_CellBender'\n",
       "\\end{enumerate*}\n"
      ],
      "text/markdown": [
       "1. 'orig.ident'\n",
       "2. 'nCount_RNA'\n",
       "3. 'nFeature_RNA'\n",
       "4. 'nCount_RNA_raw'\n",
       "5. 'nFeature_RNA_raw'\n",
       "6. 'percent.mt'\n",
       "7. 'scDblFinder.class'\n",
       "8. 'scDblFinder.score'\n",
       "9. 'scDblFinder.weighted'\n",
       "10. 'scDblFinder.cxds_score'\n",
       "11. 'Diff'\n",
       "12. 'nCount_SCT'\n",
       "13. 'nFeature_SCT'\n",
       "14. 'SCT_snn_res.2'\n",
       "15. 'seurat_clusters'\n",
       "16. 'SCT_snn_res.0.5'\n",
       "17. 'CellTypist_label_Alsinet'\n",
       "18. 'CellTypist_conf_score_Alsinet'\n",
       "19. 'CellTypist_label_FBMA'\n",
       "20. 'CellTypist_conf_score_FBMA'\n",
       "21. 'CellTypist_label_Immune_ALL_low'\n",
       "22. 'CellTypist_conf_score_Immune_ALL_low'\n",
       "23. 'Integrated_annotation'\n",
       "24. 'integrated_nn_res.0.5'\n",
       "25. 'Subclusters_2'\n",
       "26. 'Subclusters_5'\n",
       "27. 'Subclusters_7'\n",
       "28. 'Subclusters_9'\n",
       "29. 'Subclusters_10'\n",
       "30. 'Subclusters_11'\n",
       "31. 'Subclusters_13'\n",
       "32. 'my_own_clusters'\n",
       "33. 'Integrated_annotation_after_rpca'\n",
       "34. 'Assigned_GFPbc'\n",
       "35. 'Assignation_demux_NO_CellBender'\n",
       "36. 'Assigned_GFPbc_demux__NO_CellBender'\n",
       "37. 'Assignation_demux_CellBender'\n",
       "38. 'Assigned_GFPbc_demux_CellBender'\n",
       "\n",
       "\n"
      ],
      "text/plain": [
       " [1] \"orig.ident\"                          \n",
       " [2] \"nCount_RNA\"                          \n",
       " [3] \"nFeature_RNA\"                        \n",
       " [4] \"nCount_RNA_raw\"                      \n",
       " [5] \"nFeature_RNA_raw\"                    \n",
       " [6] \"percent.mt\"                          \n",
       " [7] \"scDblFinder.class\"                   \n",
       " [8] \"scDblFinder.score\"                   \n",
       " [9] \"scDblFinder.weighted\"                \n",
       "[10] \"scDblFinder.cxds_score\"              \n",
       "[11] \"Diff\"                                \n",
       "[12] \"nCount_SCT\"                          \n",
       "[13] \"nFeature_SCT\"                        \n",
       "[14] \"SCT_snn_res.2\"                       \n",
       "[15] \"seurat_clusters\"                     \n",
       "[16] \"SCT_snn_res.0.5\"                     \n",
       "[17] \"CellTypist_label_Alsinet\"            \n",
       "[18] \"CellTypist_conf_score_Alsinet\"       \n",
       "[19] \"CellTypist_label_FBMA\"               \n",
       "[20] \"CellTypist_conf_score_FBMA\"          \n",
       "[21] \"CellTypist_label_Immune_ALL_low\"     \n",
       "[22] \"CellTypist_conf_score_Immune_ALL_low\"\n",
       "[23] \"Integrated_annotation\"               \n",
       "[24] \"integrated_nn_res.0.5\"               \n",
       "[25] \"Subclusters_2\"                       \n",
       "[26] \"Subclusters_5\"                       \n",
       "[27] \"Subclusters_7\"                       \n",
       "[28] \"Subclusters_9\"                       \n",
       "[29] \"Subclusters_10\"                      \n",
       "[30] \"Subclusters_11\"                      \n",
       "[31] \"Subclusters_13\"                      \n",
       "[32] \"my_own_clusters\"                     \n",
       "[33] \"Integrated_annotation_after_rpca\"    \n",
       "[34] \"Assigned_GFPbc\"                      \n",
       "[35] \"Assignation_demux_NO_CellBender\"     \n",
       "[36] \"Assigned_GFPbc_demux__NO_CellBender\" \n",
       "[37] \"Assignation_demux_CellBender\"        \n",
       "[38] \"Assigned_GFPbc_demux_CellBender\"     "
      ]
     },
     "metadata": {},
     "output_type": "display_data"
    }
   ],
   "source": [
    "colnames(adata@meta.data)"
   ]
  },
  {
   "cell_type": "code",
   "execution_count": 254,
   "id": "afdbd880-f1f7-4b32-b1d1-eb0d7fd4d789",
   "metadata": {
    "execution": {
     "iopub.execute_input": "2025-10-14T10:46:05.296339Z",
     "iopub.status.busy": "2025-10-14T10:46:05.295358Z",
     "iopub.status.idle": "2025-10-14T10:46:05.303922Z",
     "shell.execute_reply": "2025-10-14T10:46:05.302788Z"
    }
   },
   "outputs": [],
   "source": [
    "# Remove the specified column from the metadata\n",
    "adata@meta.data <- adata@meta.data[, !names(adata@meta.data) %in% c('No_assigned_GFPbc','Assigned_GFPbc','Assigned_GFPgenotype','Assignation_GEX_not_amplified')]"
   ]
  },
  {
   "cell_type": "code",
   "execution_count": 255,
   "id": "10238818-b2a2-468a-9ff6-6709f30feb56",
   "metadata": {
    "execution": {
     "iopub.execute_input": "2025-10-14T10:46:05.306693Z",
     "iopub.status.busy": "2025-10-14T10:46:05.305705Z",
     "iopub.status.idle": "2025-10-14T10:46:05.316121Z",
     "shell.execute_reply": "2025-10-14T10:46:05.314994Z"
    }
   },
   "outputs": [
    {
     "data": {
      "text/html": [
       "<style>\n",
       ".list-inline {list-style: none; margin:0; padding: 0}\n",
       ".list-inline>li {display: inline-block}\n",
       ".list-inline>li:not(:last-child)::after {content: \"\\00b7\"; padding: 0 .5ex}\n",
       "</style>\n",
       "<ol class=list-inline><li>'orig.ident'</li><li>'nCount_RNA'</li><li>'nFeature_RNA'</li><li>'nCount_RNA_raw'</li><li>'nFeature_RNA_raw'</li><li>'percent.mt'</li><li>'scDblFinder.class'</li><li>'scDblFinder.score'</li><li>'scDblFinder.weighted'</li><li>'scDblFinder.cxds_score'</li><li>'Diff'</li><li>'nCount_SCT'</li><li>'nFeature_SCT'</li><li>'SCT_snn_res.2'</li><li>'seurat_clusters'</li><li>'SCT_snn_res.0.5'</li><li>'CellTypist_label_Alsinet'</li><li>'CellTypist_conf_score_Alsinet'</li><li>'CellTypist_label_FBMA'</li><li>'CellTypist_conf_score_FBMA'</li><li>'CellTypist_label_Immune_ALL_low'</li><li>'CellTypist_conf_score_Immune_ALL_low'</li><li>'Integrated_annotation'</li><li>'integrated_nn_res.0.5'</li><li>'Subclusters_2'</li><li>'Subclusters_5'</li><li>'Subclusters_7'</li><li>'Subclusters_9'</li><li>'Subclusters_10'</li><li>'Subclusters_11'</li><li>'Subclusters_13'</li><li>'my_own_clusters'</li><li>'Integrated_annotation_after_rpca'</li><li>'Assignation_demux_NO_CellBender'</li><li>'Assigned_GFPbc_demux__NO_CellBender'</li><li>'Assignation_demux_CellBender'</li><li>'Assigned_GFPbc_demux_CellBender'</li></ol>\n"
      ],
      "text/latex": [
       "\\begin{enumerate*}\n",
       "\\item 'orig.ident'\n",
       "\\item 'nCount\\_RNA'\n",
       "\\item 'nFeature\\_RNA'\n",
       "\\item 'nCount\\_RNA\\_raw'\n",
       "\\item 'nFeature\\_RNA\\_raw'\n",
       "\\item 'percent.mt'\n",
       "\\item 'scDblFinder.class'\n",
       "\\item 'scDblFinder.score'\n",
       "\\item 'scDblFinder.weighted'\n",
       "\\item 'scDblFinder.cxds\\_score'\n",
       "\\item 'Diff'\n",
       "\\item 'nCount\\_SCT'\n",
       "\\item 'nFeature\\_SCT'\n",
       "\\item 'SCT\\_snn\\_res.2'\n",
       "\\item 'seurat\\_clusters'\n",
       "\\item 'SCT\\_snn\\_res.0.5'\n",
       "\\item 'CellTypist\\_label\\_Alsinet'\n",
       "\\item 'CellTypist\\_conf\\_score\\_Alsinet'\n",
       "\\item 'CellTypist\\_label\\_FBMA'\n",
       "\\item 'CellTypist\\_conf\\_score\\_FBMA'\n",
       "\\item 'CellTypist\\_label\\_Immune\\_ALL\\_low'\n",
       "\\item 'CellTypist\\_conf\\_score\\_Immune\\_ALL\\_low'\n",
       "\\item 'Integrated\\_annotation'\n",
       "\\item 'integrated\\_nn\\_res.0.5'\n",
       "\\item 'Subclusters\\_2'\n",
       "\\item 'Subclusters\\_5'\n",
       "\\item 'Subclusters\\_7'\n",
       "\\item 'Subclusters\\_9'\n",
       "\\item 'Subclusters\\_10'\n",
       "\\item 'Subclusters\\_11'\n",
       "\\item 'Subclusters\\_13'\n",
       "\\item 'my\\_own\\_clusters'\n",
       "\\item 'Integrated\\_annotation\\_after\\_rpca'\n",
       "\\item 'Assignation\\_demux\\_NO\\_CellBender'\n",
       "\\item 'Assigned\\_GFPbc\\_demux\\_\\_NO\\_CellBender'\n",
       "\\item 'Assignation\\_demux\\_CellBender'\n",
       "\\item 'Assigned\\_GFPbc\\_demux\\_CellBender'\n",
       "\\end{enumerate*}\n"
      ],
      "text/markdown": [
       "1. 'orig.ident'\n",
       "2. 'nCount_RNA'\n",
       "3. 'nFeature_RNA'\n",
       "4. 'nCount_RNA_raw'\n",
       "5. 'nFeature_RNA_raw'\n",
       "6. 'percent.mt'\n",
       "7. 'scDblFinder.class'\n",
       "8. 'scDblFinder.score'\n",
       "9. 'scDblFinder.weighted'\n",
       "10. 'scDblFinder.cxds_score'\n",
       "11. 'Diff'\n",
       "12. 'nCount_SCT'\n",
       "13. 'nFeature_SCT'\n",
       "14. 'SCT_snn_res.2'\n",
       "15. 'seurat_clusters'\n",
       "16. 'SCT_snn_res.0.5'\n",
       "17. 'CellTypist_label_Alsinet'\n",
       "18. 'CellTypist_conf_score_Alsinet'\n",
       "19. 'CellTypist_label_FBMA'\n",
       "20. 'CellTypist_conf_score_FBMA'\n",
       "21. 'CellTypist_label_Immune_ALL_low'\n",
       "22. 'CellTypist_conf_score_Immune_ALL_low'\n",
       "23. 'Integrated_annotation'\n",
       "24. 'integrated_nn_res.0.5'\n",
       "25. 'Subclusters_2'\n",
       "26. 'Subclusters_5'\n",
       "27. 'Subclusters_7'\n",
       "28. 'Subclusters_9'\n",
       "29. 'Subclusters_10'\n",
       "30. 'Subclusters_11'\n",
       "31. 'Subclusters_13'\n",
       "32. 'my_own_clusters'\n",
       "33. 'Integrated_annotation_after_rpca'\n",
       "34. 'Assignation_demux_NO_CellBender'\n",
       "35. 'Assigned_GFPbc_demux__NO_CellBender'\n",
       "36. 'Assignation_demux_CellBender'\n",
       "37. 'Assigned_GFPbc_demux_CellBender'\n",
       "\n",
       "\n"
      ],
      "text/plain": [
       " [1] \"orig.ident\"                          \n",
       " [2] \"nCount_RNA\"                          \n",
       " [3] \"nFeature_RNA\"                        \n",
       " [4] \"nCount_RNA_raw\"                      \n",
       " [5] \"nFeature_RNA_raw\"                    \n",
       " [6] \"percent.mt\"                          \n",
       " [7] \"scDblFinder.class\"                   \n",
       " [8] \"scDblFinder.score\"                   \n",
       " [9] \"scDblFinder.weighted\"                \n",
       "[10] \"scDblFinder.cxds_score\"              \n",
       "[11] \"Diff\"                                \n",
       "[12] \"nCount_SCT\"                          \n",
       "[13] \"nFeature_SCT\"                        \n",
       "[14] \"SCT_snn_res.2\"                       \n",
       "[15] \"seurat_clusters\"                     \n",
       "[16] \"SCT_snn_res.0.5\"                     \n",
       "[17] \"CellTypist_label_Alsinet\"            \n",
       "[18] \"CellTypist_conf_score_Alsinet\"       \n",
       "[19] \"CellTypist_label_FBMA\"               \n",
       "[20] \"CellTypist_conf_score_FBMA\"          \n",
       "[21] \"CellTypist_label_Immune_ALL_low\"     \n",
       "[22] \"CellTypist_conf_score_Immune_ALL_low\"\n",
       "[23] \"Integrated_annotation\"               \n",
       "[24] \"integrated_nn_res.0.5\"               \n",
       "[25] \"Subclusters_2\"                       \n",
       "[26] \"Subclusters_5\"                       \n",
       "[27] \"Subclusters_7\"                       \n",
       "[28] \"Subclusters_9\"                       \n",
       "[29] \"Subclusters_10\"                      \n",
       "[30] \"Subclusters_11\"                      \n",
       "[31] \"Subclusters_13\"                      \n",
       "[32] \"my_own_clusters\"                     \n",
       "[33] \"Integrated_annotation_after_rpca\"    \n",
       "[34] \"Assignation_demux_NO_CellBender\"     \n",
       "[35] \"Assigned_GFPbc_demux__NO_CellBender\" \n",
       "[36] \"Assignation_demux_CellBender\"        \n",
       "[37] \"Assigned_GFPbc_demux_CellBender\"     "
      ]
     },
     "metadata": {},
     "output_type": "display_data"
    }
   ],
   "source": [
    "colnames(adata@meta.data)"
   ]
  },
  {
   "cell_type": "code",
   "execution_count": 256,
   "id": "2ee3292f-3098-4014-aa03-f925da329283",
   "metadata": {
    "execution": {
     "iopub.execute_input": "2025-10-14T10:46:05.318872Z",
     "iopub.status.busy": "2025-10-14T10:46:05.317896Z",
     "iopub.status.idle": "2025-10-14T10:46:05.334681Z",
     "shell.execute_reply": "2025-10-14T10:46:05.333557Z"
    }
   },
   "outputs": [
    {
     "name": "stdout",
     "output_type": "stream",
     "text": [
      "'data.frame':\t37306 obs. of  6 variables:\n",
      " $ sample           : Ord.factor w/ 2 levels \"MCO_01373_3GEX\"<..: 1 1 1 1 1 1 1 1 1 1 ...\n",
      " $ CellBC           : chr  \"CB:Z:AAACCATTCGCTGGCA-1\" \"CB:Z:AAACCGCTCTCATGTC-1\" \"CB:Z:AAACGACAGTTGGGCT-1\" \"CB:Z:AAACGCCTCGCGATTA-1\" ...\n",
      " $ GFPbc            : Ord.factor w/ 13 levels \"chrGFP_WTA\"<\"chrGFP_WTB\"<..: 1 1 1 1 1 1 1 1 1 1 ...\n",
      " $ GFPbc_attribution: int  1 1 1 1 1 1 1 1 1 1 ...\n",
      " $ Number_of_UMIS   : int  6 32 12 30 28 33 33 28 37 4 ...\n",
      " $ CellID           : chr  \"MCO_01373_3GEX_AAACCATTCGCTGGCA-1\" \"MCO_01373_3GEX_AAACCGCTCTCATGTC-1\" \"MCO_01373_3GEX_AAACGACAGTTGGGCT-1\" \"MCO_01373_3GEX_AAACGCCTCGCGATTA-1\" ...\n"
     ]
    },
    {
     "data": {
      "text/html": [
       "<style>\n",
       ".dl-inline {width: auto; margin:0; padding: 0}\n",
       ".dl-inline>dt, .dl-inline>dd {float: none; width: auto; display: inline-block}\n",
       ".dl-inline>dt::after {content: \":\\0020\"; padding-right: .5ex}\n",
       ".dl-inline>dt:not(:first-of-type) {padding-left: .5ex}\n",
       "</style><dl class=dl-inline><dt>chrGFP_WTA</dt><dd>1561</dd><dt>chrGFP_WTB</dt><dd>4545</dd><dt>chrGFP_WTC</dt><dd>2292</dd><dt>chrGFP_rs1</dt><dd>3510</dd><dt>chrGFP_rs2</dt><dd>418</dd><dt>chrGFP_rs3</dt><dd>5635</dd><dt>chrGFP_R882H1</dt><dd>5862</dd><dt>chrGFP_R882H2</dt><dd>365</dd><dt>chrGFP_R882H3</dt><dd>3225</dd><dt>chrGFP_rs_R882H1</dt><dd>4116</dd><dt>chrGFP_rs_R882H2</dt><dd>478</dd><dt>chrGFP_rs_R882H3</dt><dd>5022</dd><dt>No_GFPbcs</dt><dd>277</dd></dl>\n"
      ],
      "text/latex": [
       "\\begin{description*}\n",
       "\\item[chrGFP\\textbackslash{}\\_WTA] 1561\n",
       "\\item[chrGFP\\textbackslash{}\\_WTB] 4545\n",
       "\\item[chrGFP\\textbackslash{}\\_WTC] 2292\n",
       "\\item[chrGFP\\textbackslash{}\\_rs1] 3510\n",
       "\\item[chrGFP\\textbackslash{}\\_rs2] 418\n",
       "\\item[chrGFP\\textbackslash{}\\_rs3] 5635\n",
       "\\item[chrGFP\\textbackslash{}\\_R882H1] 5862\n",
       "\\item[chrGFP\\textbackslash{}\\_R882H2] 365\n",
       "\\item[chrGFP\\textbackslash{}\\_R882H3] 3225\n",
       "\\item[chrGFP\\textbackslash{}\\_rs\\textbackslash{}\\_R882H1] 4116\n",
       "\\item[chrGFP\\textbackslash{}\\_rs\\textbackslash{}\\_R882H2] 478\n",
       "\\item[chrGFP\\textbackslash{}\\_rs\\textbackslash{}\\_R882H3] 5022\n",
       "\\item[No\\textbackslash{}\\_GFPbcs] 277\n",
       "\\end{description*}\n"
      ],
      "text/markdown": [
       "chrGFP_WTA\n",
       ":   1561chrGFP_WTB\n",
       ":   4545chrGFP_WTC\n",
       ":   2292chrGFP_rs1\n",
       ":   3510chrGFP_rs2\n",
       ":   418chrGFP_rs3\n",
       ":   5635chrGFP_R882H1\n",
       ":   5862chrGFP_R882H2\n",
       ":   365chrGFP_R882H3\n",
       ":   3225chrGFP_rs_R882H1\n",
       ":   4116chrGFP_rs_R882H2\n",
       ":   478chrGFP_rs_R882H3\n",
       ":   5022No_GFPbcs\n",
       ":   277\n",
       "\n"
      ],
      "text/plain": [
       "      chrGFP_WTA       chrGFP_WTB       chrGFP_WTC       chrGFP_rs1 \n",
       "            1561             4545             2292             3510 \n",
       "      chrGFP_rs2       chrGFP_rs3    chrGFP_R882H1    chrGFP_R882H2 \n",
       "             418             5635             5862              365 \n",
       "   chrGFP_R882H3 chrGFP_rs_R882H1 chrGFP_rs_R882H2 chrGFP_rs_R882H3 \n",
       "            3225             4116              478             5022 \n",
       "       No_GFPbcs \n",
       "             277 "
      ]
     },
     "metadata": {},
     "output_type": "display_data"
    }
   ],
   "source": [
    "str(df_thresholded)\n",
    "summary(as.factor(df_thresholded$GFPbc))"
   ]
  },
  {
   "cell_type": "code",
   "execution_count": 257,
   "id": "21a0a513-e47f-40d9-b905-37f62bc6f9ec",
   "metadata": {
    "execution": {
     "iopub.execute_input": "2025-10-14T10:46:05.337453Z",
     "iopub.status.busy": "2025-10-14T10:46:05.336463Z",
     "iopub.status.idle": "2025-10-14T10:46:05.344599Z",
     "shell.execute_reply": "2025-10-14T10:46:05.343476Z"
    }
   },
   "outputs": [],
   "source": [
    "adata@meta.data$Assignation_GEX_not_amplified<-NA"
   ]
  },
  {
   "cell_type": "code",
   "execution_count": 258,
   "id": "57e99af9-564e-4645-a3dc-6a9b64ad5bde",
   "metadata": {
    "execution": {
     "iopub.execute_input": "2025-10-14T10:46:05.347359Z",
     "iopub.status.busy": "2025-10-14T10:46:05.346394Z",
     "iopub.status.idle": "2025-10-14T10:46:05.362560Z",
     "shell.execute_reply": "2025-10-14T10:46:05.361450Z"
    }
   },
   "outputs": [
    {
     "name": "stdout",
     "output_type": "stream",
     "text": [
      "gfp1_0\n",
      " Named chr [1:37306] \"chrGFP_WTA\" \"chrGFP_WTA\" \"chrGFP_WTA\" \"chrGFP_WTA\" ...\n",
      " - attr(*, \"names\")= chr [1:37306] \"MCO_01373_3GEX_AAACCATTCGCTGGCA-1\" \"MCO_01373_3GEX_AAACCGCTCTCATGTC-1\" \"MCO_01373_3GEX_AAACGACAGTTGGGCT-1\" \"MCO_01373_3GEX_AAACGCCTCGCGATTA-1\" ...\n",
      "\n"
     ]
    }
   ],
   "source": [
    "gfp1      = setNames(as.character(df_thresholded$GFPbc), \n",
    "                       df_thresholded$CellID)\n",
    "  \n",
    "  cat(\"gfp1_0\\n\")\n",
    "  cat(str(gfp1))\n",
    "  cat(\"\\n\")"
   ]
  },
  {
   "cell_type": "code",
   "execution_count": 259,
   "id": "7c65a614-24d8-4832-bbb2-67812748548a",
   "metadata": {
    "execution": {
     "iopub.execute_input": "2025-10-14T10:46:05.365289Z",
     "iopub.status.busy": "2025-10-14T10:46:05.364318Z",
     "iopub.status.idle": "2025-10-14T10:46:05.378094Z",
     "shell.execute_reply": "2025-10-14T10:46:05.376948Z"
    }
   },
   "outputs": [],
   "source": [
    "adata@meta.data$Assignation_GEX_not_amplified = gfp1[rownames(adata@meta.data)]\n"
   ]
  },
  {
   "cell_type": "code",
   "execution_count": 260,
   "id": "5d650228-c71d-444f-a4b2-a55368c456f5",
   "metadata": {
    "execution": {
     "iopub.execute_input": "2025-10-14T10:46:05.380894Z",
     "iopub.status.busy": "2025-10-14T10:46:05.379911Z",
     "iopub.status.idle": "2025-10-14T10:46:05.392900Z",
     "shell.execute_reply": "2025-10-14T10:46:05.391746Z"
    }
   },
   "outputs": [
    {
     "data": {
      "text/html": [
       "<style>\n",
       ".dl-inline {width: auto; margin:0; padding: 0}\n",
       ".dl-inline>dt, .dl-inline>dd {float: none; width: auto; display: inline-block}\n",
       ".dl-inline>dt::after {content: \":\\0020\"; padding-right: .5ex}\n",
       ".dl-inline>dt:not(:first-of-type) {padding-left: .5ex}\n",
       "</style><dl class=dl-inline><dt>chrGFP_R882H1</dt><dd>4847</dd><dt>chrGFP_R882H2</dt><dd>271</dd><dt>chrGFP_R882H3</dt><dd>2619</dd><dt>chrGFP_rs_R882H1</dt><dd>3404</dd><dt>chrGFP_rs_R882H2</dt><dd>379</dd><dt>chrGFP_rs_R882H3</dt><dd>4141</dd><dt>chrGFP_rs1</dt><dd>3001</dd><dt>chrGFP_rs2</dt><dd>342</dd><dt>chrGFP_rs3</dt><dd>4577</dd><dt>chrGFP_WTA</dt><dd>1294</dd><dt>chrGFP_WTB</dt><dd>3683</dd><dt>chrGFP_WTC</dt><dd>1864</dd><dt>NA's</dt><dd>4798</dd></dl>\n"
      ],
      "text/latex": [
       "\\begin{description*}\n",
       "\\item[chrGFP\\textbackslash{}\\_R882H1] 4847\n",
       "\\item[chrGFP\\textbackslash{}\\_R882H2] 271\n",
       "\\item[chrGFP\\textbackslash{}\\_R882H3] 2619\n",
       "\\item[chrGFP\\textbackslash{}\\_rs\\textbackslash{}\\_R882H1] 3404\n",
       "\\item[chrGFP\\textbackslash{}\\_rs\\textbackslash{}\\_R882H2] 379\n",
       "\\item[chrGFP\\textbackslash{}\\_rs\\textbackslash{}\\_R882H3] 4141\n",
       "\\item[chrGFP\\textbackslash{}\\_rs1] 3001\n",
       "\\item[chrGFP\\textbackslash{}\\_rs2] 342\n",
       "\\item[chrGFP\\textbackslash{}\\_rs3] 4577\n",
       "\\item[chrGFP\\textbackslash{}\\_WTA] 1294\n",
       "\\item[chrGFP\\textbackslash{}\\_WTB] 3683\n",
       "\\item[chrGFP\\textbackslash{}\\_WTC] 1864\n",
       "\\item[NA's] 4798\n",
       "\\end{description*}\n"
      ],
      "text/markdown": [
       "chrGFP_R882H1\n",
       ":   4847chrGFP_R882H2\n",
       ":   271chrGFP_R882H3\n",
       ":   2619chrGFP_rs_R882H1\n",
       ":   3404chrGFP_rs_R882H2\n",
       ":   379chrGFP_rs_R882H3\n",
       ":   4141chrGFP_rs1\n",
       ":   3001chrGFP_rs2\n",
       ":   342chrGFP_rs3\n",
       ":   4577chrGFP_WTA\n",
       ":   1294chrGFP_WTB\n",
       ":   3683chrGFP_WTC\n",
       ":   1864NA's\n",
       ":   4798\n",
       "\n"
      ],
      "text/plain": [
       "   chrGFP_R882H1    chrGFP_R882H2    chrGFP_R882H3 chrGFP_rs_R882H1 \n",
       "            4847              271             2619             3404 \n",
       "chrGFP_rs_R882H2 chrGFP_rs_R882H3       chrGFP_rs1       chrGFP_rs2 \n",
       "             379             4141             3001              342 \n",
       "      chrGFP_rs3       chrGFP_WTA       chrGFP_WTB       chrGFP_WTC \n",
       "            4577             1294             3683             1864 \n",
       "            NA's \n",
       "            4798 "
      ]
     },
     "metadata": {},
     "output_type": "display_data"
    }
   ],
   "source": [
    "summary(as.factor(adata@meta.data$Assignation_GEX_not_amplified))"
   ]
  },
  {
   "cell_type": "code",
   "execution_count": 261,
   "id": "8a998ddd-ffe6-436f-98ff-b0c612635dd8",
   "metadata": {
    "execution": {
     "iopub.execute_input": "2025-10-14T10:46:05.395690Z",
     "iopub.status.busy": "2025-10-14T10:46:05.394717Z",
     "iopub.status.idle": "2025-10-14T10:46:05.403573Z",
     "shell.execute_reply": "2025-10-14T10:46:05.402457Z"
    }
   },
   "outputs": [],
   "source": [
    "adata@meta.data$Assignation_GEX_not_amplified<-factor(adata@meta.data$Assignation_GEX_not_amplified,\n",
    "                                       levels = c(\"chrGFP_WTA\",\"chrGFP_WTB\",\"chrGFP_WTC\",\n",
    "                                                  \"chrGFP_rs1\",\"chrGFP_rs2\",\"chrGFP_rs3\",\n",
    "                                                  \"chrGFP_R882H1\",\"chrGFP_R882H2\",\"chrGFP_R882H3\",\n",
    "                                                  \"chrGFP_rs_R882H1\",\"chrGFP_rs_R882H2\",\"chrGFP_rs_R882H3\",\"Doublet\",\"Negative\"),\n",
    "                                       ordered=T)"
   ]
  },
  {
   "cell_type": "code",
   "execution_count": 262,
   "id": "b3d1f01d-ee34-4af7-b10b-1a5bed043a22",
   "metadata": {
    "execution": {
     "iopub.execute_input": "2025-10-14T10:46:05.406167Z",
     "iopub.status.busy": "2025-10-14T10:46:05.405258Z",
     "iopub.status.idle": "2025-10-14T10:46:05.416411Z",
     "shell.execute_reply": "2025-10-14T10:46:05.415346Z"
    }
   },
   "outputs": [
    {
     "data": {
      "text/html": [
       "<style>\n",
       ".dl-inline {width: auto; margin:0; padding: 0}\n",
       ".dl-inline>dt, .dl-inline>dd {float: none; width: auto; display: inline-block}\n",
       ".dl-inline>dt::after {content: \":\\0020\"; padding-right: .5ex}\n",
       ".dl-inline>dt:not(:first-of-type) {padding-left: .5ex}\n",
       "</style><dl class=dl-inline><dt>chrGFP_WTA</dt><dd>1294</dd><dt>chrGFP_WTB</dt><dd>3683</dd><dt>chrGFP_WTC</dt><dd>1864</dd><dt>chrGFP_rs1</dt><dd>3001</dd><dt>chrGFP_rs2</dt><dd>342</dd><dt>chrGFP_rs3</dt><dd>4577</dd><dt>chrGFP_R882H1</dt><dd>4847</dd><dt>chrGFP_R882H2</dt><dd>271</dd><dt>chrGFP_R882H3</dt><dd>2619</dd><dt>chrGFP_rs_R882H1</dt><dd>3404</dd><dt>chrGFP_rs_R882H2</dt><dd>379</dd><dt>chrGFP_rs_R882H3</dt><dd>4141</dd><dt>Doublet</dt><dd>0</dd><dt>Negative</dt><dd>0</dd><dt>NA's</dt><dd>4798</dd></dl>\n"
      ],
      "text/latex": [
       "\\begin{description*}\n",
       "\\item[chrGFP\\textbackslash{}\\_WTA] 1294\n",
       "\\item[chrGFP\\textbackslash{}\\_WTB] 3683\n",
       "\\item[chrGFP\\textbackslash{}\\_WTC] 1864\n",
       "\\item[chrGFP\\textbackslash{}\\_rs1] 3001\n",
       "\\item[chrGFP\\textbackslash{}\\_rs2] 342\n",
       "\\item[chrGFP\\textbackslash{}\\_rs3] 4577\n",
       "\\item[chrGFP\\textbackslash{}\\_R882H1] 4847\n",
       "\\item[chrGFP\\textbackslash{}\\_R882H2] 271\n",
       "\\item[chrGFP\\textbackslash{}\\_R882H3] 2619\n",
       "\\item[chrGFP\\textbackslash{}\\_rs\\textbackslash{}\\_R882H1] 3404\n",
       "\\item[chrGFP\\textbackslash{}\\_rs\\textbackslash{}\\_R882H2] 379\n",
       "\\item[chrGFP\\textbackslash{}\\_rs\\textbackslash{}\\_R882H3] 4141\n",
       "\\item[Doublet] 0\n",
       "\\item[Negative] 0\n",
       "\\item[NA's] 4798\n",
       "\\end{description*}\n"
      ],
      "text/markdown": [
       "chrGFP_WTA\n",
       ":   1294chrGFP_WTB\n",
       ":   3683chrGFP_WTC\n",
       ":   1864chrGFP_rs1\n",
       ":   3001chrGFP_rs2\n",
       ":   342chrGFP_rs3\n",
       ":   4577chrGFP_R882H1\n",
       ":   4847chrGFP_R882H2\n",
       ":   271chrGFP_R882H3\n",
       ":   2619chrGFP_rs_R882H1\n",
       ":   3404chrGFP_rs_R882H2\n",
       ":   379chrGFP_rs_R882H3\n",
       ":   4141Doublet\n",
       ":   0Negative\n",
       ":   0NA's\n",
       ":   4798\n",
       "\n"
      ],
      "text/plain": [
       "      chrGFP_WTA       chrGFP_WTB       chrGFP_WTC       chrGFP_rs1 \n",
       "            1294             3683             1864             3001 \n",
       "      chrGFP_rs2       chrGFP_rs3    chrGFP_R882H1    chrGFP_R882H2 \n",
       "             342             4577             4847              271 \n",
       "   chrGFP_R882H3 chrGFP_rs_R882H1 chrGFP_rs_R882H2 chrGFP_rs_R882H3 \n",
       "            2619             3404              379             4141 \n",
       "         Doublet         Negative             NA's \n",
       "               0                0             4798 "
      ]
     },
     "metadata": {},
     "output_type": "display_data"
    }
   ],
   "source": [
    "summary(as.factor(adata@meta.data$Assignation_GEX_not_amplified))"
   ]
  },
  {
   "cell_type": "code",
   "execution_count": 263,
   "id": "81523f74-2549-4c73-88a9-cfb331386113",
   "metadata": {
    "execution": {
     "iopub.execute_input": "2025-10-14T10:46:05.418991Z",
     "iopub.status.busy": "2025-10-14T10:46:05.418080Z",
     "iopub.status.idle": "2025-10-14T10:46:05.428104Z",
     "shell.execute_reply": "2025-10-14T10:46:05.427041Z"
    }
   },
   "outputs": [
    {
     "data": {
      "text/html": [
       "<style>\n",
       ".list-inline {list-style: none; margin:0; padding: 0}\n",
       ".list-inline>li {display: inline-block}\n",
       ".list-inline>li:not(:last-child)::after {content: \"\\00b7\"; padding: 0 .5ex}\n",
       "</style>\n",
       "<ol class=list-inline><li>'orig.ident'</li><li>'nCount_RNA'</li><li>'nFeature_RNA'</li><li>'nCount_RNA_raw'</li><li>'nFeature_RNA_raw'</li><li>'percent.mt'</li><li>'scDblFinder.class'</li><li>'scDblFinder.score'</li><li>'scDblFinder.weighted'</li><li>'scDblFinder.cxds_score'</li><li>'Diff'</li><li>'nCount_SCT'</li><li>'nFeature_SCT'</li><li>'SCT_snn_res.2'</li><li>'seurat_clusters'</li><li>'SCT_snn_res.0.5'</li><li>'CellTypist_label_Alsinet'</li><li>'CellTypist_conf_score_Alsinet'</li><li>'CellTypist_label_FBMA'</li><li>'CellTypist_conf_score_FBMA'</li><li>'CellTypist_label_Immune_ALL_low'</li><li>'CellTypist_conf_score_Immune_ALL_low'</li><li>'Integrated_annotation'</li><li>'integrated_nn_res.0.5'</li><li>'Subclusters_2'</li><li>'Subclusters_5'</li><li>'Subclusters_7'</li><li>'Subclusters_9'</li><li>'Subclusters_10'</li><li>'Subclusters_11'</li><li>'Subclusters_13'</li><li>'my_own_clusters'</li><li>'Integrated_annotation_after_rpca'</li><li>'Assignation_demux_NO_CellBender'</li><li>'Assigned_GFPbc_demux__NO_CellBender'</li><li>'Assignation_demux_CellBender'</li><li>'Assigned_GFPbc_demux_CellBender'</li><li>'Assignation_GEX_not_amplified'</li></ol>\n"
      ],
      "text/latex": [
       "\\begin{enumerate*}\n",
       "\\item 'orig.ident'\n",
       "\\item 'nCount\\_RNA'\n",
       "\\item 'nFeature\\_RNA'\n",
       "\\item 'nCount\\_RNA\\_raw'\n",
       "\\item 'nFeature\\_RNA\\_raw'\n",
       "\\item 'percent.mt'\n",
       "\\item 'scDblFinder.class'\n",
       "\\item 'scDblFinder.score'\n",
       "\\item 'scDblFinder.weighted'\n",
       "\\item 'scDblFinder.cxds\\_score'\n",
       "\\item 'Diff'\n",
       "\\item 'nCount\\_SCT'\n",
       "\\item 'nFeature\\_SCT'\n",
       "\\item 'SCT\\_snn\\_res.2'\n",
       "\\item 'seurat\\_clusters'\n",
       "\\item 'SCT\\_snn\\_res.0.5'\n",
       "\\item 'CellTypist\\_label\\_Alsinet'\n",
       "\\item 'CellTypist\\_conf\\_score\\_Alsinet'\n",
       "\\item 'CellTypist\\_label\\_FBMA'\n",
       "\\item 'CellTypist\\_conf\\_score\\_FBMA'\n",
       "\\item 'CellTypist\\_label\\_Immune\\_ALL\\_low'\n",
       "\\item 'CellTypist\\_conf\\_score\\_Immune\\_ALL\\_low'\n",
       "\\item 'Integrated\\_annotation'\n",
       "\\item 'integrated\\_nn\\_res.0.5'\n",
       "\\item 'Subclusters\\_2'\n",
       "\\item 'Subclusters\\_5'\n",
       "\\item 'Subclusters\\_7'\n",
       "\\item 'Subclusters\\_9'\n",
       "\\item 'Subclusters\\_10'\n",
       "\\item 'Subclusters\\_11'\n",
       "\\item 'Subclusters\\_13'\n",
       "\\item 'my\\_own\\_clusters'\n",
       "\\item 'Integrated\\_annotation\\_after\\_rpca'\n",
       "\\item 'Assignation\\_demux\\_NO\\_CellBender'\n",
       "\\item 'Assigned\\_GFPbc\\_demux\\_\\_NO\\_CellBender'\n",
       "\\item 'Assignation\\_demux\\_CellBender'\n",
       "\\item 'Assigned\\_GFPbc\\_demux\\_CellBender'\n",
       "\\item 'Assignation\\_GEX\\_not\\_amplified'\n",
       "\\end{enumerate*}\n"
      ],
      "text/markdown": [
       "1. 'orig.ident'\n",
       "2. 'nCount_RNA'\n",
       "3. 'nFeature_RNA'\n",
       "4. 'nCount_RNA_raw'\n",
       "5. 'nFeature_RNA_raw'\n",
       "6. 'percent.mt'\n",
       "7. 'scDblFinder.class'\n",
       "8. 'scDblFinder.score'\n",
       "9. 'scDblFinder.weighted'\n",
       "10. 'scDblFinder.cxds_score'\n",
       "11. 'Diff'\n",
       "12. 'nCount_SCT'\n",
       "13. 'nFeature_SCT'\n",
       "14. 'SCT_snn_res.2'\n",
       "15. 'seurat_clusters'\n",
       "16. 'SCT_snn_res.0.5'\n",
       "17. 'CellTypist_label_Alsinet'\n",
       "18. 'CellTypist_conf_score_Alsinet'\n",
       "19. 'CellTypist_label_FBMA'\n",
       "20. 'CellTypist_conf_score_FBMA'\n",
       "21. 'CellTypist_label_Immune_ALL_low'\n",
       "22. 'CellTypist_conf_score_Immune_ALL_low'\n",
       "23. 'Integrated_annotation'\n",
       "24. 'integrated_nn_res.0.5'\n",
       "25. 'Subclusters_2'\n",
       "26. 'Subclusters_5'\n",
       "27. 'Subclusters_7'\n",
       "28. 'Subclusters_9'\n",
       "29. 'Subclusters_10'\n",
       "30. 'Subclusters_11'\n",
       "31. 'Subclusters_13'\n",
       "32. 'my_own_clusters'\n",
       "33. 'Integrated_annotation_after_rpca'\n",
       "34. 'Assignation_demux_NO_CellBender'\n",
       "35. 'Assigned_GFPbc_demux__NO_CellBender'\n",
       "36. 'Assignation_demux_CellBender'\n",
       "37. 'Assigned_GFPbc_demux_CellBender'\n",
       "38. 'Assignation_GEX_not_amplified'\n",
       "\n",
       "\n"
      ],
      "text/plain": [
       " [1] \"orig.ident\"                          \n",
       " [2] \"nCount_RNA\"                          \n",
       " [3] \"nFeature_RNA\"                        \n",
       " [4] \"nCount_RNA_raw\"                      \n",
       " [5] \"nFeature_RNA_raw\"                    \n",
       " [6] \"percent.mt\"                          \n",
       " [7] \"scDblFinder.class\"                   \n",
       " [8] \"scDblFinder.score\"                   \n",
       " [9] \"scDblFinder.weighted\"                \n",
       "[10] \"scDblFinder.cxds_score\"              \n",
       "[11] \"Diff\"                                \n",
       "[12] \"nCount_SCT\"                          \n",
       "[13] \"nFeature_SCT\"                        \n",
       "[14] \"SCT_snn_res.2\"                       \n",
       "[15] \"seurat_clusters\"                     \n",
       "[16] \"SCT_snn_res.0.5\"                     \n",
       "[17] \"CellTypist_label_Alsinet\"            \n",
       "[18] \"CellTypist_conf_score_Alsinet\"       \n",
       "[19] \"CellTypist_label_FBMA\"               \n",
       "[20] \"CellTypist_conf_score_FBMA\"          \n",
       "[21] \"CellTypist_label_Immune_ALL_low\"     \n",
       "[22] \"CellTypist_conf_score_Immune_ALL_low\"\n",
       "[23] \"Integrated_annotation\"               \n",
       "[24] \"integrated_nn_res.0.5\"               \n",
       "[25] \"Subclusters_2\"                       \n",
       "[26] \"Subclusters_5\"                       \n",
       "[27] \"Subclusters_7\"                       \n",
       "[28] \"Subclusters_9\"                       \n",
       "[29] \"Subclusters_10\"                      \n",
       "[30] \"Subclusters_11\"                      \n",
       "[31] \"Subclusters_13\"                      \n",
       "[32] \"my_own_clusters\"                     \n",
       "[33] \"Integrated_annotation_after_rpca\"    \n",
       "[34] \"Assignation_demux_NO_CellBender\"     \n",
       "[35] \"Assigned_GFPbc_demux__NO_CellBender\" \n",
       "[36] \"Assignation_demux_CellBender\"        \n",
       "[37] \"Assigned_GFPbc_demux_CellBender\"     \n",
       "[38] \"Assignation_GEX_not_amplified\"       "
      ]
     },
     "metadata": {},
     "output_type": "display_data"
    }
   ],
   "source": [
    "colnames(adata@meta.data)"
   ]
  },
  {
   "cell_type": "markdown",
   "id": "3d72ad92-fb2e-4f21-8363-1fd08e972443",
   "metadata": {},
   "source": [
    "# Add time_point and factor diff and Integrated_annotation_after_rpca"
   ]
  },
  {
   "cell_type": "code",
   "execution_count": 264,
   "id": "65d76cf0-1215-4197-a0a8-590cf51e6c24",
   "metadata": {
    "execution": {
     "iopub.execute_input": "2025-10-14T10:46:05.430712Z",
     "iopub.status.busy": "2025-10-14T10:46:05.429792Z",
     "iopub.status.idle": "2025-10-14T10:46:05.437492Z",
     "shell.execute_reply": "2025-10-14T10:46:05.436430Z"
    }
   },
   "outputs": [],
   "source": [
    "adata@meta.data$time_point<-NA"
   ]
  },
  {
   "cell_type": "code",
   "execution_count": 265,
   "id": "682a7d3e-2fa0-4599-bd73-5eb5255b5aee",
   "metadata": {
    "execution": {
     "iopub.execute_input": "2025-10-14T10:46:05.440104Z",
     "iopub.status.busy": "2025-10-14T10:46:05.439183Z",
     "iopub.status.idle": "2025-10-14T10:46:05.450409Z",
     "shell.execute_reply": "2025-10-14T10:46:05.449340Z"
    }
   },
   "outputs": [
    {
     "data": {
      "text/html": [
       "<style>\n",
       ".dl-inline {width: auto; margin:0; padding: 0}\n",
       ".dl-inline>dt, .dl-inline>dd {float: none; width: auto; display: inline-block}\n",
       ".dl-inline>dt::after {content: \":\\0020\"; padding-right: .5ex}\n",
       ".dl-inline>dt:not(:first-of-type) {padding-left: .5ex}\n",
       "</style><dl class=dl-inline><dt>MCO_01373_3GEX</dt><dd>17293</dd><dt>MCO_01374_3GEX</dt><dd>17927</dd></dl>\n"
      ],
      "text/latex": [
       "\\begin{description*}\n",
       "\\item[MCO\\textbackslash{}\\_01373\\textbackslash{}\\_3GEX] 17293\n",
       "\\item[MCO\\textbackslash{}\\_01374\\textbackslash{}\\_3GEX] 17927\n",
       "\\end{description*}\n"
      ],
      "text/markdown": [
       "MCO_01373_3GEX\n",
       ":   17293MCO_01374_3GEX\n",
       ":   17927\n",
       "\n"
      ],
      "text/plain": [
       "MCO_01373_3GEX MCO_01374_3GEX \n",
       "         17293          17927 "
      ]
     },
     "metadata": {},
     "output_type": "display_data"
    }
   ],
   "source": [
    "summary(as.factor(adata@meta.data$orig.ident))"
   ]
  },
  {
   "cell_type": "code",
   "execution_count": 266,
   "id": "a11ad84c-613d-435a-b75f-f8205af21873",
   "metadata": {
    "execution": {
     "iopub.execute_input": "2025-10-14T10:46:05.453014Z",
     "iopub.status.busy": "2025-10-14T10:46:05.452090Z",
     "iopub.status.idle": "2025-10-14T10:46:05.462059Z",
     "shell.execute_reply": "2025-10-14T10:46:05.461001Z"
    }
   },
   "outputs": [],
   "source": [
    "adata@meta.data$time_point[which(adata@meta.data$orig.ident == \"MCO_01373_3GEX\")]<-'0_days'\n",
    "adata@meta.data$time_point[which(adata@meta.data$orig.ident == \"MCO_01374_3GEX\")]<-'8_days'"
   ]
  },
  {
   "cell_type": "code",
   "execution_count": 267,
   "id": "310ccd5e-d59d-4004-98e9-9738a967dfec",
   "metadata": {
    "execution": {
     "iopub.execute_input": "2025-10-14T10:46:05.464653Z",
     "iopub.status.busy": "2025-10-14T10:46:05.463734Z",
     "iopub.status.idle": "2025-10-14T10:46:05.476015Z",
     "shell.execute_reply": "2025-10-14T10:46:05.474956Z"
    }
   },
   "outputs": [
    {
     "data": {
      "text/html": [
       "<style>\n",
       ".dl-inline {width: auto; margin:0; padding: 0}\n",
       ".dl-inline>dt, .dl-inline>dd {float: none; width: auto; display: inline-block}\n",
       ".dl-inline>dt::after {content: \":\\0020\"; padding-right: .5ex}\n",
       ".dl-inline>dt:not(:first-of-type) {padding-left: .5ex}\n",
       "</style><dl class=dl-inline><dt>0_days</dt><dd>17293</dd><dt>8_days</dt><dd>17927</dd></dl>\n"
      ],
      "text/latex": [
       "\\begin{description*}\n",
       "\\item[0\\textbackslash{}\\_days] 17293\n",
       "\\item[8\\textbackslash{}\\_days] 17927\n",
       "\\end{description*}\n"
      ],
      "text/markdown": [
       "0_days\n",
       ":   172938_days\n",
       ":   17927\n",
       "\n"
      ],
      "text/plain": [
       "0_days 8_days \n",
       " 17293  17927 "
      ]
     },
     "metadata": {},
     "output_type": "display_data"
    }
   ],
   "source": [
    "adata@meta.data$time_point<-factor(adata@meta.data$time_point,\n",
    "                                       levels = c(\"0_days\",\"8_days\"),\n",
    "                                       ordered=T)\n",
    "\n",
    "summary(adata@meta.data$time_point)"
   ]
  },
  {
   "cell_type": "code",
   "execution_count": 268,
   "id": "4f273a9b-464a-43e0-9592-47df84e6ffac",
   "metadata": {
    "execution": {
     "iopub.execute_input": "2025-10-14T10:46:05.478646Z",
     "iopub.status.busy": "2025-10-14T10:46:05.477735Z",
     "iopub.status.idle": "2025-10-14T10:46:05.488939Z",
     "shell.execute_reply": "2025-10-14T10:46:05.487857Z"
    }
   },
   "outputs": [
    {
     "data": {
      "text/html": [
       "<strong>Diff_MK_non_competition:</strong> 35220"
      ],
      "text/latex": [
       "\\textbf{Diff\\textbackslash{}\\_MK\\textbackslash{}\\_non\\textbackslash{}\\_competition:} 35220"
      ],
      "text/markdown": [
       "**Diff_MK_non_competition:** 35220"
      ],
      "text/plain": [
       "Diff_MK_non_competition \n",
       "                  35220 "
      ]
     },
     "metadata": {},
     "output_type": "display_data"
    }
   ],
   "source": [
    "summary(as.factor(adata@meta.data$Diff))"
   ]
  },
  {
   "cell_type": "code",
   "execution_count": 269,
   "id": "6cfe71e2-656c-409f-bd47-c5dcb8ee168a",
   "metadata": {
    "execution": {
     "iopub.execute_input": "2025-10-14T10:46:05.491524Z",
     "iopub.status.busy": "2025-10-14T10:46:05.490614Z",
     "iopub.status.idle": "2025-10-14T10:46:05.502886Z",
     "shell.execute_reply": "2025-10-14T10:46:05.501807Z"
    }
   },
   "outputs": [
    {
     "data": {
      "text/html": [
       "<strong>Diff_MK_non_competition:</strong> 35220"
      ],
      "text/latex": [
       "\\textbf{Diff\\textbackslash{}\\_MK\\textbackslash{}\\_non\\textbackslash{}\\_competition:} 35220"
      ],
      "text/markdown": [
       "**Diff_MK_non_competition:** 35220"
      ],
      "text/plain": [
       "Diff_MK_non_competition \n",
       "                  35220 "
      ]
     },
     "metadata": {},
     "output_type": "display_data"
    }
   ],
   "source": [
    "adata@meta.data$Diff<-factor(adata@meta.data$Diff,\n",
    "                                       levels = c(\"Diff_MK_non_competition\"),\n",
    "                                       ordered=T)\n",
    "\n",
    "summary(adata@meta.data$Diff)"
   ]
  },
  {
   "cell_type": "code",
   "execution_count": 270,
   "id": "3972fa23-dbc7-4df4-b0bd-5007b88a0dbc",
   "metadata": {
    "execution": {
     "iopub.execute_input": "2025-10-14T10:46:05.505474Z",
     "iopub.status.busy": "2025-10-14T10:46:05.504559Z",
     "iopub.status.idle": "2025-10-14T10:46:05.513924Z",
     "shell.execute_reply": "2025-10-14T10:46:05.512861Z"
    }
   },
   "outputs": [
    {
     "data": {
      "text/html": [],
      "text/latex": [],
      "text/markdown": [],
      "text/plain": [
       "integer(0)"
      ]
     },
     "metadata": {},
     "output_type": "display_data"
    }
   ],
   "source": [
    "summary(as.factor(adata@meta.data$Integrated_annotation_after_rpca_after_rpca))"
   ]
  },
  {
   "cell_type": "code",
   "execution_count": 271,
   "id": "c984de57-ab51-405c-9ce1-969e0f7251c8",
   "metadata": {
    "execution": {
     "iopub.execute_input": "2025-10-14T10:46:05.516543Z",
     "iopub.status.busy": "2025-10-14T10:46:05.515625Z",
     "iopub.status.idle": "2025-10-14T10:46:05.524460Z",
     "shell.execute_reply": "2025-10-14T10:46:05.523384Z"
    }
   },
   "outputs": [
    {
     "name": "stdout",
     "output_type": "stream",
     "text": [
      " NULL\n"
     ]
    }
   ],
   "source": [
    "str(adata@meta.data$Integrated_annotation_after_rpca_after_rpca)"
   ]
  },
  {
   "cell_type": "markdown",
   "id": "a4a5f0fd-3a7e-4a19-81c8-8c6333757e34",
   "metadata": {},
   "source": [
    "# Comparison of results "
   ]
  },
  {
   "cell_type": "markdown",
   "id": "a0d68018-90e9-4c92-af43-d6d5ca2c3c99",
   "metadata": {},
   "source": [
    "## Assignation_GEX_not_amplified vs Integrated_annotation_after_rpca vs time_point vs Diff"
   ]
  },
  {
   "cell_type": "code",
   "execution_count": 375,
   "id": "340c6ae0-0138-4070-a9cd-29416593085c",
   "metadata": {
    "execution": {
     "iopub.execute_input": "2025-10-14T11:01:41.885874Z",
     "iopub.status.busy": "2025-10-14T11:01:41.884500Z",
     "iopub.status.idle": "2025-10-14T11:01:42.047065Z",
     "shell.execute_reply": "2025-10-14T11:01:42.045449Z"
    }
   },
   "outputs": [],
   "source": [
    "met<-adata[[]]"
   ]
  },
  {
   "cell_type": "code",
   "execution_count": 376,
   "id": "7d25167c-6e59-4265-895e-0c1100c24c77",
   "metadata": {
    "execution": {
     "iopub.execute_input": "2025-10-14T11:01:42.051056Z",
     "iopub.status.busy": "2025-10-14T11:01:42.049671Z",
     "iopub.status.idle": "2025-10-14T11:01:42.059739Z",
     "shell.execute_reply": "2025-10-14T11:01:42.058111Z"
    }
   },
   "outputs": [],
   "source": [
    "#colnames(met)"
   ]
  },
  {
   "cell_type": "code",
   "execution_count": 377,
   "id": "b760c385-97c1-4a01-a543-58b944852eef",
   "metadata": {
    "execution": {
     "iopub.execute_input": "2025-10-14T11:01:42.063843Z",
     "iopub.status.busy": "2025-10-14T11:01:42.062406Z",
     "iopub.status.idle": "2025-10-14T11:01:42.083919Z",
     "shell.execute_reply": "2025-10-14T11:01:42.082243Z"
    }
   },
   "outputs": [],
   "source": [
    "met.dt<-data.table(met,key=c(\"time_point\",\"Integrated_annotation_after_rpca\",\"Assignation_GEX_not_amplified\",\"Diff\"))"
   ]
  },
  {
   "cell_type": "code",
   "execution_count": 378,
   "id": "8d6fc726-cc43-46c0-8c02-6c7c4ccbd5d8",
   "metadata": {
    "execution": {
     "iopub.execute_input": "2025-10-14T11:01:42.087777Z",
     "iopub.status.busy": "2025-10-14T11:01:42.086453Z",
     "iopub.status.idle": "2025-10-14T11:01:42.096117Z",
     "shell.execute_reply": "2025-10-14T11:01:42.094602Z"
    }
   },
   "outputs": [],
   "source": [
    "#str(met.dt)"
   ]
  },
  {
   "cell_type": "code",
   "execution_count": 379,
   "id": "bbccb725-20fb-442d-90f0-19855a7cb965",
   "metadata": {
    "execution": {
     "iopub.execute_input": "2025-10-14T11:01:42.099788Z",
     "iopub.status.busy": "2025-10-14T11:01:42.098521Z",
     "iopub.status.idle": "2025-10-14T11:01:42.119449Z",
     "shell.execute_reply": "2025-10-14T11:01:42.117844Z"
    }
   },
   "outputs": [
    {
     "name": "stdout",
     "output_type": "stream",
     "text": [
      "'data.frame':\t93 obs. of  5 variables:\n",
      " $ time_point                      : Ord.factor w/ 2 levels \"0_days\"<\"8_days\": 1 1 1 1 1 1 1 1 1 1 ...\n",
      " $ Integrated_annotation_after_rpca: Ord.factor w/ 6 levels \"hESC\"<\"HemogenicEndothelium\"<..: 1 1 1 1 1 1 1 1 1 1 ...\n",
      " $ Assignation_GEX_not_amplified   : Ord.factor w/ 14 levels \"chrGFP_WTA\"<\"chrGFP_WTB\"<..: NA 1 2 3 4 5 6 7 8 9 ...\n",
      " $ Diff                            : Ord.factor w/ 1 level \"Diff_MK_non_competition\": 1 1 1 1 1 1 1 1 1 1 ...\n",
      " $ Freq                            : int  2496 545 1763 988 1349 251 2281 1931 243 1758 ...\n"
     ]
    }
   ],
   "source": [
    "Freq.table<-as.data.frame(met.dt[,.(Freq=.N),by=key(met.dt)], stringsAsFactors=F)\n",
    "\n",
    "str(Freq.table)"
   ]
  },
  {
   "cell_type": "code",
   "execution_count": 380,
   "id": "79fe4b34-3f16-456a-866c-ba05037968f1",
   "metadata": {
    "execution": {
     "iopub.execute_input": "2025-10-14T11:01:42.123184Z",
     "iopub.status.busy": "2025-10-14T11:01:42.121906Z",
     "iopub.status.idle": "2025-10-14T11:01:42.151398Z",
     "shell.execute_reply": "2025-10-14T11:01:42.149758Z"
    }
   },
   "outputs": [
    {
     "name": "stdout",
     "output_type": "stream",
     "text": [
      "'data.frame':\t8 obs. of  4 variables:\n",
      " $ time_point                      : Ord.factor w/ 2 levels \"0_days\"<\"8_days\": 1 1 2 2 2 2 2 2\n",
      " $ Integrated_annotation_after_rpca: Ord.factor w/ 6 levels \"hESC\"<\"HemogenicEndothelium\"<..: 1 3 1 2 3 4 5 6\n",
      " $ Diff                            : Ord.factor w/ 1 level \"Diff_MK_non_competition\": 1 1 1 1 1 1 1 1\n",
      " $ TOTAL                           : int  17282 11 1791 1805 11025 1169 147 1990\n"
     ]
    }
   ],
   "source": [
    "met.dt<-data.table(met, key=c(\"time_point\",\"Integrated_annotation_after_rpca\",\"Diff\"))\n",
    "Freq.TOTAL<-as.data.frame(met.dt[,.(TOTAL=.N),by=key(met.dt)], stringsAsFactors=F)\n",
    "\n",
    "str(Freq.TOTAL)"
   ]
  },
  {
   "cell_type": "code",
   "execution_count": 381,
   "id": "412c82ce-369e-4590-9064-5ecbf9cdac02",
   "metadata": {
    "execution": {
     "iopub.execute_input": "2025-10-14T11:01:42.155312Z",
     "iopub.status.busy": "2025-10-14T11:01:42.153912Z",
     "iopub.status.idle": "2025-10-14T11:01:42.170212Z",
     "shell.execute_reply": "2025-10-14T11:01:42.168592Z"
    }
   },
   "outputs": [],
   "source": [
    "Freq.table<-merge(Freq.table,\n",
    "                  Freq.TOTAL,\n",
    "                  by=c(\"time_point\",\"Integrated_annotation_after_rpca\",\"Diff\"))\n",
    "Freq.table$Perc<-round((100*(Freq.table$Freq/Freq.table$TOTAL)),2)\n",
    "\n",
    "#Freq.table"
   ]
  },
  {
   "cell_type": "code",
   "execution_count": 382,
   "id": "1e0e0c1d-7a90-4cee-929d-5643ebfb22b6",
   "metadata": {
    "execution": {
     "iopub.execute_input": "2025-10-14T11:01:42.174029Z",
     "iopub.status.busy": "2025-10-14T11:01:42.172664Z",
     "iopub.status.idle": "2025-10-14T11:01:42.189493Z",
     "shell.execute_reply": "2025-10-14T11:01:42.187989Z"
    }
   },
   "outputs": [
    {
     "name": "stdout",
     "output_type": "stream",
     "text": [
      "'data.frame':\t93 obs. of  7 variables:\n",
      " $ time_point                      : Ord.factor w/ 2 levels \"0_days\"<\"8_days\": 1 1 1 1 1 1 1 1 1 1 ...\n",
      " $ Integrated_annotation_after_rpca: Ord.factor w/ 6 levels \"hESC\"<\"HemogenicEndothelium\"<..: 1 1 1 1 1 1 1 1 1 1 ...\n",
      " $ Diff                            : Ord.factor w/ 1 level \"Diff_MK_non_competition\": 1 1 1 1 1 1 1 1 1 1 ...\n",
      " $ Assignation_GEX_not_amplified   : Ord.factor w/ 14 levels \"chrGFP_WTA\"<\"chrGFP_WTB\"<..: NA 1 2 3 4 5 6 7 8 9 ...\n",
      " $ Freq                            : int  2496 545 1763 988 1349 251 2281 1931 243 1758 ...\n",
      " $ TOTAL                           : int  17282 17282 17282 17282 17282 17282 17282 17282 17282 17282 ...\n",
      " $ Perc                            : num  14.44 3.15 10.2 5.72 7.81 ...\n"
     ]
    }
   ],
   "source": [
    "str(Freq.table)"
   ]
  },
  {
   "cell_type": "code",
   "execution_count": 383,
   "id": "68861415-bd45-4be9-b534-b78f2f13f2f6",
   "metadata": {
    "execution": {
     "iopub.execute_input": "2025-10-14T11:01:42.193284Z",
     "iopub.status.busy": "2025-10-14T11:01:42.191933Z",
     "iopub.status.idle": "2025-10-14T11:01:42.216645Z",
     "shell.execute_reply": "2025-10-14T11:01:42.215250Z"
    }
   },
   "outputs": [
    {
     "name": "stdout",
     "output_type": "stream",
     "text": [
      "'data.frame':\t2 obs. of  3 variables:\n",
      " $ time_point: Ord.factor w/ 2 levels \"0_days\"<\"8_days\": 1 2\n",
      " $ Diff      : Ord.factor w/ 1 level \"Diff_MK_non_competition\": 1 1\n",
      " $ ntime     : int  17293 17927\n"
     ]
    }
   ],
   "source": [
    "met.dt<-data.table(met, key=c(\"time_point\",\"Diff\"))\n",
    "Freq.time_point<-as.data.frame(met.dt[,.(ntime=.N),by=key(met.dt)], stringsAsFactors=F)\n",
    "\n",
    "\n",
    "str(Freq.time_point)"
   ]
  },
  {
   "cell_type": "code",
   "execution_count": 384,
   "id": "c4fdef4a-f843-452e-a81f-ab2b873e6fac",
   "metadata": {
    "execution": {
     "iopub.execute_input": "2025-10-14T11:01:42.219918Z",
     "iopub.status.busy": "2025-10-14T11:01:42.218765Z",
     "iopub.status.idle": "2025-10-14T11:01:42.236755Z",
     "shell.execute_reply": "2025-10-14T11:01:42.235361Z"
    }
   },
   "outputs": [
    {
     "name": "stdout",
     "output_type": "stream",
     "text": [
      "'data.frame':\t93 obs. of  8 variables:\n",
      " $ time_point                      : Ord.factor w/ 2 levels \"0_days\"<\"8_days\": 1 1 1 1 1 1 1 1 1 1 ...\n",
      " $ Diff                            : Ord.factor w/ 1 level \"Diff_MK_non_competition\": 1 1 1 1 1 1 1 1 1 1 ...\n",
      " $ Integrated_annotation_after_rpca: Ord.factor w/ 6 levels \"hESC\"<\"HemogenicEndothelium\"<..: 1 1 1 1 1 1 1 1 1 1 ...\n",
      " $ Assignation_GEX_not_amplified   : Ord.factor w/ 14 levels \"chrGFP_WTA\"<\"chrGFP_WTB\"<..: NA 1 2 3 4 5 6 7 8 9 ...\n",
      " $ Freq                            : int  2496 545 1763 988 1349 251 2281 1931 243 1758 ...\n",
      " $ TOTAL                           : int  17282 17282 17282 17282 17282 17282 17282 17282 17282 17282 ...\n",
      " $ Perc                            : num  14.44 3.15 10.2 5.72 7.81 ...\n",
      " $ ntime                           : int  17293 17293 17293 17293 17293 17293 17293 17293 17293 17293 ...\n"
     ]
    }
   ],
   "source": [
    "Freq.table<-merge(Freq.table,\n",
    "                  Freq.time_point,\n",
    "                  by=c(\"time_point\",\"Diff\"))\n",
    "\n",
    "str(Freq.table)"
   ]
  },
  {
   "cell_type": "code",
   "execution_count": 385,
   "id": "beca7ce6-7c7d-44c5-8fe3-d5e8349b9388",
   "metadata": {
    "execution": {
     "iopub.execute_input": "2025-10-14T11:01:42.240341Z",
     "iopub.status.busy": "2025-10-14T11:01:42.239176Z",
     "iopub.status.idle": "2025-10-14T11:01:42.255731Z",
     "shell.execute_reply": "2025-10-14T11:01:42.254519Z"
    }
   },
   "outputs": [
    {
     "name": "stdout",
     "output_type": "stream",
     "text": [
      "'data.frame':\t86 obs. of  8 variables:\n",
      " $ time_point                      : Ord.factor w/ 2 levels \"0_days\"<\"8_days\": 1 1 1 1 1 1 1 1 1 1 ...\n",
      " $ Diff                            : Ord.factor w/ 1 level \"Diff_MK_non_competition\": 1 1 1 1 1 1 1 1 1 1 ...\n",
      " $ Integrated_annotation_after_rpca: Ord.factor w/ 6 levels \"hESC\"<\"HemogenicEndothelium\"<..: 1 1 1 1 1 1 1 1 1 1 ...\n",
      " $ Assignation_GEX_not_amplified   : Ord.factor w/ 14 levels \"chrGFP_WTA\"<\"chrGFP_WTB\"<..: NA 1 2 3 4 5 6 7 8 9 ...\n",
      " $ Freq                            : int  2496 545 1763 988 1349 251 2281 1931 243 1758 ...\n",
      " $ TOTAL                           : int  17282 17282 17282 17282 17282 17282 17282 17282 17282 17282 ...\n",
      " $ Perc                            : num  14.44 3.15 10.2 5.72 7.81 ...\n",
      " $ ntime                           : int  17293 17293 17293 17293 17293 17293 17293 17293 17293 17293 ...\n"
     ]
    }
   ],
   "source": [
    "Freq.table_filtered<-Freq.table[which(Freq.table$TOTAL >= 100),]\n",
    "\n",
    "str(Freq.table_filtered)"
   ]
  },
  {
   "cell_type": "code",
   "execution_count": 386,
   "id": "bd58b516-b07b-4fee-9680-56fbde37f337",
   "metadata": {
    "execution": {
     "iopub.execute_input": "2025-10-14T11:01:42.258697Z",
     "iopub.status.busy": "2025-10-14T11:01:42.257660Z",
     "iopub.status.idle": "2025-10-14T11:01:42.266288Z",
     "shell.execute_reply": "2025-10-14T11:01:42.265079Z"
    }
   },
   "outputs": [],
   "source": [
    "fill_colours<-c(brewer.pal(9, \"Greens\")[c(5,6,7)],brewer.pal(9, \"Reds\")[c(5,6,7)],brewer.pal(9, \"Purples\")[c(5,6,7)],brewer.pal(9, \"PuRd\")[c(5,6,7)],'gray','black')"
   ]
  },
  {
   "cell_type": "code",
   "execution_count": 387,
   "id": "bca96846-e39e-4f6e-baa3-130158f11e85",
   "metadata": {
    "execution": {
     "iopub.execute_input": "2025-10-14T11:01:42.269293Z",
     "iopub.status.busy": "2025-10-14T11:01:42.268221Z",
     "iopub.status.idle": "2025-10-14T11:01:42.281533Z",
     "shell.execute_reply": "2025-10-14T11:01:42.280317Z"
    }
   },
   "outputs": [
    {
     "name": "stdout",
     "output_type": "stream",
     "text": [
      "'data.frame':\t86 obs. of  8 variables:\n",
      " $ time_point                      : Ord.factor w/ 2 levels \"0_days\"<\"8_days\": 1 1 1 1 1 1 1 1 1 1 ...\n",
      " $ Diff                            : Ord.factor w/ 1 level \"Diff_MK_non_competition\": 1 1 1 1 1 1 1 1 1 1 ...\n",
      " $ Integrated_annotation_after_rpca: Ord.factor w/ 6 levels \"hESC\"<\"HemogenicEndothelium\"<..: 1 1 1 1 1 1 1 1 1 1 ...\n",
      " $ Assignation_GEX_not_amplified   : Ord.factor w/ 14 levels \"chrGFP_WTA\"<\"chrGFP_WTB\"<..: NA 1 2 3 4 5 6 7 8 9 ...\n",
      " $ Freq                            : int  2496 545 1763 988 1349 251 2281 1931 243 1758 ...\n",
      " $ TOTAL                           : int  17282 17282 17282 17282 17282 17282 17282 17282 17282 17282 ...\n",
      " $ Perc                            : num  14.44 3.15 10.2 5.72 7.81 ...\n",
      " $ ntime                           : int  17293 17293 17293 17293 17293 17293 17293 17293 17293 17293 ...\n"
     ]
    }
   ],
   "source": [
    "str(Freq.table_filtered)"
   ]
  },
  {
   "cell_type": "code",
   "execution_count": 388,
   "id": "082a76ff-257d-4b5b-83aa-3854543f1779",
   "metadata": {
    "execution": {
     "iopub.execute_input": "2025-10-14T11:01:42.284552Z",
     "iopub.status.busy": "2025-10-14T11:01:42.283506Z",
     "iopub.status.idle": "2025-10-14T11:01:42.983372Z",
     "shell.execute_reply": "2025-10-14T11:01:42.982007Z"
    }
   },
   "outputs": [
    {
     "name": "stdout",
     "output_type": "stream",
     "text": [
      "-------------------------------------->\t0 25 50 75 100\n"
     ]
    },
    {
     "data": {
      "image/png": "[encoded data removed]",
      "text/plain": [
       "plot without title"
      ]
     },
     "metadata": {
      "image/png": {
       "height": 420,
       "width": 420
      }
     },
     "output_type": "display_data"
    }
   ],
   "source": [
    "#### Stacked Graph #1---------------\n",
    "  \n",
    "  breaks.Rank<-(seq(0,100,by=25))\n",
    "  labels.Rank<-as.character(breaks.Rank)\n",
    "  \n",
    "  cat(\"-------------------------------------->\\t\")\n",
    "  cat(sprintf(as.character(labels.Rank)))\n",
    "  cat(\"\\n\")\n",
    "  \n",
    "  \n",
    "  stacked_barplot<-Freq.table_filtered %>%\n",
    "    mutate(myaxis = paste0(Integrated_annotation_after_rpca, \"\\n\", \"n=\", TOTAL), drop=F) %>%\n",
    "    mutate(myaxis=fct_reorder(myaxis,as.numeric(Integrated_annotation_after_rpca)), drop=F) %>%\n",
    "    ggplot(aes(x=myaxis, y=Perc, fill=Assignation_GEX_not_amplified)) +\n",
    "    geom_bar(stat=\"identity\",colour='white')+\n",
    "    scale_y_continuous(name=paste(\"Percentage of cells in each cell type\",sep=\" \"),breaks=breaks.Rank,labels=labels.Rank,\n",
    "                       limits=c(breaks.Rank[1],breaks.Rank[length(breaks.Rank)]+1))+\n",
    "    scale_fill_manual(values=fill_colours,\n",
    "                      drop=F,\n",
    "                      name=\"Genotype\")\n",
    "\n",
    " stacked_barplot<-stacked_barplot+\n",
    "    theme_cowplot(font_size = 2)+\n",
    "    facet_grid(Diff ~ time_point+ntime, scales='free_x', space='free_x', switch=\"y\", \n",
    "               labeller=labeller(paste0(Freq.table_filtered$time_point, \"\\n\", \"n=\", Freq.table_filtered$ntime, drop=T)))+   \n",
    "    scale_x_discrete(name=\"Integrated_annotation_after_rpca\", drop=T)+\n",
    "    theme( strip.background = element_blank(),\n",
    "           strip.placement = \"outside\",\n",
    "           strip.text = element_text(size=6),\n",
    "           panel.spacing = unit(0.2, \"lines\"),\n",
    "           panel.background=element_rect(fill=\"white\"),\n",
    "           panel.border=element_rect(colour=\"white\",size=0,5),\n",
    "           panel.grid.major = element_blank(),\n",
    "           panel.grid.minor = element_blank())+\n",
    "        theme_classic()+\n",
    "            theme(axis.title.y=element_text(size=12, color=\"black\", family=\"sans\"),\n",
    "                  axis.title.x=element_blank(),\n",
    "                  axis.text.y=element_text(angle=0,size=10, color=\"black\", family=\"sans\"),\n",
    "                  axis.text.x=element_text(angle=45,size=8,hjust=1,color=\"black\", family=\"sans\"),\n",
    "                  axis.line.x = element_line(size = 0.2),\n",
    "                  axis.ticks.x = element_line(size = 0.2),\n",
    "                  axis.ticks.y = element_line(size = 0.2),\n",
    "                  axis.line.y = element_line(size = 0.2))+\n",
    "            theme(legend.title = element_blank(),\n",
    "                  legend.text = element_text(size=8, color=\"black\", family=\"sans\"),\n",
    "                  legend.key.size = unit(0.25, 'cm'), #change legend key size\n",
    "                  legend.key.height = unit(0.25, 'cm'), #change legend key height\n",
    "                  legend.key.width = unit(0.25, 'cm'), #change legend key width\n",
    "                  legend.position=\"bottom\")\n",
    "\n",
    "\n",
    "\n",
    "stacked_barplot"
   ]
  },
  {
   "cell_type": "code",
   "execution_count": 389,
   "id": "92f5e9ec-8cb9-4ce6-a9fc-c3850538cc32",
   "metadata": {
    "execution": {
     "iopub.execute_input": "2025-10-14T11:01:42.986541Z",
     "iopub.status.busy": "2025-10-14T11:01:42.985398Z",
     "iopub.status.idle": "2025-10-14T11:01:42.997180Z",
     "shell.execute_reply": "2025-10-14T11:01:42.995953Z"
    }
   },
   "outputs": [
    {
     "data": {
      "text/html": [
       "'/group/soranzo/manuel.tardaguila/2025_hESC_MK_SCRNAseq_10X/no_competition/Genotyping/graphs/'"
      ],
      "text/latex": [
       "'/group/soranzo/manuel.tardaguila/2025\\_hESC\\_MK\\_SCRNAseq\\_10X/no\\_competition/Genotyping/graphs/'"
      ],
      "text/markdown": [
       "'/group/soranzo/manuel.tardaguila/2025_hESC_MK_SCRNAseq_10X/no_competition/Genotyping/graphs/'"
      ],
      "text/plain": [
       "[1] \"/group/soranzo/manuel.tardaguila/2025_hESC_MK_SCRNAseq_10X/no_competition/Genotyping/graphs/\""
      ]
     },
     "metadata": {},
     "output_type": "display_data"
    }
   ],
   "source": [
    "path_graphs"
   ]
  },
  {
   "cell_type": "code",
   "execution_count": 390,
   "id": "c5f60812-1eee-4052-8b78-1647230df07e",
   "metadata": {
    "execution": {
     "iopub.execute_input": "2025-10-14T11:01:43.000216Z",
     "iopub.status.busy": "2025-10-14T11:01:42.999157Z",
     "iopub.status.idle": "2025-10-14T11:01:44.938200Z",
     "shell.execute_reply": "2025-10-14T11:01:44.936648Z"
    }
   },
   "outputs": [
    {
     "name": "stderr",
     "output_type": "stream",
     "text": [
      "\u001b[1m\u001b[22mSaving 6.67 x 6.67 in image\n"
     ]
    }
   ],
   "source": [
    "setwd(path_graphs)\n",
    "\n",
    "svgname<-paste(\"stacked_barplot_Diff_vs_time_point_Integrated_annotation_after_rpca_vs_Assignation_GEX_not_amplified\",\".png\",sep='')\n",
    "makesvg = TRUE\n",
    "\n",
    "if (makesvg == TRUE)\n",
    "{\n",
    "  ggsave(svgname, plot= stacked_barplot,\n",
    "         device=\"png\")\n",
    "}"
   ]
  },
  {
   "cell_type": "markdown",
   "id": "2045d37f-b9aa-4b47-a491-4bd0d5c38019",
   "metadata": {},
   "source": [
    "## Assigned_GFPbc_demux__NO_CellBender vs Integrated_annotation_after_rpca vs time_point vs Diff"
   ]
  },
  {
   "cell_type": "code",
   "execution_count": 391,
   "id": "7271633a-12b9-4cd1-9ebb-cf88d87e28fc",
   "metadata": {
    "execution": {
     "iopub.execute_input": "2025-10-14T11:31:04.596504Z",
     "iopub.status.busy": "2025-10-14T11:31:04.595209Z",
     "iopub.status.idle": "2025-10-14T11:31:04.775731Z",
     "shell.execute_reply": "2025-10-14T11:31:04.774445Z"
    }
   },
   "outputs": [],
   "source": [
    "met<-adata[[]]"
   ]
  },
  {
   "cell_type": "code",
   "execution_count": 392,
   "id": "6cdce489-4cb7-431e-87d5-a6362f328f74",
   "metadata": {
    "execution": {
     "iopub.execute_input": "2025-10-14T11:31:04.778800Z",
     "iopub.status.busy": "2025-10-14T11:31:04.777722Z",
     "iopub.status.idle": "2025-10-14T11:31:04.789418Z",
     "shell.execute_reply": "2025-10-14T11:31:04.788174Z"
    }
   },
   "outputs": [
    {
     "data": {
      "text/html": [
       "<style>\n",
       ".list-inline {list-style: none; margin:0; padding: 0}\n",
       ".list-inline>li {display: inline-block}\n",
       ".list-inline>li:not(:last-child)::after {content: \"\\00b7\"; padding: 0 .5ex}\n",
       "</style>\n",
       "<ol class=list-inline><li>'orig.ident'</li><li>'nCount_RNA'</li><li>'nFeature_RNA'</li><li>'nCount_RNA_raw'</li><li>'nFeature_RNA_raw'</li><li>'percent.mt'</li><li>'scDblFinder.class'</li><li>'scDblFinder.score'</li><li>'scDblFinder.weighted'</li><li>'scDblFinder.cxds_score'</li><li>'Diff'</li><li>'nCount_SCT'</li><li>'nFeature_SCT'</li><li>'SCT_snn_res.2'</li><li>'seurat_clusters'</li><li>'SCT_snn_res.0.5'</li><li>'CellTypist_label_Alsinet'</li><li>'CellTypist_conf_score_Alsinet'</li><li>'CellTypist_label_FBMA'</li><li>'CellTypist_conf_score_FBMA'</li><li>'CellTypist_label_Immune_ALL_low'</li><li>'CellTypist_conf_score_Immune_ALL_low'</li><li>'Integrated_annotation'</li><li>'integrated_nn_res.0.5'</li><li>'Subclusters_2'</li><li>'Subclusters_5'</li><li>'Subclusters_7'</li><li>'Subclusters_9'</li><li>'Subclusters_10'</li><li>'Subclusters_11'</li><li>'Subclusters_13'</li><li>'my_own_clusters'</li><li>'Integrated_annotation_after_rpca'</li><li>'Assignation_demux_NO_CellBender'</li><li>'Assigned_GFPbc_demux__NO_CellBender'</li><li>'Assignation_demux_CellBender'</li><li>'Assigned_GFPbc_demux_CellBender'</li><li>'Assignation_GEX_not_amplified'</li><li>'time_point'</li><li>'integrative_genotyping'</li><li>'clone_line'</li><li>'Genotype'</li></ol>\n"
      ],
      "text/latex": [
       "\\begin{enumerate*}\n",
       "\\item 'orig.ident'\n",
       "\\item 'nCount\\_RNA'\n",
       "\\item 'nFeature\\_RNA'\n",
       "\\item 'nCount\\_RNA\\_raw'\n",
       "\\item 'nFeature\\_RNA\\_raw'\n",
       "\\item 'percent.mt'\n",
       "\\item 'scDblFinder.class'\n",
       "\\item 'scDblFinder.score'\n",
       "\\item 'scDblFinder.weighted'\n",
       "\\item 'scDblFinder.cxds\\_score'\n",
       "\\item 'Diff'\n",
       "\\item 'nCount\\_SCT'\n",
       "\\item 'nFeature\\_SCT'\n",
       "\\item 'SCT\\_snn\\_res.2'\n",
       "\\item 'seurat\\_clusters'\n",
       "\\item 'SCT\\_snn\\_res.0.5'\n",
       "\\item 'CellTypist\\_label\\_Alsinet'\n",
       "\\item 'CellTypist\\_conf\\_score\\_Alsinet'\n",
       "\\item 'CellTypist\\_label\\_FBMA'\n",
       "\\item 'CellTypist\\_conf\\_score\\_FBMA'\n",
       "\\item 'CellTypist\\_label\\_Immune\\_ALL\\_low'\n",
       "\\item 'CellTypist\\_conf\\_score\\_Immune\\_ALL\\_low'\n",
       "\\item 'Integrated\\_annotation'\n",
       "\\item 'integrated\\_nn\\_res.0.5'\n",
       "\\item 'Subclusters\\_2'\n",
       "\\item 'Subclusters\\_5'\n",
       "\\item 'Subclusters\\_7'\n",
       "\\item 'Subclusters\\_9'\n",
       "\\item 'Subclusters\\_10'\n",
       "\\item 'Subclusters\\_11'\n",
       "\\item 'Subclusters\\_13'\n",
       "\\item 'my\\_own\\_clusters'\n",
       "\\item 'Integrated\\_annotation\\_after\\_rpca'\n",
       "\\item 'Assignation\\_demux\\_NO\\_CellBender'\n",
       "\\item 'Assigned\\_GFPbc\\_demux\\_\\_NO\\_CellBender'\n",
       "\\item 'Assignation\\_demux\\_CellBender'\n",
       "\\item 'Assigned\\_GFPbc\\_demux\\_CellBender'\n",
       "\\item 'Assignation\\_GEX\\_not\\_amplified'\n",
       "\\item 'time\\_point'\n",
       "\\item 'integrative\\_genotyping'\n",
       "\\item 'clone\\_line'\n",
       "\\item 'Genotype'\n",
       "\\end{enumerate*}\n"
      ],
      "text/markdown": [
       "1. 'orig.ident'\n",
       "2. 'nCount_RNA'\n",
       "3. 'nFeature_RNA'\n",
       "4. 'nCount_RNA_raw'\n",
       "5. 'nFeature_RNA_raw'\n",
       "6. 'percent.mt'\n",
       "7. 'scDblFinder.class'\n",
       "8. 'scDblFinder.score'\n",
       "9. 'scDblFinder.weighted'\n",
       "10. 'scDblFinder.cxds_score'\n",
       "11. 'Diff'\n",
       "12. 'nCount_SCT'\n",
       "13. 'nFeature_SCT'\n",
       "14. 'SCT_snn_res.2'\n",
       "15. 'seurat_clusters'\n",
       "16. 'SCT_snn_res.0.5'\n",
       "17. 'CellTypist_label_Alsinet'\n",
       "18. 'CellTypist_conf_score_Alsinet'\n",
       "19. 'CellTypist_label_FBMA'\n",
       "20. 'CellTypist_conf_score_FBMA'\n",
       "21. 'CellTypist_label_Immune_ALL_low'\n",
       "22. 'CellTypist_conf_score_Immune_ALL_low'\n",
       "23. 'Integrated_annotation'\n",
       "24. 'integrated_nn_res.0.5'\n",
       "25. 'Subclusters_2'\n",
       "26. 'Subclusters_5'\n",
       "27. 'Subclusters_7'\n",
       "28. 'Subclusters_9'\n",
       "29. 'Subclusters_10'\n",
       "30. 'Subclusters_11'\n",
       "31. 'Subclusters_13'\n",
       "32. 'my_own_clusters'\n",
       "33. 'Integrated_annotation_after_rpca'\n",
       "34. 'Assignation_demux_NO_CellBender'\n",
       "35. 'Assigned_GFPbc_demux__NO_CellBender'\n",
       "36. 'Assignation_demux_CellBender'\n",
       "37. 'Assigned_GFPbc_demux_CellBender'\n",
       "38. 'Assignation_GEX_not_amplified'\n",
       "39. 'time_point'\n",
       "40. 'integrative_genotyping'\n",
       "41. 'clone_line'\n",
       "42. 'Genotype'\n",
       "\n",
       "\n"
      ],
      "text/plain": [
       " [1] \"orig.ident\"                          \n",
       " [2] \"nCount_RNA\"                          \n",
       " [3] \"nFeature_RNA\"                        \n",
       " [4] \"nCount_RNA_raw\"                      \n",
       " [5] \"nFeature_RNA_raw\"                    \n",
       " [6] \"percent.mt\"                          \n",
       " [7] \"scDblFinder.class\"                   \n",
       " [8] \"scDblFinder.score\"                   \n",
       " [9] \"scDblFinder.weighted\"                \n",
       "[10] \"scDblFinder.cxds_score\"              \n",
       "[11] \"Diff\"                                \n",
       "[12] \"nCount_SCT\"                          \n",
       "[13] \"nFeature_SCT\"                        \n",
       "[14] \"SCT_snn_res.2\"                       \n",
       "[15] \"seurat_clusters\"                     \n",
       "[16] \"SCT_snn_res.0.5\"                     \n",
       "[17] \"CellTypist_label_Alsinet\"            \n",
       "[18] \"CellTypist_conf_score_Alsinet\"       \n",
       "[19] \"CellTypist_label_FBMA\"               \n",
       "[20] \"CellTypist_conf_score_FBMA\"          \n",
       "[21] \"CellTypist_label_Immune_ALL_low\"     \n",
       "[22] \"CellTypist_conf_score_Immune_ALL_low\"\n",
       "[23] \"Integrated_annotation\"               \n",
       "[24] \"integrated_nn_res.0.5\"               \n",
       "[25] \"Subclusters_2\"                       \n",
       "[26] \"Subclusters_5\"                       \n",
       "[27] \"Subclusters_7\"                       \n",
       "[28] \"Subclusters_9\"                       \n",
       "[29] \"Subclusters_10\"                      \n",
       "[30] \"Subclusters_11\"                      \n",
       "[31] \"Subclusters_13\"                      \n",
       "[32] \"my_own_clusters\"                     \n",
       "[33] \"Integrated_annotation_after_rpca\"    \n",
       "[34] \"Assignation_demux_NO_CellBender\"     \n",
       "[35] \"Assigned_GFPbc_demux__NO_CellBender\" \n",
       "[36] \"Assignation_demux_CellBender\"        \n",
       "[37] \"Assigned_GFPbc_demux_CellBender\"     \n",
       "[38] \"Assignation_GEX_not_amplified\"       \n",
       "[39] \"time_point\"                          \n",
       "[40] \"integrative_genotyping\"              \n",
       "[41] \"clone_line\"                          \n",
       "[42] \"Genotype\"                            "
      ]
     },
     "metadata": {},
     "output_type": "display_data"
    }
   ],
   "source": [
    "colnames(met)"
   ]
  },
  {
   "cell_type": "code",
   "execution_count": 393,
   "id": "68eb66b9-6e99-47fd-aab6-a0dff0b5d98a",
   "metadata": {
    "execution": {
     "iopub.execute_input": "2025-10-14T11:31:04.792499Z",
     "iopub.status.busy": "2025-10-14T11:31:04.791382Z",
     "iopub.status.idle": "2025-10-14T11:31:04.808840Z",
     "shell.execute_reply": "2025-10-14T11:31:04.807594Z"
    }
   },
   "outputs": [],
   "source": [
    "met.dt<-data.table(met,key=c(\"time_point\",\"Integrated_annotation_after_rpca\",\"Assigned_GFPbc_demux__NO_CellBender\",\"Diff\"))"
   ]
  },
  {
   "cell_type": "code",
   "execution_count": 394,
   "id": "d0bdca54-cebd-432a-8bc4-7c6805539c1b",
   "metadata": {
    "execution": {
     "iopub.execute_input": "2025-10-14T11:31:04.811903Z",
     "iopub.status.busy": "2025-10-14T11:31:04.810816Z",
     "iopub.status.idle": "2025-10-14T11:31:04.818646Z",
     "shell.execute_reply": "2025-10-14T11:31:04.817415Z"
    }
   },
   "outputs": [],
   "source": [
    "#str(met.dt)"
   ]
  },
  {
   "cell_type": "code",
   "execution_count": 395,
   "id": "6703cbfe-7bc0-4063-b310-eb74baae7bd2",
   "metadata": {
    "execution": {
     "iopub.execute_input": "2025-10-14T11:31:04.821669Z",
     "iopub.status.busy": "2025-10-14T11:31:04.820578Z",
     "iopub.status.idle": "2025-10-14T11:31:04.837624Z",
     "shell.execute_reply": "2025-10-14T11:31:04.835968Z"
    }
   },
   "outputs": [
    {
     "name": "stdout",
     "output_type": "stream",
     "text": [
      "'data.frame':\t91 obs. of  5 variables:\n",
      " $ time_point                         : Ord.factor w/ 2 levels \"0_days\"<\"8_days\": 1 1 1 1 1 1 1 1 1 1 ...\n",
      " $ Integrated_annotation_after_rpca   : Ord.factor w/ 6 levels \"hESC\"<\"HemogenicEndothelium\"<..: 1 1 1 1 1 1 1 1 1 1 ...\n",
      " $ Assigned_GFPbc_demux__NO_CellBender: Ord.factor w/ 14 levels \"chrGFP_WTA\"<\"chrGFP_WTB\"<..: 1 2 3 4 5 6 7 8 9 10 ...\n",
      " $ Diff                               : Ord.factor w/ 1 level \"Diff_MK_non_competition\": 1 1 1 1 1 1 1 1 1 1 ...\n",
      " $ Freq                               : int  46 40 68 44 40 42 28 61 72 41 ...\n"
     ]
    }
   ],
   "source": [
    "Freq.table<-as.data.frame(met.dt[,.(Freq=.N),by=key(met.dt)], stringsAsFactors=F)\n",
    "\n",
    "str(Freq.table)"
   ]
  },
  {
   "cell_type": "code",
   "execution_count": 396,
   "id": "9bd3e9ec-eb99-4b49-bda6-c090d5e12b3d",
   "metadata": {
    "execution": {
     "iopub.execute_input": "2025-10-14T11:31:04.841891Z",
     "iopub.status.busy": "2025-10-14T11:31:04.840774Z",
     "iopub.status.idle": "2025-10-14T11:31:04.865821Z",
     "shell.execute_reply": "2025-10-14T11:31:04.864551Z"
    }
   },
   "outputs": [
    {
     "name": "stdout",
     "output_type": "stream",
     "text": [
      "'data.frame':\t8 obs. of  4 variables:\n",
      " $ time_point                      : Ord.factor w/ 2 levels \"0_days\"<\"8_days\": 1 1 2 2 2 2 2 2\n",
      " $ Integrated_annotation_after_rpca: Ord.factor w/ 6 levels \"hESC\"<\"HemogenicEndothelium\"<..: 1 3 1 2 3 4 5 6\n",
      " $ Diff                            : Ord.factor w/ 1 level \"Diff_MK_non_competition\": 1 1 1 1 1 1 1 1\n",
      " $ TOTAL                           : int  17282 11 1791 1805 11025 1169 147 1990\n"
     ]
    }
   ],
   "source": [
    "met.dt<-data.table(met, key=c(\"time_point\",\"Integrated_annotation_after_rpca\",\"Diff\"))\n",
    "Freq.TOTAL<-as.data.frame(met.dt[,.(TOTAL=.N),by=key(met.dt)], stringsAsFactors=F)\n",
    "\n",
    "str(Freq.TOTAL)"
   ]
  },
  {
   "cell_type": "code",
   "execution_count": 397,
   "id": "289b8b39-1eca-4856-8fe8-9d2d1c40d5cc",
   "metadata": {
    "execution": {
     "iopub.execute_input": "2025-10-14T11:31:04.901953Z",
     "iopub.status.busy": "2025-10-14T11:31:04.900853Z",
     "iopub.status.idle": "2025-10-14T11:31:04.913103Z",
     "shell.execute_reply": "2025-10-14T11:31:04.911882Z"
    }
   },
   "outputs": [],
   "source": [
    "Freq.table<-merge(Freq.table,\n",
    "                  Freq.TOTAL,\n",
    "                  by=c(\"time_point\",\"Integrated_annotation_after_rpca\",\"Diff\"))\n",
    "Freq.table$Perc<-round((100*(Freq.table$Freq/Freq.table$TOTAL)),2)\n",
    "\n",
    "#Freq.table"
   ]
  },
  {
   "cell_type": "code",
   "execution_count": 398,
   "id": "744c49fb-7452-4498-b51d-4701612ba632",
   "metadata": {
    "execution": {
     "iopub.execute_input": "2025-10-14T11:31:04.948601Z",
     "iopub.status.busy": "2025-10-14T11:31:04.947526Z",
     "iopub.status.idle": "2025-10-14T11:31:04.960880Z",
     "shell.execute_reply": "2025-10-14T11:31:04.959663Z"
    }
   },
   "outputs": [
    {
     "name": "stdout",
     "output_type": "stream",
     "text": [
      "'data.frame':\t91 obs. of  7 variables:\n",
      " $ time_point                         : Ord.factor w/ 2 levels \"0_days\"<\"8_days\": 1 1 1 1 1 1 1 1 1 1 ...\n",
      " $ Integrated_annotation_after_rpca   : Ord.factor w/ 6 levels \"hESC\"<\"HemogenicEndothelium\"<..: 1 1 1 1 1 1 1 1 1 1 ...\n",
      " $ Diff                               : Ord.factor w/ 1 level \"Diff_MK_non_competition\": 1 1 1 1 1 1 1 1 1 1 ...\n",
      " $ Assigned_GFPbc_demux__NO_CellBender: Ord.factor w/ 14 levels \"chrGFP_WTA\"<\"chrGFP_WTB\"<..: 1 2 3 4 5 6 7 8 9 10 ...\n",
      " $ Freq                               : int  46 40 68 44 40 42 28 61 72 41 ...\n",
      " $ TOTAL                              : int  17282 17282 17282 17282 17282 17282 17282 17282 17282 17282 ...\n",
      " $ Perc                               : num  0.27 0.23 0.39 0.25 0.23 0.24 0.16 0.35 0.42 0.24 ...\n"
     ]
    }
   ],
   "source": [
    "str(Freq.table)"
   ]
  },
  {
   "cell_type": "code",
   "execution_count": 399,
   "id": "5fe349b7-d2cc-4ec7-a587-a66ffa1cb34f",
   "metadata": {
    "execution": {
     "iopub.execute_input": "2025-10-14T11:31:04.997627Z",
     "iopub.status.busy": "2025-10-14T11:31:04.996555Z",
     "iopub.status.idle": "2025-10-14T11:31:05.019971Z",
     "shell.execute_reply": "2025-10-14T11:31:05.018745Z"
    }
   },
   "outputs": [
    {
     "name": "stdout",
     "output_type": "stream",
     "text": [
      "'data.frame':\t2 obs. of  3 variables:\n",
      " $ time_point: Ord.factor w/ 2 levels \"0_days\"<\"8_days\": 1 2\n",
      " $ Diff      : Ord.factor w/ 1 level \"Diff_MK_non_competition\": 1 1\n",
      " $ ntime     : int  17293 17927\n"
     ]
    }
   ],
   "source": [
    "met.dt<-data.table(met, key=c(\"time_point\",\"Diff\"))\n",
    "Freq.time_point<-as.data.frame(met.dt[,.(ntime=.N),by=key(met.dt)], stringsAsFactors=F)\n",
    "\n",
    "\n",
    "str(Freq.time_point)"
   ]
  },
  {
   "cell_type": "code",
   "execution_count": 400,
   "id": "adf5a545-2e77-4b8b-a20e-da9023af81ac",
   "metadata": {
    "execution": {
     "iopub.execute_input": "2025-10-14T11:31:05.035763Z",
     "iopub.status.busy": "2025-10-14T11:31:05.034665Z",
     "iopub.status.idle": "2025-10-14T11:31:05.051426Z",
     "shell.execute_reply": "2025-10-14T11:31:05.050195Z"
    }
   },
   "outputs": [
    {
     "name": "stdout",
     "output_type": "stream",
     "text": [
      "'data.frame':\t91 obs. of  8 variables:\n",
      " $ time_point                         : Ord.factor w/ 2 levels \"0_days\"<\"8_days\": 1 1 1 1 1 1 1 1 1 1 ...\n",
      " $ Diff                               : Ord.factor w/ 1 level \"Diff_MK_non_competition\": 1 1 1 1 1 1 1 1 1 1 ...\n",
      " $ Integrated_annotation_after_rpca   : Ord.factor w/ 6 levels \"hESC\"<\"HemogenicEndothelium\"<..: 1 1 1 1 1 1 1 1 1 1 ...\n",
      " $ Assigned_GFPbc_demux__NO_CellBender: Ord.factor w/ 14 levels \"chrGFP_WTA\"<\"chrGFP_WTB\"<..: 1 2 3 4 5 6 7 8 9 10 ...\n",
      " $ Freq                               : int  46 40 68 44 40 42 28 61 72 41 ...\n",
      " $ TOTAL                              : int  17282 17282 17282 17282 17282 17282 17282 17282 17282 17282 ...\n",
      " $ Perc                               : num  0.27 0.23 0.39 0.25 0.23 0.24 0.16 0.35 0.42 0.24 ...\n",
      " $ ntime                              : int  17293 17293 17293 17293 17293 17293 17293 17293 17293 17293 ...\n"
     ]
    }
   ],
   "source": [
    "Freq.table<-merge(Freq.table,\n",
    "                  Freq.time_point,\n",
    "                  by=c(\"time_point\",\"Diff\"))\n",
    "\n",
    "str(Freq.table)"
   ]
  },
  {
   "cell_type": "code",
   "execution_count": 401,
   "id": "f843a70c-eec6-4102-a571-d7be6f5c4042",
   "metadata": {
    "execution": {
     "iopub.execute_input": "2025-10-14T11:31:05.063400Z",
     "iopub.status.busy": "2025-10-14T11:31:05.062323Z",
     "iopub.status.idle": "2025-10-14T11:31:05.078047Z",
     "shell.execute_reply": "2025-10-14T11:31:05.076777Z"
    }
   },
   "outputs": [
    {
     "name": "stdout",
     "output_type": "stream",
     "text": [
      "'data.frame':\t90 obs. of  8 variables:\n",
      " $ time_point                         : Ord.factor w/ 2 levels \"0_days\"<\"8_days\": 1 1 1 1 1 1 1 1 1 1 ...\n",
      " $ Diff                               : Ord.factor w/ 1 level \"Diff_MK_non_competition\": 1 1 1 1 1 1 1 1 1 1 ...\n",
      " $ Integrated_annotation_after_rpca   : Ord.factor w/ 6 levels \"hESC\"<\"HemogenicEndothelium\"<..: 1 1 1 1 1 1 1 1 1 1 ...\n",
      " $ Assigned_GFPbc_demux__NO_CellBender: Ord.factor w/ 14 levels \"chrGFP_WTA\"<\"chrGFP_WTB\"<..: 1 2 3 4 5 6 7 8 9 10 ...\n",
      " $ Freq                               : int  46 40 68 44 40 42 28 61 72 41 ...\n",
      " $ TOTAL                              : int  17282 17282 17282 17282 17282 17282 17282 17282 17282 17282 ...\n",
      " $ Perc                               : num  0.27 0.23 0.39 0.25 0.23 0.24 0.16 0.35 0.42 0.24 ...\n",
      " $ ntime                              : int  17293 17293 17293 17293 17293 17293 17293 17293 17293 17293 ...\n"
     ]
    }
   ],
   "source": [
    "Freq.table_filtered<-Freq.table[which(Freq.table$TOTAL >= 100),]\n",
    "\n",
    "str(Freq.table_filtered)"
   ]
  },
  {
   "cell_type": "code",
   "execution_count": 402,
   "id": "3b4cedd4-0013-4451-92d6-2552beb79eb2",
   "metadata": {
    "execution": {
     "iopub.execute_input": "2025-10-14T11:31:05.093766Z",
     "iopub.status.busy": "2025-10-14T11:31:05.092701Z",
     "iopub.status.idle": "2025-10-14T11:31:05.101471Z",
     "shell.execute_reply": "2025-10-14T11:31:05.100222Z"
    }
   },
   "outputs": [],
   "source": [
    "fill_colours<-c(brewer.pal(9, \"Greens\")[c(5,6,7)],brewer.pal(9, \"Reds\")[c(5,6,7)],brewer.pal(9, \"Purples\")[c(5,6,7)],brewer.pal(9, \"PuRd\")[c(5,6,7)],'gray','black')"
   ]
  },
  {
   "cell_type": "code",
   "execution_count": 403,
   "id": "12de5063-da99-43c7-8c85-d92f828ab784",
   "metadata": {
    "execution": {
     "iopub.execute_input": "2025-10-14T11:31:05.139197Z",
     "iopub.status.busy": "2025-10-14T11:31:05.138118Z",
     "iopub.status.idle": "2025-10-14T11:31:05.151995Z",
     "shell.execute_reply": "2025-10-14T11:31:05.150789Z"
    }
   },
   "outputs": [
    {
     "name": "stdout",
     "output_type": "stream",
     "text": [
      "'data.frame':\t90 obs. of  8 variables:\n",
      " $ time_point                         : Ord.factor w/ 2 levels \"0_days\"<\"8_days\": 1 1 1 1 1 1 1 1 1 1 ...\n",
      " $ Diff                               : Ord.factor w/ 1 level \"Diff_MK_non_competition\": 1 1 1 1 1 1 1 1 1 1 ...\n",
      " $ Integrated_annotation_after_rpca   : Ord.factor w/ 6 levels \"hESC\"<\"HemogenicEndothelium\"<..: 1 1 1 1 1 1 1 1 1 1 ...\n",
      " $ Assigned_GFPbc_demux__NO_CellBender: Ord.factor w/ 14 levels \"chrGFP_WTA\"<\"chrGFP_WTB\"<..: 1 2 3 4 5 6 7 8 9 10 ...\n",
      " $ Freq                               : int  46 40 68 44 40 42 28 61 72 41 ...\n",
      " $ TOTAL                              : int  17282 17282 17282 17282 17282 17282 17282 17282 17282 17282 ...\n",
      " $ Perc                               : num  0.27 0.23 0.39 0.25 0.23 0.24 0.16 0.35 0.42 0.24 ...\n",
      " $ ntime                              : int  17293 17293 17293 17293 17293 17293 17293 17293 17293 17293 ...\n"
     ]
    }
   ],
   "source": [
    "str(Freq.table_filtered)"
   ]
  },
  {
   "cell_type": "code",
   "execution_count": 404,
   "id": "7104bff9-6616-41eb-9d2d-956651b72054",
   "metadata": {
    "execution": {
     "iopub.execute_input": "2025-10-14T11:31:05.177448Z",
     "iopub.status.busy": "2025-10-14T11:31:05.176369Z",
     "iopub.status.idle": "2025-10-14T11:31:07.288990Z",
     "shell.execute_reply": "2025-10-14T11:31:07.287814Z"
    }
   },
   "outputs": [
    {
     "name": "stdout",
     "output_type": "stream",
     "text": [
      "-------------------------------------->\t0 25 50 75 100\n"
     ]
    },
    {
     "data": {
      "image/png": "[encoded data removed]",
      "text/plain": [
       "plot without title"
      ]
     },
     "metadata": {
      "image/png": {
       "height": 420,
       "width": 420
      }
     },
     "output_type": "display_data"
    }
   ],
   "source": [
    "#### Stacked Graph #1---------------\n",
    "  \n",
    "  breaks.Rank<-(seq(0,100,by=25))\n",
    "  labels.Rank<-as.character(breaks.Rank)\n",
    "  \n",
    "  cat(\"-------------------------------------->\\t\")\n",
    "  cat(sprintf(as.character(labels.Rank)))\n",
    "  cat(\"\\n\")\n",
    "  \n",
    "  \n",
    "  stacked_barplot<-Freq.table_filtered %>%\n",
    "    mutate(myaxis = paste0(Integrated_annotation_after_rpca, \"\\n\", \"n=\", TOTAL), drop=F) %>%\n",
    "    mutate(myaxis=fct_reorder(myaxis,as.numeric(Integrated_annotation_after_rpca)), drop=F) %>%\n",
    "    ggplot(aes(x=myaxis, y=Perc, fill=Assigned_GFPbc_demux__NO_CellBender)) +\n",
    "    geom_bar(stat=\"identity\",colour='white')+\n",
    "    scale_y_continuous(name=paste(\"Percentage of cells in each cell type\",sep=\" \"),breaks=breaks.Rank,labels=labels.Rank,\n",
    "                       limits=c(breaks.Rank[1],breaks.Rank[length(breaks.Rank)]+1))+\n",
    "    scale_fill_manual(values=fill_colours,\n",
    "                      drop=F,\n",
    "                      name=\"Genotype\")\n",
    "\n",
    " stacked_barplot<-stacked_barplot+\n",
    "    theme_cowplot(font_size = 2)+\n",
    "    facet_grid(Diff ~ time_point+ntime, scales='free_x', space='free_x', switch=\"y\", \n",
    "               labeller=labeller(paste0(Freq.table_filtered$time_point, \"\\n\", \"n=\", Freq.table_filtered$ntime, drop=T)))+   \n",
    "    scale_x_discrete(name=\"Integrated_annotation_after_rpca\", drop=T)+\n",
    "    theme( strip.background = element_blank(),\n",
    "           strip.placement = \"outside\",\n",
    "           strip.text = element_text(size=6),\n",
    "           panel.spacing = unit(0.2, \"lines\"),\n",
    "           panel.background=element_rect(fill=\"white\"),\n",
    "           panel.border=element_rect(colour=\"white\",size=0,5),\n",
    "           panel.grid.major = element_blank(),\n",
    "           panel.grid.minor = element_blank())+\n",
    "        theme_classic()+\n",
    "            theme(axis.title.y=element_text(size=12, color=\"black\", family=\"sans\"),\n",
    "                  axis.title.x=element_blank(),\n",
    "                  axis.text.y=element_text(angle=0,size=10, color=\"black\", family=\"sans\"),\n",
    "                  axis.text.x=element_text(angle=45,size=8,hjust=1,color=\"black\", family=\"sans\"),\n",
    "                  axis.line.x = element_line(size = 0.2),\n",
    "                  axis.ticks.x = element_line(size = 0.2),\n",
    "                  axis.ticks.y = element_line(size = 0.2),\n",
    "                  axis.line.y = element_line(size = 0.2))+\n",
    "            theme(legend.title = element_blank(),\n",
    "                  legend.text = element_text(size=8, color=\"black\", family=\"sans\"),\n",
    "                  legend.key.size = unit(0.25, 'cm'), #change legend key size\n",
    "                  legend.key.height = unit(0.25, 'cm'), #change legend key height\n",
    "                  legend.key.width = unit(0.25, 'cm'), #change legend key width\n",
    "                  legend.position=\"bottom\")\n",
    "\n",
    "\n",
    "\n",
    "stacked_barplot"
   ]
  },
  {
   "cell_type": "code",
   "execution_count": 408,
   "id": "830f761f-1fbc-4bce-93e4-5215ed4d722f",
   "metadata": {
    "execution": {
     "iopub.execute_input": "2025-10-14T11:31:25.953849Z",
     "iopub.status.busy": "2025-10-14T11:31:25.952654Z",
     "iopub.status.idle": "2025-10-14T11:31:26.423093Z",
     "shell.execute_reply": "2025-10-14T11:31:26.421737Z"
    }
   },
   "outputs": [
    {
     "name": "stderr",
     "output_type": "stream",
     "text": [
      "\u001b[1m\u001b[22mSaving 6.67 x 6.67 in image\n"
     ]
    }
   ],
   "source": [
    "setwd(path_graphs)\n",
    "\n",
    "svgname<-paste(\"stacked_barplot_Diff_vs_time_point_Integrated_annotation_after_rpca_vs_Assigned_GFPbc_demux__NO_CellBender\",\".png\",sep='')\n",
    "makesvg = TRUE\n",
    "\n",
    "if (makesvg == TRUE)\n",
    "{\n",
    "  ggsave(svgname, plot= stacked_barplot,\n",
    "         device=\"png\")\n",
    "}"
   ]
  },
  {
   "cell_type": "markdown",
   "id": "bc06ef63-07ad-46ec-aa17-dd9c701b5645",
   "metadata": {},
   "source": [
    "## Assigned_GFPbc_demux_CellBender vs Integrated_annotation_after_rpca vs time_point vs Diff"
   ]
  },
  {
   "cell_type": "code",
   "execution_count": 409,
   "id": "27229176-a56d-4b61-9218-5a15531d0f02",
   "metadata": {
    "execution": {
     "iopub.execute_input": "2025-10-14T11:31:30.181800Z",
     "iopub.status.busy": "2025-10-14T11:31:30.180664Z",
     "iopub.status.idle": "2025-10-14T11:31:30.190015Z",
     "shell.execute_reply": "2025-10-14T11:31:30.188878Z"
    }
   },
   "outputs": [],
   "source": [
    "met<-adata[[]]"
   ]
  },
  {
   "cell_type": "code",
   "execution_count": 410,
   "id": "c3235f5a-e1a3-459c-96ab-79a0daafecb4",
   "metadata": {
    "execution": {
     "iopub.execute_input": "2025-10-14T11:31:30.227690Z",
     "iopub.status.busy": "2025-10-14T11:31:30.226703Z",
     "iopub.status.idle": "2025-10-14T11:31:30.233865Z",
     "shell.execute_reply": "2025-10-14T11:31:30.232762Z"
    }
   },
   "outputs": [],
   "source": [
    "#colnames(met)"
   ]
  },
  {
   "cell_type": "code",
   "execution_count": 411,
   "id": "43c3b034-30a2-4cc3-b805-5c501702bff2",
   "metadata": {
    "execution": {
     "iopub.execute_input": "2025-10-14T11:31:30.275023Z",
     "iopub.status.busy": "2025-10-14T11:31:30.274046Z",
     "iopub.status.idle": "2025-10-14T11:31:30.289798Z",
     "shell.execute_reply": "2025-10-14T11:31:30.288684Z"
    }
   },
   "outputs": [],
   "source": [
    "met.dt<-data.table(met,key=c(\"time_point\",\"Integrated_annotation_after_rpca\",\"Assigned_GFPbc_demux_CellBender\",\"Diff\"))"
   ]
  },
  {
   "cell_type": "code",
   "execution_count": 412,
   "id": "b8d043f3-b01e-42c2-ae20-d29cdd325a75",
   "metadata": {
    "execution": {
     "iopub.execute_input": "2025-10-14T11:31:30.313977Z",
     "iopub.status.busy": "2025-10-14T11:31:30.313002Z",
     "iopub.status.idle": "2025-10-14T11:31:30.320177Z",
     "shell.execute_reply": "2025-10-14T11:31:30.319071Z"
    }
   },
   "outputs": [],
   "source": [
    "#str(met.dt)"
   ]
  },
  {
   "cell_type": "code",
   "execution_count": 413,
   "id": "cc2c5e91-2ec5-4f43-8859-9234bc18e2bb",
   "metadata": {
    "execution": {
     "iopub.execute_input": "2025-10-14T11:31:30.360841Z",
     "iopub.status.busy": "2025-10-14T11:31:30.359854Z",
     "iopub.status.idle": "2025-10-14T11:31:30.375197Z",
     "shell.execute_reply": "2025-10-14T11:31:30.374098Z"
    }
   },
   "outputs": [
    {
     "name": "stdout",
     "output_type": "stream",
     "text": [
      "'data.frame':\t82 obs. of  5 variables:\n",
      " $ time_point                      : Ord.factor w/ 2 levels \"0_days\"<\"8_days\": 1 1 1 1 1 1 1 1 1 1 ...\n",
      " $ Integrated_annotation_after_rpca: Ord.factor w/ 6 levels \"hESC\"<\"HemogenicEndothelium\"<..: 1 1 1 1 1 1 1 1 1 1 ...\n",
      " $ Assigned_GFPbc_demux_CellBender : Ord.factor w/ 14 levels \"chrGFP_WTA\"<\"chrGFP_WTB\"<..: 1 2 3 4 5 6 7 8 9 10 ...\n",
      " $ Diff                            : Ord.factor w/ 1 level \"Diff_MK_non_competition\": 1 1 1 1 1 1 1 1 1 1 ...\n",
      " $ Freq                            : int  26 68 47 45 25 56 41 49 59 47 ...\n"
     ]
    }
   ],
   "source": [
    "Freq.table<-as.data.frame(met.dt[,.(Freq=.N),by=key(met.dt)], stringsAsFactors=F)\n",
    "\n",
    "str(Freq.table)"
   ]
  },
  {
   "cell_type": "code",
   "execution_count": 414,
   "id": "44b11410-516e-4e37-bda6-63baac0f3ef5",
   "metadata": {
    "execution": {
     "iopub.execute_input": "2025-10-14T11:31:30.411084Z",
     "iopub.status.busy": "2025-10-14T11:31:30.410096Z",
     "iopub.status.idle": "2025-10-14T11:31:30.432511Z",
     "shell.execute_reply": "2025-10-14T11:31:30.431373Z"
    }
   },
   "outputs": [
    {
     "name": "stdout",
     "output_type": "stream",
     "text": [
      "'data.frame':\t8 obs. of  4 variables:\n",
      " $ time_point                      : Ord.factor w/ 2 levels \"0_days\"<\"8_days\": 1 1 2 2 2 2 2 2\n",
      " $ Integrated_annotation_after_rpca: Ord.factor w/ 6 levels \"hESC\"<\"HemogenicEndothelium\"<..: 1 3 1 2 3 4 5 6\n",
      " $ Diff                            : Ord.factor w/ 1 level \"Diff_MK_non_competition\": 1 1 1 1 1 1 1 1\n",
      " $ TOTAL                           : int  17282 11 1791 1805 11025 1169 147 1990\n"
     ]
    }
   ],
   "source": [
    "met.dt<-data.table(met, key=c(\"time_point\",\"Integrated_annotation_after_rpca\",\"Diff\"))\n",
    "Freq.TOTAL<-as.data.frame(met.dt[,.(TOTAL=.N),by=key(met.dt)], stringsAsFactors=F)\n",
    "\n",
    "str(Freq.TOTAL)"
   ]
  },
  {
   "cell_type": "code",
   "execution_count": 415,
   "id": "56c59638-0fa3-4172-97b7-c73728a319b7",
   "metadata": {
    "execution": {
     "iopub.execute_input": "2025-10-14T11:31:30.480387Z",
     "iopub.status.busy": "2025-10-14T11:31:30.479407Z",
     "iopub.status.idle": "2025-10-14T11:31:30.490861Z",
     "shell.execute_reply": "2025-10-14T11:31:30.489757Z"
    }
   },
   "outputs": [],
   "source": [
    "Freq.table<-merge(Freq.table,\n",
    "                  Freq.TOTAL,\n",
    "                  by=c(\"time_point\",\"Integrated_annotation_after_rpca\",\"Diff\"))\n",
    "Freq.table$Perc<-round((100*(Freq.table$Freq/Freq.table$TOTAL)),2)\n",
    "\n",
    "#Freq.table"
   ]
  },
  {
   "cell_type": "code",
   "execution_count": 416,
   "id": "79dd3154-bc65-4bf9-855f-436b315684c1",
   "metadata": {
    "execution": {
     "iopub.execute_input": "2025-10-14T11:31:30.533753Z",
     "iopub.status.busy": "2025-10-14T11:31:30.532789Z",
     "iopub.status.idle": "2025-10-14T11:31:30.545160Z",
     "shell.execute_reply": "2025-10-14T11:31:30.544061Z"
    }
   },
   "outputs": [
    {
     "name": "stdout",
     "output_type": "stream",
     "text": [
      "'data.frame':\t82 obs. of  7 variables:\n",
      " $ time_point                      : Ord.factor w/ 2 levels \"0_days\"<\"8_days\": 1 1 1 1 1 1 1 1 1 1 ...\n",
      " $ Integrated_annotation_after_rpca: Ord.factor w/ 6 levels \"hESC\"<\"HemogenicEndothelium\"<..: 1 1 1 1 1 1 1 1 1 1 ...\n",
      " $ Diff                            : Ord.factor w/ 1 level \"Diff_MK_non_competition\": 1 1 1 1 1 1 1 1 1 1 ...\n",
      " $ Assigned_GFPbc_demux_CellBender : Ord.factor w/ 14 levels \"chrGFP_WTA\"<\"chrGFP_WTB\"<..: 1 2 3 4 5 6 7 8 9 10 ...\n",
      " $ Freq                            : int  26 68 47 45 25 56 41 49 59 47 ...\n",
      " $ TOTAL                           : int  17282 17282 17282 17282 17282 17282 17282 17282 17282 17282 ...\n",
      " $ Perc                            : num  0.15 0.39 0.27 0.26 0.14 0.32 0.24 0.28 0.34 0.27 ...\n"
     ]
    }
   ],
   "source": [
    "str(Freq.table)"
   ]
  },
  {
   "cell_type": "code",
   "execution_count": 417,
   "id": "32d3daac-2b3e-43ee-901e-d569b925ce9c",
   "metadata": {
    "execution": {
     "iopub.execute_input": "2025-10-14T11:31:30.577669Z",
     "iopub.status.busy": "2025-10-14T11:31:30.576687Z",
     "iopub.status.idle": "2025-10-14T11:31:30.596664Z",
     "shell.execute_reply": "2025-10-14T11:31:30.595556Z"
    }
   },
   "outputs": [
    {
     "name": "stdout",
     "output_type": "stream",
     "text": [
      "'data.frame':\t2 obs. of  3 variables:\n",
      " $ time_point: Ord.factor w/ 2 levels \"0_days\"<\"8_days\": 1 2\n",
      " $ Diff      : Ord.factor w/ 1 level \"Diff_MK_non_competition\": 1 1\n",
      " $ ntime     : int  17293 17927\n"
     ]
    }
   ],
   "source": [
    "met.dt<-data.table(met, key=c(\"time_point\",\"Diff\"))\n",
    "Freq.time_point<-as.data.frame(met.dt[,.(ntime=.N),by=key(met.dt)], stringsAsFactors=F)\n",
    "\n",
    "\n",
    "str(Freq.time_point)"
   ]
  },
  {
   "cell_type": "code",
   "execution_count": 418,
   "id": "8aacca93-ece6-40be-be77-6c879d053d83",
   "metadata": {
    "execution": {
     "iopub.execute_input": "2025-10-14T11:31:30.638238Z",
     "iopub.status.busy": "2025-10-14T11:31:30.637271Z",
     "iopub.status.idle": "2025-10-14T11:31:30.652717Z",
     "shell.execute_reply": "2025-10-14T11:31:30.651614Z"
    }
   },
   "outputs": [
    {
     "name": "stdout",
     "output_type": "stream",
     "text": [
      "'data.frame':\t82 obs. of  8 variables:\n",
      " $ time_point                      : Ord.factor w/ 2 levels \"0_days\"<\"8_days\": 1 1 1 1 1 1 1 1 1 1 ...\n",
      " $ Diff                            : Ord.factor w/ 1 level \"Diff_MK_non_competition\": 1 1 1 1 1 1 1 1 1 1 ...\n",
      " $ Integrated_annotation_after_rpca: Ord.factor w/ 6 levels \"hESC\"<\"HemogenicEndothelium\"<..: 1 1 1 1 1 1 1 1 1 1 ...\n",
      " $ Assigned_GFPbc_demux_CellBender : Ord.factor w/ 14 levels \"chrGFP_WTA\"<\"chrGFP_WTB\"<..: 1 2 3 4 5 6 7 8 9 10 ...\n",
      " $ Freq                            : int  26 68 47 45 25 56 41 49 59 47 ...\n",
      " $ TOTAL                           : int  17282 17282 17282 17282 17282 17282 17282 17282 17282 17282 ...\n",
      " $ Perc                            : num  0.15 0.39 0.27 0.26 0.14 0.32 0.24 0.28 0.34 0.27 ...\n",
      " $ ntime                           : int  17293 17293 17293 17293 17293 17293 17293 17293 17293 17293 ...\n"
     ]
    }
   ],
   "source": [
    "Freq.table<-merge(Freq.table,\n",
    "                  Freq.time_point,\n",
    "                  by=c(\"time_point\",\"Diff\"))\n",
    "\n",
    "str(Freq.table)"
   ]
  },
  {
   "cell_type": "code",
   "execution_count": 419,
   "id": "e4450ff7-e343-486e-8935-255a3c6b64c1",
   "metadata": {
    "execution": {
     "iopub.execute_input": "2025-10-14T11:31:30.655459Z",
     "iopub.status.busy": "2025-10-14T11:31:30.654487Z",
     "iopub.status.idle": "2025-10-14T11:31:30.668904Z",
     "shell.execute_reply": "2025-10-14T11:31:30.667780Z"
    }
   },
   "outputs": [
    {
     "name": "stdout",
     "output_type": "stream",
     "text": [
      "'data.frame':\t81 obs. of  8 variables:\n",
      " $ time_point                      : Ord.factor w/ 2 levels \"0_days\"<\"8_days\": 1 1 1 1 1 1 1 1 1 1 ...\n",
      " $ Diff                            : Ord.factor w/ 1 level \"Diff_MK_non_competition\": 1 1 1 1 1 1 1 1 1 1 ...\n",
      " $ Integrated_annotation_after_rpca: Ord.factor w/ 6 levels \"hESC\"<\"HemogenicEndothelium\"<..: 1 1 1 1 1 1 1 1 1 1 ...\n",
      " $ Assigned_GFPbc_demux_CellBender : Ord.factor w/ 14 levels \"chrGFP_WTA\"<\"chrGFP_WTB\"<..: 1 2 3 4 5 6 7 8 9 10 ...\n",
      " $ Freq                            : int  26 68 47 45 25 56 41 49 59 47 ...\n",
      " $ TOTAL                           : int  17282 17282 17282 17282 17282 17282 17282 17282 17282 17282 ...\n",
      " $ Perc                            : num  0.15 0.39 0.27 0.26 0.14 0.32 0.24 0.28 0.34 0.27 ...\n",
      " $ ntime                           : int  17293 17293 17293 17293 17293 17293 17293 17293 17293 17293 ...\n"
     ]
    }
   ],
   "source": [
    "Freq.table_filtered<-Freq.table[which(Freq.table$TOTAL >= 100),]\n",
    "\n",
    "str(Freq.table_filtered)"
   ]
  },
  {
   "cell_type": "code",
   "execution_count": 420,
   "id": "a6176e3c-c79f-4da6-b581-473b3d17d21f",
   "metadata": {
    "execution": {
     "iopub.execute_input": "2025-10-14T11:31:30.707962Z",
     "iopub.status.busy": "2025-10-14T11:31:30.707002Z",
     "iopub.status.idle": "2025-10-14T11:31:30.715085Z",
     "shell.execute_reply": "2025-10-14T11:31:30.713986Z"
    }
   },
   "outputs": [],
   "source": [
    "fill_colours<-c(brewer.pal(9, \"Greens\")[c(5,6,7)],brewer.pal(9, \"Reds\")[c(5,6,7)],brewer.pal(9, \"Purples\")[c(5,6,7)],brewer.pal(9, \"PuRd\")[c(5,6,7)],'gray','black')"
   ]
  },
  {
   "cell_type": "code",
   "execution_count": 421,
   "id": "5d0bb376-3c34-4529-89f3-67693cba3ec0",
   "metadata": {
    "execution": {
     "iopub.execute_input": "2025-10-14T11:31:30.742523Z",
     "iopub.status.busy": "2025-10-14T11:31:30.741517Z",
     "iopub.status.idle": "2025-10-14T11:31:30.754227Z",
     "shell.execute_reply": "2025-10-14T11:31:30.753107Z"
    }
   },
   "outputs": [
    {
     "name": "stdout",
     "output_type": "stream",
     "text": [
      "'data.frame':\t81 obs. of  8 variables:\n",
      " $ time_point                      : Ord.factor w/ 2 levels \"0_days\"<\"8_days\": 1 1 1 1 1 1 1 1 1 1 ...\n",
      " $ Diff                            : Ord.factor w/ 1 level \"Diff_MK_non_competition\": 1 1 1 1 1 1 1 1 1 1 ...\n",
      " $ Integrated_annotation_after_rpca: Ord.factor w/ 6 levels \"hESC\"<\"HemogenicEndothelium\"<..: 1 1 1 1 1 1 1 1 1 1 ...\n",
      " $ Assigned_GFPbc_demux_CellBender : Ord.factor w/ 14 levels \"chrGFP_WTA\"<\"chrGFP_WTB\"<..: 1 2 3 4 5 6 7 8 9 10 ...\n",
      " $ Freq                            : int  26 68 47 45 25 56 41 49 59 47 ...\n",
      " $ TOTAL                           : int  17282 17282 17282 17282 17282 17282 17282 17282 17282 17282 ...\n",
      " $ Perc                            : num  0.15 0.39 0.27 0.26 0.14 0.32 0.24 0.28 0.34 0.27 ...\n",
      " $ ntime                           : int  17293 17293 17293 17293 17293 17293 17293 17293 17293 17293 ...\n"
     ]
    }
   ],
   "source": [
    "str(Freq.table_filtered)"
   ]
  },
  {
   "cell_type": "code",
   "execution_count": 422,
   "id": "d916a304-9ed0-4347-bb61-00cf5aa89c95",
   "metadata": {
    "execution": {
     "iopub.execute_input": "2025-10-14T11:31:31.257694Z",
     "iopub.status.busy": "2025-10-14T11:31:31.256652Z",
     "iopub.status.idle": "2025-10-14T11:31:31.907128Z",
     "shell.execute_reply": "2025-10-14T11:31:31.905979Z"
    }
   },
   "outputs": [
    {
     "name": "stdout",
     "output_type": "stream",
     "text": [
      "-------------------------------------->\t0 25 50 75 100\n"
     ]
    },
    {
     "data": {
      "image/png": "[encoded data removed]",
      "text/plain": [
       "plot without title"
      ]
     },
     "metadata": {
      "image/png": {
       "height": 420,
       "width": 420
      }
     },
     "output_type": "display_data"
    }
   ],
   "source": [
    "#### Stacked Graph #1---------------\n",
    "  \n",
    "  breaks.Rank<-(seq(0,100,by=25))\n",
    "  labels.Rank<-as.character(breaks.Rank)\n",
    "  \n",
    "  cat(\"-------------------------------------->\\t\")\n",
    "  cat(sprintf(as.character(labels.Rank)))\n",
    "  cat(\"\\n\")\n",
    "  \n",
    "  \n",
    "  stacked_barplot<-Freq.table_filtered %>%\n",
    "    mutate(myaxis = paste0(Integrated_annotation_after_rpca, \" \", \"n=\", TOTAL), drop=F) %>%\n",
    "    mutate(myaxis=fct_reorder(myaxis,as.numeric(Integrated_annotation_after_rpca)), drop=F) %>%\n",
    "    ggplot(aes(x=myaxis, y=Perc, fill=Assigned_GFPbc_demux_CellBender)) +\n",
    "    geom_bar(stat=\"identity\",colour='white')+\n",
    "    scale_y_continuous(name=paste(\"Percentage of cells in each cell type\",sep=\" \"),breaks=breaks.Rank,labels=labels.Rank,\n",
    "                       limits=c(breaks.Rank[1],breaks.Rank[length(breaks.Rank)]+1))+\n",
    "    scale_fill_manual(values=fill_colours,\n",
    "                      drop=F,\n",
    "                      name=\"Genotype\")\n",
    "\n",
    " stacked_barplot<-stacked_barplot+\n",
    "    theme_cowplot(font_size = 2)+\n",
    "    facet_grid(Diff ~ time_point+ntime, scales='free_x', space='free_x', switch=\"y\", \n",
    "               labeller=labeller(paste0(Freq.table_filtered$time_point, \"\\n\", \"n=\", Freq.table_filtered$ntime, drop=T)))+   \n",
    "    scale_x_discrete(name=\"Integrated_annotation_after_rpca\", drop=T)+\n",
    "    theme( strip.background = element_blank(),\n",
    "           strip.placement = \"outside\",\n",
    "           strip.text = element_text(size=6),\n",
    "           panel.spacing = unit(0.2, \"lines\"),\n",
    "           panel.background=element_rect(fill=\"white\"),\n",
    "           panel.border=element_rect(colour=\"white\",size=0,5),\n",
    "           panel.grid.major = element_blank(),\n",
    "           panel.grid.minor = element_blank())+\n",
    "        theme_classic()+\n",
    "            theme(axis.title.y=element_text(size=12, color=\"black\", family=\"sans\"),\n",
    "                  axis.title.x=element_blank(),\n",
    "                  axis.text.y=element_text(angle=0,size=10, color=\"black\", family=\"sans\"),\n",
    "                  axis.text.x=element_text(angle=90,size=8,hjust=1,vjust=0.5,color=\"black\", family=\"sans\"),\n",
    "                  axis.line.x = element_line(size = 0.2),\n",
    "                  axis.ticks.x = element_line(size = 0.2),\n",
    "                  axis.ticks.y = element_line(size = 0.2),\n",
    "                  axis.line.y = element_line(size = 0.2))+\n",
    "            theme(legend.title = element_blank(),\n",
    "                  legend.text = element_text(size=8, color=\"black\", family=\"sans\"),\n",
    "                  legend.key.size = unit(0.25, 'cm'), #change legend key size\n",
    "                  legend.key.height = unit(0.25, 'cm'), #change legend key height\n",
    "                  legend.key.width = unit(0.25, 'cm'), #change legend key width\n",
    "                  legend.position=\"bottom\")\n",
    "\n",
    "\n",
    "\n",
    "stacked_barplot"
   ]
  },
  {
   "cell_type": "code",
   "execution_count": 423,
   "id": "ee9ff7e5-1fe5-428b-ae0a-e3e40b9275a3",
   "metadata": {
    "execution": {
     "iopub.execute_input": "2025-10-14T11:31:36.485866Z",
     "iopub.status.busy": "2025-10-14T11:31:36.484775Z",
     "iopub.status.idle": "2025-10-14T11:31:36.947572Z",
     "shell.execute_reply": "2025-10-14T11:31:36.946217Z"
    }
   },
   "outputs": [
    {
     "name": "stderr",
     "output_type": "stream",
     "text": [
      "\u001b[1m\u001b[22mSaving 6.67 x 6.67 in image\n"
     ]
    }
   ],
   "source": [
    "setwd(path_graphs)\n",
    "\n",
    "svgname<-paste(\"stacked_barplot_Diff_vs_time_point_Integrated_annotation_after_rpca_vs_Assigned_GFPbc_demux_CellBender\",\".png\",sep='')\n",
    "makesvg = TRUE\n",
    "\n",
    "if (makesvg == TRUE)\n",
    "{\n",
    "  ggsave(svgname, plot= stacked_barplot,\n",
    "         device=\"png\")\n",
    "}"
   ]
  },
  {
   "cell_type": "markdown",
   "id": "4a177c7b-172d-4a33-988e-a101fe261cca",
   "metadata": {},
   "source": [
    "# Create an integrative genotype assignation"
   ]
  },
  {
   "cell_type": "code",
   "execution_count": 424,
   "id": "1a615d65-8951-4997-b5a7-29c2d86932b6",
   "metadata": {
    "execution": {
     "iopub.execute_input": "2025-10-14T11:31:40.236595Z",
     "iopub.status.busy": "2025-10-14T11:31:40.235460Z",
     "iopub.status.idle": "2025-10-14T11:31:40.244962Z",
     "shell.execute_reply": "2025-10-14T11:31:40.243763Z"
    }
   },
   "outputs": [],
   "source": [
    "adata@meta.data$integrative_genotyping<-NA"
   ]
  },
  {
   "cell_type": "code",
   "execution_count": 425,
   "id": "02ebbd7f-97f2-4e1a-8795-f83ae802f496",
   "metadata": {
    "execution": {
     "iopub.execute_input": "2025-10-14T11:31:40.283625Z",
     "iopub.status.busy": "2025-10-14T11:31:40.282496Z",
     "iopub.status.idle": "2025-10-14T11:31:40.295265Z",
     "shell.execute_reply": "2025-10-14T11:31:40.294089Z"
    }
   },
   "outputs": [
    {
     "data": {
      "text/html": [
       "<strong>NA's:</strong> 35220"
      ],
      "text/latex": [
       "\\textbf{NA's:} 35220"
      ],
      "text/markdown": [
       "**NA's:** 35220"
      ],
      "text/plain": [
       " NA's \n",
       "35220 "
      ]
     },
     "metadata": {},
     "output_type": "display_data"
    }
   ],
   "source": [
    "summary(as.factor(adata@meta.data$integrative_genotyping))"
   ]
  },
  {
   "cell_type": "markdown",
   "id": "0c50766e-29a4-489b-910d-83ae986c9a99",
   "metadata": {},
   "source": [
    "## 1. First keep the genotype assignation from the GEX library using Paola's criteria (3 UMIs and no conflicting barcodes)"
   ]
  },
  {
   "cell_type": "code",
   "execution_count": 426,
   "id": "25a3d1a1-2c87-4ca4-8860-cabffce84206",
   "metadata": {
    "execution": {
     "iopub.execute_input": "2025-10-14T11:31:40.369468Z",
     "iopub.status.busy": "2025-10-14T11:31:40.368490Z",
     "iopub.status.idle": "2025-10-14T11:31:40.383981Z",
     "shell.execute_reply": "2025-10-14T11:31:40.382839Z"
    }
   },
   "outputs": [
    {
     "name": "stdout",
     "output_type": "stream",
     "text": [
      " logi [1:35220] TRUE TRUE TRUE TRUE TRUE TRUE ...\n",
      " logi [1:35220] FALSE FALSE FALSE FALSE FALSE FALSE ...\n"
     ]
    }
   ],
   "source": [
    "indx.keep<-!is.na(adata@meta.data$Assignation_GEX_not_amplified)\n",
    "\n",
    "str(indx.keep)\n",
    "\n",
    "indx.change<-is.na(adata@meta.data$Assignation_GEX_not_amplified)\n",
    "\n",
    "str(indx.change)"
   ]
  },
  {
   "cell_type": "code",
   "execution_count": 427,
   "id": "1df6a8f6-39b8-408e-bdad-9c3166d0a208",
   "metadata": {
    "execution": {
     "iopub.execute_input": "2025-10-14T11:31:40.437209Z",
     "iopub.status.busy": "2025-10-14T11:31:40.436216Z",
     "iopub.status.idle": "2025-10-14T11:31:40.445700Z",
     "shell.execute_reply": "2025-10-14T11:31:40.444557Z"
    }
   },
   "outputs": [],
   "source": [
    "adata@meta.data$integrative_genotyping[indx.keep]<-as.character(adata@meta.data$Assignation_GEX_not_amplified[indx.keep])"
   ]
  },
  {
   "cell_type": "code",
   "execution_count": 428,
   "id": "a4ed7856-679b-4074-bc21-1312e07f0789",
   "metadata": {
    "execution": {
     "iopub.execute_input": "2025-10-14T11:31:40.477426Z",
     "iopub.status.busy": "2025-10-14T11:31:40.476359Z",
     "iopub.status.idle": "2025-10-14T11:31:40.490168Z",
     "shell.execute_reply": "2025-10-14T11:31:40.489006Z"
    }
   },
   "outputs": [
    {
     "data": {
      "text/html": [
       "<style>\n",
       ".dl-inline {width: auto; margin:0; padding: 0}\n",
       ".dl-inline>dt, .dl-inline>dd {float: none; width: auto; display: inline-block}\n",
       ".dl-inline>dt::after {content: \":\\0020\"; padding-right: .5ex}\n",
       ".dl-inline>dt:not(:first-of-type) {padding-left: .5ex}\n",
       "</style><dl class=dl-inline><dt>chrGFP_R882H1</dt><dd>4847</dd><dt>chrGFP_R882H2</dt><dd>271</dd><dt>chrGFP_R882H3</dt><dd>2619</dd><dt>chrGFP_rs_R882H1</dt><dd>3404</dd><dt>chrGFP_rs_R882H2</dt><dd>379</dd><dt>chrGFP_rs_R882H3</dt><dd>4141</dd><dt>chrGFP_rs1</dt><dd>3001</dd><dt>chrGFP_rs2</dt><dd>342</dd><dt>chrGFP_rs3</dt><dd>4577</dd><dt>chrGFP_WTA</dt><dd>1294</dd><dt>chrGFP_WTB</dt><dd>3683</dd><dt>chrGFP_WTC</dt><dd>1864</dd><dt>NA's</dt><dd>4798</dd></dl>\n"
      ],
      "text/latex": [
       "\\begin{description*}\n",
       "\\item[chrGFP\\textbackslash{}\\_R882H1] 4847\n",
       "\\item[chrGFP\\textbackslash{}\\_R882H2] 271\n",
       "\\item[chrGFP\\textbackslash{}\\_R882H3] 2619\n",
       "\\item[chrGFP\\textbackslash{}\\_rs\\textbackslash{}\\_R882H1] 3404\n",
       "\\item[chrGFP\\textbackslash{}\\_rs\\textbackslash{}\\_R882H2] 379\n",
       "\\item[chrGFP\\textbackslash{}\\_rs\\textbackslash{}\\_R882H3] 4141\n",
       "\\item[chrGFP\\textbackslash{}\\_rs1] 3001\n",
       "\\item[chrGFP\\textbackslash{}\\_rs2] 342\n",
       "\\item[chrGFP\\textbackslash{}\\_rs3] 4577\n",
       "\\item[chrGFP\\textbackslash{}\\_WTA] 1294\n",
       "\\item[chrGFP\\textbackslash{}\\_WTB] 3683\n",
       "\\item[chrGFP\\textbackslash{}\\_WTC] 1864\n",
       "\\item[NA's] 4798\n",
       "\\end{description*}\n"
      ],
      "text/markdown": [
       "chrGFP_R882H1\n",
       ":   4847chrGFP_R882H2\n",
       ":   271chrGFP_R882H3\n",
       ":   2619chrGFP_rs_R882H1\n",
       ":   3404chrGFP_rs_R882H2\n",
       ":   379chrGFP_rs_R882H3\n",
       ":   4141chrGFP_rs1\n",
       ":   3001chrGFP_rs2\n",
       ":   342chrGFP_rs3\n",
       ":   4577chrGFP_WTA\n",
       ":   1294chrGFP_WTB\n",
       ":   3683chrGFP_WTC\n",
       ":   1864NA's\n",
       ":   4798\n",
       "\n"
      ],
      "text/plain": [
       "   chrGFP_R882H1    chrGFP_R882H2    chrGFP_R882H3 chrGFP_rs_R882H1 \n",
       "            4847              271             2619             3404 \n",
       "chrGFP_rs_R882H2 chrGFP_rs_R882H3       chrGFP_rs1       chrGFP_rs2 \n",
       "             379             4141             3001              342 \n",
       "      chrGFP_rs3       chrGFP_WTA       chrGFP_WTB       chrGFP_WTC \n",
       "            4577             1294             3683             1864 \n",
       "            NA's \n",
       "            4798 "
      ]
     },
     "metadata": {},
     "output_type": "display_data"
    }
   ],
   "source": [
    "summary(as.factor(adata@meta.data$integrative_genotyping))"
   ]
  },
  {
   "cell_type": "markdown",
   "id": "bf7bf0c0-456b-4965-aaa0-3cd0d322ec17",
   "metadata": {},
   "source": [
    "## 2. Inside the 'Genotype missing' use the targeted amplification data. For the targeted amplification library use the assignation of Demux without CellBender except for the Doublets label"
   ]
  },
  {
   "cell_type": "code",
   "execution_count": 429,
   "id": "32f52e3f-31a4-44fc-b318-d35a97be019b",
   "metadata": {
    "execution": {
     "iopub.execute_input": "2025-10-14T11:31:40.585287Z",
     "iopub.status.busy": "2025-10-14T11:31:40.584110Z",
     "iopub.status.idle": "2025-10-14T11:31:40.602369Z",
     "shell.execute_reply": "2025-10-14T11:31:40.601221Z"
    }
   },
   "outputs": [
    {
     "name": "stdout",
     "output_type": "stream",
     "text": [
      " chr [1:35220] \"chrGFP_rs_R882H1\" \"chrGFP_WTB\" \"chrGFP_R882H1\" ...\n",
      "\n",
      " Ord.factor w/ 14 levels \"chrGFP_WTA\"<\"chrGFP_WTB\"<..: 14 13 14 13 13 13 1 14 13 14 ...\n",
      "\n"
     ]
    }
   ],
   "source": [
    "str(adata@meta.data$integrative_genotyping)\n",
    "cat(\"\\n\")\n",
    "\n",
    "str(adata@meta.data$Assigned_GFPbc_demux__NO_CellBender)\n",
    "cat(\"\\n\")"
   ]
  },
  {
   "cell_type": "code",
   "execution_count": 430,
   "id": "a3325145-31f2-4ddf-90f5-9a70bbec610f",
   "metadata": {
    "execution": {
     "iopub.execute_input": "2025-10-14T11:31:40.632649Z",
     "iopub.status.busy": "2025-10-14T11:31:40.631673Z",
     "iopub.status.idle": "2025-10-14T11:31:40.646595Z",
     "shell.execute_reply": "2025-10-14T11:31:40.645450Z"
    }
   },
   "outputs": [
    {
     "name": "stdout",
     "output_type": "stream",
     "text": [
      " logi [1:35220] FALSE FALSE FALSE FALSE FALSE FALSE ...\n"
     ]
    },
    {
     "data": {
      "text/html": [
       "1156"
      ],
      "text/latex": [
       "1156"
      ],
      "text/markdown": [
       "1156"
      ],
      "text/plain": [
       "[1] 1156"
      ]
     },
     "metadata": {},
     "output_type": "display_data"
    }
   ],
   "source": [
    "indx.keep.2<-is.na(adata@meta.data$integrative_genotyping) & adata@meta.data$Assigned_GFPbc_demux__NO_CellBender != 'Doublet'\n",
    "\n",
    "str(indx.keep.2)\n",
    "\n",
    "sum(indx.keep.2)"
   ]
  },
  {
   "cell_type": "code",
   "execution_count": 431,
   "id": "5ef72e6d-e1de-4edc-9918-443fb9045770",
   "metadata": {
    "execution": {
     "iopub.execute_input": "2025-10-14T11:31:40.673058Z",
     "iopub.status.busy": "2025-10-14T11:31:40.672088Z",
     "iopub.status.idle": "2025-10-14T11:31:40.686708Z",
     "shell.execute_reply": "2025-10-14T11:31:40.685590Z"
    }
   },
   "outputs": [
    {
     "name": "stdout",
     "output_type": "stream",
     "text": [
      " logi [1:35220] FALSE FALSE FALSE FALSE FALSE FALSE ...\n"
     ]
    },
    {
     "data": {
      "text/html": [
       "3642"
      ],
      "text/latex": [
       "3642"
      ],
      "text/markdown": [
       "3642"
      ],
      "text/plain": [
       "[1] 3642"
      ]
     },
     "metadata": {},
     "output_type": "display_data"
    }
   ],
   "source": [
    "indx.change.2<-is.na(adata@meta.data$integrative_genotyping) & adata@meta.data$Assigned_GFPbc_demux__NO_CellBender == 'Doublet'\n",
    "\n",
    "str(indx.change.2)\n",
    "\n",
    "sum(indx.change.2)"
   ]
  },
  {
   "cell_type": "code",
   "execution_count": 432,
   "id": "9777e0ca-0e64-472b-b602-57f2b890333c",
   "metadata": {
    "execution": {
     "iopub.execute_input": "2025-10-14T11:31:40.732598Z",
     "iopub.status.busy": "2025-10-14T11:31:40.731609Z",
     "iopub.status.idle": "2025-10-14T11:31:40.739848Z",
     "shell.execute_reply": "2025-10-14T11:31:40.738744Z"
    }
   },
   "outputs": [],
   "source": [
    "adata@meta.data$integrative_genotyping[indx.keep.2]<-as.character(adata@meta.data$Assigned_GFPbc_demux__NO_CellBender[indx.keep.2])"
   ]
  },
  {
   "cell_type": "markdown",
   "id": "1505bb0a-8666-49a2-9e1c-8bffa05c0f5d",
   "metadata": {},
   "source": [
    "## 3 Inside the 'Doublet' use the Cell Bender correction"
   ]
  },
  {
   "cell_type": "code",
   "execution_count": 433,
   "id": "a8ca1b06-a69e-4465-bd8f-9fbbac9b9ad0",
   "metadata": {
    "execution": {
     "iopub.execute_input": "2025-10-14T11:31:40.842076Z",
     "iopub.status.busy": "2025-10-14T11:31:40.841098Z",
     "iopub.status.idle": "2025-10-14T11:31:40.849559Z",
     "shell.execute_reply": "2025-10-14T11:31:40.848432Z"
    }
   },
   "outputs": [],
   "source": [
    "adata@meta.data$integrative_genotyping[indx.change.2]<-as.character(adata@meta.data$Assigned_GFPbc_demux_CellBender[indx.change.2])"
   ]
  },
  {
   "cell_type": "code",
   "execution_count": 434,
   "id": "43fd2e86-240d-44b8-83f5-4567875cdae5",
   "metadata": {
    "execution": {
     "iopub.execute_input": "2025-10-14T11:31:40.891063Z",
     "iopub.status.busy": "2025-10-14T11:31:40.890095Z",
     "iopub.status.idle": "2025-10-14T11:31:40.900019Z",
     "shell.execute_reply": "2025-10-14T11:31:40.898910Z"
    }
   },
   "outputs": [
    {
     "data": {
      "text/html": [
       "105660"
      ],
      "text/latex": [
       "105660"
      ],
      "text/markdown": [
       "105660"
      ],
      "text/plain": [
       "[1] 105660"
      ]
     },
     "metadata": {},
     "output_type": "display_data"
    }
   ],
   "source": [
    "length(indx.keep)+length(indx.keep.2)+length(indx.change.2)"
   ]
  },
  {
   "cell_type": "code",
   "execution_count": 435,
   "id": "d69ff503-114d-4dac-9373-875c93a54610",
   "metadata": {
    "execution": {
     "iopub.execute_input": "2025-10-14T11:31:40.941428Z",
     "iopub.status.busy": "2025-10-14T11:31:40.940455Z",
     "iopub.status.idle": "2025-10-14T11:31:40.950370Z",
     "shell.execute_reply": "2025-10-14T11:31:40.949257Z"
    }
   },
   "outputs": [
    {
     "data": {
      "text/html": [
       "35220"
      ],
      "text/latex": [
       "35220"
      ],
      "text/markdown": [
       "35220"
      ],
      "text/plain": [
       "[1] 35220"
      ]
     },
     "metadata": {},
     "output_type": "display_data"
    }
   ],
   "source": [
    "dim(adata@meta.data)[1]"
   ]
  },
  {
   "cell_type": "markdown",
   "id": "16cea8ce-7598-4371-9629-de14ece3e57c",
   "metadata": {},
   "source": [
    "## Order the factor"
   ]
  },
  {
   "cell_type": "code",
   "execution_count": 436,
   "id": "dd46965a-3c22-4d9a-9c7b-bf4897012c77",
   "metadata": {
    "execution": {
     "iopub.execute_input": "2025-10-14T11:31:41.042196Z",
     "iopub.status.busy": "2025-10-14T11:31:41.041203Z",
     "iopub.status.idle": "2025-10-14T11:31:41.053901Z",
     "shell.execute_reply": "2025-10-14T11:31:41.052778Z"
    }
   },
   "outputs": [
    {
     "data": {
      "text/html": [
       "<style>\n",
       ".dl-inline {width: auto; margin:0; padding: 0}\n",
       ".dl-inline>dt, .dl-inline>dd {float: none; width: auto; display: inline-block}\n",
       ".dl-inline>dt::after {content: \":\\0020\"; padding-right: .5ex}\n",
       ".dl-inline>dt:not(:first-of-type) {padding-left: .5ex}\n",
       "</style><dl class=dl-inline><dt>chrGFP_R882H1</dt><dd>4902</dd><dt>chrGFP_R882H2</dt><dd>286</dd><dt>chrGFP_R882H3</dt><dd>2642</dd><dt>chrGFP_rs_R882H1</dt><dd>3434</dd><dt>chrGFP_rs_R882H2</dt><dd>390</dd><dt>chrGFP_rs_R882H3</dt><dd>4173</dd><dt>chrGFP_rs1</dt><dd>3043</dd><dt>chrGFP_rs2</dt><dd>357</dd><dt>chrGFP_rs3</dt><dd>4602</dd><dt>chrGFP_WTA</dt><dd>1314</dd><dt>chrGFP_WTB</dt><dd>3724</dd><dt>chrGFP_WTC</dt><dd>1889</dd><dt>Doublet</dt><dd>3642</dd><dt>Negative</dt><dd>822</dd></dl>\n"
      ],
      "text/latex": [
       "\\begin{description*}\n",
       "\\item[chrGFP\\textbackslash{}\\_R882H1] 4902\n",
       "\\item[chrGFP\\textbackslash{}\\_R882H2] 286\n",
       "\\item[chrGFP\\textbackslash{}\\_R882H3] 2642\n",
       "\\item[chrGFP\\textbackslash{}\\_rs\\textbackslash{}\\_R882H1] 3434\n",
       "\\item[chrGFP\\textbackslash{}\\_rs\\textbackslash{}\\_R882H2] 390\n",
       "\\item[chrGFP\\textbackslash{}\\_rs\\textbackslash{}\\_R882H3] 4173\n",
       "\\item[chrGFP\\textbackslash{}\\_rs1] 3043\n",
       "\\item[chrGFP\\textbackslash{}\\_rs2] 357\n",
       "\\item[chrGFP\\textbackslash{}\\_rs3] 4602\n",
       "\\item[chrGFP\\textbackslash{}\\_WTA] 1314\n",
       "\\item[chrGFP\\textbackslash{}\\_WTB] 3724\n",
       "\\item[chrGFP\\textbackslash{}\\_WTC] 1889\n",
       "\\item[Doublet] 3642\n",
       "\\item[Negative] 822\n",
       "\\end{description*}\n"
      ],
      "text/markdown": [
       "chrGFP_R882H1\n",
       ":   4902chrGFP_R882H2\n",
       ":   286chrGFP_R882H3\n",
       ":   2642chrGFP_rs_R882H1\n",
       ":   3434chrGFP_rs_R882H2\n",
       ":   390chrGFP_rs_R882H3\n",
       ":   4173chrGFP_rs1\n",
       ":   3043chrGFP_rs2\n",
       ":   357chrGFP_rs3\n",
       ":   4602chrGFP_WTA\n",
       ":   1314chrGFP_WTB\n",
       ":   3724chrGFP_WTC\n",
       ":   1889Doublet\n",
       ":   3642Negative\n",
       ":   822\n",
       "\n"
      ],
      "text/plain": [
       "   chrGFP_R882H1    chrGFP_R882H2    chrGFP_R882H3 chrGFP_rs_R882H1 \n",
       "            4902              286             2642             3434 \n",
       "chrGFP_rs_R882H2 chrGFP_rs_R882H3       chrGFP_rs1       chrGFP_rs2 \n",
       "             390             4173             3043              357 \n",
       "      chrGFP_rs3       chrGFP_WTA       chrGFP_WTB       chrGFP_WTC \n",
       "            4602             1314             3724             1889 \n",
       "         Doublet         Negative \n",
       "            3642              822 "
      ]
     },
     "metadata": {},
     "output_type": "display_data"
    }
   ],
   "source": [
    "summary(as.factor(adata@meta.data$integrative_genotyping))"
   ]
  },
  {
   "cell_type": "code",
   "execution_count": 437,
   "id": "2280dd13-338b-4d8c-81a9-8ebb868be601",
   "metadata": {
    "execution": {
     "iopub.execute_input": "2025-10-14T11:31:41.090476Z",
     "iopub.status.busy": "2025-10-14T11:31:41.089496Z",
     "iopub.status.idle": "2025-10-14T11:31:41.096764Z",
     "shell.execute_reply": "2025-10-14T11:31:41.095642Z"
    }
   },
   "outputs": [],
   "source": [
    "#summary(droplevels(as.factor(adata@meta.data$Assigned_GFPbc[is.na(adata@meta.data$integrative_genotyping)])))"
   ]
  },
  {
   "cell_type": "code",
   "execution_count": 438,
   "id": "6cb3228a-f63b-4a80-9b05-a97da5583132",
   "metadata": {
    "execution": {
     "iopub.execute_input": "2025-10-14T11:31:41.121180Z",
     "iopub.status.busy": "2025-10-14T11:31:41.120221Z",
     "iopub.status.idle": "2025-10-14T11:31:41.127322Z",
     "shell.execute_reply": "2025-10-14T11:31:41.126217Z"
    }
   },
   "outputs": [],
   "source": [
    "#summary(droplevels(as.factor(adata@meta.data$Assigned_GFPbc_demux__NO_CellBender[is.na(adata@meta.data$integrative_genotyping)])))"
   ]
  },
  {
   "cell_type": "code",
   "execution_count": 439,
   "id": "eb8380bc-ac43-4d80-aa86-62181eaaee84",
   "metadata": {
    "execution": {
     "iopub.execute_input": "2025-10-14T11:31:41.202374Z",
     "iopub.status.busy": "2025-10-14T11:31:41.201413Z",
     "iopub.status.idle": "2025-10-14T11:31:41.208537Z",
     "shell.execute_reply": "2025-10-14T11:31:41.207433Z"
    }
   },
   "outputs": [],
   "source": [
    "#summary(droplevels(as.factor(adata@meta.data$Assigned_GFPbc_demux_CellBender[is.na(adata@meta.data$integrative_genotyping)])))"
   ]
  },
  {
   "cell_type": "code",
   "execution_count": 440,
   "id": "d7fa3f0b-2855-4ae8-bf37-fe38e51a4761",
   "metadata": {
    "execution": {
     "iopub.execute_input": "2025-10-14T11:31:41.714720Z",
     "iopub.status.busy": "2025-10-14T11:31:41.713609Z",
     "iopub.status.idle": "2025-10-14T11:31:41.723492Z",
     "shell.execute_reply": "2025-10-14T11:31:41.722339Z"
    }
   },
   "outputs": [],
   "source": [
    "adata@meta.data$integrative_genotyping<-factor(adata@meta.data$integrative_genotyping,\n",
    "                                       levels = c(\"chrGFP_WTA\",\"chrGFP_WTB\",\"chrGFP_WTC\",\n",
    "                                                  \"chrGFP_rs1\",\"chrGFP_rs2\",\"chrGFP_rs3\",\n",
    "                                                  \"chrGFP_R882H1\",\"chrGFP_R882H2\",\"chrGFP_R882H3\",\n",
    "                                                  \"chrGFP_rs_R882H1\",\"chrGFP_rs_R882H2\",\"chrGFP_rs_R882H3\",\"Doublet\",\"Negative\"),\n",
    "                                       ordered=T)"
   ]
  },
  {
   "cell_type": "code",
   "execution_count": 441,
   "id": "f80f2a1b-2bbc-4e6c-871a-be700c19f3ee",
   "metadata": {
    "execution": {
     "iopub.execute_input": "2025-10-14T11:31:41.763777Z",
     "iopub.status.busy": "2025-10-14T11:31:41.762826Z",
     "iopub.status.idle": "2025-10-14T11:31:41.774035Z",
     "shell.execute_reply": "2025-10-14T11:31:41.772951Z"
    }
   },
   "outputs": [
    {
     "data": {
      "text/html": [
       "<style>\n",
       ".dl-inline {width: auto; margin:0; padding: 0}\n",
       ".dl-inline>dt, .dl-inline>dd {float: none; width: auto; display: inline-block}\n",
       ".dl-inline>dt::after {content: \":\\0020\"; padding-right: .5ex}\n",
       ".dl-inline>dt:not(:first-of-type) {padding-left: .5ex}\n",
       "</style><dl class=dl-inline><dt>chrGFP_WTA</dt><dd>1314</dd><dt>chrGFP_WTB</dt><dd>3724</dd><dt>chrGFP_WTC</dt><dd>1889</dd><dt>chrGFP_rs1</dt><dd>3043</dd><dt>chrGFP_rs2</dt><dd>357</dd><dt>chrGFP_rs3</dt><dd>4602</dd><dt>chrGFP_R882H1</dt><dd>4902</dd><dt>chrGFP_R882H2</dt><dd>286</dd><dt>chrGFP_R882H3</dt><dd>2642</dd><dt>chrGFP_rs_R882H1</dt><dd>3434</dd><dt>chrGFP_rs_R882H2</dt><dd>390</dd><dt>chrGFP_rs_R882H3</dt><dd>4173</dd><dt>Doublet</dt><dd>3642</dd><dt>Negative</dt><dd>822</dd></dl>\n"
      ],
      "text/latex": [
       "\\begin{description*}\n",
       "\\item[chrGFP\\textbackslash{}\\_WTA] 1314\n",
       "\\item[chrGFP\\textbackslash{}\\_WTB] 3724\n",
       "\\item[chrGFP\\textbackslash{}\\_WTC] 1889\n",
       "\\item[chrGFP\\textbackslash{}\\_rs1] 3043\n",
       "\\item[chrGFP\\textbackslash{}\\_rs2] 357\n",
       "\\item[chrGFP\\textbackslash{}\\_rs3] 4602\n",
       "\\item[chrGFP\\textbackslash{}\\_R882H1] 4902\n",
       "\\item[chrGFP\\textbackslash{}\\_R882H2] 286\n",
       "\\item[chrGFP\\textbackslash{}\\_R882H3] 2642\n",
       "\\item[chrGFP\\textbackslash{}\\_rs\\textbackslash{}\\_R882H1] 3434\n",
       "\\item[chrGFP\\textbackslash{}\\_rs\\textbackslash{}\\_R882H2] 390\n",
       "\\item[chrGFP\\textbackslash{}\\_rs\\textbackslash{}\\_R882H3] 4173\n",
       "\\item[Doublet] 3642\n",
       "\\item[Negative] 822\n",
       "\\end{description*}\n"
      ],
      "text/markdown": [
       "chrGFP_WTA\n",
       ":   1314chrGFP_WTB\n",
       ":   3724chrGFP_WTC\n",
       ":   1889chrGFP_rs1\n",
       ":   3043chrGFP_rs2\n",
       ":   357chrGFP_rs3\n",
       ":   4602chrGFP_R882H1\n",
       ":   4902chrGFP_R882H2\n",
       ":   286chrGFP_R882H3\n",
       ":   2642chrGFP_rs_R882H1\n",
       ":   3434chrGFP_rs_R882H2\n",
       ":   390chrGFP_rs_R882H3\n",
       ":   4173Doublet\n",
       ":   3642Negative\n",
       ":   822\n",
       "\n"
      ],
      "text/plain": [
       "      chrGFP_WTA       chrGFP_WTB       chrGFP_WTC       chrGFP_rs1 \n",
       "            1314             3724             1889             3043 \n",
       "      chrGFP_rs2       chrGFP_rs3    chrGFP_R882H1    chrGFP_R882H2 \n",
       "             357             4602             4902              286 \n",
       "   chrGFP_R882H3 chrGFP_rs_R882H1 chrGFP_rs_R882H2 chrGFP_rs_R882H3 \n",
       "            2642             3434              390             4173 \n",
       "         Doublet         Negative \n",
       "            3642              822 "
      ]
     },
     "metadata": {},
     "output_type": "display_data"
    }
   ],
   "source": [
    "summary(adata@meta.data$integrative_genotyping)"
   ]
  },
  {
   "cell_type": "markdown",
   "id": "a32d7171-2c23-4e41-9f4d-0e940e2d7c9d",
   "metadata": {},
   "source": [
    "# Create the clone line factor and order it"
   ]
  },
  {
   "cell_type": "code",
   "execution_count": 442,
   "id": "27c996c4-3ee6-4871-94f7-68d74fcbede0",
   "metadata": {
    "execution": {
     "iopub.execute_input": "2025-10-14T11:31:41.871292Z",
     "iopub.status.busy": "2025-10-14T11:31:41.870243Z",
     "iopub.status.idle": "2025-10-14T11:31:41.879196Z",
     "shell.execute_reply": "2025-10-14T11:31:41.878017Z"
    }
   },
   "outputs": [],
   "source": [
    "adata@meta.data$clone_line<-adata@meta.data$integrative_genotyping"
   ]
  },
  {
   "cell_type": "code",
   "execution_count": 443,
   "id": "e378f56d-9952-4234-8a8d-b0d61b31f691",
   "metadata": {
    "execution": {
     "iopub.execute_input": "2025-10-14T11:31:41.895734Z",
     "iopub.status.busy": "2025-10-14T11:31:41.894668Z",
     "iopub.status.idle": "2025-10-14T11:31:41.903753Z",
     "shell.execute_reply": "2025-10-14T11:31:41.902587Z"
    }
   },
   "outputs": [],
   "source": [
    "suppressMessages(library(\"plyr\"))"
   ]
  },
  {
   "cell_type": "code",
   "execution_count": 444,
   "id": "07eb5d10-759a-43d4-8152-d0e0a5a85de0",
   "metadata": {
    "execution": {
     "iopub.execute_input": "2025-10-14T11:31:41.943273Z",
     "iopub.status.busy": "2025-10-14T11:31:41.942284Z",
     "iopub.status.idle": "2025-10-14T11:31:41.950942Z",
     "shell.execute_reply": "2025-10-14T11:31:41.949831Z"
    }
   },
   "outputs": [],
   "source": [
    "adata@meta.data$clone_line<-revalue(adata@meta.data$clone_line,\n",
    "                                   c('chrGFP_WTA' = 'wt_1',\n",
    "                                    'chrGFP_WTB' = 'wt_2',\n",
    "                                     'chrGFP_WTC' = 'wt_3',\n",
    "                                    'chrGFP_rs1' = 'rs62237617_1',\n",
    "                                     'chrGFP_rs2' = 'rs62237617_2',\n",
    "                                     'chrGFP_rs3' = 'rs62237617_3',\n",
    "                                     'chrGFP_R882H1' = 'DNMT3A_1',\n",
    "                                     'chrGFP_R882H2' = 'DNMT3A_2',\n",
    "                                     'chrGFP_R882H3' = 'DNMT3A_3',\n",
    "                                     'chrGFP_rs_R882H1' = 'rs62237617_DNMT3A_1',\n",
    "                                     'chrGFP_rs_R882H2' = 'rs62237617_DNMT3A_2',\n",
    "                                     'chrGFP_rs_R882H3' = 'rs62237617_DNMT3A_3') \n",
    "                                   )"
   ]
  },
  {
   "cell_type": "code",
   "execution_count": 445,
   "id": "42d2bd39-906b-4820-8661-2c849d409717",
   "metadata": {
    "execution": {
     "iopub.execute_input": "2025-10-14T11:31:42.458002Z",
     "iopub.status.busy": "2025-10-14T11:31:42.456885Z",
     "iopub.status.idle": "2025-10-14T11:31:42.469361Z",
     "shell.execute_reply": "2025-10-14T11:31:42.468218Z"
    }
   },
   "outputs": [
    {
     "data": {
      "text/html": [
       "<style>\n",
       ".dl-inline {width: auto; margin:0; padding: 0}\n",
       ".dl-inline>dt, .dl-inline>dd {float: none; width: auto; display: inline-block}\n",
       ".dl-inline>dt::after {content: \":\\0020\"; padding-right: .5ex}\n",
       ".dl-inline>dt:not(:first-of-type) {padding-left: .5ex}\n",
       "</style><dl class=dl-inline><dt>wt_1</dt><dd>1314</dd><dt>wt_2</dt><dd>3724</dd><dt>wt_3</dt><dd>1889</dd><dt>rs62237617_1</dt><dd>3043</dd><dt>rs62237617_2</dt><dd>357</dd><dt>rs62237617_3</dt><dd>4602</dd><dt>DNMT3A_1</dt><dd>4902</dd><dt>DNMT3A_2</dt><dd>286</dd><dt>DNMT3A_3</dt><dd>2642</dd><dt>rs62237617_DNMT3A_1</dt><dd>3434</dd><dt>rs62237617_DNMT3A_2</dt><dd>390</dd><dt>rs62237617_DNMT3A_3</dt><dd>4173</dd><dt>Doublet</dt><dd>3642</dd><dt>Negative</dt><dd>822</dd></dl>\n"
      ],
      "text/latex": [
       "\\begin{description*}\n",
       "\\item[wt\\textbackslash{}\\_1] 1314\n",
       "\\item[wt\\textbackslash{}\\_2] 3724\n",
       "\\item[wt\\textbackslash{}\\_3] 1889\n",
       "\\item[rs62237617\\textbackslash{}\\_1] 3043\n",
       "\\item[rs62237617\\textbackslash{}\\_2] 357\n",
       "\\item[rs62237617\\textbackslash{}\\_3] 4602\n",
       "\\item[DNMT3A\\textbackslash{}\\_1] 4902\n",
       "\\item[DNMT3A\\textbackslash{}\\_2] 286\n",
       "\\item[DNMT3A\\textbackslash{}\\_3] 2642\n",
       "\\item[rs62237617\\textbackslash{}\\_DNMT3A\\textbackslash{}\\_1] 3434\n",
       "\\item[rs62237617\\textbackslash{}\\_DNMT3A\\textbackslash{}\\_2] 390\n",
       "\\item[rs62237617\\textbackslash{}\\_DNMT3A\\textbackslash{}\\_3] 4173\n",
       "\\item[Doublet] 3642\n",
       "\\item[Negative] 822\n",
       "\\end{description*}\n"
      ],
      "text/markdown": [
       "wt_1\n",
       ":   1314wt_2\n",
       ":   3724wt_3\n",
       ":   1889rs62237617_1\n",
       ":   3043rs62237617_2\n",
       ":   357rs62237617_3\n",
       ":   4602DNMT3A_1\n",
       ":   4902DNMT3A_2\n",
       ":   286DNMT3A_3\n",
       ":   2642rs62237617_DNMT3A_1\n",
       ":   3434rs62237617_DNMT3A_2\n",
       ":   390rs62237617_DNMT3A_3\n",
       ":   4173Doublet\n",
       ":   3642Negative\n",
       ":   822\n",
       "\n"
      ],
      "text/plain": [
       "               wt_1                wt_2                wt_3        rs62237617_1 \n",
       "               1314                3724                1889                3043 \n",
       "       rs62237617_2        rs62237617_3            DNMT3A_1            DNMT3A_2 \n",
       "                357                4602                4902                 286 \n",
       "           DNMT3A_3 rs62237617_DNMT3A_1 rs62237617_DNMT3A_2 rs62237617_DNMT3A_3 \n",
       "               2642                3434                 390                4173 \n",
       "            Doublet            Negative \n",
       "               3642                 822 "
      ]
     },
     "metadata": {},
     "output_type": "display_data"
    }
   ],
   "source": [
    "summary(adata@meta.data$clone_line)"
   ]
  },
  {
   "cell_type": "code",
   "execution_count": 446,
   "id": "2912d854-dc50-4535-8424-b93c13069df1",
   "metadata": {
    "execution": {
     "iopub.execute_input": "2025-10-14T11:31:42.970722Z",
     "iopub.status.busy": "2025-10-14T11:31:42.969621Z",
     "iopub.status.idle": "2025-10-14T11:31:42.979738Z",
     "shell.execute_reply": "2025-10-14T11:31:42.978597Z"
    }
   },
   "outputs": [],
   "source": [
    "adata@meta.data$clone_line<-factor(adata@meta.data$clone_line,\n",
    "                                  levels=c('wt_1','wt_2','wt_3','rs62237617_1','rs62237617_2','rs62237617_3',\n",
    "                                           'DNMT3A_1','DNMT3A_2','DNMT3A_3',\n",
    "                                          'rs62237617_DNMT3A_1','rs62237617_DNMT3A_2','rs62237617_DNMT3A_3'),\n",
    "                                  ordered=T)"
   ]
  },
  {
   "cell_type": "code",
   "execution_count": 447,
   "id": "cdac3157-d234-412f-928f-11101cf94ae2",
   "metadata": {
    "execution": {
     "iopub.execute_input": "2025-10-14T11:31:43.034942Z",
     "iopub.status.busy": "2025-10-14T11:31:43.033953Z",
     "iopub.status.idle": "2025-10-14T11:31:43.045735Z",
     "shell.execute_reply": "2025-10-14T11:31:43.044629Z"
    }
   },
   "outputs": [
    {
     "data": {
      "text/html": [
       "<style>\n",
       ".dl-inline {width: auto; margin:0; padding: 0}\n",
       ".dl-inline>dt, .dl-inline>dd {float: none; width: auto; display: inline-block}\n",
       ".dl-inline>dt::after {content: \":\\0020\"; padding-right: .5ex}\n",
       ".dl-inline>dt:not(:first-of-type) {padding-left: .5ex}\n",
       "</style><dl class=dl-inline><dt>wt_1</dt><dd>1314</dd><dt>wt_2</dt><dd>3724</dd><dt>wt_3</dt><dd>1889</dd><dt>rs62237617_1</dt><dd>3043</dd><dt>rs62237617_2</dt><dd>357</dd><dt>rs62237617_3</dt><dd>4602</dd><dt>DNMT3A_1</dt><dd>4902</dd><dt>DNMT3A_2</dt><dd>286</dd><dt>DNMT3A_3</dt><dd>2642</dd><dt>rs62237617_DNMT3A_1</dt><dd>3434</dd><dt>rs62237617_DNMT3A_2</dt><dd>390</dd><dt>rs62237617_DNMT3A_3</dt><dd>4173</dd><dt>NA's</dt><dd>4464</dd></dl>\n"
      ],
      "text/latex": [
       "\\begin{description*}\n",
       "\\item[wt\\textbackslash{}\\_1] 1314\n",
       "\\item[wt\\textbackslash{}\\_2] 3724\n",
       "\\item[wt\\textbackslash{}\\_3] 1889\n",
       "\\item[rs62237617\\textbackslash{}\\_1] 3043\n",
       "\\item[rs62237617\\textbackslash{}\\_2] 357\n",
       "\\item[rs62237617\\textbackslash{}\\_3] 4602\n",
       "\\item[DNMT3A\\textbackslash{}\\_1] 4902\n",
       "\\item[DNMT3A\\textbackslash{}\\_2] 286\n",
       "\\item[DNMT3A\\textbackslash{}\\_3] 2642\n",
       "\\item[rs62237617\\textbackslash{}\\_DNMT3A\\textbackslash{}\\_1] 3434\n",
       "\\item[rs62237617\\textbackslash{}\\_DNMT3A\\textbackslash{}\\_2] 390\n",
       "\\item[rs62237617\\textbackslash{}\\_DNMT3A\\textbackslash{}\\_3] 4173\n",
       "\\item[NA's] 4464\n",
       "\\end{description*}\n"
      ],
      "text/markdown": [
       "wt_1\n",
       ":   1314wt_2\n",
       ":   3724wt_3\n",
       ":   1889rs62237617_1\n",
       ":   3043rs62237617_2\n",
       ":   357rs62237617_3\n",
       ":   4602DNMT3A_1\n",
       ":   4902DNMT3A_2\n",
       ":   286DNMT3A_3\n",
       ":   2642rs62237617_DNMT3A_1\n",
       ":   3434rs62237617_DNMT3A_2\n",
       ":   390rs62237617_DNMT3A_3\n",
       ":   4173NA's\n",
       ":   4464\n",
       "\n"
      ],
      "text/plain": [
       "               wt_1                wt_2                wt_3        rs62237617_1 \n",
       "               1314                3724                1889                3043 \n",
       "       rs62237617_2        rs62237617_3            DNMT3A_1            DNMT3A_2 \n",
       "                357                4602                4902                 286 \n",
       "           DNMT3A_3 rs62237617_DNMT3A_1 rs62237617_DNMT3A_2 rs62237617_DNMT3A_3 \n",
       "               2642                3434                 390                4173 \n",
       "               NA's \n",
       "               4464 "
      ]
     },
     "metadata": {},
     "output_type": "display_data"
    }
   ],
   "source": [
    "summary(adata@meta.data$clone_line)"
   ]
  },
  {
   "cell_type": "markdown",
   "id": "1c2b30e6-8992-4c50-a839-6b5a2f01f666",
   "metadata": {},
   "source": [
    "# Add the genotype factor"
   ]
  },
  {
   "cell_type": "code",
   "execution_count": 448,
   "id": "d4f9d2e8-bd26-44ec-8251-092d992b9a40",
   "metadata": {
    "execution": {
     "iopub.execute_input": "2025-10-14T11:31:43.134097Z",
     "iopub.status.busy": "2025-10-14T11:31:43.133090Z",
     "iopub.status.idle": "2025-10-14T11:31:43.179950Z",
     "shell.execute_reply": "2025-10-14T11:31:43.178800Z"
    }
   },
   "outputs": [
    {
     "name": "stdout",
     "output_type": "stream",
     "text": [
      "adata@meta.data_PRE\n",
      "\n"
     ]
    },
    {
     "data": {
      "text/html": [
       "<style>\n",
       ".list-inline {list-style: none; margin:0; padding: 0}\n",
       ".list-inline>li {display: inline-block}\n",
       ".list-inline>li:not(:last-child)::after {content: \"\\00b7\"; padding: 0 .5ex}\n",
       "</style>\n",
       "<ol class=list-inline><li>'DNMT3A'</li><li>'rs62237617'</li><li>'rs62237617_DNMT3A'</li><li>'wt'</li><li>'NA\\'s'</li></ol>\n"
      ],
      "text/latex": [
       "\\begin{enumerate*}\n",
       "\\item 'DNMT3A'\n",
       "\\item 'rs62237617'\n",
       "\\item 'rs62237617\\_DNMT3A'\n",
       "\\item 'wt'\n",
       "\\item 'NA\\textbackslash{}'s'\n",
       "\\end{enumerate*}\n"
      ],
      "text/markdown": [
       "1. 'DNMT3A'\n",
       "2. 'rs62237617'\n",
       "3. 'rs62237617_DNMT3A'\n",
       "4. 'wt'\n",
       "5. 'NA\\'s'\n",
       "\n",
       "\n"
      ],
      "text/plain": [
       "[1] \"DNMT3A\"            \"rs62237617\"        \"rs62237617_DNMT3A\"\n",
       "[4] \"wt\"                \"NA's\"             "
      ]
     },
     "metadata": {},
     "output_type": "display_data"
    },
    {
     "name": "stdout",
     "output_type": "stream",
     "text": [
      "\n"
     ]
    },
    {
     "data": {
      "text/html": [
       "<style>\n",
       ".list-inline {list-style: none; margin:0; padding: 0}\n",
       ".list-inline>li {display: inline-block}\n",
       ".list-inline>li:not(:last-child)::after {content: \"\\00b7\"; padding: 0 .5ex}\n",
       "</style>\n",
       "<ol class=list-inline><li>'wt_1'</li><li>'wt_2'</li><li>'wt_3'</li><li>'rs62237617_1'</li><li>'rs62237617_2'</li><li>'rs62237617_3'</li><li>'DNMT3A_1'</li><li>'DNMT3A_2'</li><li>'DNMT3A_3'</li><li>'rs62237617_DNMT3A_1'</li><li>'rs62237617_DNMT3A_2'</li><li>'rs62237617_DNMT3A_3'</li><li>'NA\\'s'</li></ol>\n"
      ],
      "text/latex": [
       "\\begin{enumerate*}\n",
       "\\item 'wt\\_1'\n",
       "\\item 'wt\\_2'\n",
       "\\item 'wt\\_3'\n",
       "\\item 'rs62237617\\_1'\n",
       "\\item 'rs62237617\\_2'\n",
       "\\item 'rs62237617\\_3'\n",
       "\\item 'DNMT3A\\_1'\n",
       "\\item 'DNMT3A\\_2'\n",
       "\\item 'DNMT3A\\_3'\n",
       "\\item 'rs62237617\\_DNMT3A\\_1'\n",
       "\\item 'rs62237617\\_DNMT3A\\_2'\n",
       "\\item 'rs62237617\\_DNMT3A\\_3'\n",
       "\\item 'NA\\textbackslash{}'s'\n",
       "\\end{enumerate*}\n"
      ],
      "text/markdown": [
       "1. 'wt_1'\n",
       "2. 'wt_2'\n",
       "3. 'wt_3'\n",
       "4. 'rs62237617_1'\n",
       "5. 'rs62237617_2'\n",
       "6. 'rs62237617_3'\n",
       "7. 'DNMT3A_1'\n",
       "8. 'DNMT3A_2'\n",
       "9. 'DNMT3A_3'\n",
       "10. 'rs62237617_DNMT3A_1'\n",
       "11. 'rs62237617_DNMT3A_2'\n",
       "12. 'rs62237617_DNMT3A_3'\n",
       "13. 'NA\\'s'\n",
       "\n",
       "\n"
      ],
      "text/plain": [
       " [1] \"wt_1\"                \"wt_2\"                \"wt_3\"               \n",
       " [4] \"rs62237617_1\"        \"rs62237617_2\"        \"rs62237617_3\"       \n",
       " [7] \"DNMT3A_1\"            \"DNMT3A_2\"            \"DNMT3A_3\"           \n",
       "[10] \"rs62237617_DNMT3A_1\" \"rs62237617_DNMT3A_2\" \"rs62237617_DNMT3A_3\"\n",
       "[13] \"NA's\"               "
      ]
     },
     "metadata": {},
     "output_type": "display_data"
    },
    {
     "name": "stdout",
     "output_type": "stream",
     "text": [
      "\n"
     ]
    },
    {
     "data": {
      "text/html": [
       "<style>\n",
       ".dl-inline {width: auto; margin:0; padding: 0}\n",
       ".dl-inline>dt, .dl-inline>dd {float: none; width: auto; display: inline-block}\n",
       ".dl-inline>dt::after {content: \":\\0020\"; padding-right: .5ex}\n",
       ".dl-inline>dt:not(:first-of-type) {padding-left: .5ex}\n",
       "</style><dl class=dl-inline><dt>wt</dt><dd>6927</dd><dt>rs62237617</dt><dd>8002</dd><dt>DNMT3A</dt><dd>7830</dd><dt>rs62237617_DNMT3A</dt><dd>7997</dd><dt>NA's</dt><dd>4464</dd></dl>\n"
      ],
      "text/latex": [
       "\\begin{description*}\n",
       "\\item[wt] 6927\n",
       "\\item[rs62237617] 8002\n",
       "\\item[DNMT3A] 7830\n",
       "\\item[rs62237617\\textbackslash{}\\_DNMT3A] 7997\n",
       "\\item[NA's] 4464\n",
       "\\end{description*}\n"
      ],
      "text/markdown": [
       "wt\n",
       ":   6927rs62237617\n",
       ":   8002DNMT3A\n",
       ":   7830rs62237617_DNMT3A\n",
       ":   7997NA's\n",
       ":   4464\n",
       "\n"
      ],
      "text/plain": [
       "               wt        rs62237617            DNMT3A rs62237617_DNMT3A \n",
       "             6927              8002              7830              7997 \n",
       "             NA's \n",
       "             4464 "
      ]
     },
     "metadata": {},
     "output_type": "display_data"
    },
    {
     "name": "stdout",
     "output_type": "stream",
     "text": [
      "\n"
     ]
    }
   ],
   "source": [
    "  \n",
    "  adata@meta.data$Genotype<-NA\n",
    "  \n",
    "  adata@meta.data$Genotype[which(adata@meta.data$clone_line%in%c('wt_1','wt_2','wt_3'))]<-'wt'\n",
    "  adata@meta.data$Genotype[which(adata@meta.data$clone_line%in%c('rs62237617_1','rs62237617_2','rs62237617_3'))]<-'rs62237617'\n",
    "  adata@meta.data$Genotype[which(adata@meta.data$clone_line%in%c('DNMT3A_1','DNMT3A_2','DNMT3A_3'))]<-'DNMT3A'\n",
    "  adata@meta.data$Genotype[which(adata@meta.data$clone_line%in%c('rs62237617_DNMT3A_1','rs62237617_DNMT3A_2','rs62237617_DNMT3A_3'))]<-'rs62237617_DNMT3A'\n",
    "  \n",
    "  \n",
    "  cat(\"adata@meta.data_PRE\\n\")\n",
    "  #cat(str(adata@meta.data))\n",
    "  cat(\"\\n\")\n",
    "  names(summary(as.factor(adata@meta.data$Genotype)))\n",
    "  cat(\"\\n\")\n",
    "  names(summary(as.factor(adata@meta.data$clone_line)))\n",
    "  cat(\"\\n\")\n",
    "   \n",
    "  \n",
    "  \n",
    "  adata@meta.data$Genotype<-factor(adata@meta.data$Genotype,\n",
    "                                  levels=c('wt','rs62237617','DNMT3A','rs62237617_DNMT3A'),\n",
    "                                  ordered=T)\n",
    "\n",
    "summary(as.factor(adata@meta.data$Genotype))\n",
    "  cat(\"\\n\")"
   ]
  },
  {
   "cell_type": "markdown",
   "id": "9f0f61e8-187c-46b4-b5e8-3b728fa819a6",
   "metadata": {},
   "source": [
    "## Show the genotype breakdown new"
   ]
  },
  {
   "cell_type": "markdown",
   "id": "75c8ccf7-36e0-489e-a3b5-38fdaa721834",
   "metadata": {},
   "source": [
    "### clone_line vs Integrated_annotation_after_rpca vs time_point vs Diff"
   ]
  },
  {
   "cell_type": "code",
   "execution_count": 449,
   "id": "322b1906-30de-4fde-9f3e-cbed015ba564",
   "metadata": {
    "execution": {
     "iopub.execute_input": "2025-10-14T11:31:43.272644Z",
     "iopub.status.busy": "2025-10-14T11:31:43.271568Z",
     "iopub.status.idle": "2025-10-14T11:31:43.280572Z",
     "shell.execute_reply": "2025-10-14T11:31:43.279417Z"
    }
   },
   "outputs": [],
   "source": [
    "met<-adata[[]]"
   ]
  },
  {
   "cell_type": "code",
   "execution_count": 450,
   "id": "2238d2cd-2f06-4e9c-9956-1503a0daa9cf",
   "metadata": {
    "execution": {
     "iopub.execute_input": "2025-10-14T11:31:43.313636Z",
     "iopub.status.busy": "2025-10-14T11:31:43.312673Z",
     "iopub.status.idle": "2025-10-14T11:31:43.319854Z",
     "shell.execute_reply": "2025-10-14T11:31:43.318721Z"
    }
   },
   "outputs": [],
   "source": [
    "#colnames(met)"
   ]
  },
  {
   "cell_type": "code",
   "execution_count": 451,
   "id": "383c1582-4be0-4d27-a2e5-3ae37be6fca4",
   "metadata": {
    "execution": {
     "iopub.execute_input": "2025-10-14T11:31:45.323241Z",
     "iopub.status.busy": "2025-10-14T11:31:45.322103Z",
     "iopub.status.idle": "2025-10-14T11:31:45.338149Z",
     "shell.execute_reply": "2025-10-14T11:31:45.336942Z"
    }
   },
   "outputs": [],
   "source": [
    "met.dt<-data.table(met,key=c(\"time_point\",\"Integrated_annotation_after_rpca\",\"clone_line\",\"Diff\"))"
   ]
  },
  {
   "cell_type": "code",
   "execution_count": 452,
   "id": "3d33fc60-7916-401c-bb71-ef441501476d",
   "metadata": {
    "execution": {
     "iopub.execute_input": "2025-10-14T11:31:45.661171Z",
     "iopub.status.busy": "2025-10-14T11:31:45.660026Z",
     "iopub.status.idle": "2025-10-14T11:31:45.668252Z",
     "shell.execute_reply": "2025-10-14T11:31:45.667103Z"
    }
   },
   "outputs": [],
   "source": [
    "#str(met.dt)"
   ]
  },
  {
   "cell_type": "code",
   "execution_count": 453,
   "id": "3b7bf306-c722-4b33-969f-b2808c676f64",
   "metadata": {
    "execution": {
     "iopub.execute_input": "2025-10-14T11:31:46.163634Z",
     "iopub.status.busy": "2025-10-14T11:31:46.162530Z",
     "iopub.status.idle": "2025-10-14T11:31:46.179069Z",
     "shell.execute_reply": "2025-10-14T11:31:46.177918Z"
    }
   },
   "outputs": [
    {
     "name": "stdout",
     "output_type": "stream",
     "text": [
      "'data.frame':\t94 obs. of  5 variables:\n",
      " $ time_point                      : Ord.factor w/ 2 levels \"0_days\"<\"8_days\": 1 1 1 1 1 1 1 1 1 1 ...\n",
      " $ Integrated_annotation_after_rpca: Ord.factor w/ 6 levels \"hESC\"<\"HemogenicEndothelium\"<..: 1 1 1 1 1 1 1 1 1 1 ...\n",
      " $ clone_line                      : Ord.factor w/ 12 levels \"wt_1\"<\"wt_2\"<..: NA 1 2 3 4 5 6 7 8 9 ...\n",
      " $ Diff                            : Ord.factor w/ 1 level \"Diff_MK_non_competition\": 1 1 1 1 1 1 1 1 1 1 ...\n",
      " $ Freq                            : int  2424 552 1769 993 1354 262 2282 1932 256 1765 ...\n"
     ]
    }
   ],
   "source": [
    "Freq.table<-as.data.frame(met.dt[,.(Freq=.N),by=key(met.dt)], stringsAsFactors=F)\n",
    "\n",
    "str(Freq.table)"
   ]
  },
  {
   "cell_type": "code",
   "execution_count": 454,
   "id": "20775979-55ed-44ad-a41b-d868769869b1",
   "metadata": {
    "execution": {
     "iopub.execute_input": "2025-10-14T11:31:46.461208Z",
     "iopub.status.busy": "2025-10-14T11:31:46.460222Z",
     "iopub.status.idle": "2025-10-14T11:31:46.482417Z",
     "shell.execute_reply": "2025-10-14T11:31:46.481293Z"
    }
   },
   "outputs": [
    {
     "name": "stdout",
     "output_type": "stream",
     "text": [
      "'data.frame':\t8 obs. of  4 variables:\n",
      " $ time_point                      : Ord.factor w/ 2 levels \"0_days\"<\"8_days\": 1 1 2 2 2 2 2 2\n",
      " $ Integrated_annotation_after_rpca: Ord.factor w/ 6 levels \"hESC\"<\"HemogenicEndothelium\"<..: 1 3 1 2 3 4 5 6\n",
      " $ Diff                            : Ord.factor w/ 1 level \"Diff_MK_non_competition\": 1 1 1 1 1 1 1 1\n",
      " $ TOTAL                           : int  17282 11 1791 1805 11025 1169 147 1990\n"
     ]
    }
   ],
   "source": [
    "met.dt<-data.table(met, key=c(\"time_point\",\"Integrated_annotation_after_rpca\",\"Diff\"))\n",
    "Freq.TOTAL<-as.data.frame(met.dt[,.(TOTAL=.N),by=key(met.dt)], stringsAsFactors=F)\n",
    "\n",
    "str(Freq.TOTAL)"
   ]
  },
  {
   "cell_type": "code",
   "execution_count": 455,
   "id": "5424e60d-a37b-4001-8fd5-38da59499516",
   "metadata": {
    "execution": {
     "iopub.execute_input": "2025-10-14T11:31:46.721321Z",
     "iopub.status.busy": "2025-10-14T11:31:46.720311Z",
     "iopub.status.idle": "2025-10-14T11:31:46.731947Z",
     "shell.execute_reply": "2025-10-14T11:31:46.730828Z"
    }
   },
   "outputs": [],
   "source": [
    "Freq.table<-merge(Freq.table,\n",
    "                  Freq.TOTAL,\n",
    "                  by=c(\"time_point\",\"Integrated_annotation_after_rpca\",\"Diff\"))\n",
    "Freq.table$Perc<-round((100*(Freq.table$Freq/Freq.table$TOTAL)),2)\n",
    "\n",
    "#Freq.table"
   ]
  },
  {
   "cell_type": "code",
   "execution_count": 456,
   "id": "54697306-1283-464c-a2ca-09d4ede08cde",
   "metadata": {
    "execution": {
     "iopub.execute_input": "2025-10-14T11:31:47.053423Z",
     "iopub.status.busy": "2025-10-14T11:31:47.052454Z",
     "iopub.status.idle": "2025-10-14T11:31:47.064844Z",
     "shell.execute_reply": "2025-10-14T11:31:47.063727Z"
    }
   },
   "outputs": [
    {
     "name": "stdout",
     "output_type": "stream",
     "text": [
      "'data.frame':\t94 obs. of  7 variables:\n",
      " $ time_point                      : Ord.factor w/ 2 levels \"0_days\"<\"8_days\": 1 1 1 1 1 1 1 1 1 1 ...\n",
      " $ Integrated_annotation_after_rpca: Ord.factor w/ 6 levels \"hESC\"<\"HemogenicEndothelium\"<..: 1 1 1 1 1 1 1 1 1 1 ...\n",
      " $ Diff                            : Ord.factor w/ 1 level \"Diff_MK_non_competition\": 1 1 1 1 1 1 1 1 1 1 ...\n",
      " $ clone_line                      : Ord.factor w/ 12 levels \"wt_1\"<\"wt_2\"<..: NA 1 2 3 4 5 6 7 8 9 ...\n",
      " $ Freq                            : int  2424 552 1769 993 1354 262 2282 1932 256 1765 ...\n",
      " $ TOTAL                           : int  17282 17282 17282 17282 17282 17282 17282 17282 17282 17282 ...\n",
      " $ Perc                            : num  14.03 3.19 10.24 5.75 7.83 ...\n"
     ]
    }
   ],
   "source": [
    "str(Freq.table)"
   ]
  },
  {
   "cell_type": "code",
   "execution_count": 457,
   "id": "d60bd35e-8c98-4d33-9556-084013b7c8a5",
   "metadata": {
    "execution": {
     "iopub.execute_input": "2025-10-14T11:31:47.281990Z",
     "iopub.status.busy": "2025-10-14T11:31:47.281017Z",
     "iopub.status.idle": "2025-10-14T11:31:47.301423Z",
     "shell.execute_reply": "2025-10-14T11:31:47.300317Z"
    }
   },
   "outputs": [
    {
     "name": "stdout",
     "output_type": "stream",
     "text": [
      "'data.frame':\t2 obs. of  3 variables:\n",
      " $ time_point: Ord.factor w/ 2 levels \"0_days\"<\"8_days\": 1 2\n",
      " $ Diff      : Ord.factor w/ 1 level \"Diff_MK_non_competition\": 1 1\n",
      " $ ntime     : int  17293 17927\n"
     ]
    }
   ],
   "source": [
    "met.dt<-data.table(met, key=c(\"time_point\",\"Diff\"))\n",
    "Freq.time_point<-as.data.frame(met.dt[,.(ntime=.N),by=key(met.dt)], stringsAsFactors=F)\n",
    "\n",
    "\n",
    "str(Freq.time_point)"
   ]
  },
  {
   "cell_type": "code",
   "execution_count": 458,
   "id": "abd24531-669a-4d2a-93b1-5c68425a0605",
   "metadata": {
    "execution": {
     "iopub.execute_input": "2025-10-14T11:31:47.486091Z",
     "iopub.status.busy": "2025-10-14T11:31:47.485125Z",
     "iopub.status.idle": "2025-10-14T11:31:47.500462Z",
     "shell.execute_reply": "2025-10-14T11:31:47.499341Z"
    }
   },
   "outputs": [
    {
     "name": "stdout",
     "output_type": "stream",
     "text": [
      "'data.frame':\t94 obs. of  8 variables:\n",
      " $ time_point                      : Ord.factor w/ 2 levels \"0_days\"<\"8_days\": 1 1 1 1 1 1 1 1 1 1 ...\n",
      " $ Diff                            : Ord.factor w/ 1 level \"Diff_MK_non_competition\": 1 1 1 1 1 1 1 1 1 1 ...\n",
      " $ Integrated_annotation_after_rpca: Ord.factor w/ 6 levels \"hESC\"<\"HemogenicEndothelium\"<..: 1 1 1 1 1 1 1 1 1 1 ...\n",
      " $ clone_line                      : Ord.factor w/ 12 levels \"wt_1\"<\"wt_2\"<..: NA 1 2 3 4 5 6 7 8 9 ...\n",
      " $ Freq                            : int  2424 552 1769 993 1354 262 2282 1932 256 1765 ...\n",
      " $ TOTAL                           : int  17282 17282 17282 17282 17282 17282 17282 17282 17282 17282 ...\n",
      " $ Perc                            : num  14.03 3.19 10.24 5.75 7.83 ...\n",
      " $ ntime                           : int  17293 17293 17293 17293 17293 17293 17293 17293 17293 17293 ...\n"
     ]
    }
   ],
   "source": [
    "Freq.table<-merge(Freq.table,\n",
    "                  Freq.time_point,\n",
    "                  by=c(\"time_point\",\"Diff\"))\n",
    "\n",
    "str(Freq.table)"
   ]
  },
  {
   "cell_type": "code",
   "execution_count": 459,
   "id": "869adbd4-3400-44b9-9347-1d633af47061",
   "metadata": {
    "execution": {
     "iopub.execute_input": "2025-10-14T11:31:47.894902Z",
     "iopub.status.busy": "2025-10-14T11:31:47.893884Z",
     "iopub.status.idle": "2025-10-14T11:31:47.908488Z",
     "shell.execute_reply": "2025-10-14T11:31:47.907385Z"
    }
   },
   "outputs": [
    {
     "name": "stdout",
     "output_type": "stream",
     "text": [
      "'data.frame':\t87 obs. of  8 variables:\n",
      " $ time_point                      : Ord.factor w/ 2 levels \"0_days\"<\"8_days\": 1 1 1 1 1 1 1 1 1 1 ...\n",
      " $ Diff                            : Ord.factor w/ 1 level \"Diff_MK_non_competition\": 1 1 1 1 1 1 1 1 1 1 ...\n",
      " $ Integrated_annotation_after_rpca: Ord.factor w/ 6 levels \"hESC\"<\"HemogenicEndothelium\"<..: 1 1 1 1 1 1 1 1 1 1 ...\n",
      " $ clone_line                      : Ord.factor w/ 12 levels \"wt_1\"<\"wt_2\"<..: NA 1 2 3 4 5 6 7 8 9 ...\n",
      " $ Freq                            : int  2424 552 1769 993 1354 262 2282 1932 256 1765 ...\n",
      " $ TOTAL                           : int  17282 17282 17282 17282 17282 17282 17282 17282 17282 17282 ...\n",
      " $ Perc                            : num  14.03 3.19 10.24 5.75 7.83 ...\n",
      " $ ntime                           : int  17293 17293 17293 17293 17293 17293 17293 17293 17293 17293 ...\n"
     ]
    }
   ],
   "source": [
    "Freq.table_filtered<-Freq.table[which(Freq.table$TOTAL >= 100),]\n",
    "\n",
    "str(Freq.table_filtered)"
   ]
  },
  {
   "cell_type": "code",
   "execution_count": 460,
   "id": "71dec72a-22fc-48b9-8dcd-ada9db10fe90",
   "metadata": {
    "execution": {
     "iopub.execute_input": "2025-10-14T11:31:48.147580Z",
     "iopub.status.busy": "2025-10-14T11:31:48.146589Z",
     "iopub.status.idle": "2025-10-14T11:31:48.154756Z",
     "shell.execute_reply": "2025-10-14T11:31:48.153640Z"
    }
   },
   "outputs": [],
   "source": [
    "fill_colours<-c(brewer.pal(9, \"Greens\")[c(5,6,7)],brewer.pal(9, \"Reds\")[c(5,6,7)],brewer.pal(9, \"Purples\")[c(5,6,7)],brewer.pal(9, \"PuRd\")[c(5,6,7)],'gray','black')"
   ]
  },
  {
   "cell_type": "code",
   "execution_count": 461,
   "id": "588c266a-92ea-45c7-9302-f702276cd55c",
   "metadata": {
    "execution": {
     "iopub.execute_input": "2025-10-14T11:31:48.577016Z",
     "iopub.status.busy": "2025-10-14T11:31:48.575918Z",
     "iopub.status.idle": "2025-10-14T11:31:48.589865Z",
     "shell.execute_reply": "2025-10-14T11:31:48.588724Z"
    }
   },
   "outputs": [
    {
     "name": "stdout",
     "output_type": "stream",
     "text": [
      "'data.frame':\t87 obs. of  8 variables:\n",
      " $ time_point                      : Ord.factor w/ 2 levels \"0_days\"<\"8_days\": 1 1 1 1 1 1 1 1 1 1 ...\n",
      " $ Diff                            : Ord.factor w/ 1 level \"Diff_MK_non_competition\": 1 1 1 1 1 1 1 1 1 1 ...\n",
      " $ Integrated_annotation_after_rpca: Ord.factor w/ 6 levels \"hESC\"<\"HemogenicEndothelium\"<..: 1 1 1 1 1 1 1 1 1 1 ...\n",
      " $ clone_line                      : Ord.factor w/ 12 levels \"wt_1\"<\"wt_2\"<..: NA 1 2 3 4 5 6 7 8 9 ...\n",
      " $ Freq                            : int  2424 552 1769 993 1354 262 2282 1932 256 1765 ...\n",
      " $ TOTAL                           : int  17282 17282 17282 17282 17282 17282 17282 17282 17282 17282 ...\n",
      " $ Perc                            : num  14.03 3.19 10.24 5.75 7.83 ...\n",
      " $ ntime                           : int  17293 17293 17293 17293 17293 17293 17293 17293 17293 17293 ...\n"
     ]
    }
   ],
   "source": [
    "str(Freq.table_filtered)"
   ]
  },
  {
   "cell_type": "code",
   "execution_count": 462,
   "id": "68856458-ca8b-465d-b54e-1917785a6f92",
   "metadata": {
    "execution": {
     "iopub.execute_input": "2025-10-14T11:31:49.793076Z",
     "iopub.status.busy": "2025-10-14T11:31:49.792036Z",
     "iopub.status.idle": "2025-10-14T11:31:50.435335Z",
     "shell.execute_reply": "2025-10-14T11:31:50.434182Z"
    }
   },
   "outputs": [
    {
     "name": "stdout",
     "output_type": "stream",
     "text": [
      "-------------------------------------->\t0 25 50 75 100\n"
     ]
    },
    {
     "data": {
      "image/png": "[encoded data removed]",
      "text/plain": [
       "plot without title"
      ]
     },
     "metadata": {
      "image/png": {
       "height": 420,
       "width": 420
      }
     },
     "output_type": "display_data"
    }
   ],
   "source": [
    "#### Stacked Graph #1---------------\n",
    "  \n",
    "  breaks.Rank<-(seq(0,100,by=25))\n",
    "  labels.Rank<-as.character(breaks.Rank)\n",
    "  \n",
    "  cat(\"-------------------------------------->\\t\")\n",
    "  cat(sprintf(as.character(labels.Rank)))\n",
    "  cat(\"\\n\")\n",
    "  \n",
    "  \n",
    "  stacked_barplot<-Freq.table_filtered %>%\n",
    "    mutate(myaxis = paste0(Integrated_annotation_after_rpca, \"/n\", \"n=\", TOTAL), drop=F) %>%\n",
    "    mutate(myaxis=fct_reorder(myaxis,as.numeric(Integrated_annotation_after_rpca)), drop=F) %>%\n",
    "    ggplot(aes(x=myaxis, y=Perc, fill=clone_line)) +\n",
    "    geom_bar(stat=\"identity\",colour='white')+\n",
    "    scale_y_continuous(name=paste(\"Percentage of cells in each cell type\",sep=\" \"),breaks=breaks.Rank,labels=labels.Rank,\n",
    "                       limits=c(breaks.Rank[1],breaks.Rank[length(breaks.Rank)]+1))+\n",
    "    scale_fill_manual(values=fill_colours,\n",
    "                      drop=F,\n",
    "                      name=\"Genotype\")\n",
    "\n",
    " stacked_barplot<-stacked_barplot+\n",
    "    theme_cowplot(font_size = 2)+\n",
    "    facet_grid(Diff ~ time_point+ntime, scales='free_x', space='free_x', switch=\"y\", \n",
    "               labeller=labeller(paste0(Freq.table_filtered$time_point, \"\\n\", \"n=\", Freq.table_filtered$ntime, drop=T)))+   \n",
    "    scale_x_discrete(name=\"Integrated_annotation_after_rpca\", drop=T)+\n",
    "    theme( strip.background = element_blank(),\n",
    "           strip.placement = \"outside\",\n",
    "           strip.text = element_text(size=6),\n",
    "           panel.spacing = unit(0.2, \"lines\"),\n",
    "           panel.background=element_rect(fill=\"white\"),\n",
    "           panel.border=element_rect(colour=\"white\",size=0,5),\n",
    "           panel.grid.major = element_blank(),\n",
    "           panel.grid.minor = element_blank())+\n",
    "        theme_classic()+\n",
    "            theme(axis.title.y=element_text(size=12, color=\"black\", family=\"sans\"),\n",
    "                  axis.title.x=element_blank(),\n",
    "                  axis.text.y=element_text(angle=0,size=10, color=\"black\", family=\"sans\"),\n",
    "                  axis.text.x=element_text(angle=45,size=8,hjust=1,color=\"black\", family=\"sans\"),\n",
    "                  axis.line.x = element_line(size = 0.2),\n",
    "                  axis.ticks.x = element_line(size = 0.2),\n",
    "                  axis.ticks.y = element_line(size = 0.2),\n",
    "                  axis.line.y = element_line(size = 0.2))+\n",
    "            theme(legend.title = element_blank(),\n",
    "                  legend.text = element_text(size=8, color=\"black\", family=\"sans\"),\n",
    "                  legend.key.size = unit(0.25, 'cm'), #change legend key size\n",
    "                  legend.key.height = unit(0.25, 'cm'), #change legend key height\n",
    "                  legend.key.width = unit(0.25, 'cm'), #change legend key width\n",
    "                  legend.position=\"bottom\")\n",
    "\n",
    "\n",
    "\n",
    "stacked_barplot"
   ]
  },
  {
   "cell_type": "code",
   "execution_count": 463,
   "id": "2dd789de-2944-4a96-82cb-479b50d3fae5",
   "metadata": {
    "execution": {
     "iopub.execute_input": "2025-10-14T11:31:55.063636Z",
     "iopub.status.busy": "2025-10-14T11:31:55.062575Z",
     "iopub.status.idle": "2025-10-14T11:31:55.517819Z",
     "shell.execute_reply": "2025-10-14T11:31:55.516486Z"
    }
   },
   "outputs": [
    {
     "name": "stderr",
     "output_type": "stream",
     "text": [
      "\u001b[1m\u001b[22mSaving 6.67 x 6.67 in image\n"
     ]
    }
   ],
   "source": [
    "setwd(path_graphs)\n",
    "\n",
    "svgname<-paste(\"stacked_barplot_Diff_vs_time_point_Integrated_annotation_after_rpca_vs_clone_line\",\".png\",sep='')\n",
    "makesvg = TRUE\n",
    "\n",
    "if (makesvg == TRUE)\n",
    "{\n",
    "  ggsave(svgname, plot= stacked_barplot,\n",
    "         device=\"png\")\n",
    "}"
   ]
  },
  {
   "cell_type": "markdown",
   "id": "79c9af01-2fe8-4e6c-9efc-32f849406eab",
   "metadata": {},
   "source": [
    "# Subset for only genotyped cells"
   ]
  },
  {
   "cell_type": "code",
   "execution_count": 464,
   "id": "ace96cd1-6443-4be4-9e17-eb6bcb8617dc",
   "metadata": {
    "execution": {
     "iopub.execute_input": "2025-10-14T11:32:31.568100Z",
     "iopub.status.busy": "2025-10-14T11:32:31.567008Z",
     "iopub.status.idle": "2025-10-14T11:32:39.622533Z",
     "shell.execute_reply": "2025-10-14T11:32:39.621331Z"
    }
   },
   "outputs": [
    {
     "data": {
      "text/plain": [
       "An object of class Seurat \n",
       "104138 features across 30756 samples within 4 assays \n",
       "Active assay: SCT (28364 features, 0 variable features)\n",
       " 3 layers present: counts, data, scale.data\n",
       " 3 other assays present: RNA, RNA_raw, integrated\n",
       " 2 dimensional reductions calculated: pca, umap"
      ]
     },
     "metadata": {},
     "output_type": "display_data"
    }
   ],
   "source": [
    "adata_sub<-subset(adata, integrative_genotyping != \"Doublet\" & integrative_genotyping != \"Negative\")\n",
    "adata_sub"
   ]
  },
  {
   "cell_type": "code",
   "execution_count": 465,
   "id": "98f35f4b-df20-4324-92de-899106cd0d04",
   "metadata": {
    "execution": {
     "iopub.execute_input": "2025-10-14T11:32:39.625247Z",
     "iopub.status.busy": "2025-10-14T11:32:39.624301Z",
     "iopub.status.idle": "2025-10-14T11:32:39.651461Z",
     "shell.execute_reply": "2025-10-14T11:32:39.650387Z"
    }
   },
   "outputs": [],
   "source": [
    "met<-droplevels(adata_sub[[]])"
   ]
  },
  {
   "cell_type": "markdown",
   "id": "8f81f5d4-15cc-4d24-ab9c-f56a1f06978e",
   "metadata": {},
   "source": [
    "### clone_line vs Integrated_annotation_after_rpca vs time_point vs Diff"
   ]
  },
  {
   "cell_type": "code",
   "execution_count": 466,
   "id": "e8eee6a1-9bb1-4a74-8c17-cde4279df231",
   "metadata": {
    "execution": {
     "iopub.execute_input": "2025-10-14T11:32:39.654169Z",
     "iopub.status.busy": "2025-10-14T11:32:39.653220Z",
     "iopub.status.idle": "2025-10-14T11:32:39.666841Z",
     "shell.execute_reply": "2025-10-14T11:32:39.665741Z"
    }
   },
   "outputs": [],
   "source": [
    "met.dt<-data.table(met,key=c(\"time_point\",\"Integrated_annotation_after_rpca\",\"clone_line\",\"Diff\"))"
   ]
  },
  {
   "cell_type": "code",
   "execution_count": 467,
   "id": "2c9ffbb2-6839-4106-8add-0fb74266bec4",
   "metadata": {
    "execution": {
     "iopub.execute_input": "2025-10-14T11:32:39.669525Z",
     "iopub.status.busy": "2025-10-14T11:32:39.668599Z",
     "iopub.status.idle": "2025-10-14T11:32:39.675639Z",
     "shell.execute_reply": "2025-10-14T11:32:39.674573Z"
    }
   },
   "outputs": [],
   "source": [
    "#str(met.dt)"
   ]
  },
  {
   "cell_type": "code",
   "execution_count": 468,
   "id": "208290a1-68a0-4a24-ad9b-9fbe58e63871",
   "metadata": {
    "execution": {
     "iopub.execute_input": "2025-10-14T11:32:39.678272Z",
     "iopub.status.busy": "2025-10-14T11:32:39.677354Z",
     "iopub.status.idle": "2025-10-14T11:32:39.692016Z",
     "shell.execute_reply": "2025-10-14T11:32:39.690960Z"
    }
   },
   "outputs": [
    {
     "name": "stdout",
     "output_type": "stream",
     "text": [
      "'data.frame':\t86 obs. of  5 variables:\n",
      " $ time_point                      : Ord.factor w/ 2 levels \"0_days\"<\"8_days\": 1 1 1 1 1 1 1 1 1 1 ...\n",
      " $ Integrated_annotation_after_rpca: Ord.factor w/ 6 levels \"hESC\"<\"HemogenicEndothelium\"<..: 1 1 1 1 1 1 1 1 1 1 ...\n",
      " $ clone_line                      : Ord.factor w/ 12 levels \"wt_1\"<\"wt_2\"<..: 1 2 3 4 5 6 7 8 9 10 ...\n",
      " $ Diff                            : Ord.factor w/ 1 level \"Diff_MK_non_competition\": 1 1 1 1 1 1 1 1 1 1 ...\n",
      " $ Freq                            : int  552 1769 993 1354 262 2282 1932 256 1765 1576 ...\n"
     ]
    }
   ],
   "source": [
    "Freq.table<-as.data.frame(met.dt[,.(Freq=.N),by=key(met.dt)], stringsAsFactors=F)\n",
    "\n",
    "str(Freq.table)"
   ]
  },
  {
   "cell_type": "code",
   "execution_count": 469,
   "id": "551c0091-b6b1-4e70-9e01-7e457ff26c75",
   "metadata": {
    "execution": {
     "iopub.execute_input": "2025-10-14T11:32:39.694664Z",
     "iopub.status.busy": "2025-10-14T11:32:39.693745Z",
     "iopub.status.idle": "2025-10-14T11:32:39.714751Z",
     "shell.execute_reply": "2025-10-14T11:32:39.713680Z"
    }
   },
   "outputs": [
    {
     "name": "stdout",
     "output_type": "stream",
     "text": [
      "'data.frame':\t8 obs. of  4 variables:\n",
      " $ time_point                      : Ord.factor w/ 2 levels \"0_days\"<\"8_days\": 1 1 2 2 2 2 2 2\n",
      " $ Integrated_annotation_after_rpca: Ord.factor w/ 6 levels \"hESC\"<\"HemogenicEndothelium\"<..: 1 3 1 2 3 4 5 6\n",
      " $ Diff                            : Ord.factor w/ 1 level \"Diff_MK_non_competition\": 1 1 1 1 1 1 1 1\n",
      " $ TOTAL                           : int  14858 10 1495 1614 9849 1038 122 1770\n"
     ]
    }
   ],
   "source": [
    "met.dt<-data.table(met, key=c(\"time_point\",\"Integrated_annotation_after_rpca\",\"Diff\"))\n",
    "Freq.TOTAL<-as.data.frame(met.dt[,.(TOTAL=.N),by=key(met.dt)], stringsAsFactors=F)\n",
    "\n",
    "str(Freq.TOTAL)"
   ]
  },
  {
   "cell_type": "code",
   "execution_count": 470,
   "id": "8bf5ec36-48a4-4441-a0a0-ff0b70de8c3d",
   "metadata": {
    "execution": {
     "iopub.execute_input": "2025-10-14T11:32:39.717389Z",
     "iopub.status.busy": "2025-10-14T11:32:39.716470Z",
     "iopub.status.idle": "2025-10-14T11:32:39.727418Z",
     "shell.execute_reply": "2025-10-14T11:32:39.726343Z"
    }
   },
   "outputs": [],
   "source": [
    "Freq.table<-merge(Freq.table,\n",
    "                  Freq.TOTAL,\n",
    "                  by=c(\"time_point\",\"Integrated_annotation_after_rpca\",\"Diff\"))\n",
    "Freq.table$Perc<-round((100*(Freq.table$Freq/Freq.table$TOTAL)),2)\n",
    "\n",
    "#Freq.table"
   ]
  },
  {
   "cell_type": "code",
   "execution_count": 471,
   "id": "5c383ed9-4c97-47e5-a50a-9174557489b2",
   "metadata": {
    "execution": {
     "iopub.execute_input": "2025-10-14T11:32:39.730022Z",
     "iopub.status.busy": "2025-10-14T11:32:39.729108Z",
     "iopub.status.idle": "2025-10-14T11:32:39.741252Z",
     "shell.execute_reply": "2025-10-14T11:32:39.740140Z"
    }
   },
   "outputs": [
    {
     "name": "stdout",
     "output_type": "stream",
     "text": [
      "'data.frame':\t86 obs. of  7 variables:\n",
      " $ time_point                      : Ord.factor w/ 2 levels \"0_days\"<\"8_days\": 1 1 1 1 1 1 1 1 1 1 ...\n",
      " $ Integrated_annotation_after_rpca: Ord.factor w/ 6 levels \"hESC\"<\"HemogenicEndothelium\"<..: 1 1 1 1 1 1 1 1 1 1 ...\n",
      " $ Diff                            : Ord.factor w/ 1 level \"Diff_MK_non_competition\": 1 1 1 1 1 1 1 1 1 1 ...\n",
      " $ clone_line                      : Ord.factor w/ 12 levels \"wt_1\"<\"wt_2\"<..: 1 2 3 4 5 6 7 8 9 10 ...\n",
      " $ Freq                            : int  552 1769 993 1354 262 2282 1932 256 1765 1576 ...\n",
      " $ TOTAL                           : int  14858 14858 14858 14858 14858 14858 14858 14858 14858 14858 ...\n",
      " $ Perc                            : num  3.72 11.91 6.68 9.11 1.76 ...\n"
     ]
    }
   ],
   "source": [
    "str(Freq.table)"
   ]
  },
  {
   "cell_type": "code",
   "execution_count": 472,
   "id": "3ecae790-dbdd-49eb-aac5-958964a4f51d",
   "metadata": {
    "execution": {
     "iopub.execute_input": "2025-10-14T11:32:39.743920Z",
     "iopub.status.busy": "2025-10-14T11:32:39.742988Z",
     "iopub.status.idle": "2025-10-14T11:32:39.762903Z",
     "shell.execute_reply": "2025-10-14T11:32:39.761840Z"
    }
   },
   "outputs": [
    {
     "name": "stdout",
     "output_type": "stream",
     "text": [
      "'data.frame':\t2 obs. of  3 variables:\n",
      " $ time_point: Ord.factor w/ 2 levels \"0_days\"<\"8_days\": 1 2\n",
      " $ Diff      : Ord.factor w/ 1 level \"Diff_MK_non_competition\": 1 1\n",
      " $ ntime     : int  14868 15888\n"
     ]
    }
   ],
   "source": [
    "met.dt<-data.table(met, key=c(\"time_point\",\"Diff\"))\n",
    "Freq.time_point<-as.data.frame(met.dt[,.(ntime=.N),by=key(met.dt)], stringsAsFactors=F)\n",
    "\n",
    "\n",
    "str(Freq.time_point)"
   ]
  },
  {
   "cell_type": "code",
   "execution_count": 473,
   "id": "348068cb-ad03-4b35-ba3d-3b46522e663a",
   "metadata": {
    "execution": {
     "iopub.execute_input": "2025-10-14T11:32:39.765533Z",
     "iopub.status.busy": "2025-10-14T11:32:39.764613Z",
     "iopub.status.idle": "2025-10-14T11:32:39.779436Z",
     "shell.execute_reply": "2025-10-14T11:32:39.778383Z"
    }
   },
   "outputs": [
    {
     "name": "stdout",
     "output_type": "stream",
     "text": [
      "'data.frame':\t86 obs. of  8 variables:\n",
      " $ time_point                      : Ord.factor w/ 2 levels \"0_days\"<\"8_days\": 1 1 1 1 1 1 1 1 1 1 ...\n",
      " $ Diff                            : Ord.factor w/ 1 level \"Diff_MK_non_competition\": 1 1 1 1 1 1 1 1 1 1 ...\n",
      " $ Integrated_annotation_after_rpca: Ord.factor w/ 6 levels \"hESC\"<\"HemogenicEndothelium\"<..: 1 1 1 1 1 1 1 1 1 1 ...\n",
      " $ clone_line                      : Ord.factor w/ 12 levels \"wt_1\"<\"wt_2\"<..: 1 2 3 4 5 6 7 8 9 10 ...\n",
      " $ Freq                            : int  552 1769 993 1354 262 2282 1932 256 1765 1576 ...\n",
      " $ TOTAL                           : int  14858 14858 14858 14858 14858 14858 14858 14858 14858 14858 ...\n",
      " $ Perc                            : num  3.72 11.91 6.68 9.11 1.76 ...\n",
      " $ ntime                           : int  14868 14868 14868 14868 14868 14868 14868 14868 14868 14868 ...\n"
     ]
    }
   ],
   "source": [
    "Freq.table<-merge(Freq.table,\n",
    "                  Freq.time_point,\n",
    "                  by=c(\"time_point\",\"Diff\"))\n",
    "\n",
    "str(Freq.table)"
   ]
  },
  {
   "cell_type": "code",
   "execution_count": 474,
   "id": "3f2b26e7-44f5-40c6-94c8-cbf5f7e7900e",
   "metadata": {
    "execution": {
     "iopub.execute_input": "2025-10-14T11:32:39.782056Z",
     "iopub.status.busy": "2025-10-14T11:32:39.781131Z",
     "iopub.status.idle": "2025-10-14T11:32:39.794901Z",
     "shell.execute_reply": "2025-10-14T11:32:39.793842Z"
    }
   },
   "outputs": [
    {
     "name": "stdout",
     "output_type": "stream",
     "text": [
      "'data.frame':\t80 obs. of  8 variables:\n",
      " $ time_point                      : Ord.factor w/ 2 levels \"0_days\"<\"8_days\": 1 1 1 1 1 1 1 1 1 1 ...\n",
      " $ Diff                            : Ord.factor w/ 1 level \"Diff_MK_non_competition\": 1 1 1 1 1 1 1 1 1 1 ...\n",
      " $ Integrated_annotation_after_rpca: Ord.factor w/ 6 levels \"hESC\"<\"HemogenicEndothelium\"<..: 1 1 1 1 1 1 1 1 1 1 ...\n",
      " $ clone_line                      : Ord.factor w/ 12 levels \"wt_1\"<\"wt_2\"<..: 1 2 3 4 5 6 7 8 9 10 ...\n",
      " $ Freq                            : int  552 1769 993 1354 262 2282 1932 256 1765 1576 ...\n",
      " $ TOTAL                           : int  14858 14858 14858 14858 14858 14858 14858 14858 14858 14858 ...\n",
      " $ Perc                            : num  3.72 11.91 6.68 9.11 1.76 ...\n",
      " $ ntime                           : int  14868 14868 14868 14868 14868 14868 14868 14868 14868 14868 ...\n"
     ]
    }
   ],
   "source": [
    "Freq.table_filtered<-Freq.table[which(Freq.table$TOTAL >= 50),]\n",
    "\n",
    "str(Freq.table_filtered)"
   ]
  },
  {
   "cell_type": "code",
   "execution_count": 475,
   "id": "22c5a993-8af0-45a5-83e2-91b03b02659a",
   "metadata": {
    "execution": {
     "iopub.execute_input": "2025-10-14T11:32:39.797537Z",
     "iopub.status.busy": "2025-10-14T11:32:39.796595Z",
     "iopub.status.idle": "2025-10-14T11:32:39.804433Z",
     "shell.execute_reply": "2025-10-14T11:32:39.803379Z"
    }
   },
   "outputs": [],
   "source": [
    "fill_colours<-c(brewer.pal(9, \"Greens\")[c(5,6,7)],brewer.pal(9, \"Reds\")[c(5,6,7)],brewer.pal(9, \"Purples\")[c(5,6,7)],brewer.pal(9, \"PuRd\")[c(5,6,7)],'gray','black')"
   ]
  },
  {
   "cell_type": "code",
   "execution_count": 476,
   "id": "4f7df784-df3c-49a0-8019-b2f035af4595",
   "metadata": {
    "execution": {
     "iopub.execute_input": "2025-10-14T11:32:39.807080Z",
     "iopub.status.busy": "2025-10-14T11:32:39.806149Z",
     "iopub.status.idle": "2025-10-14T11:32:39.818302Z",
     "shell.execute_reply": "2025-10-14T11:32:39.817230Z"
    }
   },
   "outputs": [
    {
     "name": "stdout",
     "output_type": "stream",
     "text": [
      "'data.frame':\t80 obs. of  8 variables:\n",
      " $ time_point                      : Ord.factor w/ 2 levels \"0_days\"<\"8_days\": 1 1 1 1 1 1 1 1 1 1 ...\n",
      " $ Diff                            : Ord.factor w/ 1 level \"Diff_MK_non_competition\": 1 1 1 1 1 1 1 1 1 1 ...\n",
      " $ Integrated_annotation_after_rpca: Ord.factor w/ 6 levels \"hESC\"<\"HemogenicEndothelium\"<..: 1 1 1 1 1 1 1 1 1 1 ...\n",
      " $ clone_line                      : Ord.factor w/ 12 levels \"wt_1\"<\"wt_2\"<..: 1 2 3 4 5 6 7 8 9 10 ...\n",
      " $ Freq                            : int  552 1769 993 1354 262 2282 1932 256 1765 1576 ...\n",
      " $ TOTAL                           : int  14858 14858 14858 14858 14858 14858 14858 14858 14858 14858 ...\n",
      " $ Perc                            : num  3.72 11.91 6.68 9.11 1.76 ...\n",
      " $ ntime                           : int  14868 14868 14868 14868 14868 14868 14868 14868 14868 14868 ...\n"
     ]
    }
   ],
   "source": [
    "str(Freq.table_filtered)"
   ]
  },
  {
   "cell_type": "code",
   "execution_count": 479,
   "id": "a4fc16d6-46a7-4dbe-9d08-78cc0ef50893",
   "metadata": {
    "execution": {
     "iopub.execute_input": "2025-10-14T11:33:37.654086Z",
     "iopub.status.busy": "2025-10-14T11:33:37.652937Z",
     "iopub.status.idle": "2025-10-14T11:33:38.631648Z",
     "shell.execute_reply": "2025-10-14T11:33:38.630464Z"
    }
   },
   "outputs": [
    {
     "name": "stdout",
     "output_type": "stream",
     "text": [
      "-------------------------------------->\t0 25 50 75 100\n"
     ]
    },
    {
     "data": {
      "image/png": "[encoded data removed]",
      "text/plain": [
       "plot without title"
      ]
     },
     "metadata": {
      "image/png": {
       "height": 420,
       "width": 420
      }
     },
     "output_type": "display_data"
    }
   ],
   "source": [
    "#### Stacked Graph #1---------------\n",
    "  \n",
    "  breaks.Rank<-(seq(0,100,by=25))\n",
    "  labels.Rank<-as.character(breaks.Rank)\n",
    "  \n",
    "  cat(\"-------------------------------------->\\t\")\n",
    "  cat(sprintf(as.character(labels.Rank)))\n",
    "  cat(\"\\n\")\n",
    "  \n",
    "  \n",
    "  stacked_barplot<-Freq.table_filtered %>%\n",
    "    mutate(myaxis = paste0(Integrated_annotation_after_rpca, \"\\n\", \"n=\", TOTAL), drop=F) %>%\n",
    "    mutate(myaxis=fct_reorder(myaxis,as.numeric(Integrated_annotation_after_rpca)), drop=F) %>%\n",
    "    ggplot(aes(x=myaxis, y=Perc, fill=clone_line)) +\n",
    "    geom_bar(stat=\"identity\",colour='white')+\n",
    "    scale_y_continuous(name=paste(\"Percentage of cells in each cell type\",sep=\" \"),breaks=breaks.Rank,labels=labels.Rank,\n",
    "                       limits=c(breaks.Rank[1],breaks.Rank[length(breaks.Rank)]+1))+\n",
    "    scale_fill_manual(values=fill_colours,\n",
    "                      drop=F,\n",
    "                      name=\"Genotype\")\n",
    "\n",
    " stacked_barplot<-stacked_barplot+\n",
    "    theme_cowplot(font_size = 2)+\n",
    "    facet_grid(Diff ~ time_point+ntime, scales='free_x', space='free_x', switch=\"y\", \n",
    "               labeller=labeller(paste0(Freq.table_filtered$time_point, \"\\n\", \"n=\", Freq.table_filtered$ntime, drop=T)))+   \n",
    "    scale_x_discrete(name=\"Integrated_annotation_after_rpca\", drop=T)+\n",
    "    theme( strip.background = element_blank(),\n",
    "           strip.placement = \"outside\",\n",
    "           strip.text = element_text(size=6),\n",
    "           panel.spacing = unit(0.2, \"lines\"),\n",
    "           panel.background=element_rect(fill=\"white\"),\n",
    "           panel.border=element_rect(colour=\"white\",size=0,5),\n",
    "           panel.grid.major = element_blank(),\n",
    "           panel.grid.minor = element_blank())+\n",
    "        theme_classic()+\n",
    "            theme(axis.title.y=element_text(size=12, color=\"black\", family=\"sans\"),\n",
    "                  axis.title.x=element_blank(),\n",
    "                  axis.text.y=element_text(angle=0,size=10, color=\"black\", family=\"sans\"),\n",
    "                  axis.text.x=element_text(angle=45,size=8,hjust=1,color=\"black\", family=\"sans\"),\n",
    "                  axis.line.x = element_line(size = 0.2),\n",
    "                  axis.ticks.x = element_line(size = 0.2),\n",
    "                  axis.ticks.y = element_line(size = 0.2),\n",
    "                  axis.line.y = element_line(size = 0.2))+\n",
    "            theme(legend.title = element_blank(),\n",
    "                  legend.text = element_text(size=8, color=\"black\", family=\"sans\"),\n",
    "                  legend.key.size = unit(0.25, 'cm'), #change legend key size\n",
    "                  legend.key.height = unit(0.25, 'cm'), #change legend key height\n",
    "                  legend.key.width = unit(0.25, 'cm'), #change legend key width\n",
    "                  legend.position=\"bottom\")\n",
    "\n",
    "\n",
    "\n",
    "stacked_barplot"
   ]
  },
  {
   "cell_type": "code",
   "execution_count": 480,
   "id": "1e15dbd5-d272-44d4-bc2a-dacc76fcb35f",
   "metadata": {
    "execution": {
     "iopub.execute_input": "2025-10-14T11:33:38.634338Z",
     "iopub.status.busy": "2025-10-14T11:33:38.633411Z",
     "iopub.status.idle": "2025-10-14T11:33:39.077259Z",
     "shell.execute_reply": "2025-10-14T11:33:39.075850Z"
    }
   },
   "outputs": [
    {
     "name": "stderr",
     "output_type": "stream",
     "text": [
      "\u001b[1m\u001b[22mSaving 6.67 x 6.67 in image\n"
     ]
    }
   ],
   "source": [
    "setwd(path_graphs)\n",
    "\n",
    "svgname<-paste(\"stacked_barplot_Diff_vs_time_point_Integrated_annotation_after_rpca_vs_clone_line_only_genotyped_cells\",\".png\",sep='')\n",
    "makesvg = TRUE\n",
    "\n",
    "if (makesvg == TRUE)\n",
    "{\n",
    "  ggsave(svgname, plot= stacked_barplot,\n",
    "         device=\"png\")\n",
    "}"
   ]
  },
  {
   "cell_type": "markdown",
   "id": "f6404c97-0624-4ff1-9ba3-e9ac0941f164",
   "metadata": {},
   "source": [
    "# Save the new object"
   ]
  },
  {
   "cell_type": "code",
   "execution_count": 373,
   "id": "8fd92ad7-aa39-4ae9-b178-79fc986487c4",
   "metadata": {
    "execution": {
     "iopub.execute_input": "2025-10-14T10:46:23.171918Z",
     "iopub.status.busy": "2025-10-14T10:46:23.170891Z",
     "iopub.status.idle": "2025-10-14T10:53:34.290997Z",
     "shell.execute_reply": "2025-10-14T10:53:34.288160Z"
    }
   },
   "outputs": [],
   "source": [
    "setwd(\"/scratch/manuel.tardaguila/hESC_MK_SCRNAseq_10X/no_competition/processing_outputs/\")\n",
    "\n",
    "saveRDS(adata_sub, file=\"merged_unprocessed_db_filt_clustered_QCed_cell_annotated_rpca_integrate_clustered_subcluster_majority_vote_only_genotyped.rds\")"
   ]
  },
  {
   "cell_type": "code",
   "execution_count": 374,
   "id": "1f333e17-2b17-4b34-a84f-ff20814909d2",
   "metadata": {
    "execution": {
     "iopub.execute_input": "2025-10-14T10:53:34.295375Z",
     "iopub.status.busy": "2025-10-14T10:53:34.293984Z",
     "iopub.status.idle": "2025-10-14T11:01:41.881712Z",
     "shell.execute_reply": "2025-10-14T11:01:41.879000Z"
    }
   },
   "outputs": [],
   "source": [
    "setwd(\"/scratch/manuel.tardaguila/hESC_MK_SCRNAseq_10X/no_competition/processing_outputs/\")\n",
    "\n",
    "saveRDS(adata, file=\"merged_unprocessed_db_filt_clustered_QCed_cell_annotated_rpca_integrate_clustered_subcluster_majority_vote_and_genotyped.rds\")"
   ]
  },
  {
   "cell_type": "code",
   "execution_count": null,
   "id": "286bcc2d-19e5-4484-8fb0-91b7bdd5a3a0",
   "metadata": {},
   "outputs": [],
   "source": []
  }
 ],
 "metadata": {
  "kernelspec": {
   "display_name": "R [conda env:multiome_QC_DEF]",
   "language": "R",
   "name": "conda-env-multiome_QC_DEF-r"
  },
  "language_info": {
   "codemirror_mode": "r",
   "file_extension": ".r",
   "mimetype": "text/x-r-source",
   "name": "R",
   "pygments_lexer": "r",
   "version": "4.3.1"
  }
 },
 "nbformat": 4,
 "nbformat_minor": 5
}
