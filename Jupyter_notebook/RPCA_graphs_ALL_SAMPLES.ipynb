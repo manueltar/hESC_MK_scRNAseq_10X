{
 "cells": [
  {
   "cell_type": "markdown",
   "id": "8906a91b-cc8c-426f-872c-f9eba7108235",
   "metadata": {},
   "source": [
    "# Tutorial"
   ]
  },
  {
   "cell_type": "code",
   "execution_count": 1,
   "id": "ea57a45a-32d0-425d-942c-6847b20f7240",
   "metadata": {
    "execution": {
     "iopub.execute_input": "2025-10-13T14:44:18.431916Z",
     "iopub.status.busy": "2025-10-13T14:44:18.429699Z",
     "iopub.status.idle": "2025-10-13T14:44:18.570063Z",
     "shell.execute_reply": "2025-10-13T14:44:18.568776Z"
    }
   },
   "outputs": [],
   "source": [
    "# https://satijalab.org/seurat/articles/integration_rpca.html"
   ]
  },
  {
   "cell_type": "markdown",
   "id": "fc1d0c79-46d1-4d3c-b913-7b9d2c9cddf0",
   "metadata": {},
   "source": [
    "# Load libraries"
   ]
  },
  {
   "cell_type": "code",
   "execution_count": 2,
   "id": "b019b1dc-28d6-4721-a976-95fa810cf819",
   "metadata": {
    "execution": {
     "iopub.execute_input": "2025-10-13T14:44:18.602955Z",
     "iopub.status.busy": "2025-10-13T14:44:18.583223Z",
     "iopub.status.idle": "2025-10-13T14:45:25.205082Z",
     "shell.execute_reply": "2025-10-13T14:45:25.203585Z"
    }
   },
   "outputs": [
    {
     "data": {
      "text/html": [
       "'/group/soranzo/conda_envs/multiome_NEW_downstream_analysis/lib/R/library'"
      ],
      "text/latex": [
       "'/group/soranzo/conda\\_envs/multiome\\_NEW\\_downstream\\_analysis/lib/R/library'"
      ],
      "text/markdown": [
       "'/group/soranzo/conda_envs/multiome_NEW_downstream_analysis/lib/R/library'"
      ],
      "text/plain": [
       "[1] \"/group/soranzo/conda_envs/multiome_NEW_downstream_analysis/lib/R/library\""
      ]
     },
     "metadata": {},
     "output_type": "display_data"
    },
    {
     "data": {
      "text/html": [
       "<style>\n",
       ".list-inline {list-style: none; margin:0; padding: 0}\n",
       ".list-inline>li {display: inline-block}\n",
       ".list-inline>li:not(:last-child)::after {content: \"\\00b7\"; padding: 0 .5ex}\n",
       "</style>\n",
       "<ol class=list-inline><li>'/home/manuel.tardaguila/conda_envs/multiome_NEW_downstream_analysis/lib/R/library'</li><li>'/group/soranzo/conda_envs/multiome_NEW_downstream_analysis/lib/R/library'</li></ol>\n"
      ],
      "text/latex": [
       "\\begin{enumerate*}\n",
       "\\item '/home/manuel.tardaguila/conda\\_envs/multiome\\_NEW\\_downstream\\_analysis/lib/R/library'\n",
       "\\item '/group/soranzo/conda\\_envs/multiome\\_NEW\\_downstream\\_analysis/lib/R/library'\n",
       "\\end{enumerate*}\n"
      ],
      "text/markdown": [
       "1. '/home/manuel.tardaguila/conda_envs/multiome_NEW_downstream_analysis/lib/R/library'\n",
       "2. '/group/soranzo/conda_envs/multiome_NEW_downstream_analysis/lib/R/library'\n",
       "\n",
       "\n"
      ],
      "text/plain": [
       "[1] \"/home/manuel.tardaguila/conda_envs/multiome_NEW_downstream_analysis/lib/R/library\"\n",
       "[2] \"/group/soranzo/conda_envs/multiome_NEW_downstream_analysis/lib/R/library\"         "
      ]
     },
     "metadata": {},
     "output_type": "display_data"
    }
   ],
   "source": [
    ".libPaths()\n",
    ".libPaths(new = c(\"/home/manuel.tardaguila/conda_envs/multiome_NEW_downstream_analysis/lib/R/library\"))\n",
    ".libPaths()\n",
    "# sessionInfo()\n",
    "Sys.setenv(RETICULATE_PYTHON=\"/home/manuel.tardaguila/conda_envs/multiome_NEW_downstream_analysis/bin/python\")\n",
    "\n",
    "suppressMessages(library(Seurat))\n",
    "suppressMessages(library(Signac))\n",
    "suppressMessages(library(dplyr)) \n",
    "suppressMessages(library(ggplot2)) \n",
    "suppressMessages(library(Matrix)) \n",
    "suppressMessages(library(data.table)) \n",
    "suppressMessages(library(ggpubr)) \n",
    "suppressMessages(library(ggplot2))\n",
    "suppressMessages(library(pheatmap))\n",
    "#suppressMessages(library(presto))\n",
    "suppressMessages(library(\"qlcMatrix\"))\n",
    "suppressMessages(library(\"cowplot\"))\n",
    "suppressMessages(library(\"RColorBrewer\"))\n",
    "suppressMessages(library(\"plyr\"))\n",
    "suppressMessages(library(\"forcats\"))\n",
    "suppressMessages(library('ggeasy'))\n",
    "suppressMessages(library('dplyr'))\n",
    "suppressMessages(library(\"svglite\"))\n",
    "suppressMessages(library(\"ape\"))\n",
    "suppressMessages(library(\"ggforce\"))\n",
    "suppressMessages(library(\"tidyr\"))\n",
    "suppressMessages(library(\"edgeR\"))\n",
    "suppressMessages(library(\"apeglm\"))\n",
    "suppressMessages(library(\"DESeq2\"))\n",
    "suppressMessages(library(\"tibble\")) \n",
    "suppressMessages(library(\"ggrepel\"))"
   ]
  },
  {
   "cell_type": "markdown",
   "id": "d8eda873-29c0-4b90-bd57-0e51a6620946",
   "metadata": {
    "execution": {
     "iopub.execute_input": "2025-10-13T12:21:00.254698Z",
     "iopub.status.busy": "2025-10-13T12:21:00.253191Z",
     "iopub.status.idle": "2025-10-13T12:21:21.868818Z",
     "shell.execute_reply": "2025-10-13T12:21:21.867646Z"
    }
   },
   "source": [
    "Sys.setenv(RETICULATE_PYTHON=\"/home/manuel.tardaguila/conda_envs/multiome_QC_DEF/bin/python\")\n",
    "library(reticulate)\n",
    "reticulate::use_python(\"/home/manuel.tardaguila/conda_envs/multiome_QC_DEF/bin/python\")\n",
    "reticulate::use_condaenv(\"/home/manuel.tardaguila/conda_envs/multiome_QC_DEF\")\n",
    "reticulate::py_module_available(module='leidenalg')\n",
    "reticulate::import('leidenalg')"
   ]
  },
  {
   "cell_type": "markdown",
   "id": "bbd5f005-c06a-4085-aaca-69aea57c7404",
   "metadata": {},
   "source": [
    "# Read Seurat object after rpca integration"
   ]
  },
  {
   "cell_type": "code",
   "execution_count": 3,
   "id": "3d5b71e9-d4c8-4bf5-bb67-4ed5b49d7759",
   "metadata": {
    "execution": {
     "iopub.execute_input": "2025-10-13T14:45:25.222713Z",
     "iopub.status.busy": "2025-10-13T14:45:25.221207Z",
     "iopub.status.idle": "2025-10-13T14:45:25.235385Z",
     "shell.execute_reply": "2025-10-13T14:45:25.234139Z"
    },
    "vscode": {
     "languageId": "r"
    }
   },
   "outputs": [],
   "source": [
    "setwd(\"/scratch/manuel.tardaguila/hESC_MK_SCRNAseq_10X/no_competition/processing_outputs/\")"
   ]
  },
  {
   "cell_type": "code",
   "execution_count": 4,
   "id": "94fc64da-fa9e-4ff8-ae68-f3bcdfee6014",
   "metadata": {
    "execution": {
     "iopub.execute_input": "2025-10-13T14:45:25.265275Z",
     "iopub.status.busy": "2025-10-13T14:45:25.264174Z",
     "iopub.status.idle": "2025-10-13T14:46:15.793545Z",
     "shell.execute_reply": "2025-10-13T14:46:15.792208Z"
    }
   },
   "outputs": [],
   "source": [
    "adata<-readRDS(file=\"merged_unprocessed_db_filt_clustered_QCed_cell_annotated_rpca_integrate_clustered.rds\")\n"
   ]
  },
  {
   "cell_type": "code",
   "execution_count": 5,
   "id": "508c3b09-b472-4ccd-97d8-4649fcdcf5af",
   "metadata": {
    "execution": {
     "iopub.execute_input": "2025-10-13T14:46:15.796248Z",
     "iopub.status.busy": "2025-10-13T14:46:15.795330Z",
     "iopub.status.idle": "2025-10-13T14:46:15.996449Z",
     "shell.execute_reply": "2025-10-13T14:46:15.995362Z"
    }
   },
   "outputs": [
    {
     "data": {
      "text/plain": [
       "An object of class Seurat \n",
       "104138 features across 35220 samples within 4 assays \n",
       "Active assay: integrated (3000 features, 3000 variable features)\n",
       " 2 layers present: data, scale.data\n",
       " 3 other assays present: RNA, RNA_raw, SCT\n",
       " 2 dimensional reductions calculated: pca, umap"
      ]
     },
     "metadata": {},
     "output_type": "display_data"
    }
   ],
   "source": [
    "adata\n"
   ]
  },
  {
   "cell_type": "code",
   "execution_count": 6,
   "id": "4795d29d-29c2-4de6-8d66-e6271ca78986",
   "metadata": {
    "execution": {
     "iopub.execute_input": "2025-10-13T14:46:15.999029Z",
     "iopub.status.busy": "2025-10-13T14:46:15.998156Z",
     "iopub.status.idle": "2025-10-13T14:46:16.009203Z",
     "shell.execute_reply": "2025-10-13T14:46:16.008133Z"
    }
   },
   "outputs": [
    {
     "data": {
      "text/html": [
       "<style>\n",
       ".list-inline {list-style: none; margin:0; padding: 0}\n",
       ".list-inline>li {display: inline-block}\n",
       ".list-inline>li:not(:last-child)::after {content: \"\\00b7\"; padding: 0 .5ex}\n",
       "</style>\n",
       "<ol class=list-inline><li>'orig.ident'</li><li>'nCount_RNA'</li><li>'nFeature_RNA'</li><li>'nCount_RNA_raw'</li><li>'nFeature_RNA_raw'</li><li>'percent.mt'</li><li>'scDblFinder.class'</li><li>'scDblFinder.score'</li><li>'scDblFinder.weighted'</li><li>'scDblFinder.cxds_score'</li><li>'Diff'</li><li>'nCount_SCT'</li><li>'nFeature_SCT'</li><li>'SCT_snn_res.2'</li><li>'seurat_clusters'</li><li>'SCT_snn_res.0.5'</li><li>'CellTypist_label_Alsinet'</li><li>'CellTypist_conf_score_Alsinet'</li><li>'CellTypist_label_FBMA'</li><li>'CellTypist_conf_score_FBMA'</li><li>'CellTypist_label_Immune_ALL_low'</li><li>'CellTypist_conf_score_Immune_ALL_low'</li><li>'Integrated_annotation'</li><li>'integrated_nn_res.0.5'</li></ol>\n"
      ],
      "text/latex": [
       "\\begin{enumerate*}\n",
       "\\item 'orig.ident'\n",
       "\\item 'nCount\\_RNA'\n",
       "\\item 'nFeature\\_RNA'\n",
       "\\item 'nCount\\_RNA\\_raw'\n",
       "\\item 'nFeature\\_RNA\\_raw'\n",
       "\\item 'percent.mt'\n",
       "\\item 'scDblFinder.class'\n",
       "\\item 'scDblFinder.score'\n",
       "\\item 'scDblFinder.weighted'\n",
       "\\item 'scDblFinder.cxds\\_score'\n",
       "\\item 'Diff'\n",
       "\\item 'nCount\\_SCT'\n",
       "\\item 'nFeature\\_SCT'\n",
       "\\item 'SCT\\_snn\\_res.2'\n",
       "\\item 'seurat\\_clusters'\n",
       "\\item 'SCT\\_snn\\_res.0.5'\n",
       "\\item 'CellTypist\\_label\\_Alsinet'\n",
       "\\item 'CellTypist\\_conf\\_score\\_Alsinet'\n",
       "\\item 'CellTypist\\_label\\_FBMA'\n",
       "\\item 'CellTypist\\_conf\\_score\\_FBMA'\n",
       "\\item 'CellTypist\\_label\\_Immune\\_ALL\\_low'\n",
       "\\item 'CellTypist\\_conf\\_score\\_Immune\\_ALL\\_low'\n",
       "\\item 'Integrated\\_annotation'\n",
       "\\item 'integrated\\_nn\\_res.0.5'\n",
       "\\end{enumerate*}\n"
      ],
      "text/markdown": [
       "1. 'orig.ident'\n",
       "2. 'nCount_RNA'\n",
       "3. 'nFeature_RNA'\n",
       "4. 'nCount_RNA_raw'\n",
       "5. 'nFeature_RNA_raw'\n",
       "6. 'percent.mt'\n",
       "7. 'scDblFinder.class'\n",
       "8. 'scDblFinder.score'\n",
       "9. 'scDblFinder.weighted'\n",
       "10. 'scDblFinder.cxds_score'\n",
       "11. 'Diff'\n",
       "12. 'nCount_SCT'\n",
       "13. 'nFeature_SCT'\n",
       "14. 'SCT_snn_res.2'\n",
       "15. 'seurat_clusters'\n",
       "16. 'SCT_snn_res.0.5'\n",
       "17. 'CellTypist_label_Alsinet'\n",
       "18. 'CellTypist_conf_score_Alsinet'\n",
       "19. 'CellTypist_label_FBMA'\n",
       "20. 'CellTypist_conf_score_FBMA'\n",
       "21. 'CellTypist_label_Immune_ALL_low'\n",
       "22. 'CellTypist_conf_score_Immune_ALL_low'\n",
       "23. 'Integrated_annotation'\n",
       "24. 'integrated_nn_res.0.5'\n",
       "\n",
       "\n"
      ],
      "text/plain": [
       " [1] \"orig.ident\"                          \n",
       " [2] \"nCount_RNA\"                          \n",
       " [3] \"nFeature_RNA\"                        \n",
       " [4] \"nCount_RNA_raw\"                      \n",
       " [5] \"nFeature_RNA_raw\"                    \n",
       " [6] \"percent.mt\"                          \n",
       " [7] \"scDblFinder.class\"                   \n",
       " [8] \"scDblFinder.score\"                   \n",
       " [9] \"scDblFinder.weighted\"                \n",
       "[10] \"scDblFinder.cxds_score\"              \n",
       "[11] \"Diff\"                                \n",
       "[12] \"nCount_SCT\"                          \n",
       "[13] \"nFeature_SCT\"                        \n",
       "[14] \"SCT_snn_res.2\"                       \n",
       "[15] \"seurat_clusters\"                     \n",
       "[16] \"SCT_snn_res.0.5\"                     \n",
       "[17] \"CellTypist_label_Alsinet\"            \n",
       "[18] \"CellTypist_conf_score_Alsinet\"       \n",
       "[19] \"CellTypist_label_FBMA\"               \n",
       "[20] \"CellTypist_conf_score_FBMA\"          \n",
       "[21] \"CellTypist_label_Immune_ALL_low\"     \n",
       "[22] \"CellTypist_conf_score_Immune_ALL_low\"\n",
       "[23] \"Integrated_annotation\"               \n",
       "[24] \"integrated_nn_res.0.5\"               "
      ]
     },
     "metadata": {},
     "output_type": "display_data"
    }
   ],
   "source": [
    "colnames(adata@meta.data)"
   ]
  },
  {
   "cell_type": "code",
   "execution_count": 7,
   "id": "1ba0f73c-585e-412f-b951-bd67b1702076",
   "metadata": {
    "execution": {
     "iopub.execute_input": "2025-10-13T14:46:16.011705Z",
     "iopub.status.busy": "2025-10-13T14:46:16.010839Z",
     "iopub.status.idle": "2025-10-13T14:46:16.034398Z",
     "shell.execute_reply": "2025-10-13T14:46:16.033316Z"
    }
   },
   "outputs": [
    {
     "name": "stderr",
     "output_type": "stream",
     "text": [
      "Warning message in dir.create(path_graphs):\n",
      "“'/group/soranzo/manuel.tardaguila/2025_hESC_MK_SCRNAseq_10X/no_competition/RPCA/graphs' already exists”\n"
     ]
    }
   ],
   "source": [
    "path_graphs<-\"/group/soranzo/manuel.tardaguila/2025_hESC_MK_SCRNAseq_10X/no_competition/RPCA/graphs/\"\n",
    "\n",
    "\n",
    "if(file.exists(path_graphs))\n",
    "{\n",
    "    unlink(path_graphs)\n",
    "    dir.create(path_graphs)\n",
    "\n",
    "\n",
    "}else{\n",
    "\n",
    "    dir.create(path_graphs)\n",
    "}"
   ]
  },
  {
   "cell_type": "markdown",
   "id": "a610d4c0-f534-4731-932c-eb5af0782553",
   "metadata": {
    "execution": {
     "iopub.execute_input": "2025-10-13T12:26:21.325527Z",
     "iopub.status.busy": "2025-10-13T12:26:21.324239Z",
     "iopub.status.idle": "2025-10-13T12:26:21.340049Z",
     "shell.execute_reply": "2025-10-13T12:26:21.338566Z"
    }
   },
   "source": [
    "dev.off()\n",
    "dev.new()\n"
   ]
  },
  {
   "cell_type": "markdown",
   "id": "e887d029-2116-425b-acfe-d8518b6a4373",
   "metadata": {},
   "source": [
    "# Visualization"
   ]
  },
  {
   "cell_type": "markdown",
   "id": "2f6cbbb7-3bb4-4402-9fe3-77045452967b",
   "metadata": {},
   "source": [
    "## UMAP plots"
   ]
  },
  {
   "cell_type": "code",
   "execution_count": 8,
   "id": "2bf32211-1ced-4a47-b68e-20dd13b2ba64",
   "metadata": {
    "execution": {
     "iopub.execute_input": "2025-10-13T14:46:16.036947Z",
     "iopub.status.busy": "2025-10-13T14:46:16.036063Z",
     "iopub.status.idle": "2025-10-13T14:46:17.863899Z",
     "shell.execute_reply": "2025-10-13T14:46:17.862720Z"
    }
   },
   "outputs": [
    {
     "data": {
      "text/html": [
       "<strong>pdf:</strong> 2"
      ],
      "text/latex": [
       "\\textbf{pdf:} 2"
      ],
      "text/markdown": [
       "**pdf:** 2"
      ],
      "text/plain": [
       "pdf \n",
       "  2 "
      ]
     },
     "metadata": {},
     "output_type": "display_data"
    }
   ],
   "source": [
    "p1 <- DimPlot(adata, reduction = \"umap\", group.by = \"orig.ident\", label = TRUE, label.size = 5, repel = TRUE)\n",
    "\n",
    "\n",
    "\n",
    "\n",
    "setwd(path_graphs)\n",
    "\n",
    "svglite(file='UMAP_by_sample.svg', width = 5.5, height = 4.9) \n",
    "\n",
    "# 2. CRITICAL: Use print() to force the plot to be drawn to the file.\n",
    "print(\n",
    "  p1 +\n",
    "  # Apply your desired theme and guides\n",
    "  theme(legend.position=\"bottom\", legend.title=element_blank(), legend.text = element_text(family=\"sans\")) +\n",
    "  guides(fill=guide_legend(nrow=2,byrow=TRUE))\n",
    ")\n",
    "\n",
    "# 3. Close the device to finalize and save the SVG file.\n",
    "dev.off()"
   ]
  },
  {
   "cell_type": "code",
   "execution_count": 9,
   "id": "b4c27181-2a3a-44c6-88cc-8aff9553d652",
   "metadata": {
    "execution": {
     "iopub.execute_input": "2025-10-13T14:46:17.866506Z",
     "iopub.status.busy": "2025-10-13T14:46:17.865602Z",
     "iopub.status.idle": "2025-10-13T14:46:18.664442Z",
     "shell.execute_reply": "2025-10-13T14:46:18.663236Z"
    }
   },
   "outputs": [
    {
     "data": {
      "text/html": [
       "<strong>pdf:</strong> 2"
      ],
      "text/latex": [
       "\\textbf{pdf:} 2"
      ],
      "text/markdown": [
       "**pdf:** 2"
      ],
      "text/plain": [
       "pdf \n",
       "  2 "
      ]
     },
     "metadata": {},
     "output_type": "display_data"
    }
   ],
   "source": [
    "p1 <- DimPlot(adata, reduction = \"umap\", group.by = \"seurat_clusters\", label = TRUE, label.size = 5, repel = TRUE)\n",
    "\n",
    "\n",
    "\n",
    "\n",
    "setwd(path_graphs)\n",
    "\n",
    "svglite(file='UMAP_by_seurat_clusters.svg', width = 5.5, height = 4.9) \n",
    "\n",
    "# 2. CRITICAL: Use print() to force the plot to be drawn to the file.\n",
    "print(\n",
    "  p1 +\n",
    "  # Apply your desired theme and guides\n",
    "  theme(legend.position=\"right\", legend.title=element_blank(), legend.text = element_text(family=\"sans\"))\n",
    ")\n",
    "\n",
    "# 3. Close the device to finalize and save the SVG file.\n",
    "dev.off()"
   ]
  },
  {
   "cell_type": "code",
   "execution_count": 10,
   "id": "dfda1f17-94e0-4d47-bc1b-fb367a0b8b1a",
   "metadata": {
    "execution": {
     "iopub.execute_input": "2025-10-13T14:46:18.667144Z",
     "iopub.status.busy": "2025-10-13T14:46:18.666218Z",
     "iopub.status.idle": "2025-10-13T14:46:19.186452Z",
     "shell.execute_reply": "2025-10-13T14:46:19.185265Z"
    }
   },
   "outputs": [
    {
     "data": {
      "text/html": [
       "<strong>pdf:</strong> 2"
      ],
      "text/latex": [
       "\\textbf{pdf:} 2"
      ],
      "text/markdown": [
       "**pdf:** 2"
      ],
      "text/plain": [
       "pdf \n",
       "  2 "
      ]
     },
     "metadata": {},
     "output_type": "display_data"
    }
   ],
   "source": [
    "p1 <- DimPlot(adata, reduction = \"umap\", group.by = \"Integrated_annotation_after_rpca\", label = TRUE, label.size = 5, repel = TRUE)\n",
    "\n",
    "\n",
    "\n",
    "\n",
    "setwd(path_graphs)\n",
    "\n",
    "svglite(file='UMAP_by_Integrated_annotation_after_rpca.svg', width = 6.5, height = 4.9) \n",
    "\n",
    "# 2. CRITICAL: Use print() to force the plot to be drawn to the file.\n",
    "print(\n",
    "  p1 +\n",
    "  # Apply your desired theme and guides\n",
    "  theme(legend.position=\"right\", legend.title=element_blank(), legend.text = element_text(family=\"sans\"))\n",
    "\n",
    ")\n",
    "\n",
    "# 3. Close the device to finalize and save the SVG file.\n",
    "dev.off()\n",
    "\n"
   ]
  },
  {
   "cell_type": "code",
   "execution_count": 11,
   "id": "86f34a86-f61b-4096-9844-bde447cda5db",
   "metadata": {
    "execution": {
     "iopub.execute_input": "2025-10-13T14:46:19.189142Z",
     "iopub.status.busy": "2025-10-13T14:46:19.188207Z",
     "iopub.status.idle": "2025-10-13T14:46:32.305890Z",
     "shell.execute_reply": "2025-10-13T14:46:32.304577Z"
    }
   },
   "outputs": [
    {
     "name": "stderr",
     "output_type": "stream",
     "text": [
      "Warning message:\n",
      "“\u001b[1m\u001b[22mThe `slot` argument of `FetchData()` is deprecated as of SeuratObject 5.0.0.\n",
      "\u001b[36mℹ\u001b[39m Please use the `layer` argument instead.\n",
      "\u001b[36mℹ\u001b[39m The deprecated feature was likely used in the \u001b[34mSeurat\u001b[39m package.\n",
      "  Please report the issue at \u001b[3m\u001b[34m<https://github.com/satijalab/seurat/issues>\u001b[39m\u001b[23m.”\n",
      "Warning message:\n",
      "“No layers found matching search pattern provided”\n",
      "Warning message:\n",
      "“Could not find FCGR3A in the default search locations, found in ‘RNA_raw’ assay instead”\n",
      "Warning message:\n",
      "“No layers found matching search pattern provided”\n",
      "Warning message:\n",
      "“Could not find GZMB in the default search locations, found in ‘RNA_raw’ assay instead”\n",
      "Warning message in FeaturePlot(adata, features = c(\"PRF1\", \"GZMB\", \"GNLY\"), reduction = \"umap\", :\n",
      "“All cells have the same value (0) of rnaraw_GZMB.”\n"
     ]
    }
   ],
   "source": [
    "## Graph \n",
    "\n",
    "DefaultAssay(adata) <- 'SCT'\n",
    "\n",
    "\n",
    "p_1 <- FeaturePlot(adata, features = c('SOX2','POU5F1','EPCAM'),\n",
    "                  reduction = 'umap', \n",
    "                  cols = c(\"lightgrey\",\"darkgreen\"), ncol = 3)\n",
    "\n",
    "p_2 <- FeaturePlot(adata, features = c(\"KDR\",'CDH5','CD34'),\n",
    "                  reduction = 'umap', \n",
    "                  cols = c(\"lightgrey\",\"darkgreen\"), ncol = 3)\n",
    "p_3 <- FeaturePlot(adata, features = c('GYPA','HBA2','HBZ'),\n",
    "                    reduction = 'umap', \n",
    "                    cols = c(\"lightgrey\",\"darkgreen\"), ncol = 3)\n",
    "\n",
    "p_4 <- FeaturePlot(adata, features = c('ITGA2B','GP1BA', 'GP1BB'),\n",
    "                    reduction = 'umap', \n",
    "                    cols = c(\"lightgrey\",\"darkgreen\"), ncol = 3)\n",
    "\n",
    "p_5 <- FeaturePlot(adata, features = c('TUBB1','CDKN2D','MAPK14'),\n",
    "                    reduction = 'umap', \n",
    "                    cols = c(\"lightgrey\",\"darkgreen\"), ncol = 3)\n",
    "\n",
    "p_6 <- FeaturePlot(adata, features = c('PTPRC','CD3E','CD8B'),\n",
    "                    reduction = 'umap', \n",
    "                    cols = c(\"lightgrey\",\"darkgreen\"), ncol = 3)\n",
    "\n",
    "p_7 <- FeaturePlot(adata, features = c('TPSB2','CD14','KIT'),\n",
    "                    reduction = 'umap', \n",
    "                    cols = c(\"lightgrey\",\"darkgreen\"), ncol = 3)\n",
    "\n",
    "p_8 <- FeaturePlot(adata, features = c('NCAM1','NKG7','FCGR3A'),\n",
    "                    reduction = 'umap', \n",
    "                    cols = c(\"lightgrey\",\"darkgreen\"), ncol = 3)\n",
    "\n",
    "p_9 <- FeaturePlot(adata, features = c('PRF1','GZMB','GNLY'),\n",
    "                    reduction = 'umap', \n",
    "                    cols = c(\"lightgrey\",\"darkgreen\"), ncol = 3)\n",
    "\n",
    "\n",
    "setwd(\"/group/soranzo/manuel.tardaguila/2025_hESC_MK_SCRNAseq_10X/no_competition/RPCA/graphs/\")\n",
    "\n",
    "svgname<-paste(\"UMAP_markers\",\".svg\",sep='')\n",
    "makesvg = TRUE\n",
    "\n",
    "if (makesvg == TRUE)\n",
    "{\n",
    "  ggsave(svgname, plot= p_1 / p_2 / p_3 / p_4 / p_5,\n",
    "         width = 25,        # Set the width to 8\n",
    "      height = 50,       # Set the height to 5\n",
    "      units = \"cm\",    # Specify the units as inches\n",
    "         device=\"svg\")\n",
    "}\n",
    "\n",
    "\n",
    "\n"
   ]
  },
  {
   "cell_type": "markdown",
   "id": "3a5b83ce-7163-47f4-8f5f-262da9e5b965",
   "metadata": {},
   "source": [
    "## DotPlot"
   ]
  },
  {
   "cell_type": "code",
   "execution_count": 15,
   "id": "680d8cfc-4a2b-4ddd-951c-4d4e4803338e",
   "metadata": {
    "execution": {
     "iopub.execute_input": "2025-10-13T14:52:57.837724Z",
     "iopub.status.busy": "2025-10-13T14:52:57.836652Z",
     "iopub.status.idle": "2025-10-13T14:52:57.850825Z",
     "shell.execute_reply": "2025-10-13T14:52:57.849706Z"
    }
   },
   "outputs": [],
   "source": [
    "markers<-c('SOX2','SOX4','POU5F1',\"KDR\",'CDH5','CD34','GYPA','HBA2','HBZ','ITGA2B','GP1BA','GP1BB','TUBB1','CDKN2D','MAPK14','PTPRC','RAG1','RAG2','CD4','CD8A','CD8B','IL7R','CD3D','CD3E','CD3G','TRDC','GZMA')"
   ]
  },
  {
   "cell_type": "code",
   "execution_count": 16,
   "id": "94fdcc2b-9862-43e9-bfda-6d6bc45953d8",
   "metadata": {
    "execution": {
     "iopub.execute_input": "2025-10-13T14:52:58.764573Z",
     "iopub.status.busy": "2025-10-13T14:52:58.763589Z",
     "iopub.status.idle": "2025-10-13T14:52:58.773248Z",
     "shell.execute_reply": "2025-10-13T14:52:58.772125Z"
    }
   },
   "outputs": [],
   "source": [
    "new_markers<-c('PTPRC','CD14','S100A9','S100A12','TPSB2','TPSAB1','RAG1','RAG2','CD4','CD8A','CD8B','IL7R','CD3D','CD3E','CD3G','TRDC','GZMA','GZMB','GZMK','PRF1','GNLY','NCAM1','IFNG','TYROBP','NKG7','RORC','PCDH9','KIT','LST1','CD160','FCGR3A','FCER1A','FOXP3','IL2RA','IL17B','TBX21','CD79A','JCHAIN')"
   ]
  },
  {
   "cell_type": "code",
   "execution_count": 17,
   "id": "d88e94a3-5a37-4466-9bae-881651dacbb6",
   "metadata": {
    "execution": {
     "iopub.execute_input": "2025-10-13T14:52:59.313825Z",
     "iopub.status.busy": "2025-10-13T14:52:59.312875Z",
     "iopub.status.idle": "2025-10-13T14:53:00.510509Z",
     "shell.execute_reply": "2025-10-13T14:53:00.502665Z"
    }
   },
   "outputs": [
    {
     "ename": "ERROR",
     "evalue": "Error in value[[3L]](cond): no active device and default getOption(\"device\") is invalid\n",
     "output_type": "error",
     "traceback": [
      "Error in value[[3L]](cond): no active device and default getOption(\"device\") is invalid\nTraceback:\n"
     ]
    },
    {
     "data": {
      "text/plain": [
       "plot without title"
      ]
     },
     "metadata": {
      "image/png": {
       "height": 420,
       "width": 420
      }
     },
     "output_type": "display_data"
    }
   ],
   "source": [
    "dotplot3<-DotPlot(\n",
    "  adata,\n",
    "    features=markers,\n",
    "  assay = \"SCT\",\n",
    "    group.by=\"seurat_clusters\")+\n",
    "ylab('Clusters')+\n",
    "xlab('Marker genes')+\n",
    " theme_classic()+\n",
    "    theme(axis.title=element_blank(),\n",
    "          axis.title.y=element_text(color=\"black\", family=\"sans\", size=12),\n",
    "          axis.title.x=element_text(color=\"black\", family=\"sans\", size=12),\n",
    "          axis.text.y=element_text(color=\"black\", family=\"sans\", size=8),\n",
    "          axis.text.x=element_text(angle=45,vjust=1,hjust=1, color=\"black\", family=\"sans\", size=8))\n",
    "\n",
    "dotplot3"
   ]
  },
  {
   "cell_type": "code",
   "execution_count": null,
   "id": "efca5819-420c-420f-9795-4041feed487a",
   "metadata": {},
   "outputs": [],
   "source": [
    "setwd(\"/group/soranzo/manuel.tardaguila/2025_hESC_MK_SCRNAseq_10X/no_competition/RPCA/graphs/\")\n",
    "\n",
    "svgname<-paste(\"Dotplot_marker_genes_by_seurat_clusters\",\".svg\",sep='')\n",
    "makesvg = TRUE\n",
    "\n",
    "if (makesvg == TRUE)\n",
    "{\n",
    "  ggsave(svgname, plot= dotplot3,\n",
    "         device=\"svg\")\n",
    "}"
   ]
  },
  {
   "cell_type": "code",
   "execution_count": 18,
   "id": "9f2e0fe6-f99d-4c9c-9ea7-529cfff8af3a",
   "metadata": {
    "execution": {
     "iopub.execute_input": "2025-10-13T14:53:00.806073Z",
     "iopub.status.busy": "2025-10-13T14:53:00.805150Z",
     "iopub.status.idle": "2025-10-13T14:53:02.083404Z",
     "shell.execute_reply": "2025-10-13T14:53:02.082160Z"
    }
   },
   "outputs": [
    {
     "name": "stderr",
     "output_type": "stream",
     "text": [
      "Warning message:\n",
      "“Found the following features in more than one assay, excluding the default. We will not include these in the final data frame: TPSAB1, GZMB, GZMK, IFNG, FCGR3A, TBX21”\n",
      "Warning message:\n",
      "“The following requested variables were not found: TPSAB1, GZMB, GZMK, IFNG, FCGR3A, TBX21”\n",
      "\u001b[1m\u001b[22mSaving 7 x 7 in image\n"
     ]
    }
   ],
   "source": [
    "dotplot3<-DotPlot(\n",
    "  adata,\n",
    "    features=new_markers,\n",
    "  assay = \"SCT\",\n",
    "    group.by=\"seurat_clusters\")+\n",
    "ylab('Clusters')+\n",
    "xlab('New marker genes')+\n",
    " theme_classic()+\n",
    "    theme(axis.title=element_blank(),\n",
    "          axis.title.y=element_text(color=\"black\", family=\"sans\", size=12),\n",
    "          axis.title.x=element_text(color=\"black\", family=\"sans\", size=12),\n",
    "          axis.text.y=element_text(color=\"black\", family=\"sans\", size=8),\n",
    "          axis.text.x=element_text(angle=45,vjust=1,hjust=1, color=\"black\", family=\"sans\", size=8))\n",
    "\n",
    "setwd(\"/group/soranzo/manuel.tardaguila/2025_hESC_MK_SCRNAseq_10X/no_competition/RPCA/graphs/\")\n",
    "\n",
    "svgname<-paste(\"Dotplot_NEW_marker_genes_by_seurat_clusters\",\".svg\",sep='')\n",
    "makesvg = TRUE\n",
    "\n",
    "if (makesvg == TRUE)\n",
    "{\n",
    "  ggsave(svgname, plot= dotplot3,\n",
    "         device=\"svg\")\n",
    "}"
   ]
  },
  {
   "cell_type": "markdown",
   "id": "956fb920-9e68-460e-8c02-abe2e05a71f5",
   "metadata": {},
   "source": [
    "## Stacked barplots"
   ]
  },
  {
   "cell_type": "markdown",
   "id": "2cba8d28-56f9-4851-91d6-cbed582a6d7b",
   "metadata": {},
   "source": [
    "### Integrated_annotation vs seurat_clusters"
   ]
  },
  {
   "cell_type": "code",
   "execution_count": 19,
   "id": "6da18474-0b9b-4e1d-a741-5d6cc3c7374b",
   "metadata": {
    "execution": {
     "iopub.execute_input": "2025-10-13T14:53:05.006029Z",
     "iopub.status.busy": "2025-10-13T14:53:05.004966Z",
     "iopub.status.idle": "2025-10-13T14:53:05.014888Z",
     "shell.execute_reply": "2025-10-13T14:53:05.013840Z"
    }
   },
   "outputs": [],
   "source": [
    "met<-adata[[]]"
   ]
  },
  {
   "cell_type": "code",
   "execution_count": 20,
   "id": "356d6a24-23b9-4ea1-a020-5d679edfb204",
   "metadata": {
    "execution": {
     "iopub.execute_input": "2025-10-13T14:53:05.451755Z",
     "iopub.status.busy": "2025-10-13T14:53:05.450863Z",
     "iopub.status.idle": "2025-10-13T14:53:05.461940Z",
     "shell.execute_reply": "2025-10-13T14:53:05.460847Z"
    }
   },
   "outputs": [
    {
     "data": {
      "text/html": [
       "<style>\n",
       ".list-inline {list-style: none; margin:0; padding: 0}\n",
       ".list-inline>li {display: inline-block}\n",
       ".list-inline>li:not(:last-child)::after {content: \"\\00b7\"; padding: 0 .5ex}\n",
       "</style>\n",
       "<ol class=list-inline><li>'orig.ident'</li><li>'nCount_RNA'</li><li>'nFeature_RNA'</li><li>'nCount_RNA_raw'</li><li>'nFeature_RNA_raw'</li><li>'percent.mt'</li><li>'scDblFinder.class'</li><li>'scDblFinder.score'</li><li>'scDblFinder.weighted'</li><li>'scDblFinder.cxds_score'</li><li>'Diff'</li><li>'nCount_SCT'</li><li>'nFeature_SCT'</li><li>'SCT_snn_res.2'</li><li>'seurat_clusters'</li><li>'SCT_snn_res.0.5'</li><li>'CellTypist_label_Alsinet'</li><li>'CellTypist_conf_score_Alsinet'</li><li>'CellTypist_label_FBMA'</li><li>'CellTypist_conf_score_FBMA'</li><li>'CellTypist_label_Immune_ALL_low'</li><li>'CellTypist_conf_score_Immune_ALL_low'</li><li>'Integrated_annotation'</li><li>'integrated_nn_res.0.5'</li></ol>\n"
      ],
      "text/latex": [
       "\\begin{enumerate*}\n",
       "\\item 'orig.ident'\n",
       "\\item 'nCount\\_RNA'\n",
       "\\item 'nFeature\\_RNA'\n",
       "\\item 'nCount\\_RNA\\_raw'\n",
       "\\item 'nFeature\\_RNA\\_raw'\n",
       "\\item 'percent.mt'\n",
       "\\item 'scDblFinder.class'\n",
       "\\item 'scDblFinder.score'\n",
       "\\item 'scDblFinder.weighted'\n",
       "\\item 'scDblFinder.cxds\\_score'\n",
       "\\item 'Diff'\n",
       "\\item 'nCount\\_SCT'\n",
       "\\item 'nFeature\\_SCT'\n",
       "\\item 'SCT\\_snn\\_res.2'\n",
       "\\item 'seurat\\_clusters'\n",
       "\\item 'SCT\\_snn\\_res.0.5'\n",
       "\\item 'CellTypist\\_label\\_Alsinet'\n",
       "\\item 'CellTypist\\_conf\\_score\\_Alsinet'\n",
       "\\item 'CellTypist\\_label\\_FBMA'\n",
       "\\item 'CellTypist\\_conf\\_score\\_FBMA'\n",
       "\\item 'CellTypist\\_label\\_Immune\\_ALL\\_low'\n",
       "\\item 'CellTypist\\_conf\\_score\\_Immune\\_ALL\\_low'\n",
       "\\item 'Integrated\\_annotation'\n",
       "\\item 'integrated\\_nn\\_res.0.5'\n",
       "\\end{enumerate*}\n"
      ],
      "text/markdown": [
       "1. 'orig.ident'\n",
       "2. 'nCount_RNA'\n",
       "3. 'nFeature_RNA'\n",
       "4. 'nCount_RNA_raw'\n",
       "5. 'nFeature_RNA_raw'\n",
       "6. 'percent.mt'\n",
       "7. 'scDblFinder.class'\n",
       "8. 'scDblFinder.score'\n",
       "9. 'scDblFinder.weighted'\n",
       "10. 'scDblFinder.cxds_score'\n",
       "11. 'Diff'\n",
       "12. 'nCount_SCT'\n",
       "13. 'nFeature_SCT'\n",
       "14. 'SCT_snn_res.2'\n",
       "15. 'seurat_clusters'\n",
       "16. 'SCT_snn_res.0.5'\n",
       "17. 'CellTypist_label_Alsinet'\n",
       "18. 'CellTypist_conf_score_Alsinet'\n",
       "19. 'CellTypist_label_FBMA'\n",
       "20. 'CellTypist_conf_score_FBMA'\n",
       "21. 'CellTypist_label_Immune_ALL_low'\n",
       "22. 'CellTypist_conf_score_Immune_ALL_low'\n",
       "23. 'Integrated_annotation'\n",
       "24. 'integrated_nn_res.0.5'\n",
       "\n",
       "\n"
      ],
      "text/plain": [
       " [1] \"orig.ident\"                          \n",
       " [2] \"nCount_RNA\"                          \n",
       " [3] \"nFeature_RNA\"                        \n",
       " [4] \"nCount_RNA_raw\"                      \n",
       " [5] \"nFeature_RNA_raw\"                    \n",
       " [6] \"percent.mt\"                          \n",
       " [7] \"scDblFinder.class\"                   \n",
       " [8] \"scDblFinder.score\"                   \n",
       " [9] \"scDblFinder.weighted\"                \n",
       "[10] \"scDblFinder.cxds_score\"              \n",
       "[11] \"Diff\"                                \n",
       "[12] \"nCount_SCT\"                          \n",
       "[13] \"nFeature_SCT\"                        \n",
       "[14] \"SCT_snn_res.2\"                       \n",
       "[15] \"seurat_clusters\"                     \n",
       "[16] \"SCT_snn_res.0.5\"                     \n",
       "[17] \"CellTypist_label_Alsinet\"            \n",
       "[18] \"CellTypist_conf_score_Alsinet\"       \n",
       "[19] \"CellTypist_label_FBMA\"               \n",
       "[20] \"CellTypist_conf_score_FBMA\"          \n",
       "[21] \"CellTypist_label_Immune_ALL_low\"     \n",
       "[22] \"CellTypist_conf_score_Immune_ALL_low\"\n",
       "[23] \"Integrated_annotation\"               \n",
       "[24] \"integrated_nn_res.0.5\"               "
      ]
     },
     "metadata": {},
     "output_type": "display_data"
    }
   ],
   "source": [
    "colnames(met)"
   ]
  },
  {
   "cell_type": "code",
   "execution_count": 21,
   "id": "f1cd9f19-a194-4b75-ad09-e45a28f6fc63",
   "metadata": {
    "execution": {
     "iopub.execute_input": "2025-10-13T14:53:05.677436Z",
     "iopub.status.busy": "2025-10-13T14:53:05.676476Z",
     "iopub.status.idle": "2025-10-13T14:53:05.691624Z",
     "shell.execute_reply": "2025-10-13T14:53:05.690545Z"
    }
   },
   "outputs": [],
   "source": [
    "met.dt<-data.table(met,key=c(\"seurat_clusters\",\"Integrated_annotation\"))"
   ]
  },
  {
   "cell_type": "code",
   "execution_count": 22,
   "id": "769a0a65-4987-4c3f-877b-e58a0881809a",
   "metadata": {
    "execution": {
     "iopub.execute_input": "2025-10-13T14:53:05.868146Z",
     "iopub.status.busy": "2025-10-13T14:53:05.867250Z",
     "iopub.status.idle": "2025-10-13T14:53:05.875415Z",
     "shell.execute_reply": "2025-10-13T14:53:05.874397Z"
    }
   },
   "outputs": [],
   "source": [
    "#str(met.dt)"
   ]
  },
  {
   "cell_type": "code",
   "execution_count": 23,
   "id": "4fdf5acc-20d3-4322-93c5-b93e8dbb0eef",
   "metadata": {
    "execution": {
     "iopub.execute_input": "2025-10-13T14:53:06.054023Z",
     "iopub.status.busy": "2025-10-13T14:53:06.053139Z",
     "iopub.status.idle": "2025-10-13T14:53:06.068679Z",
     "shell.execute_reply": "2025-10-13T14:53:06.067636Z"
    }
   },
   "outputs": [],
   "source": [
    "Freq.table<-as.data.frame(met.dt[,.(Freq=.N),by=key(met.dt)], stringsAsFactors=F)\n",
    "#Freq.table"
   ]
  },
  {
   "cell_type": "code",
   "execution_count": 24,
   "id": "47475520-762a-48f0-b252-d17965c19111",
   "metadata": {
    "execution": {
     "iopub.execute_input": "2025-10-13T14:53:06.226804Z",
     "iopub.status.busy": "2025-10-13T14:53:06.225920Z",
     "iopub.status.idle": "2025-10-13T14:53:06.241163Z",
     "shell.execute_reply": "2025-10-13T14:53:06.240052Z"
    }
   },
   "outputs": [],
   "source": [
    "met.dt<-data.table(met, key=c(\"seurat_clusters\"))\n",
    "Freq.TOTAL<-as.data.frame(met.dt[,.(TOTAL=.N),by=key(met.dt)], stringsAsFactors=F)\n",
    "#Freq.TOTAL"
   ]
  },
  {
   "cell_type": "code",
   "execution_count": 25,
   "id": "51b027e6-ac51-4fd2-b7ed-c52f599172a3",
   "metadata": {
    "execution": {
     "iopub.execute_input": "2025-10-13T14:53:06.380278Z",
     "iopub.status.busy": "2025-10-13T14:53:06.379388Z",
     "iopub.status.idle": "2025-10-13T14:53:06.390882Z",
     "shell.execute_reply": "2025-10-13T14:53:06.389856Z"
    }
   },
   "outputs": [],
   "source": [
    "Freq.table<-merge(Freq.table,\n",
    "                  Freq.TOTAL,\n",
    "                  by=\"seurat_clusters\")\n",
    "Freq.table$Perc<-round((100*(Freq.table$Freq/Freq.table$TOTAL)),2)\n",
    "\n",
    "#Freq.table"
   ]
  },
  {
   "cell_type": "code",
   "execution_count": 26,
   "id": "3929d478-aa5e-430d-8817-dc84763d1673",
   "metadata": {
    "execution": {
     "iopub.execute_input": "2025-10-13T14:53:06.562952Z",
     "iopub.status.busy": "2025-10-13T14:53:06.562041Z",
     "iopub.status.idle": "2025-10-13T14:53:06.575761Z",
     "shell.execute_reply": "2025-10-13T14:53:06.574662Z"
    }
   },
   "outputs": [
    {
     "name": "stdout",
     "output_type": "stream",
     "text": [
      "'data.frame':\t100 obs. of  5 variables:\n",
      " $ seurat_clusters      : Factor w/ 16 levels \"1\",\"2\",\"3\",\"4\",..: 1 1 1 1 1 1 10 10 10 10 ...\n",
      " $ Integrated_annotation: chr  \"MEP\" \"early MK\" \"early erythroid\" \"hESC\" ...\n",
      " $ Freq                 : int  118 14 13 4331 39 22 702 34 6 14 ...\n",
      " $ TOTAL                : int  4537 4537 4537 4537 4537 4537 1455 1455 1455 1455 ...\n",
      " $ Perc                 : num  2.6 0.31 0.29 95.46 0.86 ...\n"
     ]
    }
   ],
   "source": [
    "str(Freq.table)"
   ]
  },
  {
   "cell_type": "code",
   "execution_count": 27,
   "id": "64b4b68e-e26a-4a12-b355-9685127627e7",
   "metadata": {
    "execution": {
     "iopub.execute_input": "2025-10-13T14:53:07.003284Z",
     "iopub.status.busy": "2025-10-13T14:53:07.002309Z",
     "iopub.status.idle": "2025-10-13T14:53:07.019166Z",
     "shell.execute_reply": "2025-10-13T14:53:07.018066Z"
    }
   },
   "outputs": [],
   "source": [
    "met.dt<-data.table(met, key=c(\"Integrated_annotation\"))\n",
    "Freq.table_Integrated<-as.data.frame(met.dt[,.(Freq_Integrated_annotation=.N),by=key(met.dt)], stringsAsFactors=F)\n",
    "\n",
    "Freq.table<-merge(Freq.table,\n",
    "                  Freq.table_Integrated,\n",
    "                  by=\"Integrated_annotation\")\n",
    "\n",
    "#Freq.table"
   ]
  },
  {
   "cell_type": "code",
   "execution_count": 28,
   "id": "e4b6e214-fedf-47fa-9a9d-c7ab717eb21b",
   "metadata": {
    "execution": {
     "iopub.execute_input": "2025-10-13T14:53:07.224076Z",
     "iopub.status.busy": "2025-10-13T14:53:07.223156Z",
     "iopub.status.idle": "2025-10-13T14:53:07.235936Z",
     "shell.execute_reply": "2025-10-13T14:53:07.234842Z"
    }
   },
   "outputs": [
    {
     "name": "stdout",
     "output_type": "stream",
     "text": [
      "'data.frame':\t100 obs. of  6 variables:\n",
      " $ Integrated_annotation     : chr  \"early erythroid\" \"early erythroid\" \"early erythroid\" \"early erythroid\" ...\n",
      " $ seurat_clusters           : Factor w/ 16 levels \"1\",\"2\",\"3\",\"4\",..: 9 15 3 2 11 7 16 6 8 13 ...\n",
      " $ Freq                      : int  63 2 19 244 42 732 101 111 7 55 ...\n",
      " $ TOTAL                     : int  1688 664 3739 4020 1439 2443 382 2865 2370 1169 ...\n",
      " $ Perc                      : num  3.73 0.3 0.51 6.07 2.92 ...\n",
      " $ Freq_Integrated_annotation: int  2286 2286 2286 2286 2286 2286 2286 2286 2286 2286 ...\n"
     ]
    }
   ],
   "source": [
    "str(Freq.table)"
   ]
  },
  {
   "cell_type": "code",
   "execution_count": 29,
   "id": "b5960283-618b-45ae-8018-98c9702036a0",
   "metadata": {
    "execution": {
     "iopub.execute_input": "2025-10-13T14:53:07.416249Z",
     "iopub.status.busy": "2025-10-13T14:53:07.415355Z",
     "iopub.status.idle": "2025-10-13T14:53:07.470886Z",
     "shell.execute_reply": "2025-10-13T14:53:07.469853Z"
    }
   },
   "outputs": [],
   "source": [
    "vector_colors_Integrated_annotation<-c(brewer.pal(9, \"Set1\"),\"white\")"
   ]
  },
  {
   "cell_type": "code",
   "execution_count": 30,
   "id": "a4009dc9-4ed1-4002-ae8d-00cb7485c31c",
   "metadata": {
    "execution": {
     "iopub.execute_input": "2025-10-13T14:53:07.590973Z",
     "iopub.status.busy": "2025-10-13T14:53:07.590085Z",
     "iopub.status.idle": "2025-10-13T14:53:07.671227Z",
     "shell.execute_reply": "2025-10-13T14:53:07.670168Z"
    },
    "scrolled": true
   },
   "outputs": [
    {
     "name": "stdout",
     "output_type": "stream",
     "text": [
      "-------------------------------------->\t0 25 50 75 100\n"
     ]
    },
    {
     "name": "stderr",
     "output_type": "stream",
     "text": [
      "Warning message:\n",
      "“\u001b[1m\u001b[22mThe `size` argument of `element_line()` is deprecated as of ggplot2 3.4.0.\n",
      "\u001b[36mℹ\u001b[39m Please use the `linewidth` argument instead.”\n"
     ]
    }
   ],
   "source": [
    " #### Stacked Graph ---------------\n",
    "  \n",
    "  breaks.Rank<-(seq(0,100,by=25))\n",
    "  labels.Rank<-as.character(breaks.Rank)\n",
    "  \n",
    "  cat(\"-------------------------------------->\\t\")\n",
    "  cat(sprintf(as.character(labels.Rank)))\n",
    "  cat(\"\\n\")\n",
    "  \n",
    "  \n",
    "  stacked_barplot<-Freq.table %>%\n",
    "    mutate(myaxis = paste0(seurat_clusters, \"\\n\", \"n=\", TOTAL), drop=F) %>%\n",
    "    mutate(myaxis=fct_reorder(myaxis,as.numeric(seurat_clusters)), drop=F) %>%\n",
    "    ggplot(aes(x=myaxis, y=Perc, fill=Integrated_annotation)) +\n",
    "    geom_bar(stat=\"identity\",colour='white')+\n",
    "    scale_y_continuous(name=paste(\"Percentage of cells in each cluster\",sep=\" \"),breaks=breaks.Rank,labels=labels.Rank,\n",
    "                       limits=c(breaks.Rank[1],breaks.Rank[length(breaks.Rank)]+1))+\n",
    "    scale_fill_manual(values=vector_colors_Integrated_annotation,\n",
    "                      drop=F,\n",
    "                      name=\"My Annotation\", breaks=Freq.table_Integrated$Integrated_annotation,\n",
    "                      labels=paste(Freq.table_Integrated$Integrated_annotation,\n",
    "                                   Freq.table_Integrated$Freq_Integrated_annotation, sep =' n= '))+\n",
    "        theme_classic()+\n",
    "            theme(axis.title.y=element_text(size=12, color=\"black\", family=\"sans\"),\n",
    "                  axis.title.x=element_blank(),\n",
    "                  axis.text.y=element_text(angle=0,size=10, color=\"black\", family=\"sans\"),\n",
    "                  axis.text.x=element_text(angle=45,size=10,vjust=1,hjust=1,color=\"black\", family=\"sans\"),\n",
    "                  axis.line.x = element_line(size = 0.2),\n",
    "                  axis.ticks.x = element_line(size = 0.2),\n",
    "                  axis.ticks.y = element_line(size = 0.2),\n",
    "                  axis.line.y = element_line(size = 0.2))+\n",
    "            theme(legend.title = element_blank(),\n",
    "                  legend.text = element_text(size=8, color=\"black\", family=\"sans\"),\n",
    "                  legend.key.size = unit(0.25, 'cm'), #change legend key size\n",
    "                  legend.key.height = unit(0.25, 'cm'), #change legend key height\n",
    "                  legend.key.width = unit(0.25, 'cm'), #change legend key width\n",
    "                  legend.position=\"bottom\")\n",
    "  \n",
    "  \n",
    "\n",
    "\n",
    "\n",
    "\n",
    "  "
   ]
  },
  {
   "cell_type": "code",
   "execution_count": 31,
   "id": "f8534096-43ef-4fd2-ad8a-6db6b175fef6",
   "metadata": {
    "execution": {
     "iopub.execute_input": "2025-10-13T14:53:08.033769Z",
     "iopub.status.busy": "2025-10-13T14:53:08.032812Z",
     "iopub.status.idle": "2025-10-13T14:53:08.611394Z",
     "shell.execute_reply": "2025-10-13T14:53:08.610171Z"
    }
   },
   "outputs": [],
   "source": [
    "setwd(\"/group/soranzo/manuel.tardaguila/2025_hESC_MK_SCRNAseq_10X/no_competition/RPCA/graphs/\")\n",
    "\n",
    "svgname<-paste(\"Stacked_barplot_Integrated_annotation_by_seurat_clusters\",\".svg\",sep='')\n",
    "makesvg = TRUE\n",
    "\n",
    "if (makesvg == TRUE)\n",
    "{\n",
    "  ggsave(svgname, plot= stacked_barplot,\n",
    "         width = 25,        # Set the width to 8\n",
    "      height = 12.5,       # Set the height to 5\n",
    "      units = \"cm\",    # Specify the units as inches\n",
    "         device=\"svg\")\n",
    "}\n",
    "\n",
    "\n",
    "  "
   ]
  },
  {
   "cell_type": "markdown",
   "id": "414ae11e-17e7-4dde-a307-0222d890d515",
   "metadata": {},
   "source": [
    "# Subclustering"
   ]
  },
  {
   "cell_type": "code",
   "execution_count": 32,
   "id": "4566eb19-bce0-4e7b-883a-c7e5609a538c",
   "metadata": {
    "execution": {
     "iopub.execute_input": "2025-10-13T14:53:15.263126Z",
     "iopub.status.busy": "2025-10-13T14:53:15.262089Z",
     "iopub.status.idle": "2025-10-13T14:53:15.274154Z",
     "shell.execute_reply": "2025-10-13T14:53:15.273030Z"
    }
   },
   "outputs": [
    {
     "data": {
      "text/html": [
       "<style>\n",
       ".list-inline {list-style: none; margin:0; padding: 0}\n",
       ".list-inline>li {display: inline-block}\n",
       ".list-inline>li:not(:last-child)::after {content: \"\\00b7\"; padding: 0 .5ex}\n",
       "</style>\n",
       "<ol class=list-inline><li>'integrated_nn'</li><li>'integrated_snn'</li></ol>\n"
      ],
      "text/latex": [
       "\\begin{enumerate*}\n",
       "\\item 'integrated\\_nn'\n",
       "\\item 'integrated\\_snn'\n",
       "\\end{enumerate*}\n"
      ],
      "text/markdown": [
       "1. 'integrated_nn'\n",
       "2. 'integrated_snn'\n",
       "\n",
       "\n"
      ],
      "text/plain": [
       "[1] \"integrated_nn\"  \"integrated_snn\""
      ]
     },
     "metadata": {},
     "output_type": "display_data"
    }
   ],
   "source": [
    "Graphs(adata)"
   ]
  },
  {
   "cell_type": "markdown",
   "id": "43fedc8a-6008-4eaf-8380-dedb7162bff1",
   "metadata": {},
   "source": [
    "# Subcluster cluster 2"
   ]
  },
  {
   "cell_type": "code",
   "execution_count": 33,
   "id": "83debc0a-7238-465d-8240-1c16125d48b5",
   "metadata": {
    "execution": {
     "iopub.execute_input": "2025-10-13T14:53:15.771961Z",
     "iopub.status.busy": "2025-10-13T14:53:15.771037Z",
     "iopub.status.idle": "2025-10-13T14:53:15.951950Z",
     "shell.execute_reply": "2025-10-13T14:53:15.950779Z"
    }
   },
   "outputs": [
    {
     "name": "stdout",
     "output_type": "stream",
     "text": [
      "Modularity Optimizer version 1.3.0 by Ludo Waltman and Nees Jan van Eck\n",
      "\n",
      "Number of nodes: 4020\n",
      "Number of edges: 35930\n",
      "\n",
      "Running Louvain algorithm...\n",
      "Maximum modularity in 10 random starts: 0.7373\n",
      "Number of communities: 11\n",
      "Elapsed time: 0 seconds\n"
     ]
    }
   ],
   "source": [
    "adata<-FindSubCluster(\n",
    "  adata,\n",
    "  2,\n",
    "  'integrated_nn',\n",
    "  subcluster.name = \"Subclusters_2\",\n",
    "  resolution = 1,\n",
    "  algorithm = 1\n",
    ")"
   ]
  },
  {
   "cell_type": "code",
   "execution_count": 34,
   "id": "4588752e-a80c-4694-a8e9-3fbd25666745",
   "metadata": {
    "execution": {
     "iopub.execute_input": "2025-10-13T14:53:15.967635Z",
     "iopub.status.busy": "2025-10-13T14:53:15.966742Z",
     "iopub.status.idle": "2025-10-13T14:53:15.978419Z",
     "shell.execute_reply": "2025-10-13T14:53:15.977399Z"
    }
   },
   "outputs": [],
   "source": [
    "adata@meta.data$Subclusters_2<-as.factor(adata@meta.data$Subclusters_2)"
   ]
  },
  {
   "cell_type": "markdown",
   "id": "018378b3-43bd-486b-95bf-d64c2df218a7",
   "metadata": {},
   "source": [
    "## UMAP plots"
   ]
  },
  {
   "cell_type": "code",
   "execution_count": 35,
   "id": "d6706e51-fce6-4289-bf7d-b8d16105f0a8",
   "metadata": {
    "execution": {
     "iopub.execute_input": "2025-10-13T14:53:16.350570Z",
     "iopub.status.busy": "2025-10-13T14:53:16.349589Z",
     "iopub.status.idle": "2025-10-13T14:53:17.160680Z",
     "shell.execute_reply": "2025-10-13T14:53:17.159474Z"
    }
   },
   "outputs": [
    {
     "name": "stderr",
     "output_type": "stream",
     "text": [
      "Warning message:\n",
      "“ggrepel: 9 unlabeled data points (too many overlaps). Consider increasing max.overlaps”\n"
     ]
    },
    {
     "data": {
      "text/html": [
       "<strong>pdf:</strong> 2"
      ],
      "text/latex": [
       "\\textbf{pdf:} 2"
      ],
      "text/markdown": [
       "**pdf:** 2"
      ],
      "text/plain": [
       "pdf \n",
       "  2 "
      ]
     },
     "metadata": {},
     "output_type": "display_data"
    }
   ],
   "source": [
    "p1 <- DimPlot(adata, reduction = \"umap\", group.by = \"Subclusters_2\", label = TRUE, label.size = 5, repel = TRUE)\n",
    "\n",
    "\n",
    "\n",
    "\n",
    "setwd(path_graphs)\n",
    "\n",
    "svglite(file='UMAP_by_Subclusters_2.svg', width = 5.5, height = 4.9) \n",
    "\n",
    "# 2. CRITICAL: Use print() to force the plot to be drawn to the file.\n",
    "print(\n",
    "  p1 +\n",
    "  # Apply your desired theme and guides\n",
    "  theme(legend.position=\"right\", legend.title=element_blank(), legend.text = element_text(family=\"sans\"))\n",
    ")\n",
    "\n",
    "# 3. Close the device to finalize and save the SVG file.\n",
    "dev.off()"
   ]
  },
  {
   "cell_type": "code",
   "execution_count": 36,
   "id": "d3c9d55f-f1f8-409f-bfc8-1488c51d2e92",
   "metadata": {
    "execution": {
     "iopub.execute_input": "2025-10-13T14:53:17.163239Z",
     "iopub.status.busy": "2025-10-13T14:53:17.162335Z",
     "iopub.status.idle": "2025-10-13T14:53:17.172365Z",
     "shell.execute_reply": "2025-10-13T14:53:17.171335Z"
    }
   },
   "outputs": [],
   "source": [
    "markers<-c('SOX2','SOX4','POU5F1',\"TBXT\",'BMP4','MIXL1',\"KDR\",'CDH5','CD34','GYPA','HBA2','HBZ','ITGA2B','GP1BA','GP1BB','TUBB1','CDKN2D','MAPK14')"
   ]
  },
  {
   "cell_type": "markdown",
   "id": "29fed0c0-1394-4217-855f-3cc9d28801b3",
   "metadata": {},
   "source": [
    "## DotPlot"
   ]
  },
  {
   "cell_type": "code",
   "execution_count": 37,
   "id": "75c0e486-9bde-49e2-8893-9d5129910c7a",
   "metadata": {
    "execution": {
     "iopub.execute_input": "2025-10-13T14:53:17.174886Z",
     "iopub.status.busy": "2025-10-13T14:53:17.174010Z",
     "iopub.status.idle": "2025-10-13T14:53:17.879568Z",
     "shell.execute_reply": "2025-10-13T14:53:17.878261Z"
    }
   },
   "outputs": [],
   "source": [
    "dotplot3<-DotPlot(\n",
    "  adata,\n",
    "    features=markers,\n",
    "  assay = \"SCT\",\n",
    "    group.by=\"Subclusters_2\")+\n",
    "ylab('Clusters')+\n",
    "xlab('Marker genes')+\n",
    " theme_classic()+\n",
    "    theme(axis.title=element_blank(),\n",
    "          axis.title.y=element_text(color=\"black\", family=\"sans\", size=12),\n",
    "          axis.title.x=element_text(color=\"black\", family=\"sans\", size=12),\n",
    "          axis.text.y=element_text(color=\"black\", family=\"sans\", size=8),\n",
    "          axis.text.x=element_text(angle=45,vjust=1,hjust=1, color=\"black\", family=\"sans\", size=8))\n",
    "\n"
   ]
  },
  {
   "cell_type": "code",
   "execution_count": 38,
   "id": "1ec004f4-9df9-4351-a062-db54dbd99574",
   "metadata": {
    "execution": {
     "iopub.execute_input": "2025-10-13T14:53:17.882366Z",
     "iopub.status.busy": "2025-10-13T14:53:17.881397Z",
     "iopub.status.idle": "2025-10-13T14:53:18.220298Z",
     "shell.execute_reply": "2025-10-13T14:53:18.219038Z"
    }
   },
   "outputs": [
    {
     "name": "stderr",
     "output_type": "stream",
     "text": [
      "\u001b[1m\u001b[22mSaving 7 x 7 in image\n"
     ]
    }
   ],
   "source": [
    "setwd(\"/group/soranzo/manuel.tardaguila/2025_hESC_MK_SCRNAseq_10X/no_competition/RPCA/graphs/\")\n",
    "\n",
    "svgname<-paste(\"Dotplot_Subclusters_2\",\".svg\",sep='')\n",
    "makesvg = TRUE\n",
    "\n",
    "if (makesvg == TRUE)\n",
    "{\n",
    "  ggsave(svgname, plot= dotplot3,\n",
    "         device=\"svg\")\n",
    "}"
   ]
  },
  {
   "cell_type": "markdown",
   "id": "2f4c6e0e-20af-4508-aaba-58336483f856",
   "metadata": {},
   "source": [
    "## Stacked barplots"
   ]
  },
  {
   "cell_type": "markdown",
   "id": "11d3aff6-75bc-403c-b013-5ddf1ebfbff4",
   "metadata": {},
   "source": [
    "### Integrated_annotation vs Subclusters_2"
   ]
  },
  {
   "cell_type": "code",
   "execution_count": 39,
   "id": "5e757df7-3d71-4cb1-a5d2-e883459ba1c8",
   "metadata": {
    "execution": {
     "iopub.execute_input": "2025-10-13T14:53:18.222923Z",
     "iopub.status.busy": "2025-10-13T14:53:18.222001Z",
     "iopub.status.idle": "2025-10-13T14:53:18.231161Z",
     "shell.execute_reply": "2025-10-13T14:53:18.230134Z"
    }
   },
   "outputs": [],
   "source": [
    "met<-adata[[]]"
   ]
  },
  {
   "cell_type": "code",
   "execution_count": 40,
   "id": "0bd9a29f-47ec-45f4-a2d7-efe7b0c5b0c7",
   "metadata": {
    "execution": {
     "iopub.execute_input": "2025-10-13T14:53:18.233647Z",
     "iopub.status.busy": "2025-10-13T14:53:18.232771Z",
     "iopub.status.idle": "2025-10-13T14:53:18.243616Z",
     "shell.execute_reply": "2025-10-13T14:53:18.242553Z"
    }
   },
   "outputs": [
    {
     "data": {
      "text/html": [
       "<style>\n",
       ".list-inline {list-style: none; margin:0; padding: 0}\n",
       ".list-inline>li {display: inline-block}\n",
       ".list-inline>li:not(:last-child)::after {content: \"\\00b7\"; padding: 0 .5ex}\n",
       "</style>\n",
       "<ol class=list-inline><li>'orig.ident'</li><li>'nCount_RNA'</li><li>'nFeature_RNA'</li><li>'nCount_RNA_raw'</li><li>'nFeature_RNA_raw'</li><li>'percent.mt'</li><li>'scDblFinder.class'</li><li>'scDblFinder.score'</li><li>'scDblFinder.weighted'</li><li>'scDblFinder.cxds_score'</li><li>'Diff'</li><li>'nCount_SCT'</li><li>'nFeature_SCT'</li><li>'SCT_snn_res.2'</li><li>'seurat_clusters'</li><li>'SCT_snn_res.0.5'</li><li>'CellTypist_label_Alsinet'</li><li>'CellTypist_conf_score_Alsinet'</li><li>'CellTypist_label_FBMA'</li><li>'CellTypist_conf_score_FBMA'</li><li>'CellTypist_label_Immune_ALL_low'</li><li>'CellTypist_conf_score_Immune_ALL_low'</li><li>'Integrated_annotation'</li><li>'integrated_nn_res.0.5'</li><li>'Subclusters_2'</li></ol>\n"
      ],
      "text/latex": [
       "\\begin{enumerate*}\n",
       "\\item 'orig.ident'\n",
       "\\item 'nCount\\_RNA'\n",
       "\\item 'nFeature\\_RNA'\n",
       "\\item 'nCount\\_RNA\\_raw'\n",
       "\\item 'nFeature\\_RNA\\_raw'\n",
       "\\item 'percent.mt'\n",
       "\\item 'scDblFinder.class'\n",
       "\\item 'scDblFinder.score'\n",
       "\\item 'scDblFinder.weighted'\n",
       "\\item 'scDblFinder.cxds\\_score'\n",
       "\\item 'Diff'\n",
       "\\item 'nCount\\_SCT'\n",
       "\\item 'nFeature\\_SCT'\n",
       "\\item 'SCT\\_snn\\_res.2'\n",
       "\\item 'seurat\\_clusters'\n",
       "\\item 'SCT\\_snn\\_res.0.5'\n",
       "\\item 'CellTypist\\_label\\_Alsinet'\n",
       "\\item 'CellTypist\\_conf\\_score\\_Alsinet'\n",
       "\\item 'CellTypist\\_label\\_FBMA'\n",
       "\\item 'CellTypist\\_conf\\_score\\_FBMA'\n",
       "\\item 'CellTypist\\_label\\_Immune\\_ALL\\_low'\n",
       "\\item 'CellTypist\\_conf\\_score\\_Immune\\_ALL\\_low'\n",
       "\\item 'Integrated\\_annotation'\n",
       "\\item 'integrated\\_nn\\_res.0.5'\n",
       "\\item 'Subclusters\\_2'\n",
       "\\end{enumerate*}\n"
      ],
      "text/markdown": [
       "1. 'orig.ident'\n",
       "2. 'nCount_RNA'\n",
       "3. 'nFeature_RNA'\n",
       "4. 'nCount_RNA_raw'\n",
       "5. 'nFeature_RNA_raw'\n",
       "6. 'percent.mt'\n",
       "7. 'scDblFinder.class'\n",
       "8. 'scDblFinder.score'\n",
       "9. 'scDblFinder.weighted'\n",
       "10. 'scDblFinder.cxds_score'\n",
       "11. 'Diff'\n",
       "12. 'nCount_SCT'\n",
       "13. 'nFeature_SCT'\n",
       "14. 'SCT_snn_res.2'\n",
       "15. 'seurat_clusters'\n",
       "16. 'SCT_snn_res.0.5'\n",
       "17. 'CellTypist_label_Alsinet'\n",
       "18. 'CellTypist_conf_score_Alsinet'\n",
       "19. 'CellTypist_label_FBMA'\n",
       "20. 'CellTypist_conf_score_FBMA'\n",
       "21. 'CellTypist_label_Immune_ALL_low'\n",
       "22. 'CellTypist_conf_score_Immune_ALL_low'\n",
       "23. 'Integrated_annotation'\n",
       "24. 'integrated_nn_res.0.5'\n",
       "25. 'Subclusters_2'\n",
       "\n",
       "\n"
      ],
      "text/plain": [
       " [1] \"orig.ident\"                          \n",
       " [2] \"nCount_RNA\"                          \n",
       " [3] \"nFeature_RNA\"                        \n",
       " [4] \"nCount_RNA_raw\"                      \n",
       " [5] \"nFeature_RNA_raw\"                    \n",
       " [6] \"percent.mt\"                          \n",
       " [7] \"scDblFinder.class\"                   \n",
       " [8] \"scDblFinder.score\"                   \n",
       " [9] \"scDblFinder.weighted\"                \n",
       "[10] \"scDblFinder.cxds_score\"              \n",
       "[11] \"Diff\"                                \n",
       "[12] \"nCount_SCT\"                          \n",
       "[13] \"nFeature_SCT\"                        \n",
       "[14] \"SCT_snn_res.2\"                       \n",
       "[15] \"seurat_clusters\"                     \n",
       "[16] \"SCT_snn_res.0.5\"                     \n",
       "[17] \"CellTypist_label_Alsinet\"            \n",
       "[18] \"CellTypist_conf_score_Alsinet\"       \n",
       "[19] \"CellTypist_label_FBMA\"               \n",
       "[20] \"CellTypist_conf_score_FBMA\"          \n",
       "[21] \"CellTypist_label_Immune_ALL_low\"     \n",
       "[22] \"CellTypist_conf_score_Immune_ALL_low\"\n",
       "[23] \"Integrated_annotation\"               \n",
       "[24] \"integrated_nn_res.0.5\"               \n",
       "[25] \"Subclusters_2\"                       "
      ]
     },
     "metadata": {},
     "output_type": "display_data"
    }
   ],
   "source": [
    "colnames(met)"
   ]
  },
  {
   "cell_type": "code",
   "execution_count": 41,
   "id": "6ae22c5b-08b1-461a-b858-a7a1ddfdcb40",
   "metadata": {
    "execution": {
     "iopub.execute_input": "2025-10-13T14:53:18.246057Z",
     "iopub.status.busy": "2025-10-13T14:53:18.245183Z",
     "iopub.status.idle": "2025-10-13T14:53:18.258645Z",
     "shell.execute_reply": "2025-10-13T14:53:18.257528Z"
    }
   },
   "outputs": [],
   "source": [
    "met.dt<-data.table(met,key=c(\"Subclusters_2\",\"Integrated_annotation\"))"
   ]
  },
  {
   "cell_type": "code",
   "execution_count": 42,
   "id": "031836f6-19a7-4bb2-8893-6c3069013682",
   "metadata": {
    "execution": {
     "iopub.execute_input": "2025-10-13T14:53:18.261236Z",
     "iopub.status.busy": "2025-10-13T14:53:18.260283Z",
     "iopub.status.idle": "2025-10-13T14:53:18.268503Z",
     "shell.execute_reply": "2025-10-13T14:53:18.267457Z"
    }
   },
   "outputs": [],
   "source": [
    "#str(met.dt)"
   ]
  },
  {
   "cell_type": "code",
   "execution_count": 43,
   "id": "401e5729-34f2-4ffd-b47b-49f254001d3d",
   "metadata": {
    "execution": {
     "iopub.execute_input": "2025-10-13T14:53:18.455000Z",
     "iopub.status.busy": "2025-10-13T14:53:18.454071Z",
     "iopub.status.idle": "2025-10-13T14:53:18.464495Z",
     "shell.execute_reply": "2025-10-13T14:53:18.463458Z"
    }
   },
   "outputs": [],
   "source": [
    "Freq.table<-as.data.frame(met.dt[,.(Freq=.N),by=key(met.dt)], stringsAsFactors=F)\n",
    "#Freq.table"
   ]
  },
  {
   "cell_type": "code",
   "execution_count": 44,
   "id": "48e8e76e-0a6a-4394-91fb-d6da28cbc727",
   "metadata": {
    "execution": {
     "iopub.execute_input": "2025-10-13T14:53:18.655407Z",
     "iopub.status.busy": "2025-10-13T14:53:18.654520Z",
     "iopub.status.idle": "2025-10-13T14:53:18.669568Z",
     "shell.execute_reply": "2025-10-13T14:53:18.668483Z"
    }
   },
   "outputs": [],
   "source": [
    "met.dt<-data.table(met, key=c(\"Subclusters_2\"))\n",
    "Freq.TOTAL<-as.data.frame(met.dt[,.(TOTAL=.N),by=key(met.dt)], stringsAsFactors=F)\n",
    "#Freq.TOTAL"
   ]
  },
  {
   "cell_type": "code",
   "execution_count": 45,
   "id": "a0ad4597-4be1-488b-b3dd-3a2c501fa19a",
   "metadata": {
    "execution": {
     "iopub.execute_input": "2025-10-13T14:53:18.868657Z",
     "iopub.status.busy": "2025-10-13T14:53:18.867779Z",
     "iopub.status.idle": "2025-10-13T14:53:18.878244Z",
     "shell.execute_reply": "2025-10-13T14:53:18.877198Z"
    }
   },
   "outputs": [],
   "source": [
    "Freq.table<-merge(Freq.table,\n",
    "                  Freq.TOTAL,\n",
    "                  by=\"Subclusters_2\")\n",
    "Freq.table$Perc<-round((100*(Freq.table$Freq/Freq.table$TOTAL)),2)\n",
    "\n",
    "#Freq.table"
   ]
  },
  {
   "cell_type": "code",
   "execution_count": 46,
   "id": "87f2f03a-4035-49a2-b5f8-c8c0521d5302",
   "metadata": {
    "execution": {
     "iopub.execute_input": "2025-10-13T14:53:19.051023Z",
     "iopub.status.busy": "2025-10-13T14:53:19.050120Z",
     "iopub.status.idle": "2025-10-13T14:53:19.062074Z",
     "shell.execute_reply": "2025-10-13T14:53:19.061006Z"
    }
   },
   "outputs": [
    {
     "name": "stdout",
     "output_type": "stream",
     "text": [
      "'data.frame':\t164 obs. of  5 variables:\n",
      " $ Subclusters_2        : Factor w/ 26 levels \"1\",\"10\",\"11\",..: 1 1 1 1 1 1 2 2 2 2 ...\n",
      " $ Integrated_annotation: chr  \"MEP\" \"early MK\" \"early erythroid\" \"hESC\" ...\n",
      " $ Freq                 : int  118 14 13 4331 39 22 702 34 6 14 ...\n",
      " $ TOTAL                : int  4537 4537 4537 4537 4537 4537 1455 1455 1455 1455 ...\n",
      " $ Perc                 : num  2.6 0.31 0.29 95.46 0.86 ...\n"
     ]
    }
   ],
   "source": [
    "str(Freq.table)"
   ]
  },
  {
   "cell_type": "code",
   "execution_count": 47,
   "id": "15d82ffc-3717-4a67-b921-1a6f1d0b7458",
   "metadata": {
    "execution": {
     "iopub.execute_input": "2025-10-13T14:53:19.254562Z",
     "iopub.status.busy": "2025-10-13T14:53:19.253674Z",
     "iopub.status.idle": "2025-10-13T14:53:19.270153Z",
     "shell.execute_reply": "2025-10-13T14:53:19.269063Z"
    }
   },
   "outputs": [],
   "source": [
    "met.dt<-data.table(met, key=c(\"Integrated_annotation\"))\n",
    "Freq.table_Integrated<-as.data.frame(met.dt[,.(Freq_Integrated_annotation=.N),by=key(met.dt)], stringsAsFactors=F)\n",
    "\n",
    "Freq.table<-merge(Freq.table,\n",
    "                  Freq.table_Integrated,\n",
    "                  by=\"Integrated_annotation\")\n",
    "\n",
    "#Freq.table"
   ]
  },
  {
   "cell_type": "code",
   "execution_count": 48,
   "id": "82e806e7-6d70-423a-93db-519a17d5e038",
   "metadata": {
    "execution": {
     "iopub.execute_input": "2025-10-13T14:53:19.657885Z",
     "iopub.status.busy": "2025-10-13T14:53:19.656962Z",
     "iopub.status.idle": "2025-10-13T14:53:19.669795Z",
     "shell.execute_reply": "2025-10-13T14:53:19.668676Z"
    }
   },
   "outputs": [
    {
     "name": "stdout",
     "output_type": "stream",
     "text": [
      "'data.frame':\t164 obs. of  6 variables:\n",
      " $ Integrated_annotation     : chr  \"early erythroid\" \"early erythroid\" \"early erythroid\" \"early erythroid\" ...\n",
      " $ Subclusters_2             : Factor w/ 26 levels \"1\",\"10\",\"11\",..: 10 11 3 2 1 25 5 12 4 16 ...\n",
      " $ Freq                      : int  11 11 42 14 13 7 55 7 2 30 ...\n",
      " $ TOTAL                     : int  459 202 1439 1455 4537 2370 1169 456 1267 328 ...\n",
      " $ Perc                      : num  2.4 5.45 2.92 0.96 0.29 0.3 4.7 1.54 0.16 9.15 ...\n",
      " $ Freq_Integrated_annotation: int  2286 2286 2286 2286 2286 2286 2286 2286 2286 2286 ...\n"
     ]
    }
   ],
   "source": [
    "str(Freq.table)"
   ]
  },
  {
   "cell_type": "code",
   "execution_count": 49,
   "id": "60fa35da-9fb8-45e1-b574-9e76a28d1ffe",
   "metadata": {
    "execution": {
     "iopub.execute_input": "2025-10-13T14:53:19.672310Z",
     "iopub.status.busy": "2025-10-13T14:53:19.671411Z",
     "iopub.status.idle": "2025-10-13T14:53:19.680396Z",
     "shell.execute_reply": "2025-10-13T14:53:19.679312Z"
    }
   },
   "outputs": [],
   "source": [
    "vector_colors_Integrated_annotation<-c(brewer.pal(9, \"Set1\"),\"white\")"
   ]
  },
  {
   "cell_type": "code",
   "execution_count": 50,
   "id": "b5f7ec05-8249-4d09-8fc8-5c3475413f79",
   "metadata": {
    "execution": {
     "iopub.execute_input": "2025-10-13T14:53:25.735423Z",
     "iopub.status.busy": "2025-10-13T14:53:25.734353Z",
     "iopub.status.idle": "2025-10-13T14:53:25.766856Z",
     "shell.execute_reply": "2025-10-13T14:53:25.765753Z"
    },
    "scrolled": true
   },
   "outputs": [
    {
     "name": "stdout",
     "output_type": "stream",
     "text": [
      "-------------------------------------->\t0 25 50 75 100\n"
     ]
    }
   ],
   "source": [
    " #### Stacked Graph ---------------\n",
    "  \n",
    "  breaks.Rank<-(seq(0,100,by=25))\n",
    "  labels.Rank<-as.character(breaks.Rank)\n",
    "  \n",
    "  cat(\"-------------------------------------->\\t\")\n",
    "  cat(sprintf(as.character(labels.Rank)))\n",
    "  cat(\"\\n\")\n",
    "  \n",
    "  \n",
    "  stacked_barplot<-Freq.table %>%\n",
    "    mutate(myaxis = paste0(Subclusters_2, \"\\n\", \"n=\", TOTAL), drop=F) %>%\n",
    "    mutate(myaxis=fct_reorder(myaxis,as.numeric(Subclusters_2)), drop=F) %>%\n",
    "    ggplot(aes(x=myaxis, y=Perc, fill=Integrated_annotation)) +\n",
    "    geom_bar(stat=\"identity\",colour='white')+\n",
    "    scale_y_continuous(name=paste(\"Percentage of cells in each cluster\",sep=\" \"),breaks=breaks.Rank,labels=labels.Rank,\n",
    "                       limits=c(breaks.Rank[1],breaks.Rank[length(breaks.Rank)]+1))+\n",
    "    scale_fill_manual(values=vector_colors_Integrated_annotation,\n",
    "                      drop=F,\n",
    "                      name=\"My Annotation\", breaks=Freq.table_Integrated$Integrated_annotation,\n",
    "                      labels=paste(Freq.table_Integrated$Integrated_annotation,\n",
    "                                   Freq.table_Integrated$Freq_Integrated_annotation, sep =' n= '))+\n",
    "        theme_classic()+\n",
    "            theme(axis.title.y=element_text(size=12, color=\"black\", family=\"sans\"),\n",
    "                  axis.title.x=element_blank(),\n",
    "                  axis.text.y=element_text(angle=0,size=10, color=\"black\", family=\"sans\"),\n",
    "                  axis.text.x=element_text(angle=45,size=10,vjust=1,hjust=1,color=\"black\", family=\"sans\"),\n",
    "                  axis.line.x = element_line(size = 0.2),\n",
    "                  axis.ticks.x = element_line(size = 0.2),\n",
    "                  axis.ticks.y = element_line(size = 0.2),\n",
    "                  axis.line.y = element_line(size = 0.2))+\n",
    "            theme(legend.title = element_blank(),\n",
    "                  legend.text = element_text(size=8, color=\"black\", family=\"sans\"),\n",
    "                  legend.key.size = unit(0.25, 'cm'), #change legend key size\n",
    "                  legend.key.height = unit(0.25, 'cm'), #change legend key height\n",
    "                  legend.key.width = unit(0.25, 'cm'), #change legend key width\n",
    "                  legend.position=\"bottom\")\n",
    "  \n",
    "  \n",
    "\n",
    "\n",
    "\n",
    "\n",
    "  "
   ]
  },
  {
   "cell_type": "code",
   "execution_count": 51,
   "id": "17a5c42a-f84c-43a1-a8a8-88d61919483e",
   "metadata": {
    "execution": {
     "iopub.execute_input": "2025-10-13T14:53:25.769392Z",
     "iopub.status.busy": "2025-10-13T14:53:25.768499Z",
     "iopub.status.idle": "2025-10-13T14:53:26.088352Z",
     "shell.execute_reply": "2025-10-13T14:53:26.087059Z"
    }
   },
   "outputs": [],
   "source": [
    "setwd(\"/group/soranzo/manuel.tardaguila/2025_hESC_MK_SCRNAseq_10X/no_competition/RPCA/graphs/\")\n",
    "\n",
    "svgname<-paste(\"Stacked_barplot_Integrated_annotation_by_Subclusters_2\",\".svg\",sep='')\n",
    "makesvg = TRUE\n",
    "\n",
    "if (makesvg == TRUE)\n",
    "{\n",
    "  ggsave(svgname, plot= stacked_barplot,\n",
    "         width = 25,        # Set the width to 8\n",
    "      height = 12.5,       # Set the height to 5\n",
    "      units = \"cm\",    # Specify the units as inches\n",
    "         device=\"svg\")\n",
    "}\n",
    "\n",
    "\n",
    "  "
   ]
  },
  {
   "cell_type": "code",
   "execution_count": 52,
   "id": "558381fd-aac6-4d26-8758-4f93fc2653c7",
   "metadata": {
    "execution": {
     "iopub.execute_input": "2025-10-13T14:53:26.091104Z",
     "iopub.status.busy": "2025-10-13T14:53:26.090134Z",
     "iopub.status.idle": "2025-10-13T14:53:26.098976Z",
     "shell.execute_reply": "2025-10-13T14:53:26.097865Z"
    }
   },
   "outputs": [],
   "source": [
    "# I think that cluster 2 should be MEP, no matter how I split it in every subluster there is always a mohority of MEP"
   ]
  },
  {
   "cell_type": "markdown",
   "id": "774e7925-dc07-4bcb-908f-dc5fb4396add",
   "metadata": {},
   "source": [
    "# Subcluster cluster 5"
   ]
  },
  {
   "cell_type": "code",
   "execution_count": 53,
   "id": "5fbbf055-7096-493c-9367-fd8cd3a64aa1",
   "metadata": {
    "execution": {
     "iopub.execute_input": "2025-10-13T14:53:26.101580Z",
     "iopub.status.busy": "2025-10-13T14:53:26.100650Z",
     "iopub.status.idle": "2025-10-13T14:53:26.235487Z",
     "shell.execute_reply": "2025-10-13T14:53:26.234299Z"
    }
   },
   "outputs": [
    {
     "name": "stdout",
     "output_type": "stream",
     "text": [
      "Modularity Optimizer version 1.3.0 by Ludo Waltman and Nees Jan van Eck\n",
      "\n",
      "Number of nodes: 3164\n",
      "Number of edges: 28466\n",
      "\n",
      "Running Louvain algorithm...\n",
      "Maximum modularity in 10 random starts: 0.6785\n",
      "Number of communities: 20\n",
      "Elapsed time: 0 seconds\n"
     ]
    }
   ],
   "source": [
    "adata<-FindSubCluster(\n",
    "  adata,\n",
    "  5,\n",
    "  'integrated_nn',\n",
    "  subcluster.name = \"Subclusters_5\",\n",
    "  resolution = 2,\n",
    "  algorithm = 1\n",
    ")"
   ]
  },
  {
   "cell_type": "code",
   "execution_count": 54,
   "id": "d2f009d1-4ae0-4bf2-a100-eb85399c5e9e",
   "metadata": {
    "execution": {
     "iopub.execute_input": "2025-10-13T14:53:26.238086Z",
     "iopub.status.busy": "2025-10-13T14:53:26.237177Z",
     "iopub.status.idle": "2025-10-13T14:53:26.248426Z",
     "shell.execute_reply": "2025-10-13T14:53:26.247396Z"
    }
   },
   "outputs": [],
   "source": [
    "adata@meta.data$Subclusters_5<-as.factor(adata@meta.data$Subclusters_5)"
   ]
  },
  {
   "cell_type": "markdown",
   "id": "aa035fe1-d49c-4159-80f1-00ca1cb27836",
   "metadata": {},
   "source": [
    "## UMAP plots"
   ]
  },
  {
   "cell_type": "code",
   "execution_count": 55,
   "id": "54773f6a-2199-4e3d-a17a-5d7002b18f2d",
   "metadata": {
    "execution": {
     "iopub.execute_input": "2025-10-13T14:53:26.250969Z",
     "iopub.status.busy": "2025-10-13T14:53:26.250082Z",
     "iopub.status.idle": "2025-10-13T14:53:27.212209Z",
     "shell.execute_reply": "2025-10-13T14:53:27.210991Z"
    }
   },
   "outputs": [
    {
     "name": "stderr",
     "output_type": "stream",
     "text": [
      "Warning message:\n",
      "“ggrepel: 15 unlabeled data points (too many overlaps). Consider increasing max.overlaps”\n"
     ]
    },
    {
     "data": {
      "text/html": [
       "<strong>pdf:</strong> 2"
      ],
      "text/latex": [
       "\\textbf{pdf:} 2"
      ],
      "text/markdown": [
       "**pdf:** 2"
      ],
      "text/plain": [
       "pdf \n",
       "  2 "
      ]
     },
     "metadata": {},
     "output_type": "display_data"
    }
   ],
   "source": [
    "p1 <- DimPlot(adata, reduction = \"umap\", group.by = \"Subclusters_5\", label = TRUE, label.size = 5, repel = TRUE)\n",
    "\n",
    "\n",
    "\n",
    "\n",
    "setwd(path_graphs)\n",
    "\n",
    "svglite(file='UMAP_by_Subclusters_5.svg', width = 5.5, height = 4.9) \n",
    "\n",
    "# 2. CRITICAL: Use print() to force the plot to be drawn to the file.\n",
    "print(\n",
    "  p1 +\n",
    "  # Apply your desired theme and guides\n",
    "  theme(legend.position=\"right\", legend.title=element_blank(), legend.text = element_text(family=\"sans\"))\n",
    ")\n",
    "\n",
    "# 3. Close the device to finalize and save the SVG file.\n",
    "dev.off()"
   ]
  },
  {
   "cell_type": "code",
   "execution_count": 56,
   "id": "f87cfc43-9c5b-46d1-aa24-6b6b1abc64be",
   "metadata": {
    "execution": {
     "iopub.execute_input": "2025-10-13T14:53:27.214776Z",
     "iopub.status.busy": "2025-10-13T14:53:27.213862Z",
     "iopub.status.idle": "2025-10-13T14:53:27.223015Z",
     "shell.execute_reply": "2025-10-13T14:53:27.221994Z"
    }
   },
   "outputs": [],
   "source": [
    "markers<-c('SOX2','SOX4','POU5F1',\"TBXT\",'BMP4','MIXL1',\"KDR\",'CDH5','CD34','GYPA','HBA2','HBZ','ITGA2B','GP1BA','GP1BB','TUBB1','CDKN2D','MAPK14')"
   ]
  },
  {
   "cell_type": "markdown",
   "id": "d0b48884-f109-488a-8dde-3dc064b6c980",
   "metadata": {},
   "source": [
    "## DotPlot"
   ]
  },
  {
   "cell_type": "code",
   "execution_count": 57,
   "id": "20716c79-afbe-4326-b006-51ef0d25ae77",
   "metadata": {
    "execution": {
     "iopub.execute_input": "2025-10-13T14:53:27.225566Z",
     "iopub.status.busy": "2025-10-13T14:53:27.224671Z",
     "iopub.status.idle": "2025-10-13T14:53:27.937036Z",
     "shell.execute_reply": "2025-10-13T14:53:27.935738Z"
    }
   },
   "outputs": [],
   "source": [
    "dotplot3<-DotPlot(\n",
    "  adata,\n",
    "    features=markers,\n",
    "  assay = \"SCT\",\n",
    "    group.by=\"Subclusters_5\")+\n",
    "ylab('Clusters')+\n",
    "xlab('Marker genes')+\n",
    " theme_classic()+\n",
    "    theme(axis.title=element_blank(),\n",
    "          axis.title.y=element_text(color=\"black\", family=\"sans\", size=12),\n",
    "          axis.title.x=element_text(color=\"black\", family=\"sans\", size=12),\n",
    "          axis.text.y=element_text(color=\"black\", family=\"sans\", size=8),\n",
    "          axis.text.x=element_text(angle=45,vjust=1,hjust=1, color=\"black\", family=\"sans\", size=8))\n",
    "\n"
   ]
  },
  {
   "cell_type": "code",
   "execution_count": 58,
   "id": "b7b350f1-72c9-408e-895e-fdc61ad6c225",
   "metadata": {
    "execution": {
     "iopub.execute_input": "2025-10-13T14:53:27.939675Z",
     "iopub.status.busy": "2025-10-13T14:53:27.938757Z",
     "iopub.status.idle": "2025-10-13T14:53:28.247470Z",
     "shell.execute_reply": "2025-10-13T14:53:28.246141Z"
    }
   },
   "outputs": [
    {
     "name": "stderr",
     "output_type": "stream",
     "text": [
      "\u001b[1m\u001b[22mSaving 7 x 7 in image\n"
     ]
    }
   ],
   "source": [
    "setwd(\"/group/soranzo/manuel.tardaguila/2025_hESC_MK_SCRNAseq_10X/no_competition/RPCA/graphs/\")\n",
    "\n",
    "svgname<-paste(\"Dotplot_Subclusters_5\",\".svg\",sep='')\n",
    "makesvg = TRUE\n",
    "\n",
    "if (makesvg == TRUE)\n",
    "{\n",
    "  ggsave(svgname, plot= dotplot3,\n",
    "         device=\"svg\")\n",
    "}"
   ]
  },
  {
   "cell_type": "markdown",
   "id": "d4159eed-3a3e-4f41-a67b-a9cd304ae2fe",
   "metadata": {},
   "source": [
    "## Stacked barplots"
   ]
  },
  {
   "cell_type": "markdown",
   "id": "666b1c41-0eb4-481b-972a-67997ebe1997",
   "metadata": {},
   "source": [
    "### Integrated_annotation vs Subclusters_5"
   ]
  },
  {
   "cell_type": "code",
   "execution_count": 59,
   "id": "77af7400-d542-454c-a7c6-1bf68321fe2f",
   "metadata": {
    "execution": {
     "iopub.execute_input": "2025-10-13T14:53:31.553940Z",
     "iopub.status.busy": "2025-10-13T14:53:31.552898Z",
     "iopub.status.idle": "2025-10-13T14:53:31.562680Z",
     "shell.execute_reply": "2025-10-13T14:53:31.561611Z"
    }
   },
   "outputs": [],
   "source": [
    "met<-adata[[]]"
   ]
  },
  {
   "cell_type": "code",
   "execution_count": 60,
   "id": "bd735108-2bff-4a5c-89e9-b9fe0f3ebc5b",
   "metadata": {
    "execution": {
     "iopub.execute_input": "2025-10-13T14:53:31.741375Z",
     "iopub.status.busy": "2025-10-13T14:53:31.740470Z",
     "iopub.status.idle": "2025-10-13T14:53:31.751469Z",
     "shell.execute_reply": "2025-10-13T14:53:31.750385Z"
    }
   },
   "outputs": [
    {
     "data": {
      "text/html": [
       "<style>\n",
       ".list-inline {list-style: none; margin:0; padding: 0}\n",
       ".list-inline>li {display: inline-block}\n",
       ".list-inline>li:not(:last-child)::after {content: \"\\00b7\"; padding: 0 .5ex}\n",
       "</style>\n",
       "<ol class=list-inline><li>'orig.ident'</li><li>'nCount_RNA'</li><li>'nFeature_RNA'</li><li>'nCount_RNA_raw'</li><li>'nFeature_RNA_raw'</li><li>'percent.mt'</li><li>'scDblFinder.class'</li><li>'scDblFinder.score'</li><li>'scDblFinder.weighted'</li><li>'scDblFinder.cxds_score'</li><li>'Diff'</li><li>'nCount_SCT'</li><li>'nFeature_SCT'</li><li>'SCT_snn_res.2'</li><li>'seurat_clusters'</li><li>'SCT_snn_res.0.5'</li><li>'CellTypist_label_Alsinet'</li><li>'CellTypist_conf_score_Alsinet'</li><li>'CellTypist_label_FBMA'</li><li>'CellTypist_conf_score_FBMA'</li><li>'CellTypist_label_Immune_ALL_low'</li><li>'CellTypist_conf_score_Immune_ALL_low'</li><li>'Integrated_annotation'</li><li>'integrated_nn_res.0.5'</li><li>'Subclusters_2'</li><li>'Subclusters_5'</li></ol>\n"
      ],
      "text/latex": [
       "\\begin{enumerate*}\n",
       "\\item 'orig.ident'\n",
       "\\item 'nCount\\_RNA'\n",
       "\\item 'nFeature\\_RNA'\n",
       "\\item 'nCount\\_RNA\\_raw'\n",
       "\\item 'nFeature\\_RNA\\_raw'\n",
       "\\item 'percent.mt'\n",
       "\\item 'scDblFinder.class'\n",
       "\\item 'scDblFinder.score'\n",
       "\\item 'scDblFinder.weighted'\n",
       "\\item 'scDblFinder.cxds\\_score'\n",
       "\\item 'Diff'\n",
       "\\item 'nCount\\_SCT'\n",
       "\\item 'nFeature\\_SCT'\n",
       "\\item 'SCT\\_snn\\_res.2'\n",
       "\\item 'seurat\\_clusters'\n",
       "\\item 'SCT\\_snn\\_res.0.5'\n",
       "\\item 'CellTypist\\_label\\_Alsinet'\n",
       "\\item 'CellTypist\\_conf\\_score\\_Alsinet'\n",
       "\\item 'CellTypist\\_label\\_FBMA'\n",
       "\\item 'CellTypist\\_conf\\_score\\_FBMA'\n",
       "\\item 'CellTypist\\_label\\_Immune\\_ALL\\_low'\n",
       "\\item 'CellTypist\\_conf\\_score\\_Immune\\_ALL\\_low'\n",
       "\\item 'Integrated\\_annotation'\n",
       "\\item 'integrated\\_nn\\_res.0.5'\n",
       "\\item 'Subclusters\\_2'\n",
       "\\item 'Subclusters\\_5'\n",
       "\\end{enumerate*}\n"
      ],
      "text/markdown": [
       "1. 'orig.ident'\n",
       "2. 'nCount_RNA'\n",
       "3. 'nFeature_RNA'\n",
       "4. 'nCount_RNA_raw'\n",
       "5. 'nFeature_RNA_raw'\n",
       "6. 'percent.mt'\n",
       "7. 'scDblFinder.class'\n",
       "8. 'scDblFinder.score'\n",
       "9. 'scDblFinder.weighted'\n",
       "10. 'scDblFinder.cxds_score'\n",
       "11. 'Diff'\n",
       "12. 'nCount_SCT'\n",
       "13. 'nFeature_SCT'\n",
       "14. 'SCT_snn_res.2'\n",
       "15. 'seurat_clusters'\n",
       "16. 'SCT_snn_res.0.5'\n",
       "17. 'CellTypist_label_Alsinet'\n",
       "18. 'CellTypist_conf_score_Alsinet'\n",
       "19. 'CellTypist_label_FBMA'\n",
       "20. 'CellTypist_conf_score_FBMA'\n",
       "21. 'CellTypist_label_Immune_ALL_low'\n",
       "22. 'CellTypist_conf_score_Immune_ALL_low'\n",
       "23. 'Integrated_annotation'\n",
       "24. 'integrated_nn_res.0.5'\n",
       "25. 'Subclusters_2'\n",
       "26. 'Subclusters_5'\n",
       "\n",
       "\n"
      ],
      "text/plain": [
       " [1] \"orig.ident\"                          \n",
       " [2] \"nCount_RNA\"                          \n",
       " [3] \"nFeature_RNA\"                        \n",
       " [4] \"nCount_RNA_raw\"                      \n",
       " [5] \"nFeature_RNA_raw\"                    \n",
       " [6] \"percent.mt\"                          \n",
       " [7] \"scDblFinder.class\"                   \n",
       " [8] \"scDblFinder.score\"                   \n",
       " [9] \"scDblFinder.weighted\"                \n",
       "[10] \"scDblFinder.cxds_score\"              \n",
       "[11] \"Diff\"                                \n",
       "[12] \"nCount_SCT\"                          \n",
       "[13] \"nFeature_SCT\"                        \n",
       "[14] \"SCT_snn_res.2\"                       \n",
       "[15] \"seurat_clusters\"                     \n",
       "[16] \"SCT_snn_res.0.5\"                     \n",
       "[17] \"CellTypist_label_Alsinet\"            \n",
       "[18] \"CellTypist_conf_score_Alsinet\"       \n",
       "[19] \"CellTypist_label_FBMA\"               \n",
       "[20] \"CellTypist_conf_score_FBMA\"          \n",
       "[21] \"CellTypist_label_Immune_ALL_low\"     \n",
       "[22] \"CellTypist_conf_score_Immune_ALL_low\"\n",
       "[23] \"Integrated_annotation\"               \n",
       "[24] \"integrated_nn_res.0.5\"               \n",
       "[25] \"Subclusters_2\"                       \n",
       "[26] \"Subclusters_5\"                       "
      ]
     },
     "metadata": {},
     "output_type": "display_data"
    }
   ],
   "source": [
    "colnames(met)"
   ]
  },
  {
   "cell_type": "code",
   "execution_count": 61,
   "id": "bea52822-9a00-4d03-b09c-ee07ece0847e",
   "metadata": {
    "execution": {
     "iopub.execute_input": "2025-10-13T14:53:31.920517Z",
     "iopub.status.busy": "2025-10-13T14:53:31.919615Z",
     "iopub.status.idle": "2025-10-13T14:53:31.933327Z",
     "shell.execute_reply": "2025-10-13T14:53:31.932213Z"
    }
   },
   "outputs": [],
   "source": [
    "met.dt<-data.table(met,key=c(\"Subclusters_5\",\"Integrated_annotation\"))"
   ]
  },
  {
   "cell_type": "code",
   "execution_count": 62,
   "id": "0714f8a3-6cdc-4c05-b347-35155948988d",
   "metadata": {
    "execution": {
     "iopub.execute_input": "2025-10-13T14:53:32.106039Z",
     "iopub.status.busy": "2025-10-13T14:53:32.105118Z",
     "iopub.status.idle": "2025-10-13T14:53:32.113404Z",
     "shell.execute_reply": "2025-10-13T14:53:32.112376Z"
    }
   },
   "outputs": [],
   "source": [
    "#str(met.dt)"
   ]
  },
  {
   "cell_type": "code",
   "execution_count": 63,
   "id": "287d36f2-33db-4b18-b782-2f6292ecacda",
   "metadata": {
    "execution": {
     "iopub.execute_input": "2025-10-13T14:53:32.287584Z",
     "iopub.status.busy": "2025-10-13T14:53:32.286701Z",
     "iopub.status.idle": "2025-10-13T14:53:32.297284Z",
     "shell.execute_reply": "2025-10-13T14:53:32.296236Z"
    }
   },
   "outputs": [],
   "source": [
    "Freq.table<-as.data.frame(met.dt[,.(Freq=.N),by=key(met.dt)], stringsAsFactors=F)\n",
    "#Freq.table"
   ]
  },
  {
   "cell_type": "code",
   "execution_count": 64,
   "id": "f657c67d-4f60-45ae-84f4-9b951a2a94f9",
   "metadata": {
    "execution": {
     "iopub.execute_input": "2025-10-13T14:53:32.487392Z",
     "iopub.status.busy": "2025-10-13T14:53:32.486488Z",
     "iopub.status.idle": "2025-10-13T14:53:32.501960Z",
     "shell.execute_reply": "2025-10-13T14:53:32.500838Z"
    }
   },
   "outputs": [],
   "source": [
    "met.dt<-data.table(met, key=c(\"Subclusters_5\"))\n",
    "Freq.TOTAL<-as.data.frame(met.dt[,.(TOTAL=.N),by=key(met.dt)], stringsAsFactors=F)\n",
    "#Freq.TOTAL"
   ]
  },
  {
   "cell_type": "code",
   "execution_count": 65,
   "id": "e3a1288b-1000-47d0-8593-3ef42ebfb74b",
   "metadata": {
    "execution": {
     "iopub.execute_input": "2025-10-13T14:53:32.680865Z",
     "iopub.status.busy": "2025-10-13T14:53:32.679958Z",
     "iopub.status.idle": "2025-10-13T14:53:32.690627Z",
     "shell.execute_reply": "2025-10-13T14:53:32.689598Z"
    }
   },
   "outputs": [],
   "source": [
    "Freq.table<-merge(Freq.table,\n",
    "                  Freq.TOTAL,\n",
    "                  by=\"Subclusters_5\")\n",
    "Freq.table$Perc<-round((100*(Freq.table$Freq/Freq.table$TOTAL)),2)\n",
    "\n",
    "#Freq.table"
   ]
  },
  {
   "cell_type": "code",
   "execution_count": 66,
   "id": "7fa25485-585a-4ba1-b3bd-e443d2beac00",
   "metadata": {
    "execution": {
     "iopub.execute_input": "2025-10-13T14:53:33.189796Z",
     "iopub.status.busy": "2025-10-13T14:53:33.188867Z",
     "iopub.status.idle": "2025-10-13T14:53:33.200972Z",
     "shell.execute_reply": "2025-10-13T14:53:33.199903Z"
    }
   },
   "outputs": [
    {
     "name": "stdout",
     "output_type": "stream",
     "text": [
      "'data.frame':\t201 obs. of  5 variables:\n",
      " $ Subclusters_5        : Factor w/ 35 levels \"1\",\"10\",\"11\",..: 1 1 1 1 1 1 2 2 2 2 ...\n",
      " $ Integrated_annotation: chr  \"MEP\" \"early MK\" \"early erythroid\" \"hESC\" ...\n",
      " $ Freq                 : int  118 14 13 4331 39 22 702 34 6 14 ...\n",
      " $ TOTAL                : int  4537 4537 4537 4537 4537 4537 1455 1455 1455 1455 ...\n",
      " $ Perc                 : num  2.6 0.31 0.29 95.46 0.86 ...\n"
     ]
    }
   ],
   "source": [
    "str(Freq.table)"
   ]
  },
  {
   "cell_type": "code",
   "execution_count": 67,
   "id": "4870d7d1-6f1d-4ef4-a308-758304edbe9a",
   "metadata": {
    "execution": {
     "iopub.execute_input": "2025-10-13T14:53:33.265317Z",
     "iopub.status.busy": "2025-10-13T14:53:33.264425Z",
     "iopub.status.idle": "2025-10-13T14:53:33.281533Z",
     "shell.execute_reply": "2025-10-13T14:53:33.280401Z"
    }
   },
   "outputs": [],
   "source": [
    "met.dt<-data.table(met, key=c(\"Integrated_annotation\"))\n",
    "Freq.table_Integrated<-as.data.frame(met.dt[,.(Freq_Integrated_annotation=.N),by=key(met.dt)], stringsAsFactors=F)\n",
    "\n",
    "Freq.table<-merge(Freq.table,\n",
    "                  Freq.table_Integrated,\n",
    "                  by=\"Integrated_annotation\")\n",
    "\n",
    "#Freq.table"
   ]
  },
  {
   "cell_type": "code",
   "execution_count": 68,
   "id": "f778d329-eadd-4c39-b661-8ac64228e379",
   "metadata": {
    "execution": {
     "iopub.execute_input": "2025-10-13T14:53:33.315798Z",
     "iopub.status.busy": "2025-10-13T14:53:33.314898Z",
     "iopub.status.idle": "2025-10-13T14:53:33.327333Z",
     "shell.execute_reply": "2025-10-13T14:53:33.326263Z"
    }
   },
   "outputs": [
    {
     "name": "stdout",
     "output_type": "stream",
     "text": [
      "'data.frame':\t201 obs. of  6 variables:\n",
      " $ Integrated_annotation     : chr  \"early erythroid\" \"early erythroid\" \"early erythroid\" \"early erythroid\" ...\n",
      " $ Subclusters_5             : Factor w/ 35 levels \"1\",\"10\",\"11\",..: 18 23 14 30 19 24 25 32 31 33 ...\n",
      " $ Freq                      : int  12 9 64 84 38 17 119 111 18 732 ...\n",
      " $ TOTAL                     : int  105 69 148 170 104 257 209 2865 164 2443 ...\n",
      " $ Perc                      : num  11.4 13 43.2 49.4 36.5 ...\n",
      " $ Freq_Integrated_annotation: int  2286 2286 2286 2286 2286 2286 2286 2286 2286 2286 ...\n"
     ]
    }
   ],
   "source": [
    "str(Freq.table)"
   ]
  },
  {
   "cell_type": "code",
   "execution_count": 69,
   "id": "7f78ff50-271b-4a19-85ca-b32ab4f0e958",
   "metadata": {
    "execution": {
     "iopub.execute_input": "2025-10-13T14:53:33.388115Z",
     "iopub.status.busy": "2025-10-13T14:53:33.387189Z",
     "iopub.status.idle": "2025-10-13T14:53:33.395936Z",
     "shell.execute_reply": "2025-10-13T14:53:33.394908Z"
    }
   },
   "outputs": [],
   "source": [
    "vector_colors_Integrated_annotation<-c(brewer.pal(9, \"Set1\"),\"white\")"
   ]
  },
  {
   "cell_type": "code",
   "execution_count": 70,
   "id": "03b3fd45-0215-4b78-b6b0-7eab51e67556",
   "metadata": {
    "execution": {
     "iopub.execute_input": "2025-10-13T14:53:33.423581Z",
     "iopub.status.busy": "2025-10-13T14:53:33.422695Z",
     "iopub.status.idle": "2025-10-13T14:53:33.453718Z",
     "shell.execute_reply": "2025-10-13T14:53:33.452707Z"
    },
    "scrolled": true
   },
   "outputs": [
    {
     "name": "stdout",
     "output_type": "stream",
     "text": [
      "-------------------------------------->\t0 25 50 75 100\n"
     ]
    }
   ],
   "source": [
    " #### Stacked Graph ---------------\n",
    "  \n",
    "  breaks.Rank<-(seq(0,100,by=25))\n",
    "  labels.Rank<-as.character(breaks.Rank)\n",
    "  \n",
    "  cat(\"-------------------------------------->\\t\")\n",
    "  cat(sprintf(as.character(labels.Rank)))\n",
    "  cat(\"\\n\")\n",
    "  \n",
    "  \n",
    "  stacked_barplot<-Freq.table %>%\n",
    "    mutate(myaxis = paste0(Subclusters_5, \" \", \"n=\", TOTAL), drop=F) %>%\n",
    "    mutate(myaxis=fct_reorder(myaxis,as.numeric(Subclusters_5)), drop=F) %>%\n",
    "    ggplot(aes(x=myaxis, y=Perc, fill=Integrated_annotation)) +\n",
    "    geom_bar(stat=\"identity\",colour='white')+\n",
    "    scale_y_continuous(name=paste(\"Percentage of cells in each cluster\",sep=\" \"),breaks=breaks.Rank,labels=labels.Rank,\n",
    "                       limits=c(breaks.Rank[1],breaks.Rank[length(breaks.Rank)]+1))+\n",
    "    scale_fill_manual(values=vector_colors_Integrated_annotation,\n",
    "                      drop=F,\n",
    "                      name=\"My Annotation\", breaks=Freq.table_Integrated$Integrated_annotation,\n",
    "                      labels=paste(Freq.table_Integrated$Integrated_annotation,\n",
    "                                   Freq.table_Integrated$Freq_Integrated_annotation, sep =' n= '))+\n",
    "        theme_classic()+\n",
    "            theme(axis.title.y=element_text(size=12, color=\"black\", family=\"sans\"),\n",
    "                  axis.title.x=element_blank(),\n",
    "                  axis.text.y=element_text(angle=0,size=10, color=\"black\", family=\"sans\"),\n",
    "                  axis.text.x=element_text(angle=45,size=10,vjust=1,hjust=1,color=\"black\", family=\"sans\"),\n",
    "                  axis.line.x = element_line(size = 0.2),\n",
    "                  axis.ticks.x = element_line(size = 0.2),\n",
    "                  axis.ticks.y = element_line(size = 0.2),\n",
    "                  axis.line.y = element_line(size = 0.2))+\n",
    "            theme(legend.title = element_blank(),\n",
    "                  legend.text = element_text(size=8, color=\"black\", family=\"sans\"),\n",
    "                  legend.key.size = unit(0.25, 'cm'), #change legend key size\n",
    "                  legend.key.height = unit(0.25, 'cm'), #change legend key height\n",
    "                  legend.key.width = unit(0.25, 'cm'), #change legend key width\n",
    "                  legend.position=\"bottom\")\n",
    "  \n",
    "  \n",
    "\n",
    "\n",
    "\n",
    "\n",
    "  "
   ]
  },
  {
   "cell_type": "code",
   "execution_count": 71,
   "id": "d6a6f65d-6c42-4784-a2f0-cd617b009b4c",
   "metadata": {
    "execution": {
     "iopub.execute_input": "2025-10-13T14:53:33.474722Z",
     "iopub.status.busy": "2025-10-13T14:53:33.473833Z",
     "iopub.status.idle": "2025-10-13T14:53:33.925986Z",
     "shell.execute_reply": "2025-10-13T14:53:33.924685Z"
    }
   },
   "outputs": [],
   "source": [
    "setwd(\"/group/soranzo/manuel.tardaguila/2025_hESC_MK_SCRNAseq_10X/no_competition/RPCA/graphs/\")\n",
    "\n",
    "svgname<-paste(\"Stacked_barplot_Integrated_annotation_by_Subclusters_5\",\".svg\",sep='')\n",
    "makesvg = TRUE\n",
    "\n",
    "if (makesvg == TRUE)\n",
    "{\n",
    "  ggsave(svgname, plot= stacked_barplot,\n",
    "         width = 25,        # Set the width to 8\n",
    "      height = 12.5,       # Set the height to 5\n",
    "      units = \"cm\",    # Specify the units as inches\n",
    "         device=\"svg\")\n",
    "}\n",
    "\n",
    "\n",
    "  "
   ]
  },
  {
   "cell_type": "code",
   "execution_count": 72,
   "id": "b83e396c-3224-41e1-9230-caa0f333a13c",
   "metadata": {
    "execution": {
     "iopub.execute_input": "2025-10-13T14:53:33.928660Z",
     "iopub.status.busy": "2025-10-13T14:53:33.927722Z",
     "iopub.status.idle": "2025-10-13T14:53:33.949931Z",
     "shell.execute_reply": "2025-10-13T14:53:33.948851Z"
    }
   },
   "outputs": [],
   "source": [
    "# I think that cluster 5 has some subclusters with the majority being 'early erythroid' so I am going to keep Subclusters_5"
   ]
  },
  {
   "cell_type": "markdown",
   "id": "e46ffe70-fa15-4b1f-81c0-8e1dc514a541",
   "metadata": {},
   "source": [
    "# Subcluster cluster 7"
   ]
  },
  {
   "cell_type": "code",
   "execution_count": 73,
   "id": "8d66b05d-f9f2-4027-ada7-b11fc4f0af2c",
   "metadata": {
    "execution": {
     "iopub.execute_input": "2025-10-13T14:53:33.952485Z",
     "iopub.status.busy": "2025-10-13T14:53:33.951579Z",
     "iopub.status.idle": "2025-10-13T14:53:34.060714Z",
     "shell.execute_reply": "2025-10-13T14:53:34.059537Z"
    }
   },
   "outputs": [
    {
     "name": "stdout",
     "output_type": "stream",
     "text": [
      "Modularity Optimizer version 1.3.0 by Ludo Waltman and Nees Jan van Eck\n",
      "\n",
      "Number of nodes: 2443\n",
      "Number of edges: 21576\n",
      "\n",
      "Running Louvain algorithm...\n",
      "Maximum modularity in 10 random starts: 0.6047\n",
      "Number of communities: 20\n",
      "Elapsed time: 0 seconds\n"
     ]
    }
   ],
   "source": [
    "adata<-FindSubCluster(\n",
    "  adata,\n",
    "  7,\n",
    "  'integrated_nn',\n",
    "  subcluster.name = \"Subclusters_7\",\n",
    "  resolution = 2,\n",
    "  algorithm = 1\n",
    ")"
   ]
  },
  {
   "cell_type": "code",
   "execution_count": 74,
   "id": "e55b9493-79b3-44a1-ad03-7f07bc5cc96f",
   "metadata": {
    "execution": {
     "iopub.execute_input": "2025-10-13T14:53:34.063290Z",
     "iopub.status.busy": "2025-10-13T14:53:34.062375Z",
     "iopub.status.idle": "2025-10-13T14:53:34.073501Z",
     "shell.execute_reply": "2025-10-13T14:53:34.072479Z"
    }
   },
   "outputs": [],
   "source": [
    "adata@meta.data$Subclusters_7<-as.factor(adata@meta.data$Subclusters_7)"
   ]
  },
  {
   "cell_type": "markdown",
   "id": "3fb6967f-503f-41f2-aebe-2a4d614e3ebe",
   "metadata": {},
   "source": [
    "## UMAP plots"
   ]
  },
  {
   "cell_type": "code",
   "execution_count": 75,
   "id": "20d4aa0c-74e8-47a5-870a-5dbf2a28cc33",
   "metadata": {
    "execution": {
     "iopub.execute_input": "2025-10-13T14:53:34.076044Z",
     "iopub.status.busy": "2025-10-13T14:53:34.075159Z",
     "iopub.status.idle": "2025-10-13T14:53:35.055618Z",
     "shell.execute_reply": "2025-10-13T14:53:35.054356Z"
    }
   },
   "outputs": [
    {
     "name": "stderr",
     "output_type": "stream",
     "text": [
      "Warning message:\n",
      "“ggrepel: 20 unlabeled data points (too many overlaps). Consider increasing max.overlaps”\n"
     ]
    },
    {
     "data": {
      "text/html": [
       "<strong>pdf:</strong> 2"
      ],
      "text/latex": [
       "\\textbf{pdf:} 2"
      ],
      "text/markdown": [
       "**pdf:** 2"
      ],
      "text/plain": [
       "pdf \n",
       "  2 "
      ]
     },
     "metadata": {},
     "output_type": "display_data"
    }
   ],
   "source": [
    "p1 <- DimPlot(adata, reduction = \"umap\", group.by = \"Subclusters_7\", label = TRUE, label.size = 5, repel = TRUE)\n",
    "\n",
    "\n",
    "\n",
    "\n",
    "setwd(path_graphs)\n",
    "\n",
    "svglite(file='UMAP_by_Subclusters_7.svg', width = 5.5, height = 4.9) \n",
    "\n",
    "# 2. CRITICAL: Use print() to force the plot to be drawn to the file.\n",
    "print(\n",
    "  p1 +\n",
    "  # Apply your desired theme and guides\n",
    "  theme(legend.position=\"right\", legend.title=element_blank(), legend.text = element_text(family=\"sans\"))\n",
    ")\n",
    "\n",
    "# 3. Close the device to finalize and save the SVG file.\n",
    "dev.off()"
   ]
  },
  {
   "cell_type": "code",
   "execution_count": 76,
   "id": "258340fe-3515-4d8f-91a5-793e30e66925",
   "metadata": {
    "execution": {
     "iopub.execute_input": "2025-10-13T14:53:35.058296Z",
     "iopub.status.busy": "2025-10-13T14:53:35.057342Z",
     "iopub.status.idle": "2025-10-13T14:53:35.066898Z",
     "shell.execute_reply": "2025-10-13T14:53:35.065832Z"
    }
   },
   "outputs": [],
   "source": [
    "markers<-c('SOX2','SOX4','POU5F1',\"TBXT\",'BMP4','MIXL1',\"KDR\",'CDH5','CD34','GYPA','HBA2','HBZ','ITGA2B','GP1BA','GP1BB','TUBB1','CDKN2D','MAPK14')"
   ]
  },
  {
   "cell_type": "markdown",
   "id": "06b71618-cdd7-4234-8dff-c3bf1f51d123",
   "metadata": {},
   "source": [
    "## DotPlot"
   ]
  },
  {
   "cell_type": "code",
   "execution_count": 77,
   "id": "40968d2a-aec2-4120-a5b0-46120aa2c400",
   "metadata": {
    "execution": {
     "iopub.execute_input": "2025-10-13T14:53:35.069571Z",
     "iopub.status.busy": "2025-10-13T14:53:35.068619Z",
     "iopub.status.idle": "2025-10-13T14:53:35.782954Z",
     "shell.execute_reply": "2025-10-13T14:53:35.781680Z"
    }
   },
   "outputs": [],
   "source": [
    "dotplot3<-DotPlot(\n",
    "  adata,\n",
    "    features=markers,\n",
    "  assay = \"SCT\",\n",
    "    group.by=\"Subclusters_7\")+\n",
    "ylab('Clusters')+\n",
    "xlab('Marker genes')+\n",
    " theme_classic()+\n",
    "    theme(axis.title=element_blank(),\n",
    "          axis.title.y=element_text(color=\"black\", family=\"sans\", size=12),\n",
    "          axis.title.x=element_text(color=\"black\", family=\"sans\", size=12),\n",
    "          axis.text.y=element_text(color=\"black\", family=\"sans\", size=8),\n",
    "          axis.text.x=element_text(angle=45,vjust=1,hjust=1, color=\"black\", family=\"sans\", size=8))\n",
    "\n"
   ]
  },
  {
   "cell_type": "code",
   "execution_count": 78,
   "id": "029ea0f5-6820-4762-8ebf-eda54de5141c",
   "metadata": {
    "execution": {
     "iopub.execute_input": "2025-10-13T14:53:35.785582Z",
     "iopub.status.busy": "2025-10-13T14:53:35.784674Z",
     "iopub.status.idle": "2025-10-13T14:53:36.085091Z",
     "shell.execute_reply": "2025-10-13T14:53:36.083781Z"
    }
   },
   "outputs": [
    {
     "name": "stderr",
     "output_type": "stream",
     "text": [
      "\u001b[1m\u001b[22mSaving 7 x 7 in image\n"
     ]
    }
   ],
   "source": [
    "setwd(\"/group/soranzo/manuel.tardaguila/2025_hESC_MK_SCRNAseq_10X/no_competition/RPCA/graphs/\")\n",
    "\n",
    "svgname<-paste(\"Dotplot_Subclusters_7\",\".svg\",sep='')\n",
    "makesvg = TRUE\n",
    "\n",
    "if (makesvg == TRUE)\n",
    "{\n",
    "  ggsave(svgname, plot= dotplot3,\n",
    "         device=\"svg\")\n",
    "}"
   ]
  },
  {
   "cell_type": "markdown",
   "id": "4e857e22-96f2-4ad4-86c0-3fbd78c2d42d",
   "metadata": {},
   "source": [
    "## Stacked barplots"
   ]
  },
  {
   "cell_type": "markdown",
   "id": "0e1c944f-368c-46f8-ad04-27aa03f4bc67",
   "metadata": {},
   "source": [
    "### Integrated_annotation vs Subclusters_7"
   ]
  },
  {
   "cell_type": "code",
   "execution_count": 79,
   "id": "96dc6d05-9abe-44f0-9d71-658f678fb661",
   "metadata": {
    "execution": {
     "iopub.execute_input": "2025-10-13T14:53:36.087766Z",
     "iopub.status.busy": "2025-10-13T14:53:36.086832Z",
     "iopub.status.idle": "2025-10-13T14:53:36.096474Z",
     "shell.execute_reply": "2025-10-13T14:53:36.095351Z"
    }
   },
   "outputs": [],
   "source": [
    "met<-adata[[]]"
   ]
  },
  {
   "cell_type": "code",
   "execution_count": 80,
   "id": "6511a7ac-99fb-4e60-8ca5-fe2c99ed8f0d",
   "metadata": {
    "execution": {
     "iopub.execute_input": "2025-10-13T14:53:36.099068Z",
     "iopub.status.busy": "2025-10-13T14:53:36.098142Z",
     "iopub.status.idle": "2025-10-13T14:53:36.109415Z",
     "shell.execute_reply": "2025-10-13T14:53:36.108314Z"
    }
   },
   "outputs": [
    {
     "data": {
      "text/html": [
       "<style>\n",
       ".list-inline {list-style: none; margin:0; padding: 0}\n",
       ".list-inline>li {display: inline-block}\n",
       ".list-inline>li:not(:last-child)::after {content: \"\\00b7\"; padding: 0 .5ex}\n",
       "</style>\n",
       "<ol class=list-inline><li>'orig.ident'</li><li>'nCount_RNA'</li><li>'nFeature_RNA'</li><li>'nCount_RNA_raw'</li><li>'nFeature_RNA_raw'</li><li>'percent.mt'</li><li>'scDblFinder.class'</li><li>'scDblFinder.score'</li><li>'scDblFinder.weighted'</li><li>'scDblFinder.cxds_score'</li><li>'Diff'</li><li>'nCount_SCT'</li><li>'nFeature_SCT'</li><li>'SCT_snn_res.2'</li><li>'seurat_clusters'</li><li>'SCT_snn_res.0.5'</li><li>'CellTypist_label_Alsinet'</li><li>'CellTypist_conf_score_Alsinet'</li><li>'CellTypist_label_FBMA'</li><li>'CellTypist_conf_score_FBMA'</li><li>'CellTypist_label_Immune_ALL_low'</li><li>'CellTypist_conf_score_Immune_ALL_low'</li><li>'Integrated_annotation'</li><li>'integrated_nn_res.0.5'</li><li>'Subclusters_2'</li><li>'Subclusters_5'</li><li>'Subclusters_7'</li></ol>\n"
      ],
      "text/latex": [
       "\\begin{enumerate*}\n",
       "\\item 'orig.ident'\n",
       "\\item 'nCount\\_RNA'\n",
       "\\item 'nFeature\\_RNA'\n",
       "\\item 'nCount\\_RNA\\_raw'\n",
       "\\item 'nFeature\\_RNA\\_raw'\n",
       "\\item 'percent.mt'\n",
       "\\item 'scDblFinder.class'\n",
       "\\item 'scDblFinder.score'\n",
       "\\item 'scDblFinder.weighted'\n",
       "\\item 'scDblFinder.cxds\\_score'\n",
       "\\item 'Diff'\n",
       "\\item 'nCount\\_SCT'\n",
       "\\item 'nFeature\\_SCT'\n",
       "\\item 'SCT\\_snn\\_res.2'\n",
       "\\item 'seurat\\_clusters'\n",
       "\\item 'SCT\\_snn\\_res.0.5'\n",
       "\\item 'CellTypist\\_label\\_Alsinet'\n",
       "\\item 'CellTypist\\_conf\\_score\\_Alsinet'\n",
       "\\item 'CellTypist\\_label\\_FBMA'\n",
       "\\item 'CellTypist\\_conf\\_score\\_FBMA'\n",
       "\\item 'CellTypist\\_label\\_Immune\\_ALL\\_low'\n",
       "\\item 'CellTypist\\_conf\\_score\\_Immune\\_ALL\\_low'\n",
       "\\item 'Integrated\\_annotation'\n",
       "\\item 'integrated\\_nn\\_res.0.5'\n",
       "\\item 'Subclusters\\_2'\n",
       "\\item 'Subclusters\\_5'\n",
       "\\item 'Subclusters\\_7'\n",
       "\\end{enumerate*}\n"
      ],
      "text/markdown": [
       "1. 'orig.ident'\n",
       "2. 'nCount_RNA'\n",
       "3. 'nFeature_RNA'\n",
       "4. 'nCount_RNA_raw'\n",
       "5. 'nFeature_RNA_raw'\n",
       "6. 'percent.mt'\n",
       "7. 'scDblFinder.class'\n",
       "8. 'scDblFinder.score'\n",
       "9. 'scDblFinder.weighted'\n",
       "10. 'scDblFinder.cxds_score'\n",
       "11. 'Diff'\n",
       "12. 'nCount_SCT'\n",
       "13. 'nFeature_SCT'\n",
       "14. 'SCT_snn_res.2'\n",
       "15. 'seurat_clusters'\n",
       "16. 'SCT_snn_res.0.5'\n",
       "17. 'CellTypist_label_Alsinet'\n",
       "18. 'CellTypist_conf_score_Alsinet'\n",
       "19. 'CellTypist_label_FBMA'\n",
       "20. 'CellTypist_conf_score_FBMA'\n",
       "21. 'CellTypist_label_Immune_ALL_low'\n",
       "22. 'CellTypist_conf_score_Immune_ALL_low'\n",
       "23. 'Integrated_annotation'\n",
       "24. 'integrated_nn_res.0.5'\n",
       "25. 'Subclusters_2'\n",
       "26. 'Subclusters_5'\n",
       "27. 'Subclusters_7'\n",
       "\n",
       "\n"
      ],
      "text/plain": [
       " [1] \"orig.ident\"                          \n",
       " [2] \"nCount_RNA\"                          \n",
       " [3] \"nFeature_RNA\"                        \n",
       " [4] \"nCount_RNA_raw\"                      \n",
       " [5] \"nFeature_RNA_raw\"                    \n",
       " [6] \"percent.mt\"                          \n",
       " [7] \"scDblFinder.class\"                   \n",
       " [8] \"scDblFinder.score\"                   \n",
       " [9] \"scDblFinder.weighted\"                \n",
       "[10] \"scDblFinder.cxds_score\"              \n",
       "[11] \"Diff\"                                \n",
       "[12] \"nCount_SCT\"                          \n",
       "[13] \"nFeature_SCT\"                        \n",
       "[14] \"SCT_snn_res.2\"                       \n",
       "[15] \"seurat_clusters\"                     \n",
       "[16] \"SCT_snn_res.0.5\"                     \n",
       "[17] \"CellTypist_label_Alsinet\"            \n",
       "[18] \"CellTypist_conf_score_Alsinet\"       \n",
       "[19] \"CellTypist_label_FBMA\"               \n",
       "[20] \"CellTypist_conf_score_FBMA\"          \n",
       "[21] \"CellTypist_label_Immune_ALL_low\"     \n",
       "[22] \"CellTypist_conf_score_Immune_ALL_low\"\n",
       "[23] \"Integrated_annotation\"               \n",
       "[24] \"integrated_nn_res.0.5\"               \n",
       "[25] \"Subclusters_2\"                       \n",
       "[26] \"Subclusters_5\"                       \n",
       "[27] \"Subclusters_7\"                       "
      ]
     },
     "metadata": {},
     "output_type": "display_data"
    }
   ],
   "source": [
    "colnames(met)"
   ]
  },
  {
   "cell_type": "code",
   "execution_count": 81,
   "id": "7734e87f-c8b5-43f9-9742-10c7d25fe771",
   "metadata": {
    "execution": {
     "iopub.execute_input": "2025-10-13T14:53:36.111953Z",
     "iopub.status.busy": "2025-10-13T14:53:36.111046Z",
     "iopub.status.idle": "2025-10-13T14:53:36.125028Z",
     "shell.execute_reply": "2025-10-13T14:53:36.123886Z"
    }
   },
   "outputs": [],
   "source": [
    "met.dt<-data.table(met,key=c(\"Subclusters_7\",\"Integrated_annotation\"))"
   ]
  },
  {
   "cell_type": "code",
   "execution_count": 82,
   "id": "e334190e-b4cd-4755-af63-67aaf3de0231",
   "metadata": {
    "execution": {
     "iopub.execute_input": "2025-10-13T14:53:36.127597Z",
     "iopub.status.busy": "2025-10-13T14:53:36.126682Z",
     "iopub.status.idle": "2025-10-13T14:53:36.134979Z",
     "shell.execute_reply": "2025-10-13T14:53:36.133899Z"
    }
   },
   "outputs": [],
   "source": [
    "#str(met.dt)"
   ]
  },
  {
   "cell_type": "code",
   "execution_count": 83,
   "id": "d240cc45-499a-4543-b0e2-ba213a03e3d4",
   "metadata": {
    "execution": {
     "iopub.execute_input": "2025-10-13T14:53:36.137506Z",
     "iopub.status.busy": "2025-10-13T14:53:36.136606Z",
     "iopub.status.idle": "2025-10-13T14:53:36.147335Z",
     "shell.execute_reply": "2025-10-13T14:53:36.146235Z"
    }
   },
   "outputs": [],
   "source": [
    "Freq.table<-as.data.frame(met.dt[,.(Freq=.N),by=key(met.dt)], stringsAsFactors=F)\n",
    "#Freq.table"
   ]
  },
  {
   "cell_type": "code",
   "execution_count": 84,
   "id": "0ee76352-7fd1-46bc-bc96-96a47f61419f",
   "metadata": {
    "execution": {
     "iopub.execute_input": "2025-10-13T14:53:36.149973Z",
     "iopub.status.busy": "2025-10-13T14:53:36.149049Z",
     "iopub.status.idle": "2025-10-13T14:53:36.164995Z",
     "shell.execute_reply": "2025-10-13T14:53:36.163803Z"
    }
   },
   "outputs": [],
   "source": [
    "met.dt<-data.table(met, key=c(\"Subclusters_7\"))\n",
    "Freq.TOTAL<-as.data.frame(met.dt[,.(TOTAL=.N),by=key(met.dt)], stringsAsFactors=F)\n",
    "#Freq.TOTAL"
   ]
  },
  {
   "cell_type": "code",
   "execution_count": 85,
   "id": "260d3ee3-6005-4ea7-b85c-916def64f53e",
   "metadata": {
    "execution": {
     "iopub.execute_input": "2025-10-13T14:53:36.167634Z",
     "iopub.status.busy": "2025-10-13T14:53:36.166741Z",
     "iopub.status.idle": "2025-10-13T14:53:36.177437Z",
     "shell.execute_reply": "2025-10-13T14:53:36.176342Z"
    }
   },
   "outputs": [],
   "source": [
    "Freq.table<-merge(Freq.table,\n",
    "                  Freq.TOTAL,\n",
    "                  by=\"Subclusters_7\")\n",
    "Freq.table$Perc<-round((100*(Freq.table$Freq/Freq.table$TOTAL)),2)\n",
    "\n",
    "#Freq.table"
   ]
  },
  {
   "cell_type": "code",
   "execution_count": 86,
   "id": "8c229f0d-2939-4c81-903a-645010a27620",
   "metadata": {
    "execution": {
     "iopub.execute_input": "2025-10-13T14:53:36.179992Z",
     "iopub.status.busy": "2025-10-13T14:53:36.179090Z",
     "iopub.status.idle": "2025-10-13T14:53:36.191427Z",
     "shell.execute_reply": "2025-10-13T14:53:36.190318Z"
    }
   },
   "outputs": [
    {
     "name": "stdout",
     "output_type": "stream",
     "text": [
      "'data.frame':\t197 obs. of  5 variables:\n",
      " $ Subclusters_7        : Factor w/ 35 levels \"1\",\"10\",\"11\",..: 1 1 1 1 1 1 2 2 2 2 ...\n",
      " $ Integrated_annotation: chr  \"MEP\" \"early MK\" \"early erythroid\" \"hESC\" ...\n",
      " $ Freq                 : int  118 14 13 4331 39 22 702 34 6 14 ...\n",
      " $ TOTAL                : int  4537 4537 4537 4537 4537 4537 1455 1455 1455 1455 ...\n",
      " $ Perc                 : num  2.6 0.31 0.29 95.46 0.86 ...\n"
     ]
    }
   ],
   "source": [
    "str(Freq.table)"
   ]
  },
  {
   "cell_type": "code",
   "execution_count": 87,
   "id": "9fc9f97a-6303-4dfd-84ed-1aab7ee68cbb",
   "metadata": {
    "execution": {
     "iopub.execute_input": "2025-10-13T14:53:36.193907Z",
     "iopub.status.busy": "2025-10-13T14:53:36.193021Z",
     "iopub.status.idle": "2025-10-13T14:53:36.210047Z",
     "shell.execute_reply": "2025-10-13T14:53:36.208913Z"
    }
   },
   "outputs": [],
   "source": [
    "met.dt<-data.table(met, key=c(\"Integrated_annotation\"))\n",
    "Freq.table_Integrated<-as.data.frame(met.dt[,.(Freq_Integrated_annotation=.N),by=key(met.dt)], stringsAsFactors=F)\n",
    "\n",
    "Freq.table<-merge(Freq.table,\n",
    "                  Freq.table_Integrated,\n",
    "                  by=\"Integrated_annotation\")\n",
    "\n",
    "#Freq.table"
   ]
  },
  {
   "cell_type": "code",
   "execution_count": 88,
   "id": "e423cd74-ed12-4518-acfe-61df0f3cd0f9",
   "metadata": {
    "execution": {
     "iopub.execute_input": "2025-10-13T14:53:36.212628Z",
     "iopub.status.busy": "2025-10-13T14:53:36.211724Z",
     "iopub.status.idle": "2025-10-13T14:53:36.224255Z",
     "shell.execute_reply": "2025-10-13T14:53:36.223117Z"
    }
   },
   "outputs": [
    {
     "name": "stdout",
     "output_type": "stream",
     "text": [
      "'data.frame':\t197 obs. of  6 variables:\n",
      " $ Integrated_annotation     : chr  \"early erythroid\" \"early erythroid\" \"early erythroid\" \"early erythroid\" ...\n",
      " $ Subclusters_7             : Factor w/ 35 levels \"1\",\"10\",\"11\",..: 21 1 5 34 33 17 25 22 30 18 ...\n",
      " $ Freq                      : int  62 13 55 7 29 17 19 18 11 8 ...\n",
      " $ TOTAL                     : int  94 4537 1169 2370 120 105 49 68 132 103 ...\n",
      " $ Perc                      : num  65.96 0.29 4.7 0.3 24.17 ...\n",
      " $ Freq_Integrated_annotation: int  2286 2286 2286 2286 2286 2286 2286 2286 2286 2286 ...\n"
     ]
    }
   ],
   "source": [
    "str(Freq.table)"
   ]
  },
  {
   "cell_type": "code",
   "execution_count": 89,
   "id": "5bbaefbd-4a0c-4c62-bcb9-3e61ece982a9",
   "metadata": {
    "execution": {
     "iopub.execute_input": "2025-10-13T14:53:36.226805Z",
     "iopub.status.busy": "2025-10-13T14:53:36.225901Z",
     "iopub.status.idle": "2025-10-13T14:53:36.234620Z",
     "shell.execute_reply": "2025-10-13T14:53:36.233543Z"
    }
   },
   "outputs": [],
   "source": [
    "vector_colors_Integrated_annotation<-c(brewer.pal(9, \"Set1\"),\"white\")"
   ]
  },
  {
   "cell_type": "code",
   "execution_count": 90,
   "id": "f697f033-a73a-4e53-93bb-45cf656598ac",
   "metadata": {
    "execution": {
     "iopub.execute_input": "2025-10-13T14:53:36.237290Z",
     "iopub.status.busy": "2025-10-13T14:53:36.236356Z",
     "iopub.status.idle": "2025-10-13T14:53:36.268199Z",
     "shell.execute_reply": "2025-10-13T14:53:36.267101Z"
    },
    "scrolled": true
   },
   "outputs": [
    {
     "name": "stdout",
     "output_type": "stream",
     "text": [
      "-------------------------------------->\t0 25 50 75 100\n"
     ]
    }
   ],
   "source": [
    " #### Stacked Graph ---------------\n",
    "  \n",
    "  breaks.Rank<-(seq(0,100,by=25))\n",
    "  labels.Rank<-as.character(breaks.Rank)\n",
    "  \n",
    "  cat(\"-------------------------------------->\\t\")\n",
    "  cat(sprintf(as.character(labels.Rank)))\n",
    "  cat(\"\\n\")\n",
    "  \n",
    "  \n",
    "  stacked_barplot<-Freq.table %>%\n",
    "    mutate(myaxis = paste0(Subclusters_7, \" \", \"n=\", TOTAL), drop=F) %>%\n",
    "    mutate(myaxis=fct_reorder(myaxis,as.numeric(Subclusters_7)), drop=F) %>%\n",
    "    ggplot(aes(x=myaxis, y=Perc, fill=Integrated_annotation)) +\n",
    "    geom_bar(stat=\"identity\",colour='white')+\n",
    "    scale_y_continuous(name=paste(\"Percentage of cells in each cluster\",sep=\" \"),breaks=breaks.Rank,labels=labels.Rank,\n",
    "                       limits=c(breaks.Rank[1],breaks.Rank[length(breaks.Rank)]+1))+\n",
    "    scale_fill_manual(values=vector_colors_Integrated_annotation,\n",
    "                      drop=F,\n",
    "                      name=\"My Annotation\", breaks=Freq.table_Integrated$Integrated_annotation,\n",
    "                      labels=paste(Freq.table_Integrated$Integrated_annotation,\n",
    "                                   Freq.table_Integrated$Freq_Integrated_annotation, sep =' n= '))+\n",
    "        theme_classic()+\n",
    "            theme(axis.title.y=element_text(size=12, color=\"black\", family=\"sans\"),\n",
    "                  axis.title.x=element_blank(),\n",
    "                  axis.text.y=element_text(angle=0,size=10, color=\"black\", family=\"sans\"),\n",
    "                  axis.text.x=element_text(angle=45,size=10,vjust=1,hjust=1,color=\"black\", family=\"sans\"),\n",
    "                  axis.line.x = element_line(size = 0.2),\n",
    "                  axis.ticks.x = element_line(size = 0.2),\n",
    "                  axis.ticks.y = element_line(size = 0.2),\n",
    "                  axis.line.y = element_line(size = 0.2))+\n",
    "            theme(legend.title = element_blank(),\n",
    "                  legend.text = element_text(size=8, color=\"black\", family=\"sans\"),\n",
    "                  legend.key.size = unit(0.25, 'cm'), #change legend key size\n",
    "                  legend.key.height = unit(0.25, 'cm'), #change legend key height\n",
    "                  legend.key.width = unit(0.25, 'cm'), #change legend key width\n",
    "                  legend.position=\"bottom\")\n",
    "  \n",
    "  \n",
    "\n",
    "\n",
    "\n",
    "\n",
    "  "
   ]
  },
  {
   "cell_type": "code",
   "execution_count": 91,
   "id": "299ab6fc-679f-4af1-b2d6-75f0b08237da",
   "metadata": {
    "execution": {
     "iopub.execute_input": "2025-10-13T14:53:36.270771Z",
     "iopub.status.busy": "2025-10-13T14:53:36.269856Z",
     "iopub.status.idle": "2025-10-13T14:53:36.535089Z",
     "shell.execute_reply": "2025-10-13T14:53:36.533849Z"
    }
   },
   "outputs": [],
   "source": [
    "setwd(\"/group/soranzo/manuel.tardaguila/2025_hESC_MK_SCRNAseq_10X/no_competition/RPCA/graphs/\")\n",
    "\n",
    "svgname<-paste(\"Stacked_barplot_Integrated_annotation_by_Subclusters_7\",\".svg\",sep='')\n",
    "makesvg = TRUE\n",
    "\n",
    "if (makesvg == TRUE)\n",
    "{\n",
    "  ggsave(svgname, plot= stacked_barplot,\n",
    "         width = 25,        # Set the width to 8\n",
    "      height = 12.5,       # Set the height to 5\n",
    "      units = \"cm\",    # Specify the units as inches\n",
    "         device=\"svg\")\n",
    "}\n",
    "\n",
    "\n",
    "  "
   ]
  },
  {
   "cell_type": "code",
   "execution_count": 92,
   "id": "1bf09491-ed0e-4649-b372-89052cd578cb",
   "metadata": {
    "execution": {
     "iopub.execute_input": "2025-10-13T14:53:36.537753Z",
     "iopub.status.busy": "2025-10-13T14:53:36.536801Z",
     "iopub.status.idle": "2025-10-13T14:53:36.545368Z",
     "shell.execute_reply": "2025-10-13T14:53:36.544281Z"
    }
   },
   "outputs": [],
   "source": [
    "# I think that cluster 7 has some subclusters with the majority being 'early erythroid' so I am going to keep Subclusters_7"
   ]
  },
  {
   "cell_type": "markdown",
   "id": "a30bb038-7e64-4496-baf6-8a0e8abc8400",
   "metadata": {},
   "source": [
    "# Subcluster cluster 9"
   ]
  },
  {
   "cell_type": "code",
   "execution_count": 93,
   "id": "c5b2bf6b-8e34-4af2-900e-2787d0c3c498",
   "metadata": {
    "execution": {
     "iopub.execute_input": "2025-10-13T14:53:36.548067Z",
     "iopub.status.busy": "2025-10-13T14:53:36.547100Z",
     "iopub.status.idle": "2025-10-13T14:53:36.624737Z",
     "shell.execute_reply": "2025-10-13T14:53:36.623490Z"
    }
   },
   "outputs": [
    {
     "name": "stdout",
     "output_type": "stream",
     "text": [
      "Modularity Optimizer version 1.3.0 by Ludo Waltman and Nees Jan van Eck\n",
      "\n",
      "Number of nodes: 1688\n",
      "Number of edges: 15945\n",
      "\n",
      "Running Louvain algorithm...\n",
      "Maximum modularity in 10 random starts: 0.6398\n",
      "Number of communities: 17\n",
      "Elapsed time: 0 seconds\n"
     ]
    }
   ],
   "source": [
    "adata<-FindSubCluster(\n",
    "  adata,\n",
    "  9,\n",
    "  'integrated_nn',\n",
    "  subcluster.name = \"Subclusters_9\",\n",
    "  resolution = 2,\n",
    "  algorithm = 1\n",
    ")"
   ]
  },
  {
   "cell_type": "code",
   "execution_count": 94,
   "id": "b9e46934-efb4-4937-a543-98133e9f725b",
   "metadata": {
    "execution": {
     "iopub.execute_input": "2025-10-13T14:53:36.627434Z",
     "iopub.status.busy": "2025-10-13T14:53:36.626478Z",
     "iopub.status.idle": "2025-10-13T14:53:36.638191Z",
     "shell.execute_reply": "2025-10-13T14:53:36.637092Z"
    }
   },
   "outputs": [],
   "source": [
    "adata@meta.data$Subclusters_9<-as.factor(adata@meta.data$Subclusters_9)"
   ]
  },
  {
   "cell_type": "markdown",
   "id": "f4154b10-8870-4e0d-99be-1fd3d6d4828a",
   "metadata": {},
   "source": [
    "## UMAP plots"
   ]
  },
  {
   "cell_type": "code",
   "execution_count": 95,
   "id": "facc4093-3799-454d-8fa2-cd13277a0113",
   "metadata": {
    "execution": {
     "iopub.execute_input": "2025-10-13T14:53:36.640791Z",
     "iopub.status.busy": "2025-10-13T14:53:36.639869Z",
     "iopub.status.idle": "2025-10-13T14:53:37.493643Z",
     "shell.execute_reply": "2025-10-13T14:53:37.492354Z"
    }
   },
   "outputs": [
    {
     "name": "stderr",
     "output_type": "stream",
     "text": [
      "Warning message:\n",
      "“ggrepel: 17 unlabeled data points (too many overlaps). Consider increasing max.overlaps”\n"
     ]
    },
    {
     "data": {
      "text/html": [
       "<strong>pdf:</strong> 2"
      ],
      "text/latex": [
       "\\textbf{pdf:} 2"
      ],
      "text/markdown": [
       "**pdf:** 2"
      ],
      "text/plain": [
       "pdf \n",
       "  2 "
      ]
     },
     "metadata": {},
     "output_type": "display_data"
    }
   ],
   "source": [
    "p1 <- DimPlot(adata, reduction = \"umap\", group.by = \"Subclusters_9\", label = TRUE, label.size = 5, repel = TRUE)\n",
    "\n",
    "\n",
    "\n",
    "\n",
    "setwd(path_graphs)\n",
    "\n",
    "svglite(file='UMAP_by_Subclusters_9.svg', width = 5.5, height = 4.9) \n",
    "\n",
    "# 2. CRITICAL: Use print() to force the plot to be drawn to the file.\n",
    "print(\n",
    "  p1 +\n",
    "  # Apply your desired theme and guides\n",
    "  theme(legend.position=\"right\", legend.title=element_blank(), legend.text = element_text(family=\"sans\"))\n",
    ")\n",
    "\n",
    "# 3. Close the device to finalize and save the SVG file.\n",
    "dev.off()"
   ]
  },
  {
   "cell_type": "code",
   "execution_count": 96,
   "id": "b3b8cd7b-5a19-4356-934b-259a187b7e45",
   "metadata": {
    "execution": {
     "iopub.execute_input": "2025-10-13T14:53:37.509672Z",
     "iopub.status.busy": "2025-10-13T14:53:37.508385Z",
     "iopub.status.idle": "2025-10-13T14:53:37.520445Z",
     "shell.execute_reply": "2025-10-13T14:53:37.518740Z"
    }
   },
   "outputs": [],
   "source": [
    "markers<-c('SOX2','SOX4','POU5F1',\"TBXT\",'BMP4','MIXL1',\"KDR\",'CDH5','CD34','GYPA','HBA2','HBZ','ITGA2B','GP1BA','GP1BB','TUBB1','CDKN2D','MAPK14')"
   ]
  },
  {
   "cell_type": "markdown",
   "id": "5f9a2ccd-0fad-4c61-8b34-2ad7be671235",
   "metadata": {},
   "source": [
    "## DotPlot"
   ]
  },
  {
   "cell_type": "code",
   "execution_count": 97,
   "id": "256d75e6-8a0d-4f63-9ac5-2d20fd196da5",
   "metadata": {
    "execution": {
     "iopub.execute_input": "2025-10-13T14:53:37.524055Z",
     "iopub.status.busy": "2025-10-13T14:53:37.522753Z",
     "iopub.status.idle": "2025-10-13T14:53:38.241249Z",
     "shell.execute_reply": "2025-10-13T14:53:38.239968Z"
    }
   },
   "outputs": [],
   "source": [
    "dotplot3<-DotPlot(\n",
    "  adata,\n",
    "    features=markers,\n",
    "  assay = \"SCT\",\n",
    "    group.by=\"Subclusters_9\")+\n",
    "ylab('Clusters')+\n",
    "xlab('Marker genes')+\n",
    " theme_classic()+\n",
    "    theme(axis.title=element_blank(),\n",
    "          axis.title.y=element_text(color=\"black\", family=\"sans\", size=12),\n",
    "          axis.title.x=element_text(color=\"black\", family=\"sans\", size=12),\n",
    "          axis.text.y=element_text(color=\"black\", family=\"sans\", size=8),\n",
    "          axis.text.x=element_text(angle=45,vjust=1,hjust=1, color=\"black\", family=\"sans\", size=8))\n",
    "\n"
   ]
  },
  {
   "cell_type": "code",
   "execution_count": 98,
   "id": "05376055-8ce0-4445-9135-bc96e731adcd",
   "metadata": {
    "execution": {
     "iopub.execute_input": "2025-10-13T14:53:38.243889Z",
     "iopub.status.busy": "2025-10-13T14:53:38.242962Z",
     "iopub.status.idle": "2025-10-13T14:53:38.634505Z",
     "shell.execute_reply": "2025-10-13T14:53:38.633267Z"
    }
   },
   "outputs": [
    {
     "name": "stderr",
     "output_type": "stream",
     "text": [
      "\u001b[1m\u001b[22mSaving 7 x 7 in image\n"
     ]
    }
   ],
   "source": [
    "setwd(\"/group/soranzo/manuel.tardaguila/2025_hESC_MK_SCRNAseq_10X/no_competition/RPCA/graphs/\")\n",
    "\n",
    "svgname<-paste(\"Dotplot_Subclusters_9\",\".svg\",sep='')\n",
    "makesvg = TRUE\n",
    "\n",
    "if (makesvg == TRUE)\n",
    "{\n",
    "  ggsave(svgname, plot= dotplot3,\n",
    "         device=\"svg\")\n",
    "}"
   ]
  },
  {
   "cell_type": "markdown",
   "id": "99ad2d8e-3803-4d58-a8b1-8a3be640964d",
   "metadata": {},
   "source": [
    "## Stacked barplots"
   ]
  },
  {
   "cell_type": "markdown",
   "id": "d22144c2-0256-4b81-a689-ed0e2f55d127",
   "metadata": {},
   "source": [
    "### Integrated_annotation vs Subclusters_9"
   ]
  },
  {
   "cell_type": "code",
   "execution_count": 99,
   "id": "701de63e-ebe9-442f-a67a-97c4dc6105bc",
   "metadata": {
    "execution": {
     "iopub.execute_input": "2025-10-13T14:53:38.637134Z",
     "iopub.status.busy": "2025-10-13T14:53:38.636198Z",
     "iopub.status.idle": "2025-10-13T14:53:38.645404Z",
     "shell.execute_reply": "2025-10-13T14:53:38.644356Z"
    }
   },
   "outputs": [],
   "source": [
    "met<-adata[[]]"
   ]
  },
  {
   "cell_type": "code",
   "execution_count": 100,
   "id": "6b922bb5-a73d-48de-a19b-763db933772f",
   "metadata": {
    "execution": {
     "iopub.execute_input": "2025-10-13T14:53:38.648038Z",
     "iopub.status.busy": "2025-10-13T14:53:38.647110Z",
     "iopub.status.idle": "2025-10-13T14:53:38.657967Z",
     "shell.execute_reply": "2025-10-13T14:53:38.656883Z"
    }
   },
   "outputs": [
    {
     "data": {
      "text/html": [
       "<style>\n",
       ".list-inline {list-style: none; margin:0; padding: 0}\n",
       ".list-inline>li {display: inline-block}\n",
       ".list-inline>li:not(:last-child)::after {content: \"\\00b7\"; padding: 0 .5ex}\n",
       "</style>\n",
       "<ol class=list-inline><li>'orig.ident'</li><li>'nCount_RNA'</li><li>'nFeature_RNA'</li><li>'nCount_RNA_raw'</li><li>'nFeature_RNA_raw'</li><li>'percent.mt'</li><li>'scDblFinder.class'</li><li>'scDblFinder.score'</li><li>'scDblFinder.weighted'</li><li>'scDblFinder.cxds_score'</li><li>'Diff'</li><li>'nCount_SCT'</li><li>'nFeature_SCT'</li><li>'SCT_snn_res.2'</li><li>'seurat_clusters'</li><li>'SCT_snn_res.0.5'</li><li>'CellTypist_label_Alsinet'</li><li>'CellTypist_conf_score_Alsinet'</li><li>'CellTypist_label_FBMA'</li><li>'CellTypist_conf_score_FBMA'</li><li>'CellTypist_label_Immune_ALL_low'</li><li>'CellTypist_conf_score_Immune_ALL_low'</li><li>'Integrated_annotation'</li><li>'integrated_nn_res.0.5'</li><li>'Subclusters_2'</li><li>'Subclusters_5'</li><li>'Subclusters_7'</li><li>'Subclusters_9'</li></ol>\n"
      ],
      "text/latex": [
       "\\begin{enumerate*}\n",
       "\\item 'orig.ident'\n",
       "\\item 'nCount\\_RNA'\n",
       "\\item 'nFeature\\_RNA'\n",
       "\\item 'nCount\\_RNA\\_raw'\n",
       "\\item 'nFeature\\_RNA\\_raw'\n",
       "\\item 'percent.mt'\n",
       "\\item 'scDblFinder.class'\n",
       "\\item 'scDblFinder.score'\n",
       "\\item 'scDblFinder.weighted'\n",
       "\\item 'scDblFinder.cxds\\_score'\n",
       "\\item 'Diff'\n",
       "\\item 'nCount\\_SCT'\n",
       "\\item 'nFeature\\_SCT'\n",
       "\\item 'SCT\\_snn\\_res.2'\n",
       "\\item 'seurat\\_clusters'\n",
       "\\item 'SCT\\_snn\\_res.0.5'\n",
       "\\item 'CellTypist\\_label\\_Alsinet'\n",
       "\\item 'CellTypist\\_conf\\_score\\_Alsinet'\n",
       "\\item 'CellTypist\\_label\\_FBMA'\n",
       "\\item 'CellTypist\\_conf\\_score\\_FBMA'\n",
       "\\item 'CellTypist\\_label\\_Immune\\_ALL\\_low'\n",
       "\\item 'CellTypist\\_conf\\_score\\_Immune\\_ALL\\_low'\n",
       "\\item 'Integrated\\_annotation'\n",
       "\\item 'integrated\\_nn\\_res.0.5'\n",
       "\\item 'Subclusters\\_2'\n",
       "\\item 'Subclusters\\_5'\n",
       "\\item 'Subclusters\\_7'\n",
       "\\item 'Subclusters\\_9'\n",
       "\\end{enumerate*}\n"
      ],
      "text/markdown": [
       "1. 'orig.ident'\n",
       "2. 'nCount_RNA'\n",
       "3. 'nFeature_RNA'\n",
       "4. 'nCount_RNA_raw'\n",
       "5. 'nFeature_RNA_raw'\n",
       "6. 'percent.mt'\n",
       "7. 'scDblFinder.class'\n",
       "8. 'scDblFinder.score'\n",
       "9. 'scDblFinder.weighted'\n",
       "10. 'scDblFinder.cxds_score'\n",
       "11. 'Diff'\n",
       "12. 'nCount_SCT'\n",
       "13. 'nFeature_SCT'\n",
       "14. 'SCT_snn_res.2'\n",
       "15. 'seurat_clusters'\n",
       "16. 'SCT_snn_res.0.5'\n",
       "17. 'CellTypist_label_Alsinet'\n",
       "18. 'CellTypist_conf_score_Alsinet'\n",
       "19. 'CellTypist_label_FBMA'\n",
       "20. 'CellTypist_conf_score_FBMA'\n",
       "21. 'CellTypist_label_Immune_ALL_low'\n",
       "22. 'CellTypist_conf_score_Immune_ALL_low'\n",
       "23. 'Integrated_annotation'\n",
       "24. 'integrated_nn_res.0.5'\n",
       "25. 'Subclusters_2'\n",
       "26. 'Subclusters_5'\n",
       "27. 'Subclusters_7'\n",
       "28. 'Subclusters_9'\n",
       "\n",
       "\n"
      ],
      "text/plain": [
       " [1] \"orig.ident\"                          \n",
       " [2] \"nCount_RNA\"                          \n",
       " [3] \"nFeature_RNA\"                        \n",
       " [4] \"nCount_RNA_raw\"                      \n",
       " [5] \"nFeature_RNA_raw\"                    \n",
       " [6] \"percent.mt\"                          \n",
       " [7] \"scDblFinder.class\"                   \n",
       " [8] \"scDblFinder.score\"                   \n",
       " [9] \"scDblFinder.weighted\"                \n",
       "[10] \"scDblFinder.cxds_score\"              \n",
       "[11] \"Diff\"                                \n",
       "[12] \"nCount_SCT\"                          \n",
       "[13] \"nFeature_SCT\"                        \n",
       "[14] \"SCT_snn_res.2\"                       \n",
       "[15] \"seurat_clusters\"                     \n",
       "[16] \"SCT_snn_res.0.5\"                     \n",
       "[17] \"CellTypist_label_Alsinet\"            \n",
       "[18] \"CellTypist_conf_score_Alsinet\"       \n",
       "[19] \"CellTypist_label_FBMA\"               \n",
       "[20] \"CellTypist_conf_score_FBMA\"          \n",
       "[21] \"CellTypist_label_Immune_ALL_low\"     \n",
       "[22] \"CellTypist_conf_score_Immune_ALL_low\"\n",
       "[23] \"Integrated_annotation\"               \n",
       "[24] \"integrated_nn_res.0.5\"               \n",
       "[25] \"Subclusters_2\"                       \n",
       "[26] \"Subclusters_5\"                       \n",
       "[27] \"Subclusters_7\"                       \n",
       "[28] \"Subclusters_9\"                       "
      ]
     },
     "metadata": {},
     "output_type": "display_data"
    }
   ],
   "source": [
    "colnames(met)"
   ]
  },
  {
   "cell_type": "code",
   "execution_count": 101,
   "id": "5e805fb7-4c3d-43a8-ade1-7cd2e9725335",
   "metadata": {
    "execution": {
     "iopub.execute_input": "2025-10-13T14:53:38.660459Z",
     "iopub.status.busy": "2025-10-13T14:53:38.659544Z",
     "iopub.status.idle": "2025-10-13T14:53:38.674068Z",
     "shell.execute_reply": "2025-10-13T14:53:38.672923Z"
    }
   },
   "outputs": [],
   "source": [
    "met.dt<-data.table(met,key=c(\"Subclusters_9\",\"Integrated_annotation\"))"
   ]
  },
  {
   "cell_type": "code",
   "execution_count": 102,
   "id": "cf1185b1-e91f-4a39-8fdb-c4befb042054",
   "metadata": {
    "execution": {
     "iopub.execute_input": "2025-10-13T14:53:38.676606Z",
     "iopub.status.busy": "2025-10-13T14:53:38.675706Z",
     "iopub.status.idle": "2025-10-13T14:53:38.683978Z",
     "shell.execute_reply": "2025-10-13T14:53:38.682907Z"
    }
   },
   "outputs": [],
   "source": [
    "#str(met.dt)"
   ]
  },
  {
   "cell_type": "code",
   "execution_count": 103,
   "id": "baea60c4-950f-4aac-9d56-12ace1456c7d",
   "metadata": {
    "execution": {
     "iopub.execute_input": "2025-10-13T14:53:38.686602Z",
     "iopub.status.busy": "2025-10-13T14:53:38.685658Z",
     "iopub.status.idle": "2025-10-13T14:53:38.696521Z",
     "shell.execute_reply": "2025-10-13T14:53:38.695436Z"
    }
   },
   "outputs": [],
   "source": [
    "Freq.table<-as.data.frame(met.dt[,.(Freq=.N),by=key(met.dt)], stringsAsFactors=F)\n",
    "#Freq.table"
   ]
  },
  {
   "cell_type": "code",
   "execution_count": 104,
   "id": "11cd5639-1a66-47a1-b4b9-33c7d2981c28",
   "metadata": {
    "execution": {
     "iopub.execute_input": "2025-10-13T14:53:38.699076Z",
     "iopub.status.busy": "2025-10-13T14:53:38.698165Z",
     "iopub.status.idle": "2025-10-13T14:53:38.714025Z",
     "shell.execute_reply": "2025-10-13T14:53:38.712884Z"
    }
   },
   "outputs": [],
   "source": [
    "met.dt<-data.table(met, key=c(\"Subclusters_9\"))\n",
    "Freq.TOTAL<-as.data.frame(met.dt[,.(TOTAL=.N),by=key(met.dt)], stringsAsFactors=F)\n",
    "#Freq.TOTAL"
   ]
  },
  {
   "cell_type": "code",
   "execution_count": 105,
   "id": "0975995f-568e-4017-8b7c-a764f10d16ea",
   "metadata": {
    "execution": {
     "iopub.execute_input": "2025-10-13T14:53:38.716666Z",
     "iopub.status.busy": "2025-10-13T14:53:38.715739Z",
     "iopub.status.idle": "2025-10-13T14:53:38.726451Z",
     "shell.execute_reply": "2025-10-13T14:53:38.725371Z"
    }
   },
   "outputs": [],
   "source": [
    "Freq.table<-merge(Freq.table,\n",
    "                  Freq.TOTAL,\n",
    "                  by=\"Subclusters_9\")\n",
    "Freq.table$Perc<-round((100*(Freq.table$Freq/Freq.table$TOTAL)),2)\n",
    "\n",
    "#Freq.table"
   ]
  },
  {
   "cell_type": "code",
   "execution_count": 106,
   "id": "8687e537-e8af-488e-8631-d73bf90b6d10",
   "metadata": {
    "execution": {
     "iopub.execute_input": "2025-10-13T14:53:38.729041Z",
     "iopub.status.busy": "2025-10-13T14:53:38.728112Z",
     "iopub.status.idle": "2025-10-13T14:53:38.740604Z",
     "shell.execute_reply": "2025-10-13T14:53:38.739462Z"
    }
   },
   "outputs": [
    {
     "name": "stdout",
     "output_type": "stream",
     "text": [
      "'data.frame':\t212 obs. of  5 variables:\n",
      " $ Subclusters_9        : Factor w/ 32 levels \"1\",\"10\",\"11\",..: 1 1 1 1 1 1 2 2 2 2 ...\n",
      " $ Integrated_annotation: chr  \"MEP\" \"early MK\" \"early erythroid\" \"hESC\" ...\n",
      " $ Freq                 : int  118 14 13 4331 39 22 702 34 6 14 ...\n",
      " $ TOTAL                : int  4537 4537 4537 4537 4537 4537 1455 1455 1455 1455 ...\n",
      " $ Perc                 : num  2.6 0.31 0.29 95.46 0.86 ...\n"
     ]
    }
   ],
   "source": [
    "str(Freq.table)"
   ]
  },
  {
   "cell_type": "code",
   "execution_count": 107,
   "id": "3356bad0-74b4-4998-b846-af6e7d5af345",
   "metadata": {
    "execution": {
     "iopub.execute_input": "2025-10-13T14:53:38.743218Z",
     "iopub.status.busy": "2025-10-13T14:53:38.742280Z",
     "iopub.status.idle": "2025-10-13T14:53:38.778200Z",
     "shell.execute_reply": "2025-10-13T14:53:38.758837Z"
    }
   },
   "outputs": [],
   "source": [
    "met.dt<-data.table(met, key=c(\"Integrated_annotation\"))\n",
    "Freq.table_Integrated<-as.data.frame(met.dt[,.(Freq_Integrated_annotation=.N),by=key(met.dt)], stringsAsFactors=F)\n",
    "\n",
    "Freq.table<-merge(Freq.table,\n",
    "                  Freq.table_Integrated,\n",
    "                  by=\"Integrated_annotation\")\n",
    "\n",
    "#Freq.table"
   ]
  },
  {
   "cell_type": "code",
   "execution_count": 108,
   "id": "310f6a7d-f932-4383-8637-303ee4589db1",
   "metadata": {
    "execution": {
     "iopub.execute_input": "2025-10-13T14:53:38.782927Z",
     "iopub.status.busy": "2025-10-13T14:53:38.781648Z",
     "iopub.status.idle": "2025-10-13T14:53:38.798370Z",
     "shell.execute_reply": "2025-10-13T14:53:38.796987Z"
    }
   },
   "outputs": [
    {
     "name": "stdout",
     "output_type": "stream",
     "text": [
      "'data.frame':\t212 obs. of  6 variables:\n",
      " $ Integrated_annotation     : chr  \"early erythroid\" \"early erythroid\" \"early erythroid\" \"early erythroid\" ...\n",
      " $ Subclusters_9             : Factor w/ 32 levels \"1\",\"10\",\"11\",..: 21 10 14 28 22 31 27 26 25 3 ...\n",
      " $ Freq                      : int  2 19 732 5 1 5 8 4 4 42 ...\n",
      " $ TOTAL                     : int  78 3739 2443 113 72 99 118 120 123 1439 ...\n",
      " $ Perc                      : num  2.56 0.51 29.96 4.42 1.39 ...\n",
      " $ Freq_Integrated_annotation: int  2286 2286 2286 2286 2286 2286 2286 2286 2286 2286 ...\n"
     ]
    }
   ],
   "source": [
    "str(Freq.table)"
   ]
  },
  {
   "cell_type": "code",
   "execution_count": 109,
   "id": "ff918762-2086-444f-bcc9-7fbdb3119384",
   "metadata": {
    "execution": {
     "iopub.execute_input": "2025-10-13T14:53:38.802111Z",
     "iopub.status.busy": "2025-10-13T14:53:38.800802Z",
     "iopub.status.idle": "2025-10-13T14:53:38.810584Z",
     "shell.execute_reply": "2025-10-13T14:53:38.809472Z"
    }
   },
   "outputs": [],
   "source": [
    "vector_colors_Integrated_annotation<-c(brewer.pal(9, \"Set1\"),\"white\")"
   ]
  },
  {
   "cell_type": "code",
   "execution_count": 110,
   "id": "d8a8b03c-b334-4df3-befa-f0d4b53876e8",
   "metadata": {
    "execution": {
     "iopub.execute_input": "2025-10-13T14:53:38.813179Z",
     "iopub.status.busy": "2025-10-13T14:53:38.812274Z",
     "iopub.status.idle": "2025-10-13T14:53:38.843810Z",
     "shell.execute_reply": "2025-10-13T14:53:38.842754Z"
    },
    "scrolled": true
   },
   "outputs": [
    {
     "name": "stdout",
     "output_type": "stream",
     "text": [
      "-------------------------------------->\t0 25 50 75 100\n"
     ]
    }
   ],
   "source": [
    " #### Stacked Graph ---------------\n",
    "  \n",
    "  breaks.Rank<-(seq(0,100,by=25))\n",
    "  labels.Rank<-as.character(breaks.Rank)\n",
    "  \n",
    "  cat(\"-------------------------------------->\\t\")\n",
    "  cat(sprintf(as.character(labels.Rank)))\n",
    "  cat(\"\\n\")\n",
    "  \n",
    "  \n",
    "  stacked_barplot<-Freq.table %>%\n",
    "    mutate(myaxis = paste0(Subclusters_9, \" \", \"n=\", TOTAL), drop=F) %>%\n",
    "    mutate(myaxis=fct_reorder(myaxis,as.numeric(Subclusters_9)), drop=F) %>%\n",
    "    ggplot(aes(x=myaxis, y=Perc, fill=Integrated_annotation)) +\n",
    "    geom_bar(stat=\"identity\",colour='white')+\n",
    "    scale_y_continuous(name=paste(\"Percentage of cells in each cluster\",sep=\" \"),breaks=breaks.Rank,labels=labels.Rank,\n",
    "                       limits=c(breaks.Rank[1],breaks.Rank[length(breaks.Rank)]+1))+\n",
    "    scale_fill_manual(values=vector_colors_Integrated_annotation,\n",
    "                      drop=F,\n",
    "                      name=\"My Annotation\", breaks=Freq.table_Integrated$Integrated_annotation,\n",
    "                      labels=paste(Freq.table_Integrated$Integrated_annotation,\n",
    "                                   Freq.table_Integrated$Freq_Integrated_annotation, sep =' n= '))+\n",
    "        theme_classic()+\n",
    "            theme(axis.title.y=element_text(size=12, color=\"black\", family=\"sans\"),\n",
    "                  axis.title.x=element_blank(),\n",
    "                  axis.text.y=element_text(angle=0,size=10, color=\"black\", family=\"sans\"),\n",
    "                  axis.text.x=element_text(angle=45,size=10,vjust=1,hjust=1,color=\"black\", family=\"sans\"),\n",
    "                  axis.line.x = element_line(size = 0.2),\n",
    "                  axis.ticks.x = element_line(size = 0.2),\n",
    "                  axis.ticks.y = element_line(size = 0.2),\n",
    "                  axis.line.y = element_line(size = 0.2))+\n",
    "            theme(legend.title = element_blank(),\n",
    "                  legend.text = element_text(size=8, color=\"black\", family=\"sans\"),\n",
    "                  legend.key.size = unit(0.25, 'cm'), #change legend key size\n",
    "                  legend.key.height = unit(0.25, 'cm'), #change legend key height\n",
    "                  legend.key.width = unit(0.25, 'cm'), #change legend key width\n",
    "                  legend.position=\"bottom\")\n",
    "  \n",
    "  \n",
    "\n",
    "\n",
    "\n",
    "\n",
    "  "
   ]
  },
  {
   "cell_type": "code",
   "execution_count": 111,
   "id": "3838718f-1246-4924-aa49-fa6ae9541b05",
   "metadata": {
    "execution": {
     "iopub.execute_input": "2025-10-13T14:53:38.846345Z",
     "iopub.status.busy": "2025-10-13T14:53:38.845440Z",
     "iopub.status.idle": "2025-10-13T14:53:39.161647Z",
     "shell.execute_reply": "2025-10-13T14:53:39.160393Z"
    }
   },
   "outputs": [],
   "source": [
    "setwd(\"/group/soranzo/manuel.tardaguila/2025_hESC_MK_SCRNAseq_10X/no_competition/RPCA/graphs/\")\n",
    "\n",
    "svgname<-paste(\"Stacked_barplot_Integrated_annotation_by_Subclusters_9\",\".svg\",sep='')\n",
    "makesvg = TRUE\n",
    "\n",
    "if (makesvg == TRUE)\n",
    "{\n",
    "  ggsave(svgname, plot= stacked_barplot,\n",
    "         width = 25,        # Set the width to 8\n",
    "      height = 12.5,       # Set the height to 5\n",
    "      units = \"cm\",    # Specify the units as inches\n",
    "         device=\"svg\")\n",
    "}\n",
    "\n",
    "\n",
    "  "
   ]
  },
  {
   "cell_type": "code",
   "execution_count": 112,
   "id": "43de6bbb-0c43-410e-b47e-2a999b8d4707",
   "metadata": {
    "execution": {
     "iopub.execute_input": "2025-10-13T14:53:39.164238Z",
     "iopub.status.busy": "2025-10-13T14:53:39.163326Z",
     "iopub.status.idle": "2025-10-13T14:53:39.171766Z",
     "shell.execute_reply": "2025-10-13T14:53:39.170742Z"
    }
   },
   "outputs": [],
   "source": [
    "# I think that cluster 9 has no subclusters and should remain majoritarily unassigned"
   ]
  },
  {
   "cell_type": "markdown",
   "id": "b10834cd-d2e8-4262-a2d2-7bf708ff71e2",
   "metadata": {},
   "source": [
    "# Subcluster cluster 10"
   ]
  },
  {
   "cell_type": "code",
   "execution_count": 113,
   "id": "133a1c8c-798b-4505-b65d-fdadc4475cc1",
   "metadata": {
    "execution": {
     "iopub.execute_input": "2025-10-13T14:53:39.174293Z",
     "iopub.status.busy": "2025-10-13T14:53:39.173372Z",
     "iopub.status.idle": "2025-10-13T14:53:39.243094Z",
     "shell.execute_reply": "2025-10-13T14:53:39.241932Z"
    }
   },
   "outputs": [
    {
     "name": "stdout",
     "output_type": "stream",
     "text": [
      "Modularity Optimizer version 1.3.0 by Ludo Waltman and Nees Jan van Eck\n",
      "\n",
      "Number of nodes: 1455\n",
      "Number of edges: 13269\n",
      "\n",
      "Running Louvain algorithm...\n",
      "Maximum modularity in 10 random starts: 0.6250\n",
      "Number of communities: 17\n",
      "Elapsed time: 0 seconds\n"
     ]
    }
   ],
   "source": [
    "adata<-FindSubCluster(\n",
    "  adata,\n",
    "  10,\n",
    "  'integrated_nn',\n",
    "  subcluster.name = \"Subclusters_10\",\n",
    "  resolution = 2,\n",
    "  algorithm = 1\n",
    ")"
   ]
  },
  {
   "cell_type": "code",
   "execution_count": 114,
   "id": "116e8149-5c09-4983-8187-6d5904479447",
   "metadata": {
    "execution": {
     "iopub.execute_input": "2025-10-13T14:53:39.245733Z",
     "iopub.status.busy": "2025-10-13T14:53:39.244812Z",
     "iopub.status.idle": "2025-10-13T14:53:39.256708Z",
     "shell.execute_reply": "2025-10-13T14:53:39.255646Z"
    }
   },
   "outputs": [],
   "source": [
    "adata@meta.data$Subclusters_10<-as.factor(adata@meta.data$Subclusters_10)"
   ]
  },
  {
   "cell_type": "markdown",
   "id": "fcc7a691-738e-4912-9a17-eec54df67504",
   "metadata": {},
   "source": [
    "## UMAP plots"
   ]
  },
  {
   "cell_type": "code",
   "execution_count": 115,
   "id": "7a095c88-bd1f-4557-af7e-e12771d1c4a2",
   "metadata": {
    "execution": {
     "iopub.execute_input": "2025-10-13T14:53:39.259267Z",
     "iopub.status.busy": "2025-10-13T14:53:39.258373Z",
     "iopub.status.idle": "2025-10-13T14:53:40.172748Z",
     "shell.execute_reply": "2025-10-13T14:53:40.171478Z"
    }
   },
   "outputs": [
    {
     "name": "stderr",
     "output_type": "stream",
     "text": [
      "Warning message:\n",
      "“ggrepel: 16 unlabeled data points (too many overlaps). Consider increasing max.overlaps”\n"
     ]
    },
    {
     "data": {
      "text/html": [
       "<strong>pdf:</strong> 2"
      ],
      "text/latex": [
       "\\textbf{pdf:} 2"
      ],
      "text/markdown": [
       "**pdf:** 2"
      ],
      "text/plain": [
       "pdf \n",
       "  2 "
      ]
     },
     "metadata": {},
     "output_type": "display_data"
    }
   ],
   "source": [
    "p1 <- DimPlot(adata, reduction = \"umap\", group.by = \"Subclusters_10\", label = TRUE, label.size = 5, repel = TRUE)\n",
    "\n",
    "\n",
    "\n",
    "\n",
    "setwd(path_graphs)\n",
    "\n",
    "svglite(file='UMAP_by_Subclusters_10.svg', width = 5.5, height = 4.9) \n",
    "\n",
    "# 2. CRITICAL: Use print() to force the plot to be drawn to the file.\n",
    "print(\n",
    "  p1 +\n",
    "  # Apply your desired theme and guides\n",
    "  theme(legend.position=\"right\", legend.title=element_blank(), legend.text = element_text(family=\"sans\"))\n",
    ")\n",
    "\n",
    "# 3. Close the device to finalize and save the SVG file.\n",
    "dev.off()"
   ]
  },
  {
   "cell_type": "code",
   "execution_count": 116,
   "id": "bc638102-326c-4a4d-aee5-0c208cf8d961",
   "metadata": {
    "execution": {
     "iopub.execute_input": "2025-10-13T14:53:40.175375Z",
     "iopub.status.busy": "2025-10-13T14:53:40.174460Z",
     "iopub.status.idle": "2025-10-13T14:53:40.183844Z",
     "shell.execute_reply": "2025-10-13T14:53:40.182802Z"
    }
   },
   "outputs": [],
   "source": [
    "markers<-c('SOX2','SOX4','POU5F1',\"TBXT\",'BMP4','MIXL1',\"KDR\",'CDH5','CD34','GYPA','HBA2','HBZ','ITGA2B','GP1BA','GP1BB','TUBB1','CDKN2D','MAPK14')"
   ]
  },
  {
   "cell_type": "markdown",
   "id": "c6d4b4d0-9125-44f8-a7ba-f2bc4e7b35c3",
   "metadata": {},
   "source": [
    "## DotPlot"
   ]
  },
  {
   "cell_type": "code",
   "execution_count": 117,
   "id": "c4c1fe86-ecf3-4fbb-bee2-0f1816004c55",
   "metadata": {
    "execution": {
     "iopub.execute_input": "2025-10-13T14:53:40.186380Z",
     "iopub.status.busy": "2025-10-13T14:53:40.185486Z",
     "iopub.status.idle": "2025-10-13T14:53:40.922783Z",
     "shell.execute_reply": "2025-10-13T14:53:40.921501Z"
    }
   },
   "outputs": [],
   "source": [
    "dotplot3<-DotPlot(\n",
    "  adata,\n",
    "    features=markers,\n",
    "  assay = \"SCT\",\n",
    "    group.by=\"Subclusters_10\")+\n",
    "ylab('Clusters')+\n",
    "xlab('Marker genes')+\n",
    " theme_classic()+\n",
    "    theme(axis.title=element_blank(),\n",
    "          axis.title.y=element_text(color=\"black\", family=\"sans\", size=12),\n",
    "          axis.title.x=element_text(color=\"black\", family=\"sans\", size=12),\n",
    "          axis.text.y=element_text(color=\"black\", family=\"sans\", size=8),\n",
    "          axis.text.x=element_text(angle=45,vjust=1,hjust=1, color=\"black\", family=\"sans\", size=8))\n",
    "\n"
   ]
  },
  {
   "cell_type": "code",
   "execution_count": 118,
   "id": "7309cc5c-7989-405c-afec-ceb1e40a023e",
   "metadata": {
    "execution": {
     "iopub.execute_input": "2025-10-13T14:53:40.925467Z",
     "iopub.status.busy": "2025-10-13T14:53:40.924486Z",
     "iopub.status.idle": "2025-10-13T14:53:41.228435Z",
     "shell.execute_reply": "2025-10-13T14:53:41.227212Z"
    }
   },
   "outputs": [
    {
     "name": "stderr",
     "output_type": "stream",
     "text": [
      "\u001b[1m\u001b[22mSaving 7 x 7 in image\n"
     ]
    }
   ],
   "source": [
    "setwd(\"/group/soranzo/manuel.tardaguila/2025_hESC_MK_SCRNAseq_10X/no_competition/RPCA/graphs/\")\n",
    "\n",
    "svgname<-paste(\"Dotplot_Subclusters_10\",\".svg\",sep='')\n",
    "makesvg = TRUE\n",
    "\n",
    "if (makesvg == TRUE)\n",
    "{\n",
    "  ggsave(svgname, plot= dotplot3,\n",
    "         device=\"svg\")\n",
    "}"
   ]
  },
  {
   "cell_type": "markdown",
   "id": "a81ee4df-0185-4ecf-93af-b55adac3291e",
   "metadata": {},
   "source": [
    "## Stacked barplots"
   ]
  },
  {
   "cell_type": "markdown",
   "id": "56a2c87c-87b0-4d9e-bccf-ca58bee80383",
   "metadata": {},
   "source": [
    "### Integrated_annotation vs Subclusters_10"
   ]
  },
  {
   "cell_type": "code",
   "execution_count": 119,
   "id": "60e2f8fe-dae7-4ea5-892a-4e07c762fe63",
   "metadata": {
    "execution": {
     "iopub.execute_input": "2025-10-13T14:53:41.231076Z",
     "iopub.status.busy": "2025-10-13T14:53:41.230143Z",
     "iopub.status.idle": "2025-10-13T14:53:41.239465Z",
     "shell.execute_reply": "2025-10-13T14:53:41.238380Z"
    }
   },
   "outputs": [],
   "source": [
    "met<-adata[[]]"
   ]
  },
  {
   "cell_type": "code",
   "execution_count": 120,
   "id": "4bb82b03-d73e-445d-add9-082a38d3081e",
   "metadata": {
    "execution": {
     "iopub.execute_input": "2025-10-13T14:53:41.241998Z",
     "iopub.status.busy": "2025-10-13T14:53:41.241095Z",
     "iopub.status.idle": "2025-10-13T14:53:41.251927Z",
     "shell.execute_reply": "2025-10-13T14:53:41.250857Z"
    }
   },
   "outputs": [
    {
     "data": {
      "text/html": [
       "<style>\n",
       ".list-inline {list-style: none; margin:0; padding: 0}\n",
       ".list-inline>li {display: inline-block}\n",
       ".list-inline>li:not(:last-child)::after {content: \"\\00b7\"; padding: 0 .5ex}\n",
       "</style>\n",
       "<ol class=list-inline><li>'orig.ident'</li><li>'nCount_RNA'</li><li>'nFeature_RNA'</li><li>'nCount_RNA_raw'</li><li>'nFeature_RNA_raw'</li><li>'percent.mt'</li><li>'scDblFinder.class'</li><li>'scDblFinder.score'</li><li>'scDblFinder.weighted'</li><li>'scDblFinder.cxds_score'</li><li>'Diff'</li><li>'nCount_SCT'</li><li>'nFeature_SCT'</li><li>'SCT_snn_res.2'</li><li>'seurat_clusters'</li><li>'SCT_snn_res.0.5'</li><li>'CellTypist_label_Alsinet'</li><li>'CellTypist_conf_score_Alsinet'</li><li>'CellTypist_label_FBMA'</li><li>'CellTypist_conf_score_FBMA'</li><li>'CellTypist_label_Immune_ALL_low'</li><li>'CellTypist_conf_score_Immune_ALL_low'</li><li>'Integrated_annotation'</li><li>'integrated_nn_res.0.5'</li><li>'Subclusters_2'</li><li>'Subclusters_5'</li><li>'Subclusters_7'</li><li>'Subclusters_9'</li><li>'Subclusters_10'</li></ol>\n"
      ],
      "text/latex": [
       "\\begin{enumerate*}\n",
       "\\item 'orig.ident'\n",
       "\\item 'nCount\\_RNA'\n",
       "\\item 'nFeature\\_RNA'\n",
       "\\item 'nCount\\_RNA\\_raw'\n",
       "\\item 'nFeature\\_RNA\\_raw'\n",
       "\\item 'percent.mt'\n",
       "\\item 'scDblFinder.class'\n",
       "\\item 'scDblFinder.score'\n",
       "\\item 'scDblFinder.weighted'\n",
       "\\item 'scDblFinder.cxds\\_score'\n",
       "\\item 'Diff'\n",
       "\\item 'nCount\\_SCT'\n",
       "\\item 'nFeature\\_SCT'\n",
       "\\item 'SCT\\_snn\\_res.2'\n",
       "\\item 'seurat\\_clusters'\n",
       "\\item 'SCT\\_snn\\_res.0.5'\n",
       "\\item 'CellTypist\\_label\\_Alsinet'\n",
       "\\item 'CellTypist\\_conf\\_score\\_Alsinet'\n",
       "\\item 'CellTypist\\_label\\_FBMA'\n",
       "\\item 'CellTypist\\_conf\\_score\\_FBMA'\n",
       "\\item 'CellTypist\\_label\\_Immune\\_ALL\\_low'\n",
       "\\item 'CellTypist\\_conf\\_score\\_Immune\\_ALL\\_low'\n",
       "\\item 'Integrated\\_annotation'\n",
       "\\item 'integrated\\_nn\\_res.0.5'\n",
       "\\item 'Subclusters\\_2'\n",
       "\\item 'Subclusters\\_5'\n",
       "\\item 'Subclusters\\_7'\n",
       "\\item 'Subclusters\\_9'\n",
       "\\item 'Subclusters\\_10'\n",
       "\\end{enumerate*}\n"
      ],
      "text/markdown": [
       "1. 'orig.ident'\n",
       "2. 'nCount_RNA'\n",
       "3. 'nFeature_RNA'\n",
       "4. 'nCount_RNA_raw'\n",
       "5. 'nFeature_RNA_raw'\n",
       "6. 'percent.mt'\n",
       "7. 'scDblFinder.class'\n",
       "8. 'scDblFinder.score'\n",
       "9. 'scDblFinder.weighted'\n",
       "10. 'scDblFinder.cxds_score'\n",
       "11. 'Diff'\n",
       "12. 'nCount_SCT'\n",
       "13. 'nFeature_SCT'\n",
       "14. 'SCT_snn_res.2'\n",
       "15. 'seurat_clusters'\n",
       "16. 'SCT_snn_res.0.5'\n",
       "17. 'CellTypist_label_Alsinet'\n",
       "18. 'CellTypist_conf_score_Alsinet'\n",
       "19. 'CellTypist_label_FBMA'\n",
       "20. 'CellTypist_conf_score_FBMA'\n",
       "21. 'CellTypist_label_Immune_ALL_low'\n",
       "22. 'CellTypist_conf_score_Immune_ALL_low'\n",
       "23. 'Integrated_annotation'\n",
       "24. 'integrated_nn_res.0.5'\n",
       "25. 'Subclusters_2'\n",
       "26. 'Subclusters_5'\n",
       "27. 'Subclusters_7'\n",
       "28. 'Subclusters_9'\n",
       "29. 'Subclusters_10'\n",
       "\n",
       "\n"
      ],
      "text/plain": [
       " [1] \"orig.ident\"                          \n",
       " [2] \"nCount_RNA\"                          \n",
       " [3] \"nFeature_RNA\"                        \n",
       " [4] \"nCount_RNA_raw\"                      \n",
       " [5] \"nFeature_RNA_raw\"                    \n",
       " [6] \"percent.mt\"                          \n",
       " [7] \"scDblFinder.class\"                   \n",
       " [8] \"scDblFinder.score\"                   \n",
       " [9] \"scDblFinder.weighted\"                \n",
       "[10] \"scDblFinder.cxds_score\"              \n",
       "[11] \"Diff\"                                \n",
       "[12] \"nCount_SCT\"                          \n",
       "[13] \"nFeature_SCT\"                        \n",
       "[14] \"SCT_snn_res.2\"                       \n",
       "[15] \"seurat_clusters\"                     \n",
       "[16] \"SCT_snn_res.0.5\"                     \n",
       "[17] \"CellTypist_label_Alsinet\"            \n",
       "[18] \"CellTypist_conf_score_Alsinet\"       \n",
       "[19] \"CellTypist_label_FBMA\"               \n",
       "[20] \"CellTypist_conf_score_FBMA\"          \n",
       "[21] \"CellTypist_label_Immune_ALL_low\"     \n",
       "[22] \"CellTypist_conf_score_Immune_ALL_low\"\n",
       "[23] \"Integrated_annotation\"               \n",
       "[24] \"integrated_nn_res.0.5\"               \n",
       "[25] \"Subclusters_2\"                       \n",
       "[26] \"Subclusters_5\"                       \n",
       "[27] \"Subclusters_7\"                       \n",
       "[28] \"Subclusters_9\"                       \n",
       "[29] \"Subclusters_10\"                      "
      ]
     },
     "metadata": {},
     "output_type": "display_data"
    }
   ],
   "source": [
    "colnames(met)"
   ]
  },
  {
   "cell_type": "code",
   "execution_count": 121,
   "id": "170de8f7-531b-45f8-a2b8-e43e554da51a",
   "metadata": {
    "execution": {
     "iopub.execute_input": "2025-10-13T14:53:41.254395Z",
     "iopub.status.busy": "2025-10-13T14:53:41.253511Z",
     "iopub.status.idle": "2025-10-13T14:53:41.267297Z",
     "shell.execute_reply": "2025-10-13T14:53:41.266207Z"
    }
   },
   "outputs": [],
   "source": [
    "met.dt<-data.table(met,key=c(\"Subclusters_10\",\"Integrated_annotation\"))"
   ]
  },
  {
   "cell_type": "code",
   "execution_count": 122,
   "id": "39ec570d-ff45-4344-bc1d-cb487342649b",
   "metadata": {
    "execution": {
     "iopub.execute_input": "2025-10-13T14:53:41.269839Z",
     "iopub.status.busy": "2025-10-13T14:53:41.268947Z",
     "iopub.status.idle": "2025-10-13T14:53:41.276895Z",
     "shell.execute_reply": "2025-10-13T14:53:41.275871Z"
    }
   },
   "outputs": [],
   "source": [
    "#str(met.dt)"
   ]
  },
  {
   "cell_type": "code",
   "execution_count": 123,
   "id": "50185d84-37e5-4972-af7c-736aff0f6ea4",
   "metadata": {
    "execution": {
     "iopub.execute_input": "2025-10-13T14:53:41.279370Z",
     "iopub.status.busy": "2025-10-13T14:53:41.278479Z",
     "iopub.status.idle": "2025-10-13T14:53:41.289086Z",
     "shell.execute_reply": "2025-10-13T14:53:41.288002Z"
    }
   },
   "outputs": [],
   "source": [
    "Freq.table<-as.data.frame(met.dt[,.(Freq=.N),by=key(met.dt)], stringsAsFactors=F)\n",
    "#Freq.table"
   ]
  },
  {
   "cell_type": "code",
   "execution_count": 124,
   "id": "c4a9ebfa-fcee-4787-8e88-f57027c3dfec",
   "metadata": {
    "execution": {
     "iopub.execute_input": "2025-10-13T14:53:41.291643Z",
     "iopub.status.busy": "2025-10-13T14:53:41.290725Z",
     "iopub.status.idle": "2025-10-13T14:53:41.306204Z",
     "shell.execute_reply": "2025-10-13T14:53:41.305084Z"
    }
   },
   "outputs": [],
   "source": [
    "met.dt<-data.table(met, key=c(\"Subclusters_10\"))\n",
    "Freq.TOTAL<-as.data.frame(met.dt[,.(TOTAL=.N),by=key(met.dt)], stringsAsFactors=F)\n",
    "#Freq.TOTAL"
   ]
  },
  {
   "cell_type": "code",
   "execution_count": 125,
   "id": "379d15bd-b0a2-451e-97a2-82a4526483b1",
   "metadata": {
    "execution": {
     "iopub.execute_input": "2025-10-13T14:53:41.308763Z",
     "iopub.status.busy": "2025-10-13T14:53:41.307846Z",
     "iopub.status.idle": "2025-10-13T14:53:41.318498Z",
     "shell.execute_reply": "2025-10-13T14:53:41.317405Z"
    }
   },
   "outputs": [],
   "source": [
    "Freq.table<-merge(Freq.table,\n",
    "                  Freq.TOTAL,\n",
    "                  by=\"Subclusters_10\")\n",
    "Freq.table$Perc<-round((100*(Freq.table$Freq/Freq.table$TOTAL)),2)\n",
    "\n",
    "#Freq.table"
   ]
  },
  {
   "cell_type": "code",
   "execution_count": 126,
   "id": "6d609c7a-1cb6-4b1e-8eb4-b97d70ce5736",
   "metadata": {
    "execution": {
     "iopub.execute_input": "2025-10-13T14:53:41.321078Z",
     "iopub.status.busy": "2025-10-13T14:53:41.320158Z",
     "iopub.status.idle": "2025-10-13T14:53:41.332296Z",
     "shell.execute_reply": "2025-10-13T14:53:41.331182Z"
    }
   },
   "outputs": [
    {
     "name": "stdout",
     "output_type": "stream",
     "text": [
      "'data.frame':\t179 obs. of  5 variables:\n",
      " $ Subclusters_10       : Factor w/ 32 levels \"1\",\"10_0\",\"10_1\",..: 1 1 1 1 1 1 2 2 2 2 ...\n",
      " $ Integrated_annotation: chr  \"MEP\" \"early MK\" \"early erythroid\" \"hESC\" ...\n",
      " $ Freq                 : int  118 14 13 4331 39 22 45 2 2 4 ...\n",
      " $ TOTAL                : int  4537 4537 4537 4537 4537 4537 172 172 172 172 ...\n",
      " $ Perc                 : num  2.6 0.31 0.29 95.46 0.86 ...\n"
     ]
    }
   ],
   "source": [
    "str(Freq.table)"
   ]
  },
  {
   "cell_type": "code",
   "execution_count": 127,
   "id": "41f613e8-33f8-4467-9a55-f91a19abb0ef",
   "metadata": {
    "execution": {
     "iopub.execute_input": "2025-10-13T14:53:41.334867Z",
     "iopub.status.busy": "2025-10-13T14:53:41.333943Z",
     "iopub.status.idle": "2025-10-13T14:53:41.351129Z",
     "shell.execute_reply": "2025-10-13T14:53:41.350025Z"
    }
   },
   "outputs": [],
   "source": [
    "met.dt<-data.table(met, key=c(\"Integrated_annotation\"))\n",
    "Freq.table_Integrated<-as.data.frame(met.dt[,.(Freq_Integrated_annotation=.N),by=key(met.dt)], stringsAsFactors=F)\n",
    "\n",
    "Freq.table<-merge(Freq.table,\n",
    "                  Freq.table_Integrated,\n",
    "                  by=\"Integrated_annotation\")\n",
    "\n",
    "#Freq.table"
   ]
  },
  {
   "cell_type": "code",
   "execution_count": 128,
   "id": "5f4772e7-8000-47b4-801d-b4316f28888e",
   "metadata": {
    "execution": {
     "iopub.execute_input": "2025-10-13T14:53:41.353632Z",
     "iopub.status.busy": "2025-10-13T14:53:41.352725Z",
     "iopub.status.idle": "2025-10-13T14:53:41.365266Z",
     "shell.execute_reply": "2025-10-13T14:53:41.364187Z"
    }
   },
   "outputs": [
    {
     "name": "stdout",
     "output_type": "stream",
     "text": [
      "'data.frame':\t179 obs. of  6 variables:\n",
      " $ Integrated_annotation     : chr  \"early erythroid\" \"early erythroid\" \"early erythroid\" \"early erythroid\" ...\n",
      " $ Subclusters_10            : Factor w/ 32 levels \"1\",\"10_0\",\"10_1\",..: 23 3 19 1 11 10 15 32 21 30 ...\n",
      " $ Freq                      : int  2 1 42 13 2 1 2 63 55 732 ...\n",
      " $ TOTAL                     : int  664 124 1439 4537 109 42 90 1688 1169 2443 ...\n",
      " $ Perc                      : num  0.3 0.81 2.92 0.29 1.83 ...\n",
      " $ Freq_Integrated_annotation: int  2286 2286 2286 2286 2286 2286 2286 2286 2286 2286 ...\n"
     ]
    }
   ],
   "source": [
    "str(Freq.table)"
   ]
  },
  {
   "cell_type": "code",
   "execution_count": 129,
   "id": "291cf074-cf40-4b59-9964-d3642b2966bb",
   "metadata": {
    "execution": {
     "iopub.execute_input": "2025-10-13T14:53:41.367859Z",
     "iopub.status.busy": "2025-10-13T14:53:41.366926Z",
     "iopub.status.idle": "2025-10-13T14:53:41.375628Z",
     "shell.execute_reply": "2025-10-13T14:53:41.374582Z"
    }
   },
   "outputs": [],
   "source": [
    "vector_colors_Integrated_annotation<-c(brewer.pal(9, \"Set1\"),\"white\")"
   ]
  },
  {
   "cell_type": "code",
   "execution_count": 130,
   "id": "0f9a5a8d-1bcf-4da9-a571-0c566bc2ede7",
   "metadata": {
    "execution": {
     "iopub.execute_input": "2025-10-13T14:53:41.378155Z",
     "iopub.status.busy": "2025-10-13T14:53:41.377264Z",
     "iopub.status.idle": "2025-10-13T14:53:41.409516Z",
     "shell.execute_reply": "2025-10-13T14:53:41.408386Z"
    },
    "scrolled": true
   },
   "outputs": [
    {
     "name": "stdout",
     "output_type": "stream",
     "text": [
      "-------------------------------------->\t0 25 50 75 100\n"
     ]
    }
   ],
   "source": [
    " #### Stacked Graph ---------------\n",
    "  \n",
    "  breaks.Rank<-(seq(0,100,by=25))\n",
    "  labels.Rank<-as.character(breaks.Rank)\n",
    "  \n",
    "  cat(\"-------------------------------------->\\t\")\n",
    "  cat(sprintf(as.character(labels.Rank)))\n",
    "  cat(\"\\n\")\n",
    "  \n",
    "  \n",
    "  stacked_barplot<-Freq.table %>%\n",
    "    mutate(myaxis = paste0(Subclusters_10, \" \", \"n=\", TOTAL), drop=F) %>%\n",
    "    mutate(myaxis=fct_reorder(myaxis,as.numeric(Subclusters_10)), drop=F) %>%\n",
    "    ggplot(aes(x=myaxis, y=Perc, fill=Integrated_annotation)) +\n",
    "    geom_bar(stat=\"identity\",colour='white')+\n",
    "    scale_y_continuous(name=paste(\"Percentage of cells in each cluster\",sep=\" \"),breaks=breaks.Rank,labels=labels.Rank,\n",
    "                       limits=c(breaks.Rank[1],breaks.Rank[length(breaks.Rank)]+1))+\n",
    "    scale_fill_manual(values=vector_colors_Integrated_annotation,\n",
    "                      drop=F,\n",
    "                      name=\"My Annotation\", breaks=Freq.table_Integrated$Integrated_annotation,\n",
    "                      labels=paste(Freq.table_Integrated$Integrated_annotation,\n",
    "                                   Freq.table_Integrated$Freq_Integrated_annotation, sep =' n= '))+\n",
    "        theme_classic()+\n",
    "            theme(axis.title.y=element_text(size=12, color=\"black\", family=\"sans\"),\n",
    "                  axis.title.x=element_blank(),\n",
    "                  axis.text.y=element_text(angle=0,size=10, color=\"black\", family=\"sans\"),\n",
    "                  axis.text.x=element_text(angle=45,size=10,vjust=1,hjust=1,color=\"black\", family=\"sans\"),\n",
    "                  axis.line.x = element_line(size = 0.2),\n",
    "                  axis.ticks.x = element_line(size = 0.2),\n",
    "                  axis.ticks.y = element_line(size = 0.2),\n",
    "                  axis.line.y = element_line(size = 0.2))+\n",
    "            theme(legend.title = element_blank(),\n",
    "                  legend.text = element_text(size=8, color=\"black\", family=\"sans\"),\n",
    "                  legend.key.size = unit(0.25, 'cm'), #change legend key size\n",
    "                  legend.key.height = unit(0.25, 'cm'), #change legend key height\n",
    "                  legend.key.width = unit(0.25, 'cm'), #change legend key width\n",
    "                  legend.position=\"bottom\")\n",
    "  \n",
    "  \n",
    "\n",
    "\n",
    "\n",
    "\n",
    "  "
   ]
  },
  {
   "cell_type": "code",
   "execution_count": 131,
   "id": "8d1f585e-dd91-4e28-b4dc-6320b3f511b6",
   "metadata": {
    "execution": {
     "iopub.execute_input": "2025-10-13T14:53:41.412131Z",
     "iopub.status.busy": "2025-10-13T14:53:41.411179Z",
     "iopub.status.idle": "2025-10-13T14:53:41.877210Z",
     "shell.execute_reply": "2025-10-13T14:53:41.875920Z"
    }
   },
   "outputs": [],
   "source": [
    "setwd(\"/group/soranzo/manuel.tardaguila/2025_hESC_MK_SCRNAseq_10X/no_competition/RPCA/graphs/\")\n",
    "\n",
    "svgname<-paste(\"Stacked_barplot_Integrated_annotation_by_Subclusters_10\",\".svg\",sep='')\n",
    "makesvg = TRUE\n",
    "\n",
    "if (makesvg == TRUE)\n",
    "{\n",
    "  ggsave(svgname, plot= stacked_barplot,\n",
    "         width = 25,        # Set the width to 8\n",
    "      height = 12.5,       # Set the height to 5\n",
    "      units = \"cm\",    # Specify the units as inches\n",
    "         device=\"svg\")\n",
    "}\n",
    "\n",
    "\n",
    "  "
   ]
  },
  {
   "cell_type": "code",
   "execution_count": 132,
   "id": "f8aeeb1f-684f-4bb9-a9c1-444b57f662a4",
   "metadata": {
    "execution": {
     "iopub.execute_input": "2025-10-13T14:53:41.879895Z",
     "iopub.status.busy": "2025-10-13T14:53:41.878949Z",
     "iopub.status.idle": "2025-10-13T14:53:41.887588Z",
     "shell.execute_reply": "2025-10-13T14:53:41.886522Z"
    }
   },
   "outputs": [],
   "source": [
    "# I think that cluster 10 has many subclusters with different majority voting and I will keep Subclusters_10"
   ]
  },
  {
   "cell_type": "markdown",
   "id": "be45408d-6200-4fa4-ae47-d94c0699851e",
   "metadata": {},
   "source": [
    "# Subcluster cluster 11"
   ]
  },
  {
   "cell_type": "code",
   "execution_count": 133,
   "id": "285096ea-31a2-4926-b6d3-89f384ed211c",
   "metadata": {
    "execution": {
     "iopub.execute_input": "2025-10-13T14:53:41.890167Z",
     "iopub.status.busy": "2025-10-13T14:53:41.889251Z",
     "iopub.status.idle": "2025-10-13T14:53:41.955186Z",
     "shell.execute_reply": "2025-10-13T14:53:41.954022Z"
    }
   },
   "outputs": [
    {
     "name": "stdout",
     "output_type": "stream",
     "text": [
      "Modularity Optimizer version 1.3.0 by Ludo Waltman and Nees Jan van Eck\n",
      "\n",
      "Number of nodes: 1439\n",
      "Number of edges: 13198\n",
      "\n",
      "Running Louvain algorithm...\n",
      "Maximum modularity in 10 random starts: 0.6342\n",
      "Number of communities: 17\n",
      "Elapsed time: 0 seconds\n"
     ]
    }
   ],
   "source": [
    "adata<-FindSubCluster(\n",
    "  adata,\n",
    "  11,\n",
    "  'integrated_nn',\n",
    "  subcluster.name = \"Subclusters_11\",\n",
    "  resolution = 2,\n",
    "  algorithm = 1\n",
    ")"
   ]
  },
  {
   "cell_type": "code",
   "execution_count": 134,
   "id": "59381d30-72a1-4555-a2aa-83393522e220",
   "metadata": {
    "execution": {
     "iopub.execute_input": "2025-10-13T14:53:41.957774Z",
     "iopub.status.busy": "2025-10-13T14:53:41.956858Z",
     "iopub.status.idle": "2025-10-13T14:53:41.968968Z",
     "shell.execute_reply": "2025-10-13T14:53:41.967856Z"
    }
   },
   "outputs": [],
   "source": [
    "adata@meta.data$Subclusters_11<-as.factor(adata@meta.data$Subclusters_11)"
   ]
  },
  {
   "cell_type": "markdown",
   "id": "3359332c-ffda-48b2-bd9b-e467f7446cc2",
   "metadata": {},
   "source": [
    "## UMAP plots"
   ]
  },
  {
   "cell_type": "code",
   "execution_count": 135,
   "id": "0937ca28-173a-42ab-a95c-ae1e9eaef293",
   "metadata": {
    "execution": {
     "iopub.execute_input": "2025-10-13T14:53:41.971536Z",
     "iopub.status.busy": "2025-10-13T14:53:41.970632Z",
     "iopub.status.idle": "2025-10-13T14:53:42.843583Z",
     "shell.execute_reply": "2025-10-13T14:53:42.842378Z"
    }
   },
   "outputs": [
    {
     "name": "stderr",
     "output_type": "stream",
     "text": [
      "Warning message:\n",
      "“ggrepel: 18 unlabeled data points (too many overlaps). Consider increasing max.overlaps”\n"
     ]
    },
    {
     "data": {
      "text/html": [
       "<strong>pdf:</strong> 2"
      ],
      "text/latex": [
       "\\textbf{pdf:} 2"
      ],
      "text/markdown": [
       "**pdf:** 2"
      ],
      "text/plain": [
       "pdf \n",
       "  2 "
      ]
     },
     "metadata": {},
     "output_type": "display_data"
    }
   ],
   "source": [
    "p1 <- DimPlot(adata, reduction = \"umap\", group.by = \"Subclusters_11\", label = TRUE, label.size = 5, repel = TRUE)\n",
    "\n",
    "\n",
    "\n",
    "\n",
    "setwd(path_graphs)\n",
    "\n",
    "svglite(file='UMAP_by_Subclusters_11.svg', width = 5.5, height = 4.9) \n",
    "\n",
    "# 2. CRITICAL: Use print() to force the plot to be drawn to the file.\n",
    "print(\n",
    "  p1 +\n",
    "  # Apply your desired theme and guides\n",
    "  theme(legend.position=\"right\", legend.title=element_blank(), legend.text = element_text(family=\"sans\"))\n",
    ")\n",
    "\n",
    "# 3. Close the device to finalize and save the SVG file.\n",
    "dev.off()"
   ]
  },
  {
   "cell_type": "code",
   "execution_count": 136,
   "id": "46999ef6-95fa-48ab-a60b-8d1f67814599",
   "metadata": {
    "execution": {
     "iopub.execute_input": "2025-10-13T14:53:42.846187Z",
     "iopub.status.busy": "2025-10-13T14:53:42.845250Z",
     "iopub.status.idle": "2025-10-13T14:53:42.854683Z",
     "shell.execute_reply": "2025-10-13T14:53:42.853633Z"
    }
   },
   "outputs": [],
   "source": [
    "markers<-c('SOX2','SOX4','POU5F1',\"TBXT\",'BMP4','MIXL1',\"KDR\",'CDH5','CD34','GYPA','HBA2','HBZ','ITGA2B','GP1BA','GP1BB','TUBB1','CDKN2D','MAPK14')"
   ]
  },
  {
   "cell_type": "markdown",
   "id": "c61a695e-188a-4ac5-8082-38da718432c8",
   "metadata": {},
   "source": [
    "## DotPlot"
   ]
  },
  {
   "cell_type": "code",
   "execution_count": 137,
   "id": "36b1731e-8f71-4d49-a6ab-2a60626d3ba8",
   "metadata": {
    "execution": {
     "iopub.execute_input": "2025-10-13T14:53:42.857221Z",
     "iopub.status.busy": "2025-10-13T14:53:42.856327Z",
     "iopub.status.idle": "2025-10-13T14:53:43.568258Z",
     "shell.execute_reply": "2025-10-13T14:53:43.566970Z"
    }
   },
   "outputs": [],
   "source": [
    "dotplot3<-DotPlot(\n",
    "  adata,\n",
    "    features=markers,\n",
    "  assay = \"SCT\",\n",
    "    group.by=\"Subclusters_11\")+\n",
    "ylab('Clusters')+\n",
    "xlab('Marker genes')+\n",
    " theme_classic()+\n",
    "    theme(axis.title=element_blank(),\n",
    "          axis.title.y=element_text(color=\"black\", family=\"sans\", size=12),\n",
    "          axis.title.x=element_text(color=\"black\", family=\"sans\", size=12),\n",
    "          axis.text.y=element_text(color=\"black\", family=\"sans\", size=8),\n",
    "          axis.text.x=element_text(angle=45,vjust=1,hjust=1, color=\"black\", family=\"sans\", size=8))\n",
    "\n"
   ]
  },
  {
   "cell_type": "code",
   "execution_count": 138,
   "id": "d5255a9c-e74a-4a7e-a7a5-3dc059a794f2",
   "metadata": {
    "execution": {
     "iopub.execute_input": "2025-10-13T14:53:43.570943Z",
     "iopub.status.busy": "2025-10-13T14:53:43.570023Z",
     "iopub.status.idle": "2025-10-13T14:53:44.052376Z",
     "shell.execute_reply": "2025-10-13T14:53:44.051051Z"
    }
   },
   "outputs": [
    {
     "name": "stderr",
     "output_type": "stream",
     "text": [
      "\u001b[1m\u001b[22mSaving 7 x 7 in image\n"
     ]
    }
   ],
   "source": [
    "setwd(\"/group/soranzo/manuel.tardaguila/2025_hESC_MK_SCRNAseq_10X/no_competition/RPCA/graphs/\")\n",
    "\n",
    "svgname<-paste(\"Dotplot_Subclusters_11\",\".svg\",sep='')\n",
    "makesvg = TRUE\n",
    "\n",
    "if (makesvg == TRUE)\n",
    "{\n",
    "  ggsave(svgname, plot= dotplot3,\n",
    "         device=\"svg\")\n",
    "}"
   ]
  },
  {
   "cell_type": "markdown",
   "id": "f4ec2bf9-7498-4577-93f2-c6bae84fbc4d",
   "metadata": {},
   "source": [
    "## Stacked barplots"
   ]
  },
  {
   "cell_type": "markdown",
   "id": "ebb45bf3-2ef3-488a-80d1-a9279f7877cf",
   "metadata": {},
   "source": [
    "### Integrated_annotation vs Subclusters_11"
   ]
  },
  {
   "cell_type": "code",
   "execution_count": 139,
   "id": "3a0710d9-cc22-48f3-80c1-4545f4aee1f8",
   "metadata": {
    "execution": {
     "iopub.execute_input": "2025-10-13T14:53:44.055085Z",
     "iopub.status.busy": "2025-10-13T14:53:44.054108Z",
     "iopub.status.idle": "2025-10-13T14:53:44.063798Z",
     "shell.execute_reply": "2025-10-13T14:53:44.062660Z"
    }
   },
   "outputs": [],
   "source": [
    "met<-adata[[]]"
   ]
  },
  {
   "cell_type": "code",
   "execution_count": 140,
   "id": "64db9e2e-ab9b-40d0-8d68-6d6541a401d0",
   "metadata": {
    "execution": {
     "iopub.execute_input": "2025-10-13T14:53:44.066409Z",
     "iopub.status.busy": "2025-10-13T14:53:44.065478Z",
     "iopub.status.idle": "2025-10-13T14:53:44.076463Z",
     "shell.execute_reply": "2025-10-13T14:53:44.075373Z"
    }
   },
   "outputs": [
    {
     "data": {
      "text/html": [
       "<style>\n",
       ".list-inline {list-style: none; margin:0; padding: 0}\n",
       ".list-inline>li {display: inline-block}\n",
       ".list-inline>li:not(:last-child)::after {content: \"\\00b7\"; padding: 0 .5ex}\n",
       "</style>\n",
       "<ol class=list-inline><li>'orig.ident'</li><li>'nCount_RNA'</li><li>'nFeature_RNA'</li><li>'nCount_RNA_raw'</li><li>'nFeature_RNA_raw'</li><li>'percent.mt'</li><li>'scDblFinder.class'</li><li>'scDblFinder.score'</li><li>'scDblFinder.weighted'</li><li>'scDblFinder.cxds_score'</li><li>'Diff'</li><li>'nCount_SCT'</li><li>'nFeature_SCT'</li><li>'SCT_snn_res.2'</li><li>'seurat_clusters'</li><li>'SCT_snn_res.0.5'</li><li>'CellTypist_label_Alsinet'</li><li>'CellTypist_conf_score_Alsinet'</li><li>'CellTypist_label_FBMA'</li><li>'CellTypist_conf_score_FBMA'</li><li>'CellTypist_label_Immune_ALL_low'</li><li>'CellTypist_conf_score_Immune_ALL_low'</li><li>'Integrated_annotation'</li><li>'integrated_nn_res.0.5'</li><li>'Subclusters_2'</li><li>'Subclusters_5'</li><li>'Subclusters_7'</li><li>'Subclusters_9'</li><li>'Subclusters_10'</li><li>'Subclusters_11'</li></ol>\n"
      ],
      "text/latex": [
       "\\begin{enumerate*}\n",
       "\\item 'orig.ident'\n",
       "\\item 'nCount\\_RNA'\n",
       "\\item 'nFeature\\_RNA'\n",
       "\\item 'nCount\\_RNA\\_raw'\n",
       "\\item 'nFeature\\_RNA\\_raw'\n",
       "\\item 'percent.mt'\n",
       "\\item 'scDblFinder.class'\n",
       "\\item 'scDblFinder.score'\n",
       "\\item 'scDblFinder.weighted'\n",
       "\\item 'scDblFinder.cxds\\_score'\n",
       "\\item 'Diff'\n",
       "\\item 'nCount\\_SCT'\n",
       "\\item 'nFeature\\_SCT'\n",
       "\\item 'SCT\\_snn\\_res.2'\n",
       "\\item 'seurat\\_clusters'\n",
       "\\item 'SCT\\_snn\\_res.0.5'\n",
       "\\item 'CellTypist\\_label\\_Alsinet'\n",
       "\\item 'CellTypist\\_conf\\_score\\_Alsinet'\n",
       "\\item 'CellTypist\\_label\\_FBMA'\n",
       "\\item 'CellTypist\\_conf\\_score\\_FBMA'\n",
       "\\item 'CellTypist\\_label\\_Immune\\_ALL\\_low'\n",
       "\\item 'CellTypist\\_conf\\_score\\_Immune\\_ALL\\_low'\n",
       "\\item 'Integrated\\_annotation'\n",
       "\\item 'integrated\\_nn\\_res.0.5'\n",
       "\\item 'Subclusters\\_2'\n",
       "\\item 'Subclusters\\_5'\n",
       "\\item 'Subclusters\\_7'\n",
       "\\item 'Subclusters\\_9'\n",
       "\\item 'Subclusters\\_10'\n",
       "\\item 'Subclusters\\_11'\n",
       "\\end{enumerate*}\n"
      ],
      "text/markdown": [
       "1. 'orig.ident'\n",
       "2. 'nCount_RNA'\n",
       "3. 'nFeature_RNA'\n",
       "4. 'nCount_RNA_raw'\n",
       "5. 'nFeature_RNA_raw'\n",
       "6. 'percent.mt'\n",
       "7. 'scDblFinder.class'\n",
       "8. 'scDblFinder.score'\n",
       "9. 'scDblFinder.weighted'\n",
       "10. 'scDblFinder.cxds_score'\n",
       "11. 'Diff'\n",
       "12. 'nCount_SCT'\n",
       "13. 'nFeature_SCT'\n",
       "14. 'SCT_snn_res.2'\n",
       "15. 'seurat_clusters'\n",
       "16. 'SCT_snn_res.0.5'\n",
       "17. 'CellTypist_label_Alsinet'\n",
       "18. 'CellTypist_conf_score_Alsinet'\n",
       "19. 'CellTypist_label_FBMA'\n",
       "20. 'CellTypist_conf_score_FBMA'\n",
       "21. 'CellTypist_label_Immune_ALL_low'\n",
       "22. 'CellTypist_conf_score_Immune_ALL_low'\n",
       "23. 'Integrated_annotation'\n",
       "24. 'integrated_nn_res.0.5'\n",
       "25. 'Subclusters_2'\n",
       "26. 'Subclusters_5'\n",
       "27. 'Subclusters_7'\n",
       "28. 'Subclusters_9'\n",
       "29. 'Subclusters_10'\n",
       "30. 'Subclusters_11'\n",
       "\n",
       "\n"
      ],
      "text/plain": [
       " [1] \"orig.ident\"                          \n",
       " [2] \"nCount_RNA\"                          \n",
       " [3] \"nFeature_RNA\"                        \n",
       " [4] \"nCount_RNA_raw\"                      \n",
       " [5] \"nFeature_RNA_raw\"                    \n",
       " [6] \"percent.mt\"                          \n",
       " [7] \"scDblFinder.class\"                   \n",
       " [8] \"scDblFinder.score\"                   \n",
       " [9] \"scDblFinder.weighted\"                \n",
       "[10] \"scDblFinder.cxds_score\"              \n",
       "[11] \"Diff\"                                \n",
       "[12] \"nCount_SCT\"                          \n",
       "[13] \"nFeature_SCT\"                        \n",
       "[14] \"SCT_snn_res.2\"                       \n",
       "[15] \"seurat_clusters\"                     \n",
       "[16] \"SCT_snn_res.0.5\"                     \n",
       "[17] \"CellTypist_label_Alsinet\"            \n",
       "[18] \"CellTypist_conf_score_Alsinet\"       \n",
       "[19] \"CellTypist_label_FBMA\"               \n",
       "[20] \"CellTypist_conf_score_FBMA\"          \n",
       "[21] \"CellTypist_label_Immune_ALL_low\"     \n",
       "[22] \"CellTypist_conf_score_Immune_ALL_low\"\n",
       "[23] \"Integrated_annotation\"               \n",
       "[24] \"integrated_nn_res.0.5\"               \n",
       "[25] \"Subclusters_2\"                       \n",
       "[26] \"Subclusters_5\"                       \n",
       "[27] \"Subclusters_7\"                       \n",
       "[28] \"Subclusters_9\"                       \n",
       "[29] \"Subclusters_10\"                      \n",
       "[30] \"Subclusters_11\"                      "
      ]
     },
     "metadata": {},
     "output_type": "display_data"
    }
   ],
   "source": [
    "colnames(met)"
   ]
  },
  {
   "cell_type": "code",
   "execution_count": 141,
   "id": "8a99adc7-8b88-48bf-b8a3-9f7e84969c0b",
   "metadata": {
    "execution": {
     "iopub.execute_input": "2025-10-13T14:53:44.078989Z",
     "iopub.status.busy": "2025-10-13T14:53:44.078090Z",
     "iopub.status.idle": "2025-10-13T14:53:44.092306Z",
     "shell.execute_reply": "2025-10-13T14:53:44.091163Z"
    }
   },
   "outputs": [],
   "source": [
    "met.dt<-data.table(met,key=c(\"Subclusters_11\",\"Integrated_annotation\"))"
   ]
  },
  {
   "cell_type": "code",
   "execution_count": 142,
   "id": "e66e2209-7a9b-4057-b0b0-212f97cdc598",
   "metadata": {
    "execution": {
     "iopub.execute_input": "2025-10-13T14:53:44.094886Z",
     "iopub.status.busy": "2025-10-13T14:53:44.093981Z",
     "iopub.status.idle": "2025-10-13T14:53:44.102234Z",
     "shell.execute_reply": "2025-10-13T14:53:44.101165Z"
    }
   },
   "outputs": [],
   "source": [
    "#str(met.dt)"
   ]
  },
  {
   "cell_type": "code",
   "execution_count": 143,
   "id": "df8cdd7d-0e84-4a52-9ef1-8a41476ce38e",
   "metadata": {
    "execution": {
     "iopub.execute_input": "2025-10-13T14:53:44.104735Z",
     "iopub.status.busy": "2025-10-13T14:53:44.103842Z",
     "iopub.status.idle": "2025-10-13T14:53:44.114316Z",
     "shell.execute_reply": "2025-10-13T14:53:44.113244Z"
    }
   },
   "outputs": [],
   "source": [
    "Freq.table<-as.data.frame(met.dt[,.(Freq=.N),by=key(met.dt)], stringsAsFactors=F)\n",
    "#Freq.table"
   ]
  },
  {
   "cell_type": "code",
   "execution_count": 144,
   "id": "f34ad7f4-7a68-41c0-9d0a-0717562bd9dc",
   "metadata": {
    "execution": {
     "iopub.execute_input": "2025-10-13T14:53:44.116821Z",
     "iopub.status.busy": "2025-10-13T14:53:44.115949Z",
     "iopub.status.idle": "2025-10-13T14:53:44.131555Z",
     "shell.execute_reply": "2025-10-13T14:53:44.130440Z"
    }
   },
   "outputs": [],
   "source": [
    "met.dt<-data.table(met, key=c(\"Subclusters_11\"))\n",
    "Freq.TOTAL<-as.data.frame(met.dt[,.(TOTAL=.N),by=key(met.dt)], stringsAsFactors=F)\n",
    "#Freq.TOTAL"
   ]
  },
  {
   "cell_type": "code",
   "execution_count": 145,
   "id": "25493bbe-0313-4712-9611-ea29e2ebad4b",
   "metadata": {
    "execution": {
     "iopub.execute_input": "2025-10-13T14:53:44.134111Z",
     "iopub.status.busy": "2025-10-13T14:53:44.133223Z",
     "iopub.status.idle": "2025-10-13T14:53:44.143668Z",
     "shell.execute_reply": "2025-10-13T14:53:44.142634Z"
    }
   },
   "outputs": [],
   "source": [
    "Freq.table<-merge(Freq.table,\n",
    "                  Freq.TOTAL,\n",
    "                  by=\"Subclusters_11\")\n",
    "Freq.table$Perc<-round((100*(Freq.table$Freq/Freq.table$TOTAL)),2)\n",
    "\n",
    "#Freq.table"
   ]
  },
  {
   "cell_type": "code",
   "execution_count": 146,
   "id": "9bdb1323-5c7f-4d7c-a566-07d6b97a0f23",
   "metadata": {
    "execution": {
     "iopub.execute_input": "2025-10-13T14:53:44.146205Z",
     "iopub.status.busy": "2025-10-13T14:53:44.145291Z",
     "iopub.status.idle": "2025-10-13T14:53:44.157409Z",
     "shell.execute_reply": "2025-10-13T14:53:44.156308Z"
    }
   },
   "outputs": [
    {
     "name": "stdout",
     "output_type": "stream",
     "text": [
      "'data.frame':\t190 obs. of  5 variables:\n",
      " $ Subclusters_11       : Factor w/ 32 levels \"1\",\"10\",\"11_0\",..: 1 1 1 1 1 1 2 2 2 2 ...\n",
      " $ Integrated_annotation: chr  \"MEP\" \"early MK\" \"early erythroid\" \"hESC\" ...\n",
      " $ Freq                 : int  118 14 13 4331 39 22 702 34 6 14 ...\n",
      " $ TOTAL                : int  4537 4537 4537 4537 4537 4537 1455 1455 1455 1455 ...\n",
      " $ Perc                 : num  2.6 0.31 0.29 95.46 0.86 ...\n"
     ]
    }
   ],
   "source": [
    "str(Freq.table)"
   ]
  },
  {
   "cell_type": "code",
   "execution_count": 147,
   "id": "9ae5ddbc-0a50-437b-9f3e-384583433787",
   "metadata": {
    "execution": {
     "iopub.execute_input": "2025-10-13T14:53:44.159888Z",
     "iopub.status.busy": "2025-10-13T14:53:44.159003Z",
     "iopub.status.idle": "2025-10-13T14:53:44.176251Z",
     "shell.execute_reply": "2025-10-13T14:53:44.175147Z"
    }
   },
   "outputs": [],
   "source": [
    "met.dt<-data.table(met, key=c(\"Integrated_annotation\"))\n",
    "Freq.table_Integrated<-as.data.frame(met.dt[,.(Freq_Integrated_annotation=.N),by=key(met.dt)], stringsAsFactors=F)\n",
    "\n",
    "Freq.table<-merge(Freq.table,\n",
    "                  Freq.table_Integrated,\n",
    "                  by=\"Integrated_annotation\")\n",
    "\n",
    "#Freq.table"
   ]
  },
  {
   "cell_type": "code",
   "execution_count": 148,
   "id": "ae4b1ecd-4fe0-4bdc-b106-de518529395f",
   "metadata": {
    "execution": {
     "iopub.execute_input": "2025-10-13T14:53:44.178794Z",
     "iopub.status.busy": "2025-10-13T14:53:44.177907Z",
     "iopub.status.idle": "2025-10-13T14:53:44.190387Z",
     "shell.execute_reply": "2025-10-13T14:53:44.189303Z"
    }
   },
   "outputs": [
    {
     "name": "stdout",
     "output_type": "stream",
     "text": [
      "'data.frame':\t190 obs. of  6 variables:\n",
      " $ Integrated_annotation     : chr  \"early erythroid\" \"early erythroid\" \"early erythroid\" \"early erythroid\" ...\n",
      " $ Subclusters_11            : Factor w/ 32 levels \"1\",\"10\",\"11_0\",..: 5 13 2 1 7 4 12 20 27 15 ...\n",
      " $ Freq                      : int  1 5 14 13 1 3 7 2 1 4 ...\n",
      " $ TOTAL                     : int  73 107 1455 4537 64 122 112 1267 3348 99 ...\n",
      " $ Perc                      : num  1.37 4.67 0.96 0.29 1.56 2.46 6.25 0.16 0.03 4.04 ...\n",
      " $ Freq_Integrated_annotation: int  2286 2286 2286 2286 2286 2286 2286 2286 2286 2286 ...\n"
     ]
    }
   ],
   "source": [
    "str(Freq.table)"
   ]
  },
  {
   "cell_type": "code",
   "execution_count": 149,
   "id": "85533c26-75b4-432a-b72d-61ad067a92f6",
   "metadata": {
    "execution": {
     "iopub.execute_input": "2025-10-13T14:53:44.192869Z",
     "iopub.status.busy": "2025-10-13T14:53:44.191984Z",
     "iopub.status.idle": "2025-10-13T14:53:44.200567Z",
     "shell.execute_reply": "2025-10-13T14:53:44.199553Z"
    }
   },
   "outputs": [],
   "source": [
    "vector_colors_Integrated_annotation<-c(brewer.pal(9, \"Set1\"),\"white\")"
   ]
  },
  {
   "cell_type": "code",
   "execution_count": 150,
   "id": "72f2a7bf-d5ee-47f1-b7ff-cf1485fad7f8",
   "metadata": {
    "execution": {
     "iopub.execute_input": "2025-10-13T14:53:44.203123Z",
     "iopub.status.busy": "2025-10-13T14:53:44.202208Z",
     "iopub.status.idle": "2025-10-13T14:53:44.233294Z",
     "shell.execute_reply": "2025-10-13T14:53:44.232268Z"
    },
    "scrolled": true
   },
   "outputs": [
    {
     "name": "stdout",
     "output_type": "stream",
     "text": [
      "-------------------------------------->\t0 25 50 75 100\n"
     ]
    }
   ],
   "source": [
    " #### Stacked Graph ---------------\n",
    "  \n",
    "  breaks.Rank<-(seq(0,100,by=25))\n",
    "  labels.Rank<-as.character(breaks.Rank)\n",
    "  \n",
    "  cat(\"-------------------------------------->\\t\")\n",
    "  cat(sprintf(as.character(labels.Rank)))\n",
    "  cat(\"\\n\")\n",
    "  \n",
    "  \n",
    "  stacked_barplot<-Freq.table %>%\n",
    "    mutate(myaxis = paste0(Subclusters_11, \" \", \"n=\", TOTAL), drop=F) %>%\n",
    "    mutate(myaxis=fct_reorder(myaxis,as.numeric(Subclusters_11)), drop=F) %>%\n",
    "    ggplot(aes(x=myaxis, y=Perc, fill=Integrated_annotation)) +\n",
    "    geom_bar(stat=\"identity\",colour='white')+\n",
    "    scale_y_continuous(name=paste(\"Percentage of cells in each cluster\",sep=\" \"),breaks=breaks.Rank,labels=labels.Rank,\n",
    "                       limits=c(breaks.Rank[1],breaks.Rank[length(breaks.Rank)]+1))+\n",
    "    scale_fill_manual(values=vector_colors_Integrated_annotation,\n",
    "                      drop=F,\n",
    "                      name=\"My Annotation\", breaks=Freq.table_Integrated$Integrated_annotation,\n",
    "                      labels=paste(Freq.table_Integrated$Integrated_annotation,\n",
    "                                   Freq.table_Integrated$Freq_Integrated_annotation, sep =' n= '))+\n",
    "        theme_classic()+\n",
    "            theme(axis.title.y=element_text(size=12, color=\"black\", family=\"sans\"),\n",
    "                  axis.title.x=element_blank(),\n",
    "                  axis.text.y=element_text(angle=0,size=10, color=\"black\", family=\"sans\"),\n",
    "                  axis.text.x=element_text(angle=45,size=10,vjust=1,hjust=1,color=\"black\", family=\"sans\"),\n",
    "                  axis.line.x = element_line(size = 0.2),\n",
    "                  axis.ticks.x = element_line(size = 0.2),\n",
    "                  axis.ticks.y = element_line(size = 0.2),\n",
    "                  axis.line.y = element_line(size = 0.2))+\n",
    "            theme(legend.title = element_blank(),\n",
    "                  legend.text = element_text(size=8, color=\"black\", family=\"sans\"),\n",
    "                  legend.key.size = unit(0.25, 'cm'), #change legend key size\n",
    "                  legend.key.height = unit(0.25, 'cm'), #change legend key height\n",
    "                  legend.key.width = unit(0.25, 'cm'), #change legend key width\n",
    "                  legend.position=\"bottom\")\n",
    "  \n",
    "  \n",
    "\n",
    "\n",
    "\n",
    "\n",
    "  "
   ]
  },
  {
   "cell_type": "code",
   "execution_count": 151,
   "id": "b7c28e2f-3963-4636-bd27-b03bab9cf958",
   "metadata": {
    "execution": {
     "iopub.execute_input": "2025-10-13T14:53:44.235823Z",
     "iopub.status.busy": "2025-10-13T14:53:44.234932Z",
     "iopub.status.idle": "2025-10-13T14:53:44.571811Z",
     "shell.execute_reply": "2025-10-13T14:53:44.570218Z"
    }
   },
   "outputs": [],
   "source": [
    "setwd(\"/group/soranzo/manuel.tardaguila/2025_hESC_MK_SCRNAseq_10X/no_competition/RPCA/graphs/\")\n",
    "\n",
    "svgname<-paste(\"Stacked_barplot_Integrated_annotation_by_Subclusters_11\",\".svg\",sep='')\n",
    "makesvg = TRUE\n",
    "\n",
    "if (makesvg == TRUE)\n",
    "{\n",
    "  ggsave(svgname, plot= stacked_barplot,\n",
    "         width = 25,        # Set the width to 8\n",
    "      height = 12.5,       # Set the height to 5\n",
    "      units = \"cm\",    # Specify the units as inches\n",
    "         device=\"svg\")\n",
    "}\n",
    "\n",
    "\n",
    "  "
   ]
  },
  {
   "cell_type": "code",
   "execution_count": 152,
   "id": "e14683b9-bbaa-480e-9dff-ad904d5e822d",
   "metadata": {
    "execution": {
     "iopub.execute_input": "2025-10-13T14:53:44.575448Z",
     "iopub.status.busy": "2025-10-13T14:53:44.574310Z",
     "iopub.status.idle": "2025-10-13T14:53:44.583398Z",
     "shell.execute_reply": "2025-10-13T14:53:44.582342Z"
    }
   },
   "outputs": [],
   "source": [
    "# I think that cluster 11 has many subclusters with different majority voting and I will keep Subclusters_11"
   ]
  },
  {
   "cell_type": "markdown",
   "id": "03a2f80b-edaf-47cc-a0c9-2615b8800df5",
   "metadata": {},
   "source": [
    "# Subcluster cluster 13"
   ]
  },
  {
   "cell_type": "code",
   "execution_count": 153,
   "id": "825dd069-b208-4209-8489-ef0409c68a03",
   "metadata": {
    "execution": {
     "iopub.execute_input": "2025-10-13T14:53:44.585974Z",
     "iopub.status.busy": "2025-10-13T14:53:44.585060Z",
     "iopub.status.idle": "2025-10-13T14:53:44.646218Z",
     "shell.execute_reply": "2025-10-13T14:53:44.645023Z"
    }
   },
   "outputs": [
    {
     "name": "stdout",
     "output_type": "stream",
     "text": [
      "Modularity Optimizer version 1.3.0 by Ludo Waltman and Nees Jan van Eck\n",
      "\n",
      "Number of nodes: 1169\n",
      "Number of edges: 9399\n",
      "\n",
      "Running Louvain algorithm...\n",
      "Maximum modularity in 10 random starts: 0.5889\n",
      "Number of communities: 17\n",
      "Elapsed time: 0 seconds\n"
     ]
    }
   ],
   "source": [
    "adata<-FindSubCluster(\n",
    "  adata,\n",
    "  13,\n",
    "  'integrated_nn',\n",
    "  subcluster.name = \"Subclusters_13\",\n",
    "  resolution = 2,\n",
    "  algorithm = 1\n",
    ")"
   ]
  },
  {
   "cell_type": "code",
   "execution_count": 154,
   "id": "3d82f80e-c065-432c-a886-b75eebfdb23e",
   "metadata": {
    "execution": {
     "iopub.execute_input": "2025-10-13T14:53:44.648892Z",
     "iopub.status.busy": "2025-10-13T14:53:44.647962Z",
     "iopub.status.idle": "2025-10-13T14:53:44.659666Z",
     "shell.execute_reply": "2025-10-13T14:53:44.658607Z"
    }
   },
   "outputs": [],
   "source": [
    "adata@meta.data$Subclusters_13<-as.factor(adata@meta.data$Subclusters_13)"
   ]
  },
  {
   "cell_type": "markdown",
   "id": "9173d03f-ae08-4486-a02d-9cd3cc84ac0f",
   "metadata": {},
   "source": [
    "## UMAP plots"
   ]
  },
  {
   "cell_type": "code",
   "execution_count": 155,
   "id": "6a8a88dc-aeff-4f3e-928a-916958147720",
   "metadata": {
    "execution": {
     "iopub.execute_input": "2025-10-13T14:53:44.662279Z",
     "iopub.status.busy": "2025-10-13T14:53:44.661354Z",
     "iopub.status.idle": "2025-10-13T14:53:45.518626Z",
     "shell.execute_reply": "2025-10-13T14:53:45.517375Z"
    }
   },
   "outputs": [
    {
     "name": "stderr",
     "output_type": "stream",
     "text": [
      "Warning message:\n",
      "“ggrepel: 18 unlabeled data points (too many overlaps). Consider increasing max.overlaps”\n"
     ]
    },
    {
     "data": {
      "text/html": [
       "<strong>pdf:</strong> 2"
      ],
      "text/latex": [
       "\\textbf{pdf:} 2"
      ],
      "text/markdown": [
       "**pdf:** 2"
      ],
      "text/plain": [
       "pdf \n",
       "  2 "
      ]
     },
     "metadata": {},
     "output_type": "display_data"
    }
   ],
   "source": [
    "p1 <- DimPlot(adata, reduction = \"umap\", group.by = \"Subclusters_13\", label = TRUE, label.size = 5, repel = TRUE)\n",
    "\n",
    "\n",
    "\n",
    "\n",
    "setwd(path_graphs)\n",
    "\n",
    "svglite(file='UMAP_by_Subclusters_13.svg', width = 5.5, height = 4.9) \n",
    "\n",
    "# 2. CRITICAL: Use print() to force the plot to be drawn to the file.\n",
    "print(\n",
    "  p1 +\n",
    "  # Apply your desired theme and guides\n",
    "  theme(legend.position=\"right\", legend.title=element_blank(), legend.text = element_text(family=\"sans\"))\n",
    ")\n",
    "\n",
    "# 3. Close the device to finalize and save the SVG file.\n",
    "dev.off()"
   ]
  },
  {
   "cell_type": "code",
   "execution_count": 156,
   "id": "0a266e78-9801-4b34-96ea-bd9c66fc80f8",
   "metadata": {
    "execution": {
     "iopub.execute_input": "2025-10-13T14:53:45.521240Z",
     "iopub.status.busy": "2025-10-13T14:53:45.520316Z",
     "iopub.status.idle": "2025-10-13T14:53:45.529680Z",
     "shell.execute_reply": "2025-10-13T14:53:45.528637Z"
    }
   },
   "outputs": [],
   "source": [
    "markers<-c('SOX2','SOX4','POU5F1',\"TBXT\",'BMP4','MIXL1',\"KDR\",'CDH5','CD34','GYPA','HBA2','HBZ','ITGA2B','GP1BA','GP1BB','TUBB1','CDKN2D','MAPK14')"
   ]
  },
  {
   "cell_type": "markdown",
   "id": "b0157b1c-9c89-4abd-89cd-67992935ef41",
   "metadata": {},
   "source": [
    "## DotPlot"
   ]
  },
  {
   "cell_type": "code",
   "execution_count": 157,
   "id": "058b31c8-3bae-4a1d-ac41-1664bfecf618",
   "metadata": {
    "execution": {
     "iopub.execute_input": "2025-10-13T14:53:45.532226Z",
     "iopub.status.busy": "2025-10-13T14:53:45.531329Z",
     "iopub.status.idle": "2025-10-13T14:53:46.243258Z",
     "shell.execute_reply": "2025-10-13T14:53:46.241963Z"
    }
   },
   "outputs": [],
   "source": [
    "dotplot3<-DotPlot(\n",
    "  adata,\n",
    "    features=markers,\n",
    "  assay = \"SCT\",\n",
    "    group.by=\"Subclusters_13\")+\n",
    "ylab('Clusters')+\n",
    "xlab('Marker genes')+\n",
    " theme_classic()+\n",
    "    theme(axis.title=element_blank(),\n",
    "          axis.title.y=element_text(color=\"black\", family=\"sans\", size=12),\n",
    "          axis.title.x=element_text(color=\"black\", family=\"sans\", size=12),\n",
    "          axis.text.y=element_text(color=\"black\", family=\"sans\", size=8),\n",
    "          axis.text.x=element_text(angle=45,vjust=1,hjust=1, color=\"black\", family=\"sans\", size=8))\n",
    "\n"
   ]
  },
  {
   "cell_type": "code",
   "execution_count": 158,
   "id": "8f88bcd7-0a08-4c1b-9b0c-247ef9d31bf6",
   "metadata": {
    "execution": {
     "iopub.execute_input": "2025-10-13T14:53:46.246010Z",
     "iopub.status.busy": "2025-10-13T14:53:46.245038Z",
     "iopub.status.idle": "2025-10-13T14:53:46.550004Z",
     "shell.execute_reply": "2025-10-13T14:53:46.548719Z"
    }
   },
   "outputs": [
    {
     "name": "stderr",
     "output_type": "stream",
     "text": [
      "\u001b[1m\u001b[22mSaving 7 x 7 in image\n"
     ]
    }
   ],
   "source": [
    "setwd(\"/group/soranzo/manuel.tardaguila/2025_hESC_MK_SCRNAseq_10X/no_competition/RPCA/graphs/\")\n",
    "\n",
    "svgname<-paste(\"Dotplot_Subclusters_13\",\".svg\",sep='')\n",
    "makesvg = TRUE\n",
    "\n",
    "if (makesvg == TRUE)\n",
    "{\n",
    "  ggsave(svgname, plot= dotplot3,\n",
    "         device=\"svg\")\n",
    "}"
   ]
  },
  {
   "cell_type": "markdown",
   "id": "c7a04f36-f819-440e-a58f-b73a28619fdb",
   "metadata": {},
   "source": [
    "## Stacked barplots"
   ]
  },
  {
   "cell_type": "markdown",
   "id": "af8e6a3d-3b6c-44f7-81f9-ea290f2ad9b6",
   "metadata": {},
   "source": [
    "### Integrated_annotation vs Subclusters_13"
   ]
  },
  {
   "cell_type": "code",
   "execution_count": 159,
   "id": "b5d77c79-0463-449c-9e2d-3a942f656d8b",
   "metadata": {
    "execution": {
     "iopub.execute_input": "2025-10-13T14:53:46.552741Z",
     "iopub.status.busy": "2025-10-13T14:53:46.551778Z",
     "iopub.status.idle": "2025-10-13T14:53:46.561269Z",
     "shell.execute_reply": "2025-10-13T14:53:46.560205Z"
    }
   },
   "outputs": [],
   "source": [
    "met<-adata[[]]"
   ]
  },
  {
   "cell_type": "code",
   "execution_count": 160,
   "id": "b8149146-9c65-4b69-a26d-c0ba1993ed5d",
   "metadata": {
    "execution": {
     "iopub.execute_input": "2025-10-13T14:53:46.563839Z",
     "iopub.status.busy": "2025-10-13T14:53:46.562926Z",
     "iopub.status.idle": "2025-10-13T14:53:46.573992Z",
     "shell.execute_reply": "2025-10-13T14:53:46.572893Z"
    }
   },
   "outputs": [
    {
     "data": {
      "text/html": [
       "<style>\n",
       ".list-inline {list-style: none; margin:0; padding: 0}\n",
       ".list-inline>li {display: inline-block}\n",
       ".list-inline>li:not(:last-child)::after {content: \"\\00b7\"; padding: 0 .5ex}\n",
       "</style>\n",
       "<ol class=list-inline><li>'orig.ident'</li><li>'nCount_RNA'</li><li>'nFeature_RNA'</li><li>'nCount_RNA_raw'</li><li>'nFeature_RNA_raw'</li><li>'percent.mt'</li><li>'scDblFinder.class'</li><li>'scDblFinder.score'</li><li>'scDblFinder.weighted'</li><li>'scDblFinder.cxds_score'</li><li>'Diff'</li><li>'nCount_SCT'</li><li>'nFeature_SCT'</li><li>'SCT_snn_res.2'</li><li>'seurat_clusters'</li><li>'SCT_snn_res.0.5'</li><li>'CellTypist_label_Alsinet'</li><li>'CellTypist_conf_score_Alsinet'</li><li>'CellTypist_label_FBMA'</li><li>'CellTypist_conf_score_FBMA'</li><li>'CellTypist_label_Immune_ALL_low'</li><li>'CellTypist_conf_score_Immune_ALL_low'</li><li>'Integrated_annotation'</li><li>'integrated_nn_res.0.5'</li><li>'Subclusters_2'</li><li>'Subclusters_5'</li><li>'Subclusters_7'</li><li>'Subclusters_9'</li><li>'Subclusters_10'</li><li>'Subclusters_11'</li><li>'Subclusters_13'</li></ol>\n"
      ],
      "text/latex": [
       "\\begin{enumerate*}\n",
       "\\item 'orig.ident'\n",
       "\\item 'nCount\\_RNA'\n",
       "\\item 'nFeature\\_RNA'\n",
       "\\item 'nCount\\_RNA\\_raw'\n",
       "\\item 'nFeature\\_RNA\\_raw'\n",
       "\\item 'percent.mt'\n",
       "\\item 'scDblFinder.class'\n",
       "\\item 'scDblFinder.score'\n",
       "\\item 'scDblFinder.weighted'\n",
       "\\item 'scDblFinder.cxds\\_score'\n",
       "\\item 'Diff'\n",
       "\\item 'nCount\\_SCT'\n",
       "\\item 'nFeature\\_SCT'\n",
       "\\item 'SCT\\_snn\\_res.2'\n",
       "\\item 'seurat\\_clusters'\n",
       "\\item 'SCT\\_snn\\_res.0.5'\n",
       "\\item 'CellTypist\\_label\\_Alsinet'\n",
       "\\item 'CellTypist\\_conf\\_score\\_Alsinet'\n",
       "\\item 'CellTypist\\_label\\_FBMA'\n",
       "\\item 'CellTypist\\_conf\\_score\\_FBMA'\n",
       "\\item 'CellTypist\\_label\\_Immune\\_ALL\\_low'\n",
       "\\item 'CellTypist\\_conf\\_score\\_Immune\\_ALL\\_low'\n",
       "\\item 'Integrated\\_annotation'\n",
       "\\item 'integrated\\_nn\\_res.0.5'\n",
       "\\item 'Subclusters\\_2'\n",
       "\\item 'Subclusters\\_5'\n",
       "\\item 'Subclusters\\_7'\n",
       "\\item 'Subclusters\\_9'\n",
       "\\item 'Subclusters\\_10'\n",
       "\\item 'Subclusters\\_11'\n",
       "\\item 'Subclusters\\_13'\n",
       "\\end{enumerate*}\n"
      ],
      "text/markdown": [
       "1. 'orig.ident'\n",
       "2. 'nCount_RNA'\n",
       "3. 'nFeature_RNA'\n",
       "4. 'nCount_RNA_raw'\n",
       "5. 'nFeature_RNA_raw'\n",
       "6. 'percent.mt'\n",
       "7. 'scDblFinder.class'\n",
       "8. 'scDblFinder.score'\n",
       "9. 'scDblFinder.weighted'\n",
       "10. 'scDblFinder.cxds_score'\n",
       "11. 'Diff'\n",
       "12. 'nCount_SCT'\n",
       "13. 'nFeature_SCT'\n",
       "14. 'SCT_snn_res.2'\n",
       "15. 'seurat_clusters'\n",
       "16. 'SCT_snn_res.0.5'\n",
       "17. 'CellTypist_label_Alsinet'\n",
       "18. 'CellTypist_conf_score_Alsinet'\n",
       "19. 'CellTypist_label_FBMA'\n",
       "20. 'CellTypist_conf_score_FBMA'\n",
       "21. 'CellTypist_label_Immune_ALL_low'\n",
       "22. 'CellTypist_conf_score_Immune_ALL_low'\n",
       "23. 'Integrated_annotation'\n",
       "24. 'integrated_nn_res.0.5'\n",
       "25. 'Subclusters_2'\n",
       "26. 'Subclusters_5'\n",
       "27. 'Subclusters_7'\n",
       "28. 'Subclusters_9'\n",
       "29. 'Subclusters_10'\n",
       "30. 'Subclusters_11'\n",
       "31. 'Subclusters_13'\n",
       "\n",
       "\n"
      ],
      "text/plain": [
       " [1] \"orig.ident\"                          \n",
       " [2] \"nCount_RNA\"                          \n",
       " [3] \"nFeature_RNA\"                        \n",
       " [4] \"nCount_RNA_raw\"                      \n",
       " [5] \"nFeature_RNA_raw\"                    \n",
       " [6] \"percent.mt\"                          \n",
       " [7] \"scDblFinder.class\"                   \n",
       " [8] \"scDblFinder.score\"                   \n",
       " [9] \"scDblFinder.weighted\"                \n",
       "[10] \"scDblFinder.cxds_score\"              \n",
       "[11] \"Diff\"                                \n",
       "[12] \"nCount_SCT\"                          \n",
       "[13] \"nFeature_SCT\"                        \n",
       "[14] \"SCT_snn_res.2\"                       \n",
       "[15] \"seurat_clusters\"                     \n",
       "[16] \"SCT_snn_res.0.5\"                     \n",
       "[17] \"CellTypist_label_Alsinet\"            \n",
       "[18] \"CellTypist_conf_score_Alsinet\"       \n",
       "[19] \"CellTypist_label_FBMA\"               \n",
       "[20] \"CellTypist_conf_score_FBMA\"          \n",
       "[21] \"CellTypist_label_Immune_ALL_low\"     \n",
       "[22] \"CellTypist_conf_score_Immune_ALL_low\"\n",
       "[23] \"Integrated_annotation\"               \n",
       "[24] \"integrated_nn_res.0.5\"               \n",
       "[25] \"Subclusters_2\"                       \n",
       "[26] \"Subclusters_5\"                       \n",
       "[27] \"Subclusters_7\"                       \n",
       "[28] \"Subclusters_9\"                       \n",
       "[29] \"Subclusters_10\"                      \n",
       "[30] \"Subclusters_11\"                      \n",
       "[31] \"Subclusters_13\"                      "
      ]
     },
     "metadata": {},
     "output_type": "display_data"
    }
   ],
   "source": [
    "colnames(met)"
   ]
  },
  {
   "cell_type": "code",
   "execution_count": 161,
   "id": "ae6b7671-1792-4558-bbb0-3c41417f2aec",
   "metadata": {
    "execution": {
     "iopub.execute_input": "2025-10-13T14:53:46.576569Z",
     "iopub.status.busy": "2025-10-13T14:53:46.575661Z",
     "iopub.status.idle": "2025-10-13T14:53:46.590450Z",
     "shell.execute_reply": "2025-10-13T14:53:46.589255Z"
    }
   },
   "outputs": [],
   "source": [
    "met.dt<-data.table(met,key=c(\"Subclusters_13\",\"Integrated_annotation\"))"
   ]
  },
  {
   "cell_type": "code",
   "execution_count": 162,
   "id": "22a3a217-3dfc-4442-900f-cd3974d18cb8",
   "metadata": {
    "execution": {
     "iopub.execute_input": "2025-10-13T14:53:46.593161Z",
     "iopub.status.busy": "2025-10-13T14:53:46.592231Z",
     "iopub.status.idle": "2025-10-13T14:53:46.600654Z",
     "shell.execute_reply": "2025-10-13T14:53:46.599541Z"
    }
   },
   "outputs": [],
   "source": [
    "#str(met.dt)"
   ]
  },
  {
   "cell_type": "code",
   "execution_count": 163,
   "id": "b1c13985-16ba-474e-9941-013f2f5c708e",
   "metadata": {
    "execution": {
     "iopub.execute_input": "2025-10-13T14:53:46.603266Z",
     "iopub.status.busy": "2025-10-13T14:53:46.602349Z",
     "iopub.status.idle": "2025-10-13T14:53:46.613274Z",
     "shell.execute_reply": "2025-10-13T14:53:46.612177Z"
    }
   },
   "outputs": [],
   "source": [
    "Freq.table<-as.data.frame(met.dt[,.(Freq=.N),by=key(met.dt)], stringsAsFactors=F)\n",
    "#Freq.table"
   ]
  },
  {
   "cell_type": "code",
   "execution_count": 164,
   "id": "c97d3572-e85c-40a0-a2ef-c1f815c4e776",
   "metadata": {
    "execution": {
     "iopub.execute_input": "2025-10-13T14:53:46.615850Z",
     "iopub.status.busy": "2025-10-13T14:53:46.614930Z",
     "iopub.status.idle": "2025-10-13T14:53:46.631067Z",
     "shell.execute_reply": "2025-10-13T14:53:46.629896Z"
    }
   },
   "outputs": [],
   "source": [
    "met.dt<-data.table(met, key=c(\"Subclusters_13\"))\n",
    "Freq.TOTAL<-as.data.frame(met.dt[,.(TOTAL=.N),by=key(met.dt)], stringsAsFactors=F)\n",
    "#Freq.TOTAL"
   ]
  },
  {
   "cell_type": "code",
   "execution_count": 165,
   "id": "832f0fab-971f-4064-807b-5f5b21069d5f",
   "metadata": {
    "execution": {
     "iopub.execute_input": "2025-10-13T14:53:46.633648Z",
     "iopub.status.busy": "2025-10-13T14:53:46.632735Z",
     "iopub.status.idle": "2025-10-13T14:53:46.643508Z",
     "shell.execute_reply": "2025-10-13T14:53:46.642463Z"
    }
   },
   "outputs": [],
   "source": [
    "Freq.table<-merge(Freq.table,\n",
    "                  Freq.TOTAL,\n",
    "                  by=\"Subclusters_13\")\n",
    "Freq.table$Perc<-round((100*(Freq.table$Freq/Freq.table$TOTAL)),2)\n",
    "\n",
    "#Freq.table"
   ]
  },
  {
   "cell_type": "code",
   "execution_count": 166,
   "id": "8517f84b-e48c-4ecd-8512-27cf3698a7dd",
   "metadata": {
    "execution": {
     "iopub.execute_input": "2025-10-13T14:53:46.646062Z",
     "iopub.status.busy": "2025-10-13T14:53:46.645153Z",
     "iopub.status.idle": "2025-10-13T14:53:46.657357Z",
     "shell.execute_reply": "2025-10-13T14:53:46.656274Z"
    }
   },
   "outputs": [
    {
     "name": "stdout",
     "output_type": "stream",
     "text": [
      "'data.frame':\t190 obs. of  5 variables:\n",
      " $ Subclusters_13       : Factor w/ 32 levels \"1\",\"10\",\"11\",..: 1 1 1 1 1 1 2 2 2 2 ...\n",
      " $ Integrated_annotation: chr  \"MEP\" \"early MK\" \"early erythroid\" \"hESC\" ...\n",
      " $ Freq                 : int  118 14 13 4331 39 22 702 34 6 14 ...\n",
      " $ TOTAL                : int  4537 4537 4537 4537 4537 4537 1455 1455 1455 1455 ...\n",
      " $ Perc                 : num  2.6 0.31 0.29 95.46 0.86 ...\n"
     ]
    }
   ],
   "source": [
    "str(Freq.table)"
   ]
  },
  {
   "cell_type": "code",
   "execution_count": 167,
   "id": "1c985fbc-dfd0-4967-a838-510959d99463",
   "metadata": {
    "execution": {
     "iopub.execute_input": "2025-10-13T14:53:46.659849Z",
     "iopub.status.busy": "2025-10-13T14:53:46.658955Z",
     "iopub.status.idle": "2025-10-13T14:53:46.676182Z",
     "shell.execute_reply": "2025-10-13T14:53:46.675076Z"
    }
   },
   "outputs": [],
   "source": [
    "met.dt<-data.table(met, key=c(\"Integrated_annotation\"))\n",
    "Freq.table_Integrated<-as.data.frame(met.dt[,.(Freq_Integrated_annotation=.N),by=key(met.dt)], stringsAsFactors=F)\n",
    "\n",
    "Freq.table<-merge(Freq.table,\n",
    "                  Freq.table_Integrated,\n",
    "                  by=\"Integrated_annotation\")\n",
    "\n",
    "#Freq.table"
   ]
  },
  {
   "cell_type": "code",
   "execution_count": 168,
   "id": "bd44f5d0-92ca-42af-bcf9-82ae1f34b83b",
   "metadata": {
    "execution": {
     "iopub.execute_input": "2025-10-13T14:53:46.678672Z",
     "iopub.status.busy": "2025-10-13T14:53:46.677798Z",
     "iopub.status.idle": "2025-10-13T14:53:46.690098Z",
     "shell.execute_reply": "2025-10-13T14:53:46.689010Z"
    }
   },
   "outputs": [
    {
     "name": "stdout",
     "output_type": "stream",
     "text": [
      "'data.frame':\t190 obs. of  6 variables:\n",
      " $ Integrated_annotation     : chr  \"early erythroid\" \"early erythroid\" \"early erythroid\" \"early erythroid\" ...\n",
      " $ Subclusters_13            : Factor w/ 32 levels \"1\",\"10\",\"11\",..: 7 10 1 2 21 27 16 14 6 12 ...\n",
      " $ Freq                      : int  1 1 13 14 3 1 11 3 3 2 ...\n",
      " $ TOTAL                     : int  61 53 4537 1455 62 3348 86 89 92 45 ...\n",
      " $ Perc                      : num  1.64 1.89 0.29 0.96 4.84 ...\n",
      " $ Freq_Integrated_annotation: int  2286 2286 2286 2286 2286 2286 2286 2286 2286 2286 ...\n"
     ]
    }
   ],
   "source": [
    "str(Freq.table)"
   ]
  },
  {
   "cell_type": "code",
   "execution_count": 169,
   "id": "92a45d45-4606-49c9-931a-30be8d072a18",
   "metadata": {
    "execution": {
     "iopub.execute_input": "2025-10-13T14:53:46.692628Z",
     "iopub.status.busy": "2025-10-13T14:53:46.691744Z",
     "iopub.status.idle": "2025-10-13T14:53:46.700313Z",
     "shell.execute_reply": "2025-10-13T14:53:46.699294Z"
    }
   },
   "outputs": [],
   "source": [
    "vector_colors_Integrated_annotation<-c(brewer.pal(9, \"Set1\"),\"white\")"
   ]
  },
  {
   "cell_type": "code",
   "execution_count": 170,
   "id": "9f8c1250-2cc0-417c-ba5d-e564e234c869",
   "metadata": {
    "execution": {
     "iopub.execute_input": "2025-10-13T14:53:46.702874Z",
     "iopub.status.busy": "2025-10-13T14:53:46.701973Z",
     "iopub.status.idle": "2025-10-13T14:53:46.733466Z",
     "shell.execute_reply": "2025-10-13T14:53:46.732436Z"
    },
    "scrolled": true
   },
   "outputs": [
    {
     "name": "stdout",
     "output_type": "stream",
     "text": [
      "-------------------------------------->\t0 25 50 75 100\n"
     ]
    }
   ],
   "source": [
    " #### Stacked Graph ---------------\n",
    "  \n",
    "  breaks.Rank<-(seq(0,100,by=25))\n",
    "  labels.Rank<-as.character(breaks.Rank)\n",
    "  \n",
    "  cat(\"-------------------------------------->\\t\")\n",
    "  cat(sprintf(as.character(labels.Rank)))\n",
    "  cat(\"\\n\")\n",
    "  \n",
    "  \n",
    "  stacked_barplot<-Freq.table %>%\n",
    "    mutate(myaxis = paste0(Subclusters_13, \" \", \"n=\", TOTAL), drop=F) %>%\n",
    "    mutate(myaxis=fct_reorder(myaxis,as.numeric(Subclusters_13)), drop=F) %>%\n",
    "    ggplot(aes(x=myaxis, y=Perc, fill=Integrated_annotation)) +\n",
    "    geom_bar(stat=\"identity\",colour='white')+\n",
    "    scale_y_continuous(name=paste(\"Percentage of cells in each cluster\",sep=\" \"),breaks=breaks.Rank,labels=labels.Rank,\n",
    "                       limits=c(breaks.Rank[1],breaks.Rank[length(breaks.Rank)]+1))+\n",
    "    scale_fill_manual(values=vector_colors_Integrated_annotation,\n",
    "                      drop=F,\n",
    "                      name=\"My Annotation\", breaks=Freq.table_Integrated$Integrated_annotation,\n",
    "                      labels=paste(Freq.table_Integrated$Integrated_annotation,\n",
    "                                   Freq.table_Integrated$Freq_Integrated_annotation, sep =' n= '))+\n",
    "        theme_classic()+\n",
    "            theme(axis.title.y=element_text(size=12, color=\"black\", family=\"sans\"),\n",
    "                  axis.title.x=element_blank(),\n",
    "                  axis.text.y=element_text(angle=0,size=10, color=\"black\", family=\"sans\"),\n",
    "                  axis.text.x=element_text(angle=45,size=10,vjust=1,hjust=1,color=\"black\", family=\"sans\"),\n",
    "                  axis.line.x = element_line(size = 0.2),\n",
    "                  axis.ticks.x = element_line(size = 0.2),\n",
    "                  axis.ticks.y = element_line(size = 0.2),\n",
    "                  axis.line.y = element_line(size = 0.2))+\n",
    "            theme(legend.title = element_blank(),\n",
    "                  legend.text = element_text(size=8, color=\"black\", family=\"sans\"),\n",
    "                  legend.key.size = unit(0.25, 'cm'), #change legend key size\n",
    "                  legend.key.height = unit(0.25, 'cm'), #change legend key height\n",
    "                  legend.key.width = unit(0.25, 'cm'), #change legend key width\n",
    "                  legend.position=\"bottom\")\n",
    "  \n",
    "  \n",
    "\n",
    "\n",
    "\n",
    "\n",
    "  "
   ]
  },
  {
   "cell_type": "code",
   "execution_count": 171,
   "id": "fec17cee-4401-4fe5-8a22-c96175c5e2ec",
   "metadata": {
    "execution": {
     "iopub.execute_input": "2025-10-13T14:53:46.735944Z",
     "iopub.status.busy": "2025-10-13T14:53:46.735069Z",
     "iopub.status.idle": "2025-10-13T14:53:46.990571Z",
     "shell.execute_reply": "2025-10-13T14:53:46.989276Z"
    }
   },
   "outputs": [],
   "source": [
    "setwd(\"/group/soranzo/manuel.tardaguila/2025_hESC_MK_SCRNAseq_10X/no_competition/RPCA/graphs/\")\n",
    "\n",
    "svgname<-paste(\"Stacked_barplot_Integrated_annotation_by_Subclusters_13\",\".svg\",sep='')\n",
    "makesvg = TRUE\n",
    "\n",
    "if (makesvg == TRUE)\n",
    "{\n",
    "  ggsave(svgname, plot= stacked_barplot,\n",
    "         width = 25,        # Set the width to 8\n",
    "      height = 12.5,       # Set the height to 5\n",
    "      units = \"cm\",    # Specify the units as inches\n",
    "         device=\"svg\")\n",
    "}\n",
    "\n",
    "\n",
    "  "
   ]
  },
  {
   "cell_type": "code",
   "execution_count": 172,
   "id": "98d9b42d-e672-4bf9-be17-d9291f9682e1",
   "metadata": {
    "execution": {
     "iopub.execute_input": "2025-10-13T14:53:46.993357Z",
     "iopub.status.busy": "2025-10-13T14:53:46.992370Z",
     "iopub.status.idle": "2025-10-13T14:53:47.001383Z",
     "shell.execute_reply": "2025-10-13T14:53:47.000215Z"
    }
   },
   "outputs": [],
   "source": [
    "# I think that cluster 13 has no subclusters with different majority voting and I will keep cluster 13"
   ]
  },
  {
   "cell_type": "markdown",
   "id": "8d60cbf2-21f3-4dcd-8a27-1900d14f3cc3",
   "metadata": {},
   "source": [
    "# My own clusters"
   ]
  },
  {
   "cell_type": "code",
   "execution_count": 173,
   "id": "bccd8d93-5251-4f7f-9f38-a607c298c83e",
   "metadata": {
    "execution": {
     "iopub.execute_input": "2025-10-13T14:53:47.004071Z",
     "iopub.status.busy": "2025-10-13T14:53:47.003113Z",
     "iopub.status.idle": "2025-10-13T14:53:47.026445Z",
     "shell.execute_reply": "2025-10-13T14:53:47.010592Z"
    }
   },
   "outputs": [],
   "source": [
    "# I think that cluster 2 should be MEP, no matter how I split it in every subluster there is always a mohority of MEP"
   ]
  },
  {
   "cell_type": "code",
   "execution_count": 174,
   "id": "89e2eb8a-59ef-4198-8a86-4c71292d49fa",
   "metadata": {
    "execution": {
     "iopub.execute_input": "2025-10-13T14:53:47.030243Z",
     "iopub.status.busy": "2025-10-13T14:53:47.028963Z",
     "iopub.status.idle": "2025-10-13T14:53:47.039525Z",
     "shell.execute_reply": "2025-10-13T14:53:47.038004Z"
    }
   },
   "outputs": [],
   "source": [
    "# I think that cluster 5 has some subclusters with the majority being 'early erythroid' so I am going to keep Subclusters_5"
   ]
  },
  {
   "cell_type": "code",
   "execution_count": 175,
   "id": "09874d5d-ebb9-4fa9-917b-f72afb8e62e1",
   "metadata": {
    "execution": {
     "iopub.execute_input": "2025-10-13T14:53:47.043035Z",
     "iopub.status.busy": "2025-10-13T14:53:47.041864Z",
     "iopub.status.idle": "2025-10-13T14:53:47.051432Z",
     "shell.execute_reply": "2025-10-13T14:53:47.050363Z"
    }
   },
   "outputs": [],
   "source": [
    "# I think that cluster 7 has some subclusters with the majority being 'early erythroid' so I am going to keep Subclusters_7"
   ]
  },
  {
   "cell_type": "code",
   "execution_count": 176,
   "id": "c81b0b55-8162-43aa-854e-95c93a0ccad8",
   "metadata": {
    "execution": {
     "iopub.execute_input": "2025-10-13T14:53:47.054011Z",
     "iopub.status.busy": "2025-10-13T14:53:47.053090Z",
     "iopub.status.idle": "2025-10-13T14:53:47.061196Z",
     "shell.execute_reply": "2025-10-13T14:53:47.060153Z"
    }
   },
   "outputs": [],
   "source": [
    "# I think that cluster 9 has no subclusters and should remain majoritarily unassigned"
   ]
  },
  {
   "cell_type": "code",
   "execution_count": 177,
   "id": "9fb84ddd-f0a5-4b9d-9d64-fb8af32a94ad",
   "metadata": {
    "execution": {
     "iopub.execute_input": "2025-10-13T14:53:47.063732Z",
     "iopub.status.busy": "2025-10-13T14:53:47.062824Z",
     "iopub.status.idle": "2025-10-13T14:53:47.070796Z",
     "shell.execute_reply": "2025-10-13T14:53:47.069754Z"
    }
   },
   "outputs": [],
   "source": [
    "# I think that cluster 10 has many subclusters with different majority voting and I will keep Subclusters_10"
   ]
  },
  {
   "cell_type": "code",
   "execution_count": 178,
   "id": "3b16c51b-6811-4651-adf2-52caf64d183f",
   "metadata": {
    "execution": {
     "iopub.execute_input": "2025-10-13T14:53:47.073336Z",
     "iopub.status.busy": "2025-10-13T14:53:47.072414Z",
     "iopub.status.idle": "2025-10-13T14:53:47.080383Z",
     "shell.execute_reply": "2025-10-13T14:53:47.079318Z"
    }
   },
   "outputs": [],
   "source": [
    "# I think that cluster 11 has many subclusters with different majority voting and I will keep Subclusters_11"
   ]
  },
  {
   "cell_type": "code",
   "execution_count": 179,
   "id": "d8a90674-c0e8-43a8-91bd-3a0962e3c692",
   "metadata": {
    "execution": {
     "iopub.execute_input": "2025-10-13T14:53:49.440300Z",
     "iopub.status.busy": "2025-10-13T14:53:49.439265Z",
     "iopub.status.idle": "2025-10-13T14:53:49.448185Z",
     "shell.execute_reply": "2025-10-13T14:53:49.447091Z"
    }
   },
   "outputs": [],
   "source": [
    "# I think that cluster 13 has no subclusters with different majority voting and I will keep cluster 13"
   ]
  },
  {
   "cell_type": "code",
   "execution_count": 180,
   "id": "6d446f74-38f5-4b08-907f-a1de41871586",
   "metadata": {
    "execution": {
     "iopub.execute_input": "2025-10-13T14:53:49.691627Z",
     "iopub.status.busy": "2025-10-13T14:53:49.690679Z",
     "iopub.status.idle": "2025-10-13T14:53:49.701284Z",
     "shell.execute_reply": "2025-10-13T14:53:49.700144Z"
    }
   },
   "outputs": [
    {
     "name": "stdout",
     "output_type": "stream",
     "text": [
      " Factor w/ 16 levels \"1\",\"2\",\"3\",\"4\",..: 6 1 6 15 3 1 6 6 4 6 ...\n"
     ]
    }
   ],
   "source": [
    "str(adata@meta.data$seurat_clusters)"
   ]
  },
  {
   "cell_type": "code",
   "execution_count": 181,
   "id": "9e54b81c-47e3-4656-ba08-c63cf14b598b",
   "metadata": {
    "execution": {
     "iopub.execute_input": "2025-10-13T14:53:50.024646Z",
     "iopub.status.busy": "2025-10-13T14:53:50.023730Z",
     "iopub.status.idle": "2025-10-13T14:53:50.032733Z",
     "shell.execute_reply": "2025-10-13T14:53:50.031643Z"
    }
   },
   "outputs": [],
   "source": [
    "adata@meta.data$my_own_clusters<-NA"
   ]
  },
  {
   "cell_type": "code",
   "execution_count": 182,
   "id": "0d9c1484-3140-4bc5-b807-d661578a849c",
   "metadata": {
    "execution": {
     "iopub.execute_input": "2025-10-13T14:53:50.475803Z",
     "iopub.status.busy": "2025-10-13T14:53:50.474852Z",
     "iopub.status.idle": "2025-10-13T14:53:50.484266Z",
     "shell.execute_reply": "2025-10-13T14:53:50.483145Z"
    }
   },
   "outputs": [],
   "source": [
    "adata@meta.data$seurat_clusters<-as.character(adata@meta.data$seurat_clusters)"
   ]
  },
  {
   "cell_type": "code",
   "execution_count": 183,
   "id": "d5f698c3-718a-44cd-a324-bbfc61b33bf7",
   "metadata": {
    "execution": {
     "iopub.execute_input": "2025-10-13T14:53:51.739367Z",
     "iopub.status.busy": "2025-10-13T14:53:51.738305Z",
     "iopub.status.idle": "2025-10-13T14:53:51.752061Z",
     "shell.execute_reply": "2025-10-13T14:53:51.750888Z"
    }
   },
   "outputs": [
    {
     "name": "stdout",
     "output_type": "stream",
     "text": [
      " int [1:26719] 1 2 3 4 5 6 7 8 9 10 ...\n"
     ]
    }
   ],
   "source": [
    "indx<-which(adata@meta.data$seurat_clusters%in%c('1','2','3','4','6','8','9','12','13','14','15','16'))\n",
    "\n",
    "str(indx)"
   ]
  },
  {
   "cell_type": "code",
   "execution_count": 184,
   "id": "fedf58eb-b164-4af0-b5ca-668819ca9c89",
   "metadata": {
    "execution": {
     "iopub.execute_input": "2025-10-13T14:53:52.336507Z",
     "iopub.status.busy": "2025-10-13T14:53:52.335528Z",
     "iopub.status.idle": "2025-10-13T14:53:52.345539Z",
     "shell.execute_reply": "2025-10-13T14:53:52.344457Z"
    }
   },
   "outputs": [],
   "source": [
    "adata@meta.data$my_own_clusters[indx]<-as.character(adata@meta.data$seurat_clusters[indx])"
   ]
  },
  {
   "cell_type": "markdown",
   "id": "fca3bff0-3bfb-4771-a938-163684b7ed70",
   "metadata": {},
   "source": [
    "## adapt Subclusters_5"
   ]
  },
  {
   "cell_type": "code",
   "execution_count": 185,
   "id": "6a19244f-f256-473c-862f-272b4cc67962",
   "metadata": {
    "execution": {
     "iopub.execute_input": "2025-10-13T14:53:53.356551Z",
     "iopub.status.busy": "2025-10-13T14:53:53.355566Z",
     "iopub.status.idle": "2025-10-13T14:53:53.368025Z",
     "shell.execute_reply": "2025-10-13T14:53:53.366919Z"
    }
   },
   "outputs": [
    {
     "name": "stdout",
     "output_type": "stream",
     "text": [
      " int [1:3164] 17307 17309 17313 17320 17321 17326 17327 17329 17330 17331 ...\n"
     ]
    }
   ],
   "source": [
    "indx<-which(adata@meta.data$seurat_clusters%in%c('5'))\n",
    "\n",
    "str(indx)"
   ]
  },
  {
   "cell_type": "code",
   "execution_count": 186,
   "id": "a677417e-e82c-4dd1-aa33-6633a2725e8a",
   "metadata": {
    "execution": {
     "iopub.execute_input": "2025-10-13T14:53:53.592633Z",
     "iopub.status.busy": "2025-10-13T14:53:53.591700Z",
     "iopub.status.idle": "2025-10-13T14:53:53.600996Z",
     "shell.execute_reply": "2025-10-13T14:53:53.599945Z"
    }
   },
   "outputs": [],
   "source": [
    "adata@meta.data$my_own_clusters[indx]<-as.character(adata@meta.data$Subclusters_5[indx])"
   ]
  },
  {
   "cell_type": "code",
   "execution_count": 187,
   "id": "adccee75-2463-47b2-a565-6e5b147d98ba",
   "metadata": {
    "execution": {
     "iopub.execute_input": "2025-10-13T14:53:53.826499Z",
     "iopub.status.busy": "2025-10-13T14:53:53.825591Z",
     "iopub.status.idle": "2025-10-13T14:53:53.839500Z",
     "shell.execute_reply": "2025-10-13T14:53:53.838405Z"
    }
   },
   "outputs": [
    {
     "data": {
      "text/html": [
       "<style>\n",
       ".dl-inline {width: auto; margin:0; padding: 0}\n",
       ".dl-inline>dt, .dl-inline>dd {float: none; width: auto; display: inline-block}\n",
       ".dl-inline>dt::after {content: \":\\0020\"; padding-right: .5ex}\n",
       ".dl-inline>dt:not(:first-of-type) {padding-left: .5ex}\n",
       "</style><dl class=dl-inline><dt>1</dt><dd>4537</dd><dt>12</dt><dd>1267</dd><dt>13</dt><dd>1169</dd><dt>14</dt><dd>670</dd><dt>15</dt><dd>664</dd><dt>16</dt><dd>382</dd><dt>2</dt><dd>4020</dd><dt>3</dt><dd>3739</dd><dt>4</dt><dd>3348</dd><dt>5_0</dt><dd>313</dd><dt>5_1</dt><dd>259</dd><dt>5_10</dt><dd>148</dd><dt>5_11</dt><dd>129</dd><dt>5_12</dt><dd>124</dd><dt>5_13</dt><dd>122</dd><dt>5_14</dt><dd>105</dd><dt>5_15</dt><dd>104</dd><dt>5_16</dt><dd>97</dd><dt>5_17</dt><dd>78</dd><dt>5_18</dt><dd>74</dd><dt>5_19</dt><dd>69</dd><dt>5_2</dt><dd>257</dd><dt>5_3</dt><dd>209</dd><dt>5_4</dt><dd>200</dd><dt>5_5</dt><dd>189</dd><dt>5_6</dt><dd>181</dd><dt>5_7</dt><dd>172</dd><dt>5_8</dt><dd>170</dd><dt>5_9</dt><dd>164</dd><dt>6</dt><dd>2865</dd><dt>8</dt><dd>2370</dd><dt>9</dt><dd>1688</dd><dt>NA's</dt><dd>5337</dd></dl>\n"
      ],
      "text/latex": [
       "\\begin{description*}\n",
       "\\item[1] 4537\n",
       "\\item[12] 1267\n",
       "\\item[13] 1169\n",
       "\\item[14] 670\n",
       "\\item[15] 664\n",
       "\\item[16] 382\n",
       "\\item[2] 4020\n",
       "\\item[3] 3739\n",
       "\\item[4] 3348\n",
       "\\item[5\\textbackslash{}\\_0] 313\n",
       "\\item[5\\textbackslash{}\\_1] 259\n",
       "\\item[5\\textbackslash{}\\_10] 148\n",
       "\\item[5\\textbackslash{}\\_11] 129\n",
       "\\item[5\\textbackslash{}\\_12] 124\n",
       "\\item[5\\textbackslash{}\\_13] 122\n",
       "\\item[5\\textbackslash{}\\_14] 105\n",
       "\\item[5\\textbackslash{}\\_15] 104\n",
       "\\item[5\\textbackslash{}\\_16] 97\n",
       "\\item[5\\textbackslash{}\\_17] 78\n",
       "\\item[5\\textbackslash{}\\_18] 74\n",
       "\\item[5\\textbackslash{}\\_19] 69\n",
       "\\item[5\\textbackslash{}\\_2] 257\n",
       "\\item[5\\textbackslash{}\\_3] 209\n",
       "\\item[5\\textbackslash{}\\_4] 200\n",
       "\\item[5\\textbackslash{}\\_5] 189\n",
       "\\item[5\\textbackslash{}\\_6] 181\n",
       "\\item[5\\textbackslash{}\\_7] 172\n",
       "\\item[5\\textbackslash{}\\_8] 170\n",
       "\\item[5\\textbackslash{}\\_9] 164\n",
       "\\item[6] 2865\n",
       "\\item[8] 2370\n",
       "\\item[9] 1688\n",
       "\\item[NA's] 5337\n",
       "\\end{description*}\n"
      ],
      "text/markdown": [
       "1\n",
       ":   453712\n",
       ":   126713\n",
       ":   116914\n",
       ":   67015\n",
       ":   66416\n",
       ":   3822\n",
       ":   40203\n",
       ":   37394\n",
       ":   33485_0\n",
       ":   3135_1\n",
       ":   2595_10\n",
       ":   1485_11\n",
       ":   1295_12\n",
       ":   1245_13\n",
       ":   1225_14\n",
       ":   1055_15\n",
       ":   1045_16\n",
       ":   975_17\n",
       ":   785_18\n",
       ":   745_19\n",
       ":   695_2\n",
       ":   2575_3\n",
       ":   2095_4\n",
       ":   2005_5\n",
       ":   1895_6\n",
       ":   1815_7\n",
       ":   1725_8\n",
       ":   1705_9\n",
       ":   1646\n",
       ":   28658\n",
       ":   23709\n",
       ":   1688NA's\n",
       ":   5337\n",
       "\n"
      ],
      "text/plain": [
       "   1   12   13   14   15   16    2    3    4  5_0  5_1 5_10 5_11 5_12 5_13 5_14 \n",
       "4537 1267 1169  670  664  382 4020 3739 3348  313  259  148  129  124  122  105 \n",
       "5_15 5_16 5_17 5_18 5_19  5_2  5_3  5_4  5_5  5_6  5_7  5_8  5_9    6    8    9 \n",
       " 104   97   78   74   69  257  209  200  189  181  172  170  164 2865 2370 1688 \n",
       "NA's \n",
       "5337 "
      ]
     },
     "metadata": {},
     "output_type": "display_data"
    }
   ],
   "source": [
    "summary(as.factor(adata@meta.data$my_own_clusters))"
   ]
  },
  {
   "cell_type": "markdown",
   "id": "2f934e54-4a65-4687-976e-8a59b595d2b9",
   "metadata": {},
   "source": [
    "## adapt Subclusters_7"
   ]
  },
  {
   "cell_type": "code",
   "execution_count": 188,
   "id": "4fc07db7-6041-4946-a830-44cc70469290",
   "metadata": {
    "execution": {
     "iopub.execute_input": "2025-10-13T14:53:54.274778Z",
     "iopub.status.busy": "2025-10-13T14:53:54.273852Z",
     "iopub.status.idle": "2025-10-13T14:53:54.285797Z",
     "shell.execute_reply": "2025-10-13T14:53:54.284677Z"
    }
   },
   "outputs": [
    {
     "name": "stdout",
     "output_type": "stream",
     "text": [
      " int [1:2443] 17301 17305 17311 17342 17345 17346 17349 17352 17353 17354 ...\n"
     ]
    }
   ],
   "source": [
    "indx<-which(adata@meta.data$seurat_clusters%in%c('7'))\n",
    "\n",
    "str(indx)"
   ]
  },
  {
   "cell_type": "code",
   "execution_count": 189,
   "id": "4802c5b1-11ec-4b94-99a7-c40fcb1c6d54",
   "metadata": {
    "execution": {
     "iopub.execute_input": "2025-10-13T14:53:54.493375Z",
     "iopub.status.busy": "2025-10-13T14:53:54.492461Z",
     "iopub.status.idle": "2025-10-13T14:53:54.501545Z",
     "shell.execute_reply": "2025-10-13T14:53:54.500514Z"
    }
   },
   "outputs": [],
   "source": [
    "adata@meta.data$my_own_clusters[indx]<-as.character(adata@meta.data$Subclusters_7[indx])"
   ]
  },
  {
   "cell_type": "code",
   "execution_count": 190,
   "id": "bdce7968-e9b5-4487-9887-7ae46568343d",
   "metadata": {
    "execution": {
     "iopub.execute_input": "2025-10-13T14:53:54.695897Z",
     "iopub.status.busy": "2025-10-13T14:53:54.694997Z",
     "iopub.status.idle": "2025-10-13T14:53:54.708505Z",
     "shell.execute_reply": "2025-10-13T14:53:54.707416Z"
    }
   },
   "outputs": [
    {
     "data": {
      "text/html": [
       "<style>\n",
       ".dl-inline {width: auto; margin:0; padding: 0}\n",
       ".dl-inline>dt, .dl-inline>dd {float: none; width: auto; display: inline-block}\n",
       ".dl-inline>dt::after {content: \":\\0020\"; padding-right: .5ex}\n",
       ".dl-inline>dt:not(:first-of-type) {padding-left: .5ex}\n",
       "</style><dl class=dl-inline><dt>1</dt><dd>4537</dd><dt>12</dt><dd>1267</dd><dt>13</dt><dd>1169</dd><dt>14</dt><dd>670</dd><dt>15</dt><dd>664</dd><dt>16</dt><dd>382</dd><dt>2</dt><dd>4020</dd><dt>3</dt><dd>3739</dd><dt>4</dt><dd>3348</dd><dt>5_0</dt><dd>313</dd><dt>5_1</dt><dd>259</dd><dt>5_10</dt><dd>148</dd><dt>5_11</dt><dd>129</dd><dt>5_12</dt><dd>124</dd><dt>5_13</dt><dd>122</dd><dt>5_14</dt><dd>105</dd><dt>5_15</dt><dd>104</dd><dt>5_16</dt><dd>97</dd><dt>5_17</dt><dd>78</dd><dt>5_18</dt><dd>74</dd><dt>5_19</dt><dd>69</dd><dt>5_2</dt><dd>257</dd><dt>5_3</dt><dd>209</dd><dt>5_4</dt><dd>200</dd><dt>5_5</dt><dd>189</dd><dt>5_6</dt><dd>181</dd><dt>5_7</dt><dd>172</dd><dt>5_8</dt><dd>170</dd><dt>5_9</dt><dd>164</dd><dt>6</dt><dd>2865</dd><dt>7_0</dt><dd>200</dd><dt>7_1</dt><dd>199</dd><dt>7_10</dt><dd>114</dd><dt>7_11</dt><dd>105</dd><dt>7_12</dt><dd>103</dd><dt>7_13</dt><dd>100</dd><dt>7_14</dt><dd>96</dd><dt>7_15</dt><dd>94</dd><dt>7_16</dt><dd>68</dd><dt>7_17</dt><dd>67</dd><dt>7_18</dt><dd>66</dd><dt>7_19</dt><dd>49</dd><dt>7_2</dt><dd>190</dd><dt>7_3</dt><dd>183</dd><dt>7_4</dt><dd>150</dd><dt>7_5</dt><dd>149</dd><dt>7_6</dt><dd>132</dd><dt>7_7</dt><dd>132</dd><dt>7_8</dt><dd>126</dd><dt>7_9</dt><dd>120</dd><dt>8</dt><dd>2370</dd><dt>9</dt><dd>1688</dd><dt>NA's</dt><dd>2894</dd></dl>\n"
      ],
      "text/latex": [
       "\\begin{description*}\n",
       "\\item[1] 4537\n",
       "\\item[12] 1267\n",
       "\\item[13] 1169\n",
       "\\item[14] 670\n",
       "\\item[15] 664\n",
       "\\item[16] 382\n",
       "\\item[2] 4020\n",
       "\\item[3] 3739\n",
       "\\item[4] 3348\n",
       "\\item[5\\textbackslash{}\\_0] 313\n",
       "\\item[5\\textbackslash{}\\_1] 259\n",
       "\\item[5\\textbackslash{}\\_10] 148\n",
       "\\item[5\\textbackslash{}\\_11] 129\n",
       "\\item[5\\textbackslash{}\\_12] 124\n",
       "\\item[5\\textbackslash{}\\_13] 122\n",
       "\\item[5\\textbackslash{}\\_14] 105\n",
       "\\item[5\\textbackslash{}\\_15] 104\n",
       "\\item[5\\textbackslash{}\\_16] 97\n",
       "\\item[5\\textbackslash{}\\_17] 78\n",
       "\\item[5\\textbackslash{}\\_18] 74\n",
       "\\item[5\\textbackslash{}\\_19] 69\n",
       "\\item[5\\textbackslash{}\\_2] 257\n",
       "\\item[5\\textbackslash{}\\_3] 209\n",
       "\\item[5\\textbackslash{}\\_4] 200\n",
       "\\item[5\\textbackslash{}\\_5] 189\n",
       "\\item[5\\textbackslash{}\\_6] 181\n",
       "\\item[5\\textbackslash{}\\_7] 172\n",
       "\\item[5\\textbackslash{}\\_8] 170\n",
       "\\item[5\\textbackslash{}\\_9] 164\n",
       "\\item[6] 2865\n",
       "\\item[7\\textbackslash{}\\_0] 200\n",
       "\\item[7\\textbackslash{}\\_1] 199\n",
       "\\item[7\\textbackslash{}\\_10] 114\n",
       "\\item[7\\textbackslash{}\\_11] 105\n",
       "\\item[7\\textbackslash{}\\_12] 103\n",
       "\\item[7\\textbackslash{}\\_13] 100\n",
       "\\item[7\\textbackslash{}\\_14] 96\n",
       "\\item[7\\textbackslash{}\\_15] 94\n",
       "\\item[7\\textbackslash{}\\_16] 68\n",
       "\\item[7\\textbackslash{}\\_17] 67\n",
       "\\item[7\\textbackslash{}\\_18] 66\n",
       "\\item[7\\textbackslash{}\\_19] 49\n",
       "\\item[7\\textbackslash{}\\_2] 190\n",
       "\\item[7\\textbackslash{}\\_3] 183\n",
       "\\item[7\\textbackslash{}\\_4] 150\n",
       "\\item[7\\textbackslash{}\\_5] 149\n",
       "\\item[7\\textbackslash{}\\_6] 132\n",
       "\\item[7\\textbackslash{}\\_7] 132\n",
       "\\item[7\\textbackslash{}\\_8] 126\n",
       "\\item[7\\textbackslash{}\\_9] 120\n",
       "\\item[8] 2370\n",
       "\\item[9] 1688\n",
       "\\item[NA's] 2894\n",
       "\\end{description*}\n"
      ],
      "text/markdown": [
       "1\n",
       ":   453712\n",
       ":   126713\n",
       ":   116914\n",
       ":   67015\n",
       ":   66416\n",
       ":   3822\n",
       ":   40203\n",
       ":   37394\n",
       ":   33485_0\n",
       ":   3135_1\n",
       ":   2595_10\n",
       ":   1485_11\n",
       ":   1295_12\n",
       ":   1245_13\n",
       ":   1225_14\n",
       ":   1055_15\n",
       ":   1045_16\n",
       ":   975_17\n",
       ":   785_18\n",
       ":   745_19\n",
       ":   695_2\n",
       ":   2575_3\n",
       ":   2095_4\n",
       ":   2005_5\n",
       ":   1895_6\n",
       ":   1815_7\n",
       ":   1725_8\n",
       ":   1705_9\n",
       ":   1646\n",
       ":   28657_0\n",
       ":   2007_1\n",
       ":   1997_10\n",
       ":   1147_11\n",
       ":   1057_12\n",
       ":   1037_13\n",
       ":   1007_14\n",
       ":   967_15\n",
       ":   947_16\n",
       ":   687_17\n",
       ":   677_18\n",
       ":   667_19\n",
       ":   497_2\n",
       ":   1907_3\n",
       ":   1837_4\n",
       ":   1507_5\n",
       ":   1497_6\n",
       ":   1327_7\n",
       ":   1327_8\n",
       ":   1267_9\n",
       ":   1208\n",
       ":   23709\n",
       ":   1688NA's\n",
       ":   2894\n",
       "\n"
      ],
      "text/plain": [
       "   1   12   13   14   15   16    2    3    4  5_0  5_1 5_10 5_11 5_12 5_13 5_14 \n",
       "4537 1267 1169  670  664  382 4020 3739 3348  313  259  148  129  124  122  105 \n",
       "5_15 5_16 5_17 5_18 5_19  5_2  5_3  5_4  5_5  5_6  5_7  5_8  5_9    6  7_0  7_1 \n",
       " 104   97   78   74   69  257  209  200  189  181  172  170  164 2865  200  199 \n",
       "7_10 7_11 7_12 7_13 7_14 7_15 7_16 7_17 7_18 7_19  7_2  7_3  7_4  7_5  7_6  7_7 \n",
       " 114  105  103  100   96   94   68   67   66   49  190  183  150  149  132  132 \n",
       " 7_8  7_9    8    9 NA's \n",
       " 126  120 2370 1688 2894 "
      ]
     },
     "metadata": {},
     "output_type": "display_data"
    }
   ],
   "source": [
    "summary(as.factor(adata@meta.data$my_own_clusters))"
   ]
  },
  {
   "cell_type": "markdown",
   "id": "aff9fb96-e48f-446c-b567-fdc1dc0d2bb2",
   "metadata": {},
   "source": [
    "## adapt Subclusters_10"
   ]
  },
  {
   "cell_type": "code",
   "execution_count": 191,
   "id": "3f7e3955-f2c8-4291-ac57-efcc3bc7aca8",
   "metadata": {
    "execution": {
     "iopub.execute_input": "2025-10-13T14:53:55.088544Z",
     "iopub.status.busy": "2025-10-13T14:53:55.087621Z",
     "iopub.status.idle": "2025-10-13T14:53:55.099723Z",
     "shell.execute_reply": "2025-10-13T14:53:55.098649Z"
    }
   },
   "outputs": [
    {
     "name": "stdout",
     "output_type": "stream",
     "text": [
      " int [1:1455] 1219 10132 17124 17298 17308 17314 17322 17335 17341 17356 ...\n"
     ]
    }
   ],
   "source": [
    "indx<-which(adata@meta.data$seurat_clusters%in%c('10'))\n",
    "\n",
    "str(indx)"
   ]
  },
  {
   "cell_type": "code",
   "execution_count": 192,
   "id": "ff61f4a6-7af8-46ce-8aea-0602055d0a33",
   "metadata": {
    "execution": {
     "iopub.execute_input": "2025-10-13T14:53:55.311393Z",
     "iopub.status.busy": "2025-10-13T14:53:55.310430Z",
     "iopub.status.idle": "2025-10-13T14:53:55.319809Z",
     "shell.execute_reply": "2025-10-13T14:53:55.318731Z"
    }
   },
   "outputs": [],
   "source": [
    "adata@meta.data$my_own_clusters[indx]<-as.character(adata@meta.data$Subclusters_10[indx])"
   ]
  },
  {
   "cell_type": "code",
   "execution_count": 193,
   "id": "adb38c79-a8dd-4412-8f8f-2860e83362b3",
   "metadata": {
    "execution": {
     "iopub.execute_input": "2025-10-13T14:53:55.555850Z",
     "iopub.status.busy": "2025-10-13T14:53:55.554951Z",
     "iopub.status.idle": "2025-10-13T14:53:55.568874Z",
     "shell.execute_reply": "2025-10-13T14:53:55.567797Z"
    }
   },
   "outputs": [
    {
     "data": {
      "text/html": [
       "<style>\n",
       ".dl-inline {width: auto; margin:0; padding: 0}\n",
       ".dl-inline>dt, .dl-inline>dd {float: none; width: auto; display: inline-block}\n",
       ".dl-inline>dt::after {content: \":\\0020\"; padding-right: .5ex}\n",
       ".dl-inline>dt:not(:first-of-type) {padding-left: .5ex}\n",
       "</style><dl class=dl-inline><dt>1</dt><dd>4537</dd><dt>10_0</dt><dd>172</dd><dt>10_1</dt><dd>124</dd><dt>10_10</dt><dd>69</dd><dt>10_11</dt><dd>68</dd><dt>10_12</dt><dd>60</dd><dt>10_13</dt><dd>55</dd><dt>10_14</dt><dd>53</dd><dt>10_15</dt><dd>49</dd><dt>10_16</dt><dd>42</dd><dt>10_2</dt><dd>109</dd><dt>10_3</dt><dd>106</dd><dt>10_4</dt><dd>105</dd><dt>10_5</dt><dd>101</dd><dt>10_6</dt><dd>90</dd><dt>10_7</dt><dd>87</dd><dt>10_8</dt><dd>83</dd><dt>10_9</dt><dd>82</dd><dt>12</dt><dd>1267</dd><dt>13</dt><dd>1169</dd><dt>14</dt><dd>670</dd><dt>15</dt><dd>664</dd><dt>16</dt><dd>382</dd><dt>2</dt><dd>4020</dd><dt>3</dt><dd>3739</dd><dt>4</dt><dd>3348</dd><dt>5_0</dt><dd>313</dd><dt>5_1</dt><dd>259</dd><dt>5_10</dt><dd>148</dd><dt>5_11</dt><dd>129</dd><dt>5_12</dt><dd>124</dd><dt>5_13</dt><dd>122</dd><dt>5_14</dt><dd>105</dd><dt>5_15</dt><dd>104</dd><dt>5_16</dt><dd>97</dd><dt>5_17</dt><dd>78</dd><dt>5_18</dt><dd>74</dd><dt>5_19</dt><dd>69</dd><dt>5_2</dt><dd>257</dd><dt>5_3</dt><dd>209</dd><dt>5_4</dt><dd>200</dd><dt>5_5</dt><dd>189</dd><dt>5_6</dt><dd>181</dd><dt>5_7</dt><dd>172</dd><dt>5_8</dt><dd>170</dd><dt>5_9</dt><dd>164</dd><dt>6</dt><dd>2865</dd><dt>7_0</dt><dd>200</dd><dt>7_1</dt><dd>199</dd><dt>7_10</dt><dd>114</dd><dt>7_11</dt><dd>105</dd><dt>7_12</dt><dd>103</dd><dt>7_13</dt><dd>100</dd><dt>7_14</dt><dd>96</dd><dt>7_15</dt><dd>94</dd><dt>7_16</dt><dd>68</dd><dt>7_17</dt><dd>67</dd><dt>7_18</dt><dd>66</dd><dt>7_19</dt><dd>49</dd><dt>7_2</dt><dd>190</dd><dt>7_3</dt><dd>183</dd><dt>7_4</dt><dd>150</dd><dt>7_5</dt><dd>149</dd><dt>7_6</dt><dd>132</dd><dt>7_7</dt><dd>132</dd><dt>7_8</dt><dd>126</dd><dt>7_9</dt><dd>120</dd><dt>8</dt><dd>2370</dd><dt>9</dt><dd>1688</dd><dt>NA's</dt><dd>1439</dd></dl>\n"
      ],
      "text/latex": [
       "\\begin{description*}\n",
       "\\item[1] 4537\n",
       "\\item[10\\textbackslash{}\\_0] 172\n",
       "\\item[10\\textbackslash{}\\_1] 124\n",
       "\\item[10\\textbackslash{}\\_10] 69\n",
       "\\item[10\\textbackslash{}\\_11] 68\n",
       "\\item[10\\textbackslash{}\\_12] 60\n",
       "\\item[10\\textbackslash{}\\_13] 55\n",
       "\\item[10\\textbackslash{}\\_14] 53\n",
       "\\item[10\\textbackslash{}\\_15] 49\n",
       "\\item[10\\textbackslash{}\\_16] 42\n",
       "\\item[10\\textbackslash{}\\_2] 109\n",
       "\\item[10\\textbackslash{}\\_3] 106\n",
       "\\item[10\\textbackslash{}\\_4] 105\n",
       "\\item[10\\textbackslash{}\\_5] 101\n",
       "\\item[10\\textbackslash{}\\_6] 90\n",
       "\\item[10\\textbackslash{}\\_7] 87\n",
       "\\item[10\\textbackslash{}\\_8] 83\n",
       "\\item[10\\textbackslash{}\\_9] 82\n",
       "\\item[12] 1267\n",
       "\\item[13] 1169\n",
       "\\item[14] 670\n",
       "\\item[15] 664\n",
       "\\item[16] 382\n",
       "\\item[2] 4020\n",
       "\\item[3] 3739\n",
       "\\item[4] 3348\n",
       "\\item[5\\textbackslash{}\\_0] 313\n",
       "\\item[5\\textbackslash{}\\_1] 259\n",
       "\\item[5\\textbackslash{}\\_10] 148\n",
       "\\item[5\\textbackslash{}\\_11] 129\n",
       "\\item[5\\textbackslash{}\\_12] 124\n",
       "\\item[5\\textbackslash{}\\_13] 122\n",
       "\\item[5\\textbackslash{}\\_14] 105\n",
       "\\item[5\\textbackslash{}\\_15] 104\n",
       "\\item[5\\textbackslash{}\\_16] 97\n",
       "\\item[5\\textbackslash{}\\_17] 78\n",
       "\\item[5\\textbackslash{}\\_18] 74\n",
       "\\item[5\\textbackslash{}\\_19] 69\n",
       "\\item[5\\textbackslash{}\\_2] 257\n",
       "\\item[5\\textbackslash{}\\_3] 209\n",
       "\\item[5\\textbackslash{}\\_4] 200\n",
       "\\item[5\\textbackslash{}\\_5] 189\n",
       "\\item[5\\textbackslash{}\\_6] 181\n",
       "\\item[5\\textbackslash{}\\_7] 172\n",
       "\\item[5\\textbackslash{}\\_8] 170\n",
       "\\item[5\\textbackslash{}\\_9] 164\n",
       "\\item[6] 2865\n",
       "\\item[7\\textbackslash{}\\_0] 200\n",
       "\\item[7\\textbackslash{}\\_1] 199\n",
       "\\item[7\\textbackslash{}\\_10] 114\n",
       "\\item[7\\textbackslash{}\\_11] 105\n",
       "\\item[7\\textbackslash{}\\_12] 103\n",
       "\\item[7\\textbackslash{}\\_13] 100\n",
       "\\item[7\\textbackslash{}\\_14] 96\n",
       "\\item[7\\textbackslash{}\\_15] 94\n",
       "\\item[7\\textbackslash{}\\_16] 68\n",
       "\\item[7\\textbackslash{}\\_17] 67\n",
       "\\item[7\\textbackslash{}\\_18] 66\n",
       "\\item[7\\textbackslash{}\\_19] 49\n",
       "\\item[7\\textbackslash{}\\_2] 190\n",
       "\\item[7\\textbackslash{}\\_3] 183\n",
       "\\item[7\\textbackslash{}\\_4] 150\n",
       "\\item[7\\textbackslash{}\\_5] 149\n",
       "\\item[7\\textbackslash{}\\_6] 132\n",
       "\\item[7\\textbackslash{}\\_7] 132\n",
       "\\item[7\\textbackslash{}\\_8] 126\n",
       "\\item[7\\textbackslash{}\\_9] 120\n",
       "\\item[8] 2370\n",
       "\\item[9] 1688\n",
       "\\item[NA's] 1439\n",
       "\\end{description*}\n"
      ],
      "text/markdown": [
       "1\n",
       ":   453710_0\n",
       ":   17210_1\n",
       ":   12410_10\n",
       ":   6910_11\n",
       ":   6810_12\n",
       ":   6010_13\n",
       ":   5510_14\n",
       ":   5310_15\n",
       ":   4910_16\n",
       ":   4210_2\n",
       ":   10910_3\n",
       ":   10610_4\n",
       ":   10510_5\n",
       ":   10110_6\n",
       ":   9010_7\n",
       ":   8710_8\n",
       ":   8310_9\n",
       ":   8212\n",
       ":   126713\n",
       ":   116914\n",
       ":   67015\n",
       ":   66416\n",
       ":   3822\n",
       ":   40203\n",
       ":   37394\n",
       ":   33485_0\n",
       ":   3135_1\n",
       ":   2595_10\n",
       ":   1485_11\n",
       ":   1295_12\n",
       ":   1245_13\n",
       ":   1225_14\n",
       ":   1055_15\n",
       ":   1045_16\n",
       ":   975_17\n",
       ":   785_18\n",
       ":   745_19\n",
       ":   695_2\n",
       ":   2575_3\n",
       ":   2095_4\n",
       ":   2005_5\n",
       ":   1895_6\n",
       ":   1815_7\n",
       ":   1725_8\n",
       ":   1705_9\n",
       ":   1646\n",
       ":   28657_0\n",
       ":   2007_1\n",
       ":   1997_10\n",
       ":   1147_11\n",
       ":   1057_12\n",
       ":   1037_13\n",
       ":   1007_14\n",
       ":   967_15\n",
       ":   947_16\n",
       ":   687_17\n",
       ":   677_18\n",
       ":   667_19\n",
       ":   497_2\n",
       ":   1907_3\n",
       ":   1837_4\n",
       ":   1507_5\n",
       ":   1497_6\n",
       ":   1327_7\n",
       ":   1327_8\n",
       ":   1267_9\n",
       ":   1208\n",
       ":   23709\n",
       ":   1688NA's\n",
       ":   1439\n",
       "\n"
      ],
      "text/plain": [
       "    1  10_0  10_1 10_10 10_11 10_12 10_13 10_14 10_15 10_16  10_2  10_3  10_4 \n",
       " 4537   172   124    69    68    60    55    53    49    42   109   106   105 \n",
       " 10_5  10_6  10_7  10_8  10_9    12    13    14    15    16     2     3     4 \n",
       "  101    90    87    83    82  1267  1169   670   664   382  4020  3739  3348 \n",
       "  5_0   5_1  5_10  5_11  5_12  5_13  5_14  5_15  5_16  5_17  5_18  5_19   5_2 \n",
       "  313   259   148   129   124   122   105   104    97    78    74    69   257 \n",
       "  5_3   5_4   5_5   5_6   5_7   5_8   5_9     6   7_0   7_1  7_10  7_11  7_12 \n",
       "  209   200   189   181   172   170   164  2865   200   199   114   105   103 \n",
       " 7_13  7_14  7_15  7_16  7_17  7_18  7_19   7_2   7_3   7_4   7_5   7_6   7_7 \n",
       "  100    96    94    68    67    66    49   190   183   150   149   132   132 \n",
       "  7_8   7_9     8     9  NA's \n",
       "  126   120  2370  1688  1439 "
      ]
     },
     "metadata": {},
     "output_type": "display_data"
    }
   ],
   "source": [
    "summary(as.factor(adata@meta.data$my_own_clusters))"
   ]
  },
  {
   "cell_type": "markdown",
   "id": "7449bdcd-1c28-4e21-8e8a-c944ede0b498",
   "metadata": {},
   "source": [
    "## adapt Subclusters_11"
   ]
  },
  {
   "cell_type": "code",
   "execution_count": 194,
   "id": "92d093d2-0534-43a7-a84a-4b575c62810b",
   "metadata": {
    "execution": {
     "iopub.execute_input": "2025-10-13T14:53:56.021351Z",
     "iopub.status.busy": "2025-10-13T14:53:56.020456Z",
     "iopub.status.idle": "2025-10-13T14:53:56.032137Z",
     "shell.execute_reply": "2025-10-13T14:53:56.031071Z"
    }
   },
   "outputs": [
    {
     "name": "stdout",
     "output_type": "stream",
     "text": [
      " int [1:1439] 17297 17302 17306 17319 17325 17338 17348 17358 17368 17393 ...\n"
     ]
    }
   ],
   "source": [
    "indx<-which(adata@meta.data$seurat_clusters%in%c('11'))\n",
    "\n",
    "str(indx)"
   ]
  },
  {
   "cell_type": "code",
   "execution_count": 195,
   "id": "cf769f61-3529-441f-b5bc-89da5efe64e2",
   "metadata": {
    "execution": {
     "iopub.execute_input": "2025-10-13T14:53:56.241241Z",
     "iopub.status.busy": "2025-10-13T14:53:56.240314Z",
     "iopub.status.idle": "2025-10-13T14:53:56.249417Z",
     "shell.execute_reply": "2025-10-13T14:53:56.248376Z"
    }
   },
   "outputs": [],
   "source": [
    "adata@meta.data$my_own_clusters[indx]<-as.character(adata@meta.data$Subclusters_11[indx])"
   ]
  },
  {
   "cell_type": "code",
   "execution_count": 196,
   "id": "e6532aaf-ff65-4af8-a0e4-04124769ec07",
   "metadata": {
    "execution": {
     "iopub.execute_input": "2025-10-13T14:53:56.542204Z",
     "iopub.status.busy": "2025-10-13T14:53:56.541254Z",
     "iopub.status.idle": "2025-10-13T14:53:56.555464Z",
     "shell.execute_reply": "2025-10-13T14:53:56.554384Z"
    }
   },
   "outputs": [
    {
     "data": {
      "text/html": [
       "<style>\n",
       ".dl-inline {width: auto; margin:0; padding: 0}\n",
       ".dl-inline>dt, .dl-inline>dd {float: none; width: auto; display: inline-block}\n",
       ".dl-inline>dt::after {content: \":\\0020\"; padding-right: .5ex}\n",
       ".dl-inline>dt:not(:first-of-type) {padding-left: .5ex}\n",
       "</style><dl class=dl-inline><dt>1</dt><dd>4537</dd><dt>10_0</dt><dd>172</dd><dt>10_1</dt><dd>124</dd><dt>10_10</dt><dd>69</dd><dt>10_11</dt><dd>68</dd><dt>10_12</dt><dd>60</dd><dt>10_13</dt><dd>55</dd><dt>10_14</dt><dd>53</dd><dt>10_15</dt><dd>49</dd><dt>10_16</dt><dd>42</dd><dt>10_2</dt><dd>109</dd><dt>10_3</dt><dd>106</dd><dt>10_4</dt><dd>105</dd><dt>10_5</dt><dd>101</dd><dt>10_6</dt><dd>90</dd><dt>10_7</dt><dd>87</dd><dt>10_8</dt><dd>83</dd><dt>10_9</dt><dd>82</dd><dt>11_0</dt><dd>147</dd><dt>11_1</dt><dd>122</dd><dt>11_10</dt><dd>73</dd><dt>11_11</dt><dd>69</dd><dt>11_12</dt><dd>64</dd><dt>11_13</dt><dd>59</dd><dt>11_14</dt><dd>56</dd><dt>11_15</dt><dd>53</dd><dt>11_16</dt><dd>48</dd><dt>11_2</dt><dd>112</dd><dt>11_3</dt><dd>107</dd><dt>11_4</dt><dd>104</dd><dt>11_5</dt><dd>99</dd><dt>11_6</dt><dd>90</dd><dt>11_7</dt><dd>81</dd><dt>11_8</dt><dd>78</dd><dt>11_9</dt><dd>77</dd><dt>12</dt><dd>1267</dd><dt>13</dt><dd>1169</dd><dt>14</dt><dd>670</dd><dt>15</dt><dd>664</dd><dt>16</dt><dd>382</dd><dt>2</dt><dd>4020</dd><dt>3</dt><dd>3739</dd><dt>4</dt><dd>3348</dd><dt>5_0</dt><dd>313</dd><dt>5_1</dt><dd>259</dd><dt>5_10</dt><dd>148</dd><dt>5_11</dt><dd>129</dd><dt>5_12</dt><dd>124</dd><dt>5_13</dt><dd>122</dd><dt>5_14</dt><dd>105</dd><dt>5_15</dt><dd>104</dd><dt>5_16</dt><dd>97</dd><dt>5_17</dt><dd>78</dd><dt>5_18</dt><dd>74</dd><dt>5_19</dt><dd>69</dd><dt>5_2</dt><dd>257</dd><dt>5_3</dt><dd>209</dd><dt>5_4</dt><dd>200</dd><dt>5_5</dt><dd>189</dd><dt>5_6</dt><dd>181</dd><dt>5_7</dt><dd>172</dd><dt>5_8</dt><dd>170</dd><dt>5_9</dt><dd>164</dd><dt>6</dt><dd>2865</dd><dt>7_0</dt><dd>200</dd><dt>7_1</dt><dd>199</dd><dt>7_10</dt><dd>114</dd><dt>7_11</dt><dd>105</dd><dt>7_12</dt><dd>103</dd><dt>7_13</dt><dd>100</dd><dt>7_14</dt><dd>96</dd><dt>7_15</dt><dd>94</dd><dt>7_16</dt><dd>68</dd><dt>7_17</dt><dd>67</dd><dt>7_18</dt><dd>66</dd><dt>7_19</dt><dd>49</dd><dt>7_2</dt><dd>190</dd><dt>7_3</dt><dd>183</dd><dt>7_4</dt><dd>150</dd><dt>7_5</dt><dd>149</dd><dt>7_6</dt><dd>132</dd><dt>7_7</dt><dd>132</dd><dt>7_8</dt><dd>126</dd><dt>7_9</dt><dd>120</dd><dt>8</dt><dd>2370</dd><dt>9</dt><dd>1688</dd></dl>\n"
      ],
      "text/latex": [
       "\\begin{description*}\n",
       "\\item[1] 4537\n",
       "\\item[10\\textbackslash{}\\_0] 172\n",
       "\\item[10\\textbackslash{}\\_1] 124\n",
       "\\item[10\\textbackslash{}\\_10] 69\n",
       "\\item[10\\textbackslash{}\\_11] 68\n",
       "\\item[10\\textbackslash{}\\_12] 60\n",
       "\\item[10\\textbackslash{}\\_13] 55\n",
       "\\item[10\\textbackslash{}\\_14] 53\n",
       "\\item[10\\textbackslash{}\\_15] 49\n",
       "\\item[10\\textbackslash{}\\_16] 42\n",
       "\\item[10\\textbackslash{}\\_2] 109\n",
       "\\item[10\\textbackslash{}\\_3] 106\n",
       "\\item[10\\textbackslash{}\\_4] 105\n",
       "\\item[10\\textbackslash{}\\_5] 101\n",
       "\\item[10\\textbackslash{}\\_6] 90\n",
       "\\item[10\\textbackslash{}\\_7] 87\n",
       "\\item[10\\textbackslash{}\\_8] 83\n",
       "\\item[10\\textbackslash{}\\_9] 82\n",
       "\\item[11\\textbackslash{}\\_0] 147\n",
       "\\item[11\\textbackslash{}\\_1] 122\n",
       "\\item[11\\textbackslash{}\\_10] 73\n",
       "\\item[11\\textbackslash{}\\_11] 69\n",
       "\\item[11\\textbackslash{}\\_12] 64\n",
       "\\item[11\\textbackslash{}\\_13] 59\n",
       "\\item[11\\textbackslash{}\\_14] 56\n",
       "\\item[11\\textbackslash{}\\_15] 53\n",
       "\\item[11\\textbackslash{}\\_16] 48\n",
       "\\item[11\\textbackslash{}\\_2] 112\n",
       "\\item[11\\textbackslash{}\\_3] 107\n",
       "\\item[11\\textbackslash{}\\_4] 104\n",
       "\\item[11\\textbackslash{}\\_5] 99\n",
       "\\item[11\\textbackslash{}\\_6] 90\n",
       "\\item[11\\textbackslash{}\\_7] 81\n",
       "\\item[11\\textbackslash{}\\_8] 78\n",
       "\\item[11\\textbackslash{}\\_9] 77\n",
       "\\item[12] 1267\n",
       "\\item[13] 1169\n",
       "\\item[14] 670\n",
       "\\item[15] 664\n",
       "\\item[16] 382\n",
       "\\item[2] 4020\n",
       "\\item[3] 3739\n",
       "\\item[4] 3348\n",
       "\\item[5\\textbackslash{}\\_0] 313\n",
       "\\item[5\\textbackslash{}\\_1] 259\n",
       "\\item[5\\textbackslash{}\\_10] 148\n",
       "\\item[5\\textbackslash{}\\_11] 129\n",
       "\\item[5\\textbackslash{}\\_12] 124\n",
       "\\item[5\\textbackslash{}\\_13] 122\n",
       "\\item[5\\textbackslash{}\\_14] 105\n",
       "\\item[5\\textbackslash{}\\_15] 104\n",
       "\\item[5\\textbackslash{}\\_16] 97\n",
       "\\item[5\\textbackslash{}\\_17] 78\n",
       "\\item[5\\textbackslash{}\\_18] 74\n",
       "\\item[5\\textbackslash{}\\_19] 69\n",
       "\\item[5\\textbackslash{}\\_2] 257\n",
       "\\item[5\\textbackslash{}\\_3] 209\n",
       "\\item[5\\textbackslash{}\\_4] 200\n",
       "\\item[5\\textbackslash{}\\_5] 189\n",
       "\\item[5\\textbackslash{}\\_6] 181\n",
       "\\item[5\\textbackslash{}\\_7] 172\n",
       "\\item[5\\textbackslash{}\\_8] 170\n",
       "\\item[5\\textbackslash{}\\_9] 164\n",
       "\\item[6] 2865\n",
       "\\item[7\\textbackslash{}\\_0] 200\n",
       "\\item[7\\textbackslash{}\\_1] 199\n",
       "\\item[7\\textbackslash{}\\_10] 114\n",
       "\\item[7\\textbackslash{}\\_11] 105\n",
       "\\item[7\\textbackslash{}\\_12] 103\n",
       "\\item[7\\textbackslash{}\\_13] 100\n",
       "\\item[7\\textbackslash{}\\_14] 96\n",
       "\\item[7\\textbackslash{}\\_15] 94\n",
       "\\item[7\\textbackslash{}\\_16] 68\n",
       "\\item[7\\textbackslash{}\\_17] 67\n",
       "\\item[7\\textbackslash{}\\_18] 66\n",
       "\\item[7\\textbackslash{}\\_19] 49\n",
       "\\item[7\\textbackslash{}\\_2] 190\n",
       "\\item[7\\textbackslash{}\\_3] 183\n",
       "\\item[7\\textbackslash{}\\_4] 150\n",
       "\\item[7\\textbackslash{}\\_5] 149\n",
       "\\item[7\\textbackslash{}\\_6] 132\n",
       "\\item[7\\textbackslash{}\\_7] 132\n",
       "\\item[7\\textbackslash{}\\_8] 126\n",
       "\\item[7\\textbackslash{}\\_9] 120\n",
       "\\item[8] 2370\n",
       "\\item[9] 1688\n",
       "\\end{description*}\n"
      ],
      "text/markdown": [
       "1\n",
       ":   453710_0\n",
       ":   17210_1\n",
       ":   12410_10\n",
       ":   6910_11\n",
       ":   6810_12\n",
       ":   6010_13\n",
       ":   5510_14\n",
       ":   5310_15\n",
       ":   4910_16\n",
       ":   4210_2\n",
       ":   10910_3\n",
       ":   10610_4\n",
       ":   10510_5\n",
       ":   10110_6\n",
       ":   9010_7\n",
       ":   8710_8\n",
       ":   8310_9\n",
       ":   8211_0\n",
       ":   14711_1\n",
       ":   12211_10\n",
       ":   7311_11\n",
       ":   6911_12\n",
       ":   6411_13\n",
       ":   5911_14\n",
       ":   5611_15\n",
       ":   5311_16\n",
       ":   4811_2\n",
       ":   11211_3\n",
       ":   10711_4\n",
       ":   10411_5\n",
       ":   9911_6\n",
       ":   9011_7\n",
       ":   8111_8\n",
       ":   7811_9\n",
       ":   7712\n",
       ":   126713\n",
       ":   116914\n",
       ":   67015\n",
       ":   66416\n",
       ":   3822\n",
       ":   40203\n",
       ":   37394\n",
       ":   33485_0\n",
       ":   3135_1\n",
       ":   2595_10\n",
       ":   1485_11\n",
       ":   1295_12\n",
       ":   1245_13\n",
       ":   1225_14\n",
       ":   1055_15\n",
       ":   1045_16\n",
       ":   975_17\n",
       ":   785_18\n",
       ":   745_19\n",
       ":   695_2\n",
       ":   2575_3\n",
       ":   2095_4\n",
       ":   2005_5\n",
       ":   1895_6\n",
       ":   1815_7\n",
       ":   1725_8\n",
       ":   1705_9\n",
       ":   1646\n",
       ":   28657_0\n",
       ":   2007_1\n",
       ":   1997_10\n",
       ":   1147_11\n",
       ":   1057_12\n",
       ":   1037_13\n",
       ":   1007_14\n",
       ":   967_15\n",
       ":   947_16\n",
       ":   687_17\n",
       ":   677_18\n",
       ":   667_19\n",
       ":   497_2\n",
       ":   1907_3\n",
       ":   1837_4\n",
       ":   1507_5\n",
       ":   1497_6\n",
       ":   1327_7\n",
       ":   1327_8\n",
       ":   1267_9\n",
       ":   1208\n",
       ":   23709\n",
       ":   1688\n",
       "\n"
      ],
      "text/plain": [
       "    1  10_0  10_1 10_10 10_11 10_12 10_13 10_14 10_15 10_16  10_2  10_3  10_4 \n",
       " 4537   172   124    69    68    60    55    53    49    42   109   106   105 \n",
       " 10_5  10_6  10_7  10_8  10_9  11_0  11_1 11_10 11_11 11_12 11_13 11_14 11_15 \n",
       "  101    90    87    83    82   147   122    73    69    64    59    56    53 \n",
       "11_16  11_2  11_3  11_4  11_5  11_6  11_7  11_8  11_9    12    13    14    15 \n",
       "   48   112   107   104    99    90    81    78    77  1267  1169   670   664 \n",
       "   16     2     3     4   5_0   5_1  5_10  5_11  5_12  5_13  5_14  5_15  5_16 \n",
       "  382  4020  3739  3348   313   259   148   129   124   122   105   104    97 \n",
       " 5_17  5_18  5_19   5_2   5_3   5_4   5_5   5_6   5_7   5_8   5_9     6   7_0 \n",
       "   78    74    69   257   209   200   189   181   172   170   164  2865   200 \n",
       "  7_1  7_10  7_11  7_12  7_13  7_14  7_15  7_16  7_17  7_18  7_19   7_2   7_3 \n",
       "  199   114   105   103   100    96    94    68    67    66    49   190   183 \n",
       "  7_4   7_5   7_6   7_7   7_8   7_9     8     9 \n",
       "  150   149   132   132   126   120  2370  1688 "
      ]
     },
     "metadata": {},
     "output_type": "display_data"
    }
   ],
   "source": [
    "summary(as.factor(adata@meta.data$my_own_clusters))"
   ]
  },
  {
   "cell_type": "markdown",
   "id": "a1f50324-2062-43da-b8cb-a023c0a12920",
   "metadata": {},
   "source": [
    "# Redo cell annotation"
   ]
  },
  {
   "cell_type": "code",
   "execution_count": 197,
   "id": "e012db1f-2c61-402b-96ca-558392fe8a48",
   "metadata": {
    "execution": {
     "iopub.execute_input": "2025-10-13T14:53:58.561698Z",
     "iopub.status.busy": "2025-10-13T14:53:58.560653Z",
     "iopub.status.idle": "2025-10-13T14:53:58.581566Z",
     "shell.execute_reply": "2025-10-13T14:53:58.580445Z"
    }
   },
   "outputs": [
    {
     "data": {
      "text/html": [
       "<style>\n",
       ".dl-inline {width: auto; margin:0; padding: 0}\n",
       ".dl-inline>dt, .dl-inline>dd {float: none; width: auto; display: inline-block}\n",
       ".dl-inline>dt::after {content: \":\\0020\"; padding-right: .5ex}\n",
       ".dl-inline>dt:not(:first-of-type) {padding-left: .5ex}\n",
       "</style><dl class=dl-inline><dt>1</dt><dd>4537</dd><dt>10_0</dt><dd>172</dd><dt>10_1</dt><dd>124</dd><dt>10_10</dt><dd>69</dd><dt>10_11</dt><dd>68</dd><dt>10_12</dt><dd>60</dd><dt>10_13</dt><dd>55</dd><dt>10_14</dt><dd>53</dd><dt>10_15</dt><dd>49</dd><dt>10_16</dt><dd>42</dd><dt>10_2</dt><dd>109</dd><dt>10_3</dt><dd>106</dd><dt>10_4</dt><dd>105</dd><dt>10_5</dt><dd>101</dd><dt>10_6</dt><dd>90</dd><dt>10_7</dt><dd>87</dd><dt>10_8</dt><dd>83</dd><dt>10_9</dt><dd>82</dd><dt>11_0</dt><dd>147</dd><dt>11_1</dt><dd>122</dd><dt>11_10</dt><dd>73</dd><dt>11_11</dt><dd>69</dd><dt>11_12</dt><dd>64</dd><dt>11_13</dt><dd>59</dd><dt>11_14</dt><dd>56</dd><dt>11_15</dt><dd>53</dd><dt>11_16</dt><dd>48</dd><dt>11_2</dt><dd>112</dd><dt>11_3</dt><dd>107</dd><dt>11_4</dt><dd>104</dd><dt>11_5</dt><dd>99</dd><dt>11_6</dt><dd>90</dd><dt>11_7</dt><dd>81</dd><dt>11_8</dt><dd>78</dd><dt>11_9</dt><dd>77</dd><dt>12</dt><dd>1267</dd><dt>13</dt><dd>1169</dd><dt>14</dt><dd>670</dd><dt>15</dt><dd>664</dd><dt>16</dt><dd>382</dd><dt>2</dt><dd>4020</dd><dt>3</dt><dd>3739</dd><dt>4</dt><dd>3348</dd><dt>5_0</dt><dd>313</dd><dt>5_1</dt><dd>259</dd><dt>5_10</dt><dd>148</dd><dt>5_11</dt><dd>129</dd><dt>5_12</dt><dd>124</dd><dt>5_13</dt><dd>122</dd><dt>5_14</dt><dd>105</dd><dt>5_15</dt><dd>104</dd><dt>5_16</dt><dd>97</dd><dt>5_17</dt><dd>78</dd><dt>5_18</dt><dd>74</dd><dt>5_19</dt><dd>69</dd><dt>5_2</dt><dd>257</dd><dt>5_3</dt><dd>209</dd><dt>5_4</dt><dd>200</dd><dt>5_5</dt><dd>189</dd><dt>5_6</dt><dd>181</dd><dt>5_7</dt><dd>172</dd><dt>5_8</dt><dd>170</dd><dt>5_9</dt><dd>164</dd><dt>6</dt><dd>2865</dd><dt>7_0</dt><dd>200</dd><dt>7_1</dt><dd>199</dd><dt>7_10</dt><dd>114</dd><dt>7_11</dt><dd>105</dd><dt>7_12</dt><dd>103</dd><dt>7_13</dt><dd>100</dd><dt>7_14</dt><dd>96</dd><dt>7_15</dt><dd>94</dd><dt>7_16</dt><dd>68</dd><dt>7_17</dt><dd>67</dd><dt>7_18</dt><dd>66</dd><dt>7_19</dt><dd>49</dd><dt>7_2</dt><dd>190</dd><dt>7_3</dt><dd>183</dd><dt>7_4</dt><dd>150</dd><dt>7_5</dt><dd>149</dd><dt>7_6</dt><dd>132</dd><dt>7_7</dt><dd>132</dd><dt>7_8</dt><dd>126</dd><dt>7_9</dt><dd>120</dd><dt>8</dt><dd>2370</dd><dt>9</dt><dd>1688</dd></dl>\n"
      ],
      "text/latex": [
       "\\begin{description*}\n",
       "\\item[1] 4537\n",
       "\\item[10\\textbackslash{}\\_0] 172\n",
       "\\item[10\\textbackslash{}\\_1] 124\n",
       "\\item[10\\textbackslash{}\\_10] 69\n",
       "\\item[10\\textbackslash{}\\_11] 68\n",
       "\\item[10\\textbackslash{}\\_12] 60\n",
       "\\item[10\\textbackslash{}\\_13] 55\n",
       "\\item[10\\textbackslash{}\\_14] 53\n",
       "\\item[10\\textbackslash{}\\_15] 49\n",
       "\\item[10\\textbackslash{}\\_16] 42\n",
       "\\item[10\\textbackslash{}\\_2] 109\n",
       "\\item[10\\textbackslash{}\\_3] 106\n",
       "\\item[10\\textbackslash{}\\_4] 105\n",
       "\\item[10\\textbackslash{}\\_5] 101\n",
       "\\item[10\\textbackslash{}\\_6] 90\n",
       "\\item[10\\textbackslash{}\\_7] 87\n",
       "\\item[10\\textbackslash{}\\_8] 83\n",
       "\\item[10\\textbackslash{}\\_9] 82\n",
       "\\item[11\\textbackslash{}\\_0] 147\n",
       "\\item[11\\textbackslash{}\\_1] 122\n",
       "\\item[11\\textbackslash{}\\_10] 73\n",
       "\\item[11\\textbackslash{}\\_11] 69\n",
       "\\item[11\\textbackslash{}\\_12] 64\n",
       "\\item[11\\textbackslash{}\\_13] 59\n",
       "\\item[11\\textbackslash{}\\_14] 56\n",
       "\\item[11\\textbackslash{}\\_15] 53\n",
       "\\item[11\\textbackslash{}\\_16] 48\n",
       "\\item[11\\textbackslash{}\\_2] 112\n",
       "\\item[11\\textbackslash{}\\_3] 107\n",
       "\\item[11\\textbackslash{}\\_4] 104\n",
       "\\item[11\\textbackslash{}\\_5] 99\n",
       "\\item[11\\textbackslash{}\\_6] 90\n",
       "\\item[11\\textbackslash{}\\_7] 81\n",
       "\\item[11\\textbackslash{}\\_8] 78\n",
       "\\item[11\\textbackslash{}\\_9] 77\n",
       "\\item[12] 1267\n",
       "\\item[13] 1169\n",
       "\\item[14] 670\n",
       "\\item[15] 664\n",
       "\\item[16] 382\n",
       "\\item[2] 4020\n",
       "\\item[3] 3739\n",
       "\\item[4] 3348\n",
       "\\item[5\\textbackslash{}\\_0] 313\n",
       "\\item[5\\textbackslash{}\\_1] 259\n",
       "\\item[5\\textbackslash{}\\_10] 148\n",
       "\\item[5\\textbackslash{}\\_11] 129\n",
       "\\item[5\\textbackslash{}\\_12] 124\n",
       "\\item[5\\textbackslash{}\\_13] 122\n",
       "\\item[5\\textbackslash{}\\_14] 105\n",
       "\\item[5\\textbackslash{}\\_15] 104\n",
       "\\item[5\\textbackslash{}\\_16] 97\n",
       "\\item[5\\textbackslash{}\\_17] 78\n",
       "\\item[5\\textbackslash{}\\_18] 74\n",
       "\\item[5\\textbackslash{}\\_19] 69\n",
       "\\item[5\\textbackslash{}\\_2] 257\n",
       "\\item[5\\textbackslash{}\\_3] 209\n",
       "\\item[5\\textbackslash{}\\_4] 200\n",
       "\\item[5\\textbackslash{}\\_5] 189\n",
       "\\item[5\\textbackslash{}\\_6] 181\n",
       "\\item[5\\textbackslash{}\\_7] 172\n",
       "\\item[5\\textbackslash{}\\_8] 170\n",
       "\\item[5\\textbackslash{}\\_9] 164\n",
       "\\item[6] 2865\n",
       "\\item[7\\textbackslash{}\\_0] 200\n",
       "\\item[7\\textbackslash{}\\_1] 199\n",
       "\\item[7\\textbackslash{}\\_10] 114\n",
       "\\item[7\\textbackslash{}\\_11] 105\n",
       "\\item[7\\textbackslash{}\\_12] 103\n",
       "\\item[7\\textbackslash{}\\_13] 100\n",
       "\\item[7\\textbackslash{}\\_14] 96\n",
       "\\item[7\\textbackslash{}\\_15] 94\n",
       "\\item[7\\textbackslash{}\\_16] 68\n",
       "\\item[7\\textbackslash{}\\_17] 67\n",
       "\\item[7\\textbackslash{}\\_18] 66\n",
       "\\item[7\\textbackslash{}\\_19] 49\n",
       "\\item[7\\textbackslash{}\\_2] 190\n",
       "\\item[7\\textbackslash{}\\_3] 183\n",
       "\\item[7\\textbackslash{}\\_4] 150\n",
       "\\item[7\\textbackslash{}\\_5] 149\n",
       "\\item[7\\textbackslash{}\\_6] 132\n",
       "\\item[7\\textbackslash{}\\_7] 132\n",
       "\\item[7\\textbackslash{}\\_8] 126\n",
       "\\item[7\\textbackslash{}\\_9] 120\n",
       "\\item[8] 2370\n",
       "\\item[9] 1688\n",
       "\\end{description*}\n"
      ],
      "text/markdown": [
       "1\n",
       ":   453710_0\n",
       ":   17210_1\n",
       ":   12410_10\n",
       ":   6910_11\n",
       ":   6810_12\n",
       ":   6010_13\n",
       ":   5510_14\n",
       ":   5310_15\n",
       ":   4910_16\n",
       ":   4210_2\n",
       ":   10910_3\n",
       ":   10610_4\n",
       ":   10510_5\n",
       ":   10110_6\n",
       ":   9010_7\n",
       ":   8710_8\n",
       ":   8310_9\n",
       ":   8211_0\n",
       ":   14711_1\n",
       ":   12211_10\n",
       ":   7311_11\n",
       ":   6911_12\n",
       ":   6411_13\n",
       ":   5911_14\n",
       ":   5611_15\n",
       ":   5311_16\n",
       ":   4811_2\n",
       ":   11211_3\n",
       ":   10711_4\n",
       ":   10411_5\n",
       ":   9911_6\n",
       ":   9011_7\n",
       ":   8111_8\n",
       ":   7811_9\n",
       ":   7712\n",
       ":   126713\n",
       ":   116914\n",
       ":   67015\n",
       ":   66416\n",
       ":   3822\n",
       ":   40203\n",
       ":   37394\n",
       ":   33485_0\n",
       ":   3135_1\n",
       ":   2595_10\n",
       ":   1485_11\n",
       ":   1295_12\n",
       ":   1245_13\n",
       ":   1225_14\n",
       ":   1055_15\n",
       ":   1045_16\n",
       ":   975_17\n",
       ":   785_18\n",
       ":   745_19\n",
       ":   695_2\n",
       ":   2575_3\n",
       ":   2095_4\n",
       ":   2005_5\n",
       ":   1895_6\n",
       ":   1815_7\n",
       ":   1725_8\n",
       ":   1705_9\n",
       ":   1646\n",
       ":   28657_0\n",
       ":   2007_1\n",
       ":   1997_10\n",
       ":   1147_11\n",
       ":   1057_12\n",
       ":   1037_13\n",
       ":   1007_14\n",
       ":   967_15\n",
       ":   947_16\n",
       ":   687_17\n",
       ":   677_18\n",
       ":   667_19\n",
       ":   497_2\n",
       ":   1907_3\n",
       ":   1837_4\n",
       ":   1507_5\n",
       ":   1497_6\n",
       ":   1327_7\n",
       ":   1327_8\n",
       ":   1267_9\n",
       ":   1208\n",
       ":   23709\n",
       ":   1688\n",
       "\n"
      ],
      "text/plain": [
       "    1  10_0  10_1 10_10 10_11 10_12 10_13 10_14 10_15 10_16  10_2  10_3  10_4 \n",
       " 4537   172   124    69    68    60    55    53    49    42   109   106   105 \n",
       " 10_5  10_6  10_7  10_8  10_9  11_0  11_1 11_10 11_11 11_12 11_13 11_14 11_15 \n",
       "  101    90    87    83    82   147   122    73    69    64    59    56    53 \n",
       "11_16  11_2  11_3  11_4  11_5  11_6  11_7  11_8  11_9    12    13    14    15 \n",
       "   48   112   107   104    99    90    81    78    77  1267  1169   670   664 \n",
       "   16     2     3     4   5_0   5_1  5_10  5_11  5_12  5_13  5_14  5_15  5_16 \n",
       "  382  4020  3739  3348   313   259   148   129   124   122   105   104    97 \n",
       " 5_17  5_18  5_19   5_2   5_3   5_4   5_5   5_6   5_7   5_8   5_9     6   7_0 \n",
       "   78    74    69   257   209   200   189   181   172   170   164  2865   200 \n",
       "  7_1  7_10  7_11  7_12  7_13  7_14  7_15  7_16  7_17  7_18  7_19   7_2   7_3 \n",
       "  199   114   105   103   100    96    94    68    67    66    49   190   183 \n",
       "  7_4   7_5   7_6   7_7   7_8   7_9     8     9 \n",
       "  150   149   132   132   126   120  2370  1688 "
      ]
     },
     "metadata": {},
     "output_type": "display_data"
    }
   ],
   "source": [
    "summary(as.factor(adata@meta.data$my_own_clusters))"
   ]
  },
  {
   "cell_type": "markdown",
   "id": "0216e7d7-5c0c-4697-9c21-be1e77040998",
   "metadata": {},
   "source": [
    "## Majority class of Integrated_annotation for the rest"
   ]
  },
  {
   "cell_type": "markdown",
   "id": "07da6ee5-5951-4fb7-b2ce-be56add88dc0",
   "metadata": {},
   "source": [
    "### Integrated_annotation vs my_own_clusters"
   ]
  },
  {
   "cell_type": "code",
   "execution_count": 198,
   "id": "358e1cf2-aef0-4e5b-ac14-e37afe0f442f",
   "metadata": {
    "execution": {
     "iopub.execute_input": "2025-10-13T14:54:04.377912Z",
     "iopub.status.busy": "2025-10-13T14:54:04.376889Z",
     "iopub.status.idle": "2025-10-13T14:54:04.390730Z",
     "shell.execute_reply": "2025-10-13T14:54:04.389624Z"
    }
   },
   "outputs": [],
   "source": [
    "met<-adata[[]]"
   ]
  },
  {
   "cell_type": "code",
   "execution_count": 199,
   "id": "57d95fa8-a424-4952-b473-acec9f2b181e",
   "metadata": {
    "execution": {
     "iopub.execute_input": "2025-10-13T14:54:04.594817Z",
     "iopub.status.busy": "2025-10-13T14:54:04.593883Z",
     "iopub.status.idle": "2025-10-13T14:54:04.602178Z",
     "shell.execute_reply": "2025-10-13T14:54:04.601128Z"
    }
   },
   "outputs": [],
   "source": [
    "#colnames(met)"
   ]
  },
  {
   "cell_type": "code",
   "execution_count": 200,
   "id": "5645b513-a24b-44e8-9d62-0557599e238c",
   "metadata": {
    "execution": {
     "iopub.execute_input": "2025-10-13T14:54:04.799265Z",
     "iopub.status.busy": "2025-10-13T14:54:04.798337Z",
     "iopub.status.idle": "2025-10-13T14:54:04.813465Z",
     "shell.execute_reply": "2025-10-13T14:54:04.812324Z"
    }
   },
   "outputs": [],
   "source": [
    "met.dt<-data.table(met,key=c(\"my_own_clusters\",\"Integrated_annotation\"))"
   ]
  },
  {
   "cell_type": "code",
   "execution_count": 201,
   "id": "df3bbb30-93ca-4868-bd8e-035bfe157fde",
   "metadata": {
    "execution": {
     "iopub.execute_input": "2025-10-13T14:54:05.004378Z",
     "iopub.status.busy": "2025-10-13T14:54:05.003439Z",
     "iopub.status.idle": "2025-10-13T14:54:05.012209Z",
     "shell.execute_reply": "2025-10-13T14:54:05.011098Z"
    }
   },
   "outputs": [],
   "source": [
    "#str(met.dt)"
   ]
  },
  {
   "cell_type": "code",
   "execution_count": 202,
   "id": "3d1172cb-7572-4de4-9a3b-d37840e074ed",
   "metadata": {
    "execution": {
     "iopub.execute_input": "2025-10-13T14:54:05.245217Z",
     "iopub.status.busy": "2025-10-13T14:54:05.244277Z",
     "iopub.status.idle": "2025-10-13T14:54:05.255424Z",
     "shell.execute_reply": "2025-10-13T14:54:05.254364Z"
    }
   },
   "outputs": [],
   "source": [
    "Freq.table<-as.data.frame(met.dt[,.(Freq=.N),by=key(met.dt)], stringsAsFactors=F)\n",
    "#Freq.table"
   ]
  },
  {
   "cell_type": "code",
   "execution_count": 203,
   "id": "6d130a05-bb2c-4d5d-8408-b5ec620d4493",
   "metadata": {
    "execution": {
     "iopub.execute_input": "2025-10-13T14:54:05.494067Z",
     "iopub.status.busy": "2025-10-13T14:54:05.493150Z",
     "iopub.status.idle": "2025-10-13T14:54:05.509463Z",
     "shell.execute_reply": "2025-10-13T14:54:05.508308Z"
    }
   },
   "outputs": [],
   "source": [
    "met.dt<-data.table(met, key=c(\"my_own_clusters\"))\n",
    "Freq.TOTAL<-as.data.frame(met.dt[,.(TOTAL=.N),by=key(met.dt)], stringsAsFactors=F)\n",
    "#Freq.TOTAL"
   ]
  },
  {
   "cell_type": "code",
   "execution_count": 204,
   "id": "409baf74-6272-407e-b585-c9a7ef0ab81d",
   "metadata": {
    "execution": {
     "iopub.execute_input": "2025-10-13T14:54:05.725946Z",
     "iopub.status.busy": "2025-10-13T14:54:05.725019Z",
     "iopub.status.idle": "2025-10-13T14:54:05.736284Z",
     "shell.execute_reply": "2025-10-13T14:54:05.735196Z"
    }
   },
   "outputs": [],
   "source": [
    "Freq.table<-merge(Freq.table,\n",
    "                  Freq.TOTAL,\n",
    "                  by=\"my_own_clusters\")\n",
    "Freq.table$Perc<-round((100*(Freq.table$Freq/Freq.table$TOTAL)),2)\n",
    "\n",
    "#Freq.table"
   ]
  },
  {
   "cell_type": "code",
   "execution_count": 205,
   "id": "73928fe7-80cb-48a2-8039-26400b76e8b3",
   "metadata": {
    "execution": {
     "iopub.execute_input": "2025-10-13T14:54:06.220286Z",
     "iopub.status.busy": "2025-10-13T14:54:06.219320Z",
     "iopub.status.idle": "2025-10-13T14:54:06.231678Z",
     "shell.execute_reply": "2025-10-13T14:54:06.230565Z"
    }
   },
   "outputs": [
    {
     "name": "stdout",
     "output_type": "stream",
     "text": [
      "'data.frame':\t467 obs. of  5 variables:\n",
      " $ my_own_clusters      : chr  \"1\" \"1\" \"1\" \"1\" ...\n",
      " $ Integrated_annotation: chr  \"MEP\" \"early MK\" \"early erythroid\" \"hESC\" ...\n",
      " $ Freq                 : int  118 14 13 4331 39 22 45 2 2 4 ...\n",
      " $ TOTAL                : int  4537 4537 4537 4537 4537 4537 172 172 172 172 ...\n",
      " $ Perc                 : num  2.6 0.31 0.29 95.46 0.86 ...\n"
     ]
    }
   ],
   "source": [
    "str(Freq.table)"
   ]
  },
  {
   "cell_type": "code",
   "execution_count": 206,
   "id": "fd1ebdc5-50b5-4c48-af15-954ea870ab83",
   "metadata": {
    "execution": {
     "iopub.execute_input": "2025-10-13T14:54:06.476464Z",
     "iopub.status.busy": "2025-10-13T14:54:06.475544Z",
     "iopub.status.idle": "2025-10-13T14:54:06.489241Z",
     "shell.execute_reply": "2025-10-13T14:54:06.488068Z"
    }
   },
   "outputs": [
    {
     "name": "stdout",
     "output_type": "stream",
     "text": [
      "'data.frame':\t467 obs. of  5 variables:\n",
      " $ my_own_clusters      : chr  \"1\" \"1\" \"1\" \"1\" ...\n",
      " $ Integrated_annotation: chr  \"MEP\" \"early MK\" \"early erythroid\" \"hESC\" ...\n",
      " $ Freq                 : int  118 14 13 4331 39 22 45 2 2 4 ...\n",
      " $ TOTAL                : int  4537 4537 4537 4537 4537 4537 172 172 172 172 ...\n",
      " $ Perc                 : num  2.6 0.31 0.29 95.46 0.86 ...\n"
     ]
    }
   ],
   "source": [
    "Freq.table_NO_NA<-Freq.table[!is.na(Freq.table$Integrated_annotation),]\n",
    "\n",
    "str(Freq.table_NO_NA)"
   ]
  },
  {
   "cell_type": "code",
   "execution_count": 207,
   "id": "4fb81bf7-f066-4179-8ce6-279477a4580d",
   "metadata": {
    "execution": {
     "iopub.execute_input": "2025-10-13T14:54:07.209429Z",
     "iopub.status.busy": "2025-10-13T14:54:07.208399Z",
     "iopub.status.idle": "2025-10-13T14:54:07.218923Z",
     "shell.execute_reply": "2025-10-13T14:54:07.217780Z"
    }
   },
   "outputs": [],
   "source": [
    "Freq.table_NO_NA.dt<-data.table(Freq.table_NO_NA, key=c('my_own_clusters'))"
   ]
  },
  {
   "cell_type": "code",
   "execution_count": 208,
   "id": "31b4d0b7-8400-4a19-8972-dc5789f69453",
   "metadata": {
    "execution": {
     "iopub.execute_input": "2025-10-13T14:54:07.460483Z",
     "iopub.status.busy": "2025-10-13T14:54:07.459522Z",
     "iopub.status.idle": "2025-10-13T14:54:07.484429Z",
     "shell.execute_reply": "2025-10-13T14:54:07.483277Z"
    }
   },
   "outputs": [
    {
     "name": "stdout",
     "output_type": "stream",
     "text": [
      "'data.frame':\t86 obs. of  5 variables:\n",
      " $ my_own_clusters      : chr  \"1\" \"10_0\" \"10_1\" \"10_10\" ...\n",
      " $ Integrated_annotation: chr  \"hESC\" \"unassigned\" \"HemogenicEndothelium\" \"HemogenicEndothelium\" ...\n",
      " $ Freq                 : int  4331 61 56 53 40 48 23 16 43 19 ...\n",
      " $ TOTAL                : int  4537 172 124 69 68 60 55 53 49 42 ...\n",
      " $ Perc                 : num  95.5 35.5 45.2 76.8 58.8 ...\n"
     ]
    }
   ],
   "source": [
    "Freq.table_NO_NA_MAX<-as.data.frame(Freq.table_NO_NA.dt[,.SD[which.max(Perc)], by=key(Freq.table_NO_NA.dt)], stringsAsFactors=F)\n",
    "\n",
    "str(Freq.table_NO_NA_MAX)"
   ]
  },
  {
   "cell_type": "code",
   "execution_count": 209,
   "id": "d66ef985-7a62-40e1-b07a-7501b5782e3a",
   "metadata": {
    "execution": {
     "iopub.execute_input": "2025-10-13T14:54:08.311625Z",
     "iopub.status.busy": "2025-10-13T14:54:08.310602Z",
     "iopub.status.idle": "2025-10-13T14:54:08.322843Z",
     "shell.execute_reply": "2025-10-13T14:54:08.321655Z"
    }
   },
   "outputs": [
    {
     "name": "stdout",
     "output_type": "stream",
     "text": [
      " int [1:4537] 2 6 14 15 17 24 32 35 38 39 ...\n"
     ]
    }
   ],
   "source": [
    "indx.1<-which(adata@meta.data$my_own_clusters == Freq.table_NO_NA_MAX$my_own_clusters[1])\n",
    "\n",
    "str(indx.1)"
   ]
  },
  {
   "cell_type": "code",
   "execution_count": 210,
   "id": "f2cf9214-c1bf-41f6-8a6d-744254e31c46",
   "metadata": {
    "execution": {
     "iopub.execute_input": "2025-10-13T14:54:08.744568Z",
     "iopub.status.busy": "2025-10-13T14:54:08.743126Z",
     "iopub.status.idle": "2025-10-13T14:54:08.755023Z",
     "shell.execute_reply": "2025-10-13T14:54:08.753559Z"
    }
   },
   "outputs": [],
   "source": [
    "match<-function(x) {which(adata@meta.data$my_own_clusters == x)}"
   ]
  },
  {
   "cell_type": "code",
   "execution_count": 211,
   "id": "f0c96591-5fc9-4092-bc55-b7efaee4c829",
   "metadata": {
    "execution": {
     "iopub.execute_input": "2025-10-13T14:54:10.087875Z",
     "iopub.status.busy": "2025-10-13T14:54:10.086351Z",
     "iopub.status.idle": "2025-10-13T14:54:10.100101Z",
     "shell.execute_reply": "2025-10-13T14:54:10.098954Z"
    }
   },
   "outputs": [
    {
     "name": "stdout",
     "output_type": "stream",
     "text": [
      " int [1:4537] 2 6 14 15 17 24 32 35 38 39 ...\n"
     ]
    }
   ],
   "source": [
    "str(match('1'))"
   ]
  },
  {
   "cell_type": "code",
   "execution_count": 212,
   "id": "97081041-00b1-4f5a-aa72-affe0d7a1e5f",
   "metadata": {
    "execution": {
     "iopub.execute_input": "2025-10-13T14:54:13.103145Z",
     "iopub.status.busy": "2025-10-13T14:54:13.102066Z",
     "iopub.status.idle": "2025-10-13T14:54:13.164615Z",
     "shell.execute_reply": "2025-10-13T14:54:13.163450Z"
    }
   },
   "outputs": [
    {
     "name": "stdout",
     "output_type": "stream",
     "text": [
      "List of 86\n",
      " $ 1    : int [1:4537] 2 6 14 15 17 24 32 35 38 39 ...\n",
      " $ 10_0 : int [1:172] 17308 17314 17497 17525 17557 17594 17736 17768 18430 18535 ...\n",
      " $ 10_1 : int [1:124] 17472 17805 18532 18979 19101 19162 19322 19394 19400 19407 ...\n",
      " $ 10_10: int [1:69] 17431 18117 18325 19303 19396 19516 19570 19612 19932 20370 ...\n",
      " $ 10_11: int [1:68] 17369 18243 18384 18954 18988 19049 19241 19438 19499 19583 ...\n",
      " $ 10_12: int [1:60] 17522 18247 18943 19091 19470 19689 19691 19953 20221 20728 ...\n",
      " $ 10_13: int [1:55] 17322 17395 18087 18147 18378 18885 20050 20369 20595 20737 ...\n",
      " $ 10_14: int [1:53] 17774 18063 19072 19420 19678 19690 19928 20294 21138 21160 ...\n",
      " $ 10_15: int [1:49] 17298 17496 17498 18013 18196 18577 19688 19790 20220 20668 ...\n",
      " $ 10_16: int [1:42] 17630 17841 18375 18736 19590 20234 20287 20320 20323 20638 ...\n",
      " $ 10_2 : int [1:109] 1219 10132 17124 17371 17445 17448 17450 17546 17547 17661 ...\n",
      " $ 10_3 : int [1:106] 17341 17530 17539 17607 17721 17748 17929 17976 18034 18559 ...\n",
      " $ 10_4 : int [1:105] 17356 17389 17413 17464 17855 18071 18136 18235 18851 18890 ...\n",
      " $ 10_5 : int [1:101] 17871 18038 18471 18626 18647 18653 18716 18817 19070 19461 ...\n",
      " $ 10_6 : int [1:90] 17600 17814 17991 18139 18315 18573 18926 19034 19207 19683 ...\n",
      " $ 10_7 : int [1:87] 17335 17511 17897 18967 19157 19186 19363 20068 21115 21214 ...\n",
      " $ 10_8 : int [1:83] 17458 17708 18092 18309 18347 18447 18574 18957 19206 19548 ...\n",
      " $ 10_9 : int [1:82] 17374 17537 17545 17905 17938 18495 18558 18731 19116 19599 ...\n",
      " $ 11_0 : int [1:147] 17306 17325 17494 17603 17839 18114 18245 18306 18324 18453 ...\n",
      " $ 11_1 : int [1:122] 17474 17492 17574 17610 17644 18394 18435 18686 18883 19299 ...\n",
      " $ 11_10: int [1:73] 17358 17495 17505 17806 18421 18692 18784 18963 19105 19173 ...\n",
      " $ 11_11: int [1:69] 17655 18582 18938 19098 19167 19172 20191 20600 21195 21217 ...\n",
      " $ 11_12: int [1:64] 17542 17622 17872 19460 19463 19539 19666 19865 20039 20181 ...\n",
      " $ 11_13: int [1:59] 17482 17589 17791 17951 18177 18566 18763 18931 19726 20454 ...\n",
      " $ 11_14: int [1:56] 17348 18033 18201 18548 18563 18569 18714 18908 18961 19120 ...\n",
      " $ 11_15: int [1:53] 18105 18483 18523 18852 19316 19728 20304 20452 20558 20672 ...\n",
      " $ 11_16: int [1:48] 17338 17954 18022 18155 18861 18878 19209 19929 20774 20865 ...\n",
      " $ 11_2 : int [1:112] 17658 17876 18091 18282 18294 18467 18502 18796 19152 19285 ...\n",
      " $ 11_3 : int [1:107] 17794 17811 18240 18273 18314 18401 18553 18698 18708 18737 ...\n",
      " $ 11_4 : int [1:104] 17629 17750 17803 17901 18093 18368 18406 18598 18665 18760 ...\n",
      " $ 11_5 : int [1:99] 17302 17319 17393 17455 17460 17484 17714 17826 17974 18077 ...\n",
      " $ 11_6 : int [1:90] 17297 17368 17406 17540 17970 18176 18612 18892 19110 19585 ...\n",
      " $ 11_7 : int [1:81] 17591 17701 18397 18654 18765 18793 18800 19112 19149 19205 ...\n",
      " $ 11_8 : int [1:78] 17446 17835 17900 18398 18503 18547 18939 18955 19369 19592 ...\n",
      " $ 11_9 : int [1:77] 17642 17843 18410 18901 18994 19222 19445 19481 19575 19822 ...\n",
      " $ 12   : int [1:1267] 29 44 57 67 83 113 150 157 185 189 ...\n",
      " $ 13   : int [1:1169] 144 481 1754 3229 9917 10701 10751 12443 15000 16415 ...\n",
      " $ 14   : int [1:670] 17299 17317 17333 17381 17404 17430 17433 17462 17481 17513 ...\n",
      " $ 15   : int [1:664] 4 12 55 58 147 159 222 235 431 473 ...\n",
      " $ 16   : int [1:382] 17304 17399 17417 17427 17461 17468 17553 17561 17582 17605 ...\n",
      " $ 2    : int [1:4020] 4610 17295 17312 17323 17340 17344 17347 17357 17361 17362 ...\n",
      " $ 3    : int [1:3739] 5 18 22 25 28 36 41 48 52 61 ...\n",
      " $ 4    : int [1:3348] 9 11 19 20 23 26 27 30 33 45 ...\n",
      " $ 5_0  : int [1:313] 17442 17452 17506 17512 17518 17559 17638 17695 17700 17788 ...\n",
      " $ 5_1  : int [1:259] 17320 17327 17331 17339 17396 17421 17447 17595 17666 17707 ...\n",
      " $ 5_10 : int [1:148] 17385 17651 17668 17776 17785 17816 17818 17832 18061 18101 ...\n",
      " $ 5_11 : int [1:129] 17326 17359 17705 17729 17884 18119 18363 18372 18551 18669 ...\n",
      " $ 5_12 : int [1:124] 17488 17746 17909 17925 18045 18260 18451 18521 18594 18742 ...\n",
      " $ 5_13 : int [1:122] 17355 17588 17604 17683 17742 18106 18120 18131 18242 18289 ...\n",
      " $ 5_14 : int [1:105] 17483 17514 17955 17960 18051 18404 18738 18823 19362 19414 ...\n",
      " $ 5_15 : int [1:104] 17313 17440 17979 18014 18175 18595 18644 18663 18717 18739 ...\n",
      " $ 5_16 : int [1:97] 17527 18023 18113 18322 18329 18470 18497 18536 18565 18610 ...\n",
      " $ 5_17 : int [1:78] 17307 17779 18085 18152 18246 18526 18884 18911 19491 19546 ...\n",
      " $ 5_18 : int [1:74] 17633 18111 18312 18588 18655 18832 19380 19448 19881 19976 ...\n",
      " $ 5_19 : int [1:69] 17456 17500 17569 17766 17874 18112 18482 18928 19012 19601 ...\n",
      " $ 5_2  : int [1:257] 17350 17463 17577 17631 17817 17847 17883 17906 17958 18039 ...\n",
      " $ 5_3  : int [1:209] 17343 17360 17363 17437 17555 17581 17602 17613 17777 17851 ...\n",
      " $ 5_4  : int [1:200] 17321 17548 17599 17801 17907 17913 17962 17971 18066 18197 ...\n",
      " $ 5_5  : int [1:189] 17516 17614 17623 17626 17720 17723 17753 17890 17965 18010 ...\n",
      " $ 5_6  : int [1:181] 17377 17384 17394 17409 17922 18138 18395 18477 18510 18630 ...\n",
      " $ 5_7  : int [1:172] 17309 17657 17787 17798 17856 17989 18026 18082 18172 18212 ...\n",
      " $ 5_8  : int [1:170] 17329 17330 17332 17428 17597 17690 17775 18009 18024 18040 ...\n",
      " $ 5_9  : int [1:164] 17471 17491 17627 17778 17786 17799 17820 17959 18029 18211 ...\n",
      " $ 6    : int [1:2865] 1 3 7 8 10 13 21 43 46 47 ...\n",
      " $ 7_0  : int [1:200] 17311 17401 17451 17662 17675 17732 17754 17859 17915 18001 ...\n",
      " $ 7_1  : int [1:199] 17301 17523 17571 17587 17641 17664 17765 17784 17815 17827 ...\n",
      " $ 7_10 : int [1:114] 17584 17601 17735 17796 17921 17975 18004 18118 18171 18226 ...\n",
      " $ 7_11 : int [1:105] 17543 17877 18206 18300 18383 18505 18707 18735 18810 18880 ...\n",
      " $ 7_12 : int [1:103] 17398 17490 17717 18088 18215 18221 18597 18670 18933 19164 ...\n",
      " $ 7_13 : int [1:100] 17345 17346 17568 17665 17836 18168 18508 19042 19129 19462 ...\n",
      " $ 7_14 : int [1:96] 17388 17636 17757 17850 17996 18019 18159 18271 18362 18413 ...\n",
      " $ 7_15 : int [1:94] 17353 17521 17567 17635 17698 17773 17846 17926 18169 18173 ...\n",
      " $ 7_16 : int [1:68] 17375 17386 17466 17572 17625 18142 19193 19584 19816 19903 ...\n",
      " $ 7_17 : int [1:67] 17305 17478 18504 18534 18672 18711 18768 18792 18866 19268 ...\n",
      " $ 7_18 : int [1:66] 17342 17888 19244 19836 20551 20705 20718 20856 21308 21930 ...\n",
      " $ 7_19 : int [1:49] 17403 17475 17486 17881 18313 18438 18485 19158 19680 20795 ...\n",
      " $ 7_2  : int [1:190] 17352 17354 17379 17420 17529 17598 17792 17941 17973 18006 ...\n",
      " $ 7_3  : int [1:183] 17615 17621 17716 17738 17781 17946 18170 18296 18344 18355 ...\n",
      " $ 7_4  : int [1:150] 17476 17863 18005 18042 18100 18191 18489 18580 18640 18702 ...\n",
      " $ 7_5  : int [1:149] 17364 17711 17809 17810 17956 18053 18125 18187 18468 18615 ...\n",
      " $ 7_6  : int [1:132] 17372 17485 17531 17550 17727 17800 18145 18241 18399 18511 ...\n",
      " $ 7_7  : int [1:132] 17580 17590 18342 18361 18476 18509 18538 18896 19001 19036 ...\n",
      " $ 7_8  : int [1:126] 17412 17419 17425 17480 17830 17930 18049 18097 18204 18262 ...\n",
      " $ 7_9  : int [1:120] 17349 17400 17459 17535 17538 17674 17783 18054 18219 18297 ...\n",
      " $ 8    : int [1:2370] 16 31 34 37 49 60 62 70 71 88 ...\n",
      " $ 9    : int [1:1688] 17296 17316 17318 17334 17351 17367 17382 17405 17411 17414 ...\n"
     ]
    }
   ],
   "source": [
    "LIST<-lapply(Freq.table_NO_NA_MAX$my_own_clusters, FUN = match)\n",
    "\n",
    "names(LIST)<-Freq.table_NO_NA_MAX$my_own_clusters\n",
    "\n",
    "str(LIST)"
   ]
  },
  {
   "cell_type": "code",
   "execution_count": 213,
   "id": "ee860bad-8e74-46b5-9fa9-5c4ce89fb32c",
   "metadata": {
    "execution": {
     "iopub.execute_input": "2025-10-13T14:54:17.194718Z",
     "iopub.status.busy": "2025-10-13T14:54:17.193635Z",
     "iopub.status.idle": "2025-10-13T14:54:17.259553Z",
     "shell.execute_reply": "2025-10-13T14:54:17.258380Z"
    }
   },
   "outputs": [
    {
     "name": "stdout",
     "output_type": "stream",
     "text": [
      " int [1:4537] 2 6 14 15 17 24 32 35 38 39 ...\n",
      " chr \"hESC\"\n",
      " int [1:172] 17308 17314 17497 17525 17557 17594 17736 17768 18430 18535 ...\n",
      " chr \"unassigned\"\n",
      " int [1:124] 17472 17805 18532 18979 19101 19162 19322 19394 19400 19407 ...\n",
      " chr \"HemogenicEndothelium\"\n",
      " int [1:69] 17431 18117 18325 19303 19396 19516 19570 19612 19932 20370 ...\n",
      " chr \"HemogenicEndothelium\"\n",
      " int [1:68] 17369 18243 18384 18954 18988 19049 19241 19438 19499 19583 ...\n",
      " chr \"hESC\"\n",
      " int [1:60] 17522 18247 18943 19091 19470 19689 19691 19953 20221 20728 ...\n",
      " chr \"HemogenicEndothelium\"\n",
      " int [1:55] 17322 17395 18087 18147 18378 18885 20050 20369 20595 20737 ...\n",
      " chr \"HemogenicEndothelium\"\n",
      " int [1:53] 17774 18063 19072 19420 19678 19690 19928 20294 21138 21160 ...\n",
      " chr \"unassigned\"\n",
      " int [1:49] 17298 17496 17498 18013 18196 18577 19688 19790 20220 20668 ...\n",
      " chr \"HemogenicEndothelium\"\n",
      " int [1:42] 17630 17841 18375 18736 19590 20234 20287 20320 20323 20638 ...\n",
      " chr \"HemogenicEndothelium\"\n",
      " int [1:109] 1219 10132 17124 17371 17445 17448 17450 17546 17547 17661 ...\n",
      " chr \"hESC\"\n",
      " int [1:106] 17341 17530 17539 17607 17721 17748 17929 17976 18034 18559 ...\n",
      " chr \"hESC\"\n",
      " int [1:105] 17356 17389 17413 17464 17855 18071 18136 18235 18851 18890 ...\n",
      " chr \"HemogenicEndothelium\"\n",
      " int [1:101] 17871 18038 18471 18626 18647 18653 18716 18817 19070 19461 ...\n",
      " chr \"HemogenicEndothelium\"\n",
      " int [1:90] 17600 17814 17991 18139 18315 18573 18926 19034 19207 19683 ...\n",
      " chr \"HemogenicEndothelium\"\n",
      " int [1:87] 17335 17511 17897 18967 19157 19186 19363 20068 21115 21214 ...\n",
      " chr \"HemogenicEndothelium\"\n",
      " int [1:83] 17458 17708 18092 18309 18347 18447 18574 18957 19206 19548 ...\n",
      " chr \"HemogenicEndothelium\"\n",
      " int [1:82] 17374 17537 17545 17905 17938 18495 18558 18731 19116 19599 ...\n",
      " chr \"HemogenicEndothelium\"\n",
      " int [1:147] 17306 17325 17494 17603 17839 18114 18245 18306 18324 18453 ...\n",
      " chr \"late erythroid\"\n",
      " int [1:122] 17474 17492 17574 17610 17644 18394 18435 18686 18883 19299 ...\n",
      " chr \"MEP\"\n",
      " int [1:73] 17358 17495 17505 17806 18421 18692 18784 18963 19105 19173 ...\n",
      " chr \"HemogenicEndothelium\"\n",
      " int [1:69] 17655 18582 18938 19098 19167 19172 20191 20600 21195 21217 ...\n",
      " chr \"MEP\"\n",
      " int [1:64] 17542 17622 17872 19460 19463 19539 19666 19865 20039 20181 ...\n",
      " chr \"MEP\"\n",
      " int [1:59] 17482 17589 17791 17951 18177 18566 18763 18931 19726 20454 ...\n",
      " chr \"HemogenicEndothelium\"\n",
      " int [1:56] 17348 18033 18201 18548 18563 18569 18714 18908 18961 19120 ...\n",
      " chr \"HemogenicEndothelium\"\n",
      " int [1:53] 18105 18483 18523 18852 19316 19728 20304 20452 20558 20672 ...\n",
      " chr \"MEP\"\n",
      " int [1:48] 17338 17954 18022 18155 18861 18878 19209 19929 20774 20865 ...\n",
      " chr \"MEP\"\n",
      " int [1:112] 17658 17876 18091 18282 18294 18467 18502 18796 19152 19285 ...\n",
      " chr \"MEP\"\n",
      " int [1:107] 17794 17811 18240 18273 18314 18401 18553 18698 18708 18737 ...\n",
      " chr \"MEP\"\n",
      " int [1:104] 17629 17750 17803 17901 18093 18368 18406 18598 18665 18760 ...\n",
      " chr \"MEP\"\n",
      " int [1:99] 17302 17319 17393 17455 17460 17484 17714 17826 17974 18077 ...\n",
      " chr \"MEP\"\n",
      " int [1:90] 17297 17368 17406 17540 17970 18176 18612 18892 19110 19585 ...\n",
      " chr \"MEP\"\n",
      " int [1:81] 17591 17701 18397 18654 18765 18793 18800 19112 19149 19205 ...\n",
      " chr \"MEP\"\n",
      " int [1:78] 17446 17835 17900 18398 18503 18547 18939 18955 19369 19592 ...\n",
      " chr \"MEP\"\n",
      " int [1:77] 17642 17843 18410 18901 18994 19222 19445 19481 19575 19822 ...\n",
      " chr \"unassigned\"\n",
      " int [1:1267] 29 44 57 67 83 113 150 157 185 189 ...\n",
      " chr \"hESC\"\n",
      " int [1:1169] 144 481 1754 3229 9917 10701 10751 12443 15000 16415 ...\n",
      " chr \"MEP\"\n",
      " int [1:670] 17299 17317 17333 17381 17404 17430 17433 17462 17481 17513 ...\n",
      " chr \"HemogenicEndothelium\"\n",
      " int [1:664] 4 12 55 58 147 159 222 235 431 473 ...\n",
      " chr \"hESC\"\n",
      " int [1:382] 17304 17399 17417 17427 17461 17468 17553 17561 17582 17605 ...\n",
      " chr \"MEP\"\n",
      " int [1:4020] 4610 17295 17312 17323 17340 17344 17347 17357 17361 17362 ...\n",
      " chr \"MEP\"\n",
      " int [1:3739] 5 18 22 25 28 36 41 48 52 61 ...\n",
      " chr \"hESC\"\n",
      " int [1:3348] 9 11 19 20 23 26 27 30 33 45 ...\n",
      " chr \"hESC\"\n",
      " int [1:313] 17442 17452 17506 17512 17518 17559 17638 17695 17700 17788 ...\n",
      " chr \"MEP\"\n",
      " int [1:259] 17320 17327 17331 17339 17396 17421 17447 17595 17666 17707 ...\n",
      " chr \"MEP\"\n",
      " int [1:148] 17385 17651 17668 17776 17785 17816 17818 17832 18061 18101 ...\n",
      " chr \"MEP\"\n",
      " int [1:129] 17326 17359 17705 17729 17884 18119 18363 18372 18551 18669 ...\n",
      " chr \"MEP\"\n",
      " int [1:124] 17488 17746 17909 17925 18045 18260 18451 18521 18594 18742 ...\n",
      " chr \"MEP\"\n",
      " int [1:122] 17355 17588 17604 17683 17742 18106 18120 18131 18242 18289 ...\n",
      " chr \"MEP\"\n",
      " int [1:105] 17483 17514 17955 17960 18051 18404 18738 18823 19362 19414 ...\n",
      " chr \"MEP\"\n",
      " int [1:104] 17313 17440 17979 18014 18175 18595 18644 18663 18717 18739 ...\n",
      " chr \"MEP\"\n",
      " int [1:97] 17527 18023 18113 18322 18329 18470 18497 18536 18565 18610 ...\n",
      " chr \"MEP\"\n",
      " int [1:78] 17307 17779 18085 18152 18246 18526 18884 18911 19491 19546 ...\n",
      " chr \"MEP\"\n",
      " int [1:74] 17633 18111 18312 18588 18655 18832 19380 19448 19881 19976 ...\n",
      " chr \"early erythroid\"\n",
      " int [1:69] 17456 17500 17569 17766 17874 18112 18482 18928 19012 19601 ...\n",
      " chr \"MEP\"\n",
      " int [1:257] 17350 17463 17577 17631 17817 17847 17883 17906 17958 18039 ...\n",
      " chr \"MEP\"\n",
      " int [1:209] 17343 17360 17363 17437 17555 17581 17602 17613 17777 17851 ...\n",
      " chr \"early erythroid\"\n",
      " int [1:200] 17321 17548 17599 17801 17907 17913 17962 17971 18066 18197 ...\n",
      " chr \"MEP\"\n",
      " int [1:189] 17516 17614 17623 17626 17720 17723 17753 17890 17965 18010 ...\n",
      " chr \"MEP\"\n",
      " int [1:181] 17377 17384 17394 17409 17922 18138 18395 18477 18510 18630 ...\n",
      " chr \"MEP\"\n",
      " int [1:172] 17309 17657 17787 17798 17856 17989 18026 18082 18172 18212 ...\n",
      " chr \"MEP\"\n",
      " int [1:170] 17329 17330 17332 17428 17597 17690 17775 18009 18024 18040 ...\n",
      " chr \"early erythroid\"\n",
      " int [1:164] 17471 17491 17627 17778 17786 17799 17820 17959 18029 18211 ...\n",
      " chr \"MEP\"\n",
      " int [1:2865] 1 3 7 8 10 13 21 43 46 47 ...\n",
      " chr \"hESC\"\n",
      " int [1:200] 17311 17401 17451 17662 17675 17732 17754 17859 17915 18001 ...\n",
      " chr \"MEP\"\n",
      " int [1:199] 17301 17523 17571 17587 17641 17664 17765 17784 17815 17827 ...\n",
      " chr \"MEP\"\n",
      " int [1:114] 17584 17601 17735 17796 17921 17975 18004 18118 18171 18226 ...\n",
      " chr \"early erythroid\"\n",
      " int [1:105] 17543 17877 18206 18300 18383 18505 18707 18735 18810 18880 ...\n",
      " chr \"MEP\"\n",
      " int [1:103] 17398 17490 17717 18088 18215 18221 18597 18670 18933 19164 ...\n",
      " chr \"MEP\"\n",
      " int [1:100] 17345 17346 17568 17665 17836 18168 18508 19042 19129 19462 ...\n",
      " chr \"early erythroid\"\n",
      " int [1:96] 17388 17636 17757 17850 17996 18019 18159 18271 18362 18413 ...\n",
      " chr \"MEP\"\n",
      " int [1:94] 17353 17521 17567 17635 17698 17773 17846 17926 18169 18173 ...\n",
      " chr \"early erythroid\"\n",
      " int [1:68] 17375 17386 17466 17572 17625 18142 19193 19584 19816 19903 ...\n",
      " chr \"MEP\"\n",
      " int [1:67] 17305 17478 18504 18534 18672 18711 18768 18792 18866 19268 ...\n",
      " chr \"early erythroid\"\n",
      " int [1:66] 17342 17888 19244 19836 20551 20705 20718 20856 21308 21930 ...\n",
      " chr \"early erythroid\"\n",
      " int [1:49] 17403 17475 17486 17881 18313 18438 18485 19158 19680 20795 ...\n",
      " chr \"MEP\"\n",
      " int [1:190] 17352 17354 17379 17420 17529 17598 17792 17941 17973 18006 ...\n",
      " chr \"MEP\"\n",
      " int [1:183] 17615 17621 17716 17738 17781 17946 18170 18296 18344 18355 ...\n",
      " chr \"MEP\"\n",
      " int [1:150] 17476 17863 18005 18042 18100 18191 18489 18580 18640 18702 ...\n",
      " chr \"MEP\"\n",
      " int [1:149] 17364 17711 17809 17810 17956 18053 18125 18187 18468 18615 ...\n",
      " chr \"early erythroid\"\n",
      " int [1:132] 17372 17485 17531 17550 17727 17800 18145 18241 18399 18511 ...\n",
      " chr \"MEP\"\n",
      " int [1:132] 17580 17590 18342 18361 18476 18509 18538 18896 19001 19036 ...\n",
      " chr \"MEP\"\n",
      " int [1:126] 17412 17419 17425 17480 17830 17930 18049 18097 18204 18262 ...\n",
      " chr \"early erythroid\"\n",
      " int [1:120] 17349 17400 17459 17535 17538 17674 17783 18054 18219 18297 ...\n",
      " chr \"MEP\"\n",
      " int [1:2370] 16 31 34 37 49 60 62 70 71 88 ...\n",
      " chr \"hESC\"\n",
      " int [1:1688] 17296 17316 17318 17334 17351 17367 17382 17405 17411 17414 ...\n",
      " chr \"unassigned\"\n"
     ]
    }
   ],
   "source": [
    "array<-names(LIST)\n",
    "\n",
    "adata@meta.data$Integrated_annotation_after_rpca<-NA\n",
    "\n",
    "for(i in 1:length(array)){\n",
    "\n",
    "    cluster<-array[i]\n",
    "\n",
    "    indx<-LIST[[cluster]]\n",
    "\n",
    "    str(indx)\n",
    "\n",
    "    Integrated_annotation_sel<-as.character((Freq.table_NO_NA_MAX$Integrated_annotation[which(Freq.table_NO_NA_MAX$my_own_clusters == cluster)]))\n",
    "\n",
    "    str(Integrated_annotation_sel)\n",
    "\n",
    "    adata@meta.data$Integrated_annotation_after_rpca[indx]<-Integrated_annotation_sel\n",
    "    \n",
    "    \n",
    "}"
   ]
  },
  {
   "cell_type": "code",
   "execution_count": 214,
   "id": "b442a00d-eaf4-4f8e-a9be-e0ac33bc47da",
   "metadata": {
    "execution": {
     "iopub.execute_input": "2025-10-13T14:54:32.088662Z",
     "iopub.status.busy": "2025-10-13T14:54:32.087593Z",
     "iopub.status.idle": "2025-10-13T14:54:32.098752Z",
     "shell.execute_reply": "2025-10-13T14:54:32.097616Z"
    }
   },
   "outputs": [],
   "source": [
    "adata@meta.data$Integrated_annotation_after_rpca<-factor(adata@meta.data$Integrated_annotation_after_rpca)"
   ]
  },
  {
   "cell_type": "code",
   "execution_count": 215,
   "id": "c68c9149-e6b0-4475-98f6-2183ffbaec06",
   "metadata": {
    "execution": {
     "iopub.execute_input": "2025-10-13T14:54:33.010354Z",
     "iopub.status.busy": "2025-10-13T14:54:33.009353Z",
     "iopub.status.idle": "2025-10-13T14:54:33.021929Z",
     "shell.execute_reply": "2025-10-13T14:54:33.020830Z"
    }
   },
   "outputs": [
    {
     "data": {
      "text/html": [
       "<style>\n",
       ".dl-inline {width: auto; margin:0; padding: 0}\n",
       ".dl-inline>dt, .dl-inline>dd {float: none; width: auto; display: inline-block}\n",
       ".dl-inline>dt::after {content: \":\\0020\"; padding-right: .5ex}\n",
       ".dl-inline>dt:not(:first-of-type) {padding-left: .5ex}\n",
       "</style><dl class=dl-inline><dt>early erythroid</dt><dd>1169</dd><dt>HemogenicEndothelium</dt><dd>1805</dd><dt>hESC</dt><dd>19073</dd><dt>late erythroid</dt><dd>147</dd><dt>MEP</dt><dd>11036</dd><dt>unassigned</dt><dd>1990</dd></dl>\n"
      ],
      "text/latex": [
       "\\begin{description*}\n",
       "\\item[early erythroid] 1169\n",
       "\\item[HemogenicEndothelium] 1805\n",
       "\\item[hESC] 19073\n",
       "\\item[late erythroid] 147\n",
       "\\item[MEP] 11036\n",
       "\\item[unassigned] 1990\n",
       "\\end{description*}\n"
      ],
      "text/markdown": [
       "early erythroid\n",
       ":   1169HemogenicEndothelium\n",
       ":   1805hESC\n",
       ":   19073late erythroid\n",
       ":   147MEP\n",
       ":   11036unassigned\n",
       ":   1990\n",
       "\n"
      ],
      "text/plain": [
       "     early erythroid HemogenicEndothelium                 hESC \n",
       "                1169                 1805                19073 \n",
       "      late erythroid                  MEP           unassigned \n",
       "                 147                11036                 1990 "
      ]
     },
     "metadata": {},
     "output_type": "display_data"
    }
   ],
   "source": [
    "summary(adata@meta.data$Integrated_annotation_after_rpca)"
   ]
  },
  {
   "cell_type": "markdown",
   "id": "68da8e21-8823-4865-bbbc-a77e3729df65",
   "metadata": {},
   "source": [
    "## solve NA in Integrated_annotation_after_rpca"
   ]
  },
  {
   "cell_type": "code",
   "execution_count": 217,
   "id": "c4c1660b-34b5-4517-85fc-56793ae862c0",
   "metadata": {
    "execution": {
     "iopub.execute_input": "2025-10-13T14:55:11.903969Z",
     "iopub.status.busy": "2025-10-13T14:55:11.902910Z",
     "iopub.status.idle": "2025-10-13T14:55:11.919236Z",
     "shell.execute_reply": "2025-10-13T14:55:11.918123Z"
    }
   },
   "outputs": [
    {
     "data": {
      "text/html": [
       "0"
      ],
      "text/latex": [
       "0"
      ],
      "text/markdown": [
       "0"
      ],
      "text/plain": [
       "[1] 0"
      ]
     },
     "metadata": {},
     "output_type": "display_data"
    }
   ],
   "source": [
    "sum(is.na(adata@meta.data$Integrated_annotation_after_rpca))"
   ]
  },
  {
   "cell_type": "markdown",
   "id": "981e4b5d-213e-4ecc-bc74-1563f1003b04",
   "metadata": {},
   "source": [
    "## Order factor Integrated_annotation_after_rpca"
   ]
  },
  {
   "cell_type": "markdown",
   "id": "1ac2a8d0-86b8-4668-8b6f-0661517fff8b",
   "metadata": {
    "execution": {
     "iopub.execute_input": "2025-10-13T15:07:29.993663Z",
     "iopub.status.busy": "2025-10-13T15:07:29.992561Z",
     "iopub.status.idle": "2025-10-13T15:07:30.005892Z",
     "shell.execute_reply": "2025-10-13T15:07:30.004703Z"
    }
   },
   "source": [
    "names(summary(adata@meta.data$Integrated_annotation_after_rpca))"
   ]
  },
  {
   "cell_type": "code",
   "execution_count": 249,
   "id": "f38ca307-a618-4543-87f1-2ebc0ed33aa1",
   "metadata": {
    "execution": {
     "iopub.execute_input": "2025-10-13T15:08:31.743147Z",
     "iopub.status.busy": "2025-10-13T15:08:31.742014Z",
     "iopub.status.idle": "2025-10-13T15:08:31.758451Z",
     "shell.execute_reply": "2025-10-13T15:08:31.757272Z"
    }
   },
   "outputs": [],
   "source": [
    "adata@meta.data$Integrated_annotation_after_rpca<-factor(adata@meta.data$Integrated_annotation_after_rpca,\n",
    "                                                        levels=c('hESC','HemogenicEndothelium','MEP','early erythroid','late erythroid','unassigned'),\n",
    "                                                        ordered=TRUE)"
   ]
  },
  {
   "cell_type": "markdown",
   "id": "e057462a-7d61-494d-9e25-7de7ef8427a5",
   "metadata": {},
   "source": [
    "# Integrated annotation after rpca"
   ]
  },
  {
   "cell_type": "markdown",
   "id": "60df6f11-5a11-4b6b-b81b-420a810af187",
   "metadata": {},
   "source": [
    "## DotPlot"
   ]
  },
  {
   "cell_type": "code",
   "execution_count": 250,
   "id": "b110b645-0c24-4148-b90c-a1862ebfa3f8",
   "metadata": {
    "execution": {
     "iopub.execute_input": "2025-10-13T15:08:38.763630Z",
     "iopub.status.busy": "2025-10-13T15:08:38.762522Z",
     "iopub.status.idle": "2025-10-13T15:08:38.773220Z",
     "shell.execute_reply": "2025-10-13T15:08:38.772075Z"
    }
   },
   "outputs": [],
   "source": [
    "markers<-c('SOX2','SOX4','POU5F1',\"KDR\",'CDH5','CD34','GYPA','HBA2','HBZ','ITGA2B','GP1BA','GP1BB','TUBB1','CDKN2D','MAPK14','PTPRC','RAG1','RAG2','CD4','CD8A','CD8B','IL7R','CD3D','CD3E','CD3G','TRDC','GZMA')"
   ]
  },
  {
   "cell_type": "code",
   "execution_count": 251,
   "id": "31cf86c1-3f69-4f65-8bf8-4b0d7386fe0c",
   "metadata": {
    "execution": {
     "iopub.execute_input": "2025-10-13T15:08:38.937635Z",
     "iopub.status.busy": "2025-10-13T15:08:38.936674Z",
     "iopub.status.idle": "2025-10-13T15:08:38.962107Z",
     "shell.execute_reply": "2025-10-13T15:08:38.960462Z"
    }
   },
   "outputs": [],
   "source": [
    "new_markers<-c('PTPRC','CD14','S100A9','S100A12','TPSB2','TPSAB1','RAG1','RAG2','CD4','CD8A','CD8B','IL7R','CD3D','CD3E','CD3G','TRDC','GZMA','GZMB','GZMK','PRF1','GNLY','NCAM1','IFNG','TYROBP','NKG7','RORC','PCDH9','KIT','LST1','CD160','FCGR3A','FCER1A','FOXP3','IL2RA','IL17B','TBX21','CD79A','JCHAIN')"
   ]
  },
  {
   "cell_type": "code",
   "execution_count": 252,
   "id": "23c7ee8f-331a-4612-b94b-4f173ec98fd7",
   "metadata": {
    "execution": {
     "iopub.execute_input": "2025-10-13T15:08:39.136680Z",
     "iopub.status.busy": "2025-10-13T15:08:39.135360Z",
     "iopub.status.idle": "2025-10-13T15:08:41.324063Z",
     "shell.execute_reply": "2025-10-13T15:08:41.321131Z"
    }
   },
   "outputs": [
    {
     "ename": "ERROR",
     "evalue": "Error in value[[3L]](cond): no active device and default getOption(\"device\") is invalid\n",
     "output_type": "error",
     "traceback": [
      "Error in value[[3L]](cond): no active device and default getOption(\"device\") is invalid\nTraceback:\n"
     ]
    },
    {
     "data": {
      "text/plain": [
       "plot without title"
      ]
     },
     "metadata": {
      "image/png": {
       "height": 420,
       "width": 420
      }
     },
     "output_type": "display_data"
    }
   ],
   "source": [
    "dotplot3<-DotPlot(\n",
    "  adata,\n",
    "    features=markers,\n",
    "  assay = \"SCT\",\n",
    "    group.by=\"Integrated_annotation_after_rpca\")+\n",
    "ylab('Clusters')+\n",
    "xlab('Marker genes')+\n",
    " theme_classic()+\n",
    "    theme(axis.title=element_blank(),\n",
    "          axis.title.y=element_text(color=\"black\", family=\"sans\", size=12),\n",
    "          axis.title.x=element_text(color=\"black\", family=\"sans\", size=12),\n",
    "          axis.text.y=element_text(color=\"black\", family=\"sans\", size=8),\n",
    "          axis.text.x=element_text(angle=45,vjust=1,hjust=1, color=\"black\", family=\"sans\", size=8))\n",
    "\n",
    "dotplot3"
   ]
  },
  {
   "cell_type": "code",
   "execution_count": 253,
   "id": "5e39d2fd-c12c-49ac-9993-1345570211aa",
   "metadata": {
    "execution": {
     "iopub.execute_input": "2025-10-13T15:09:19.035273Z",
     "iopub.status.busy": "2025-10-13T15:09:19.034186Z",
     "iopub.status.idle": "2025-10-13T15:09:20.974626Z",
     "shell.execute_reply": "2025-10-13T15:09:20.973346Z"
    }
   },
   "outputs": [
    {
     "name": "stderr",
     "output_type": "stream",
     "text": [
      "\u001b[1m\u001b[22mSaving 7 x 7 in image\n"
     ]
    }
   ],
   "source": [
    "setwd(\"/group/soranzo/manuel.tardaguila/2025_hESC_MK_SCRNAseq_10X/no_competition/RPCA/graphs/\")\n",
    "\n",
    "svgname<-paste(\"Dotplot_marker_genes_by_Integrated_annotation_after_rpca\",\".svg\",sep='')\n",
    "makesvg = TRUE\n",
    "\n",
    "if (makesvg == TRUE)\n",
    "{\n",
    "  ggsave(svgname, plot= dotplot3,\n",
    "         device=\"svg\")\n",
    "}"
   ]
  },
  {
   "cell_type": "code",
   "execution_count": 254,
   "id": "618521c7-7040-42ea-9944-43f05c9b8f81",
   "metadata": {
    "execution": {
     "iopub.execute_input": "2025-10-13T15:09:20.977297Z",
     "iopub.status.busy": "2025-10-13T15:09:20.976369Z",
     "iopub.status.idle": "2025-10-13T15:09:22.023797Z",
     "shell.execute_reply": "2025-10-13T15:09:22.022485Z"
    }
   },
   "outputs": [
    {
     "name": "stderr",
     "output_type": "stream",
     "text": [
      "Warning message:\n",
      "“Found the following features in more than one assay, excluding the default. We will not include these in the final data frame: TPSAB1, GZMB, GZMK, IFNG, FCGR3A, TBX21”\n",
      "Warning message:\n",
      "“The following requested variables were not found: TPSAB1, GZMB, GZMK, IFNG, FCGR3A, TBX21”\n",
      "\u001b[1m\u001b[22mSaving 7 x 7 in image\n"
     ]
    }
   ],
   "source": [
    "dotplot3<-DotPlot(\n",
    "  adata,\n",
    "    features=new_markers,\n",
    "  assay = \"SCT\",\n",
    "    group.by=\"Integrated_annotation_after_rpca\")+\n",
    "ylab('Clusters')+\n",
    "xlab('New marker genes')+\n",
    " theme_classic()+\n",
    "    theme(axis.title=element_blank(),\n",
    "          axis.title.y=element_text(color=\"black\", family=\"sans\", size=12),\n",
    "          axis.title.x=element_text(color=\"black\", family=\"sans\", size=12),\n",
    "          axis.text.y=element_text(color=\"black\", family=\"sans\", size=8),\n",
    "          axis.text.x=element_text(angle=45,vjust=1,hjust=1, color=\"black\", family=\"sans\", size=8))\n",
    "\n",
    "setwd(\"/group/soranzo/manuel.tardaguila/2025_hESC_MK_SCRNAseq_10X/no_competition/RPCA/graphs/\")\n",
    "\n",
    "svgname<-paste(\"Dotplot_NEW_marker_genes_by_Integrated_annotation_after_rpca\",\".svg\",sep='')\n",
    "makesvg = TRUE\n",
    "\n",
    "if (makesvg == TRUE)\n",
    "{\n",
    "  ggsave(svgname, plot= dotplot3,\n",
    "         device=\"svg\")\n",
    "}"
   ]
  },
  {
   "cell_type": "markdown",
   "id": "4d029cca-d300-4ac8-b72d-a73c9c6164c6",
   "metadata": {},
   "source": [
    "## Stacked barplots"
   ]
  },
  {
   "cell_type": "markdown",
   "id": "72990592-52e9-4440-a9f5-71640cd0f9f9",
   "metadata": {},
   "source": [
    "### Integrated_annotation_after_rpca vs seurat_clusters"
   ]
  },
  {
   "cell_type": "code",
   "execution_count": 277,
   "id": "feb2a636-6f73-4d27-93ac-f993cf7fad05",
   "metadata": {
    "execution": {
     "iopub.execute_input": "2025-10-13T15:10:26.441129Z",
     "iopub.status.busy": "2025-10-13T15:10:26.440078Z",
     "iopub.status.idle": "2025-10-13T15:10:26.454834Z",
     "shell.execute_reply": "2025-10-13T15:10:26.453727Z"
    }
   },
   "outputs": [],
   "source": [
    "met<-adata[[]]"
   ]
  },
  {
   "cell_type": "code",
   "execution_count": 278,
   "id": "01f9e37d-0e39-4a51-8ad3-d4bbb1109ffb",
   "metadata": {
    "execution": {
     "iopub.execute_input": "2025-10-13T15:10:26.457429Z",
     "iopub.status.busy": "2025-10-13T15:10:26.456498Z",
     "iopub.status.idle": "2025-10-13T15:10:26.464936Z",
     "shell.execute_reply": "2025-10-13T15:10:26.463836Z"
    }
   },
   "outputs": [],
   "source": [
    "#colnames(met)"
   ]
  },
  {
   "cell_type": "code",
   "execution_count": 279,
   "id": "5ab7e1e8-7def-4ce0-bf27-ecc1f63e6e52",
   "metadata": {
    "execution": {
     "iopub.execute_input": "2025-10-13T15:10:26.467514Z",
     "iopub.status.busy": "2025-10-13T15:10:26.466621Z",
     "iopub.status.idle": "2025-10-13T15:10:26.481327Z",
     "shell.execute_reply": "2025-10-13T15:10:26.480124Z"
    }
   },
   "outputs": [],
   "source": [
    "met.dt<-data.table(met,key=c(\"seurat_clusters\",\"Integrated_annotation_after_rpca\"))"
   ]
  },
  {
   "cell_type": "code",
   "execution_count": 280,
   "id": "11a65175-7286-41f5-aa8e-ffd7a62f5091",
   "metadata": {
    "execution": {
     "iopub.execute_input": "2025-10-13T15:10:26.483920Z",
     "iopub.status.busy": "2025-10-13T15:10:26.483038Z",
     "iopub.status.idle": "2025-10-13T15:10:26.491226Z",
     "shell.execute_reply": "2025-10-13T15:10:26.490175Z"
    }
   },
   "outputs": [],
   "source": [
    "#str(met.dt)"
   ]
  },
  {
   "cell_type": "code",
   "execution_count": 281,
   "id": "325fed51-070f-4cb8-ac49-abb5475577e8",
   "metadata": {
    "execution": {
     "iopub.execute_input": "2025-10-13T15:10:26.493782Z",
     "iopub.status.busy": "2025-10-13T15:10:26.492892Z",
     "iopub.status.idle": "2025-10-13T15:10:26.503584Z",
     "shell.execute_reply": "2025-10-13T15:10:26.502515Z"
    }
   },
   "outputs": [],
   "source": [
    "Freq.table<-as.data.frame(met.dt[,.(Freq=.N),by=key(met.dt)], stringsAsFactors=F)\n",
    "#Freq.table"
   ]
  },
  {
   "cell_type": "code",
   "execution_count": 282,
   "id": "a4e31cfd-c8a3-4ca7-8206-9b2af3bedd84",
   "metadata": {
    "execution": {
     "iopub.execute_input": "2025-10-13T15:10:26.506168Z",
     "iopub.status.busy": "2025-10-13T15:10:26.505252Z",
     "iopub.status.idle": "2025-10-13T15:10:26.521522Z",
     "shell.execute_reply": "2025-10-13T15:10:26.520395Z"
    }
   },
   "outputs": [],
   "source": [
    "met.dt<-data.table(met, key=c(\"seurat_clusters\"))\n",
    "Freq.TOTAL<-as.data.frame(met.dt[,.(TOTAL=.N),by=key(met.dt)], stringsAsFactors=F)\n",
    "#Freq.TOTAL"
   ]
  },
  {
   "cell_type": "code",
   "execution_count": 283,
   "id": "c170dab5-218f-4d9a-a0b3-8b35cb56e4e6",
   "metadata": {
    "execution": {
     "iopub.execute_input": "2025-10-13T15:10:26.524062Z",
     "iopub.status.busy": "2025-10-13T15:10:26.523169Z",
     "iopub.status.idle": "2025-10-13T15:10:26.533356Z",
     "shell.execute_reply": "2025-10-13T15:10:26.532287Z"
    }
   },
   "outputs": [],
   "source": [
    "Freq.table<-merge(Freq.table,\n",
    "                  Freq.TOTAL,\n",
    "                  by=c(\"seurat_clusters\"))\n",
    "Freq.table$Perc<-round((100*(Freq.table$Freq/Freq.table$TOTAL)),2)\n",
    "\n",
    "#Freq.table"
   ]
  },
  {
   "cell_type": "code",
   "execution_count": 284,
   "id": "8cc165cb-80b6-420f-af74-850f9d8b4e55",
   "metadata": {
    "execution": {
     "iopub.execute_input": "2025-10-13T15:10:26.535856Z",
     "iopub.status.busy": "2025-10-13T15:10:26.534988Z",
     "iopub.status.idle": "2025-10-13T15:10:26.546702Z",
     "shell.execute_reply": "2025-10-13T15:10:26.545579Z"
    }
   },
   "outputs": [
    {
     "name": "stdout",
     "output_type": "stream",
     "text": [
      "'data.frame':\t23 obs. of  5 variables:\n",
      " $ seurat_clusters                 : chr  \"1\" \"10\" \"10\" \"10\" ...\n",
      " $ Integrated_annotation_after_rpca: Ord.factor w/ 6 levels \"hESC\"<\"HemogenicEndothelium\"<..: 1 1 2 6 2 3 5 6 1 3 ...\n",
      " $ Freq                            : int  4537 283 947 225 188 1027 147 77 1267 1169 ...\n",
      " $ TOTAL                           : int  4537 1455 1455 1455 1439 1439 1439 1439 1267 1169 ...\n",
      " $ Perc                            : num  100 19.4 65.1 15.5 13.1 ...\n"
     ]
    }
   ],
   "source": [
    "str(Freq.table)"
   ]
  },
  {
   "cell_type": "code",
   "execution_count": 285,
   "id": "8ad9b980-4de4-4052-bcdb-26bfa3da9d08",
   "metadata": {
    "execution": {
     "iopub.execute_input": "2025-10-13T15:10:26.549260Z",
     "iopub.status.busy": "2025-10-13T15:10:26.548330Z",
     "iopub.status.idle": "2025-10-13T15:10:26.566260Z",
     "shell.execute_reply": "2025-10-13T15:10:26.565061Z"
    }
   },
   "outputs": [],
   "source": [
    "met.dt<-data.table(met, key=c(\"Integrated_annotation_after_rpca\"))\n",
    "Freq.table_Integrated<-as.data.frame(met.dt[,.(Freq_Integrated_annotation_after_rpca=.N),by=key(met.dt)], stringsAsFactors=F)\n",
    "\n",
    "Freq.table<-merge(Freq.table,\n",
    "                  Freq.table_Integrated,\n",
    "                  by=c(\"Integrated_annotation_after_rpca\"))\n",
    "\n",
    "#Freq.table"
   ]
  },
  {
   "cell_type": "code",
   "execution_count": 286,
   "id": "4a2c5851-56d6-47c1-a40f-36af05f24d05",
   "metadata": {
    "execution": {
     "iopub.execute_input": "2025-10-13T15:10:26.652191Z",
     "iopub.status.busy": "2025-10-13T15:10:26.651257Z",
     "iopub.status.idle": "2025-10-13T15:10:26.664027Z",
     "shell.execute_reply": "2025-10-13T15:10:26.662940Z"
    }
   },
   "outputs": [
    {
     "name": "stdout",
     "output_type": "stream",
     "text": [
      "'data.frame':\t23 obs. of  6 variables:\n",
      " $ Integrated_annotation_after_rpca     : Ord.factor w/ 6 levels \"hESC\"<\"HemogenicEndothelium\"<..: 4 4 2 2 2 1 1 1 1 1 ...\n",
      " $ seurat_clusters                      : chr  \"7\" \"5\" \"11\" \"10\" ...\n",
      " $ Freq                                 : int  716 453 188 947 670 4537 283 3739 664 1267 ...\n",
      " $ TOTAL                                : int  2443 3164 1439 1455 670 4537 1455 3739 664 1267 ...\n",
      " $ Perc                                 : num  29.3 14.3 13.1 65.1 100 ...\n",
      " $ Freq_Integrated_annotation_after_rpca: int  1169 1169 1805 1805 1805 19073 19073 19073 19073 19073 ...\n"
     ]
    }
   ],
   "source": [
    "str(Freq.table)"
   ]
  },
  {
   "cell_type": "code",
   "execution_count": 287,
   "id": "0a403cf2-a9c8-4562-92e9-114037faa7b8",
   "metadata": {
    "execution": {
     "iopub.execute_input": "2025-10-13T15:10:26.850570Z",
     "iopub.status.busy": "2025-10-13T15:10:26.849651Z",
     "iopub.status.idle": "2025-10-13T15:10:26.858635Z",
     "shell.execute_reply": "2025-10-13T15:10:26.857573Z"
    }
   },
   "outputs": [],
   "source": [
    "vector_colors_Integrated_annotation_after_rpca<-c(brewer.pal(9, \"Set1\"),\"white\")"
   ]
  },
  {
   "cell_type": "markdown",
   "id": "34fb23ef-6320-45b5-9250-9bace25f6571",
   "metadata": {},
   "source": [
    "## Show the orig.ident breakdown Freq tables Integrated_annotation_after_rpca vs orig.ident vs seurat_clusters"
   ]
  },
  {
   "cell_type": "code",
   "execution_count": 288,
   "id": "0971ab89-d2a6-4174-8ea2-31512560c512",
   "metadata": {
    "execution": {
     "iopub.execute_input": "2025-10-13T15:10:27.465464Z",
     "iopub.status.busy": "2025-10-13T15:10:27.464510Z",
     "iopub.status.idle": "2025-10-13T15:10:27.473546Z",
     "shell.execute_reply": "2025-10-13T15:10:27.472512Z"
    }
   },
   "outputs": [],
   "source": [
    "met<-adata[[]]"
   ]
  },
  {
   "cell_type": "code",
   "execution_count": 289,
   "id": "d65d40af-b233-4b3e-92dd-fff676bfe93a",
   "metadata": {
    "execution": {
     "iopub.execute_input": "2025-10-13T15:10:27.668100Z",
     "iopub.status.busy": "2025-10-13T15:10:27.667179Z",
     "iopub.status.idle": "2025-10-13T15:10:27.681652Z",
     "shell.execute_reply": "2025-10-13T15:10:27.680524Z"
    }
   },
   "outputs": [],
   "source": [
    "met.dt<-data.table(met,key=c(\"orig.ident\",\"seurat_clusters\",\"Integrated_annotation_after_rpca\"))"
   ]
  },
  {
   "cell_type": "code",
   "execution_count": 290,
   "id": "329c9612-8a48-4a65-8e78-2c2f6cbfb10c",
   "metadata": {
    "execution": {
     "iopub.execute_input": "2025-10-13T15:10:27.852702Z",
     "iopub.status.busy": "2025-10-13T15:10:27.851805Z",
     "iopub.status.idle": "2025-10-13T15:10:27.859963Z",
     "shell.execute_reply": "2025-10-13T15:10:27.858939Z"
    }
   },
   "outputs": [],
   "source": [
    "#str(met.dt)"
   ]
  },
  {
   "cell_type": "code",
   "execution_count": 291,
   "id": "18e4ae72-8a01-4c43-b29d-f4ed975d2a71",
   "metadata": {
    "execution": {
     "iopub.execute_input": "2025-10-13T15:10:28.034815Z",
     "iopub.status.busy": "2025-10-13T15:10:28.033903Z",
     "iopub.status.idle": "2025-10-13T15:10:28.045389Z",
     "shell.execute_reply": "2025-10-13T15:10:28.044280Z"
    }
   },
   "outputs": [],
   "source": [
    "Freq.table<-as.data.frame(met.dt[,.(Freq=.N),by=key(met.dt)], stringsAsFactors=F)\n",
    "#Freq.table"
   ]
  },
  {
   "cell_type": "code",
   "execution_count": 292,
   "id": "2722b9ac-80e2-4314-a078-62e85a566b8b",
   "metadata": {
    "execution": {
     "iopub.execute_input": "2025-10-13T15:10:28.231912Z",
     "iopub.status.busy": "2025-10-13T15:10:28.230928Z",
     "iopub.status.idle": "2025-10-13T15:10:28.248859Z",
     "shell.execute_reply": "2025-10-13T15:10:28.247674Z"
    }
   },
   "outputs": [],
   "source": [
    "met.dt<-data.table(met, key=c(\"orig.ident\",\"seurat_clusters\"))\n",
    "Freq.TOTAL<-as.data.frame(met.dt[,.(TOTAL=.N),by=key(met.dt)], stringsAsFactors=F)\n",
    "#Freq.TOTAL"
   ]
  },
  {
   "cell_type": "code",
   "execution_count": 293,
   "id": "b54dab66-5c53-4138-a7ac-4851474d80d9",
   "metadata": {
    "execution": {
     "iopub.execute_input": "2025-10-13T15:10:28.412385Z",
     "iopub.status.busy": "2025-10-13T15:10:28.411443Z",
     "iopub.status.idle": "2025-10-13T15:10:28.422526Z",
     "shell.execute_reply": "2025-10-13T15:10:28.421432Z"
    }
   },
   "outputs": [],
   "source": [
    "Freq.table<-merge(Freq.table,\n",
    "                  Freq.TOTAL,\n",
    "                  by=c(\"orig.ident\",\"seurat_clusters\"))\n",
    "Freq.table$Perc<-round((100*(Freq.table$Freq/Freq.table$TOTAL)),2)\n",
    "\n",
    "#Freq.table"
   ]
  },
  {
   "cell_type": "code",
   "execution_count": 294,
   "id": "6248f7d0-380a-4c7c-a77b-42a1952035a8",
   "metadata": {
    "execution": {
     "iopub.execute_input": "2025-10-13T15:10:28.628983Z",
     "iopub.status.busy": "2025-10-13T15:10:28.628051Z",
     "iopub.status.idle": "2025-10-13T15:10:28.640769Z",
     "shell.execute_reply": "2025-10-13T15:10:28.639646Z"
    }
   },
   "outputs": [
    {
     "name": "stdout",
     "output_type": "stream",
     "text": [
      "'data.frame':\t33 obs. of  6 variables:\n",
      " $ orig.ident                      : chr  \"MCO_01373_3GEX\" \"MCO_01373_3GEX\" \"MCO_01373_3GEX\" \"MCO_01373_3GEX\" ...\n",
      " $ seurat_clusters                 : chr  \"1\" \"10\" \"12\" \"13\" ...\n",
      " $ Integrated_annotation_after_rpca: Ord.factor w/ 6 levels \"hESC\"<\"HemogenicEndothelium\"<..: 1 1 1 3 1 3 1 1 1 1 ...\n",
      " $ Freq                            : int  4331 3 1186 10 648 1 3460 3335 2041 2278 ...\n",
      " $ TOTAL                           : int  4331 3 1186 10 648 1 3460 3335 2041 2278 ...\n",
      " $ Perc                            : num  100 100 100 100 100 100 100 100 100 100 ...\n"
     ]
    }
   ],
   "source": [
    "str(Freq.table)"
   ]
  },
  {
   "cell_type": "code",
   "execution_count": 295,
   "id": "1e9aa4b8-de80-49bc-b3a3-895ebfd14cf6",
   "metadata": {
    "execution": {
     "iopub.execute_input": "2025-10-13T15:10:28.830512Z",
     "iopub.status.busy": "2025-10-13T15:10:28.829583Z",
     "iopub.status.idle": "2025-10-13T15:10:28.846425Z",
     "shell.execute_reply": "2025-10-13T15:10:28.845261Z"
    }
   },
   "outputs": [],
   "source": [
    "met.dt<-data.table(met, key=c(\"orig.ident\"))\n",
    "Freq.orig.ident<-as.data.frame(met.dt[,.(ntime=.N),by=key(met.dt)], stringsAsFactors=F)\n",
    "\n",
    "Freq.table<-merge(Freq.table,\n",
    "                  Freq.orig.ident,\n",
    "                  by=\"orig.ident\")\n",
    "\n",
    "#Freq.table"
   ]
  },
  {
   "cell_type": "code",
   "execution_count": 296,
   "id": "285c73be-9586-4223-8ecd-3ccf291edad2",
   "metadata": {
    "execution": {
     "iopub.execute_input": "2025-10-13T15:10:29.047429Z",
     "iopub.status.busy": "2025-10-13T15:10:29.046472Z",
     "iopub.status.idle": "2025-10-13T15:10:29.059813Z",
     "shell.execute_reply": "2025-10-13T15:10:29.058662Z"
    },
    "scrolled": true
   },
   "outputs": [
    {
     "name": "stdout",
     "output_type": "stream",
     "text": [
      "'data.frame':\t33 obs. of  7 variables:\n",
      " $ orig.ident                      : chr  \"MCO_01373_3GEX\" \"MCO_01373_3GEX\" \"MCO_01373_3GEX\" \"MCO_01373_3GEX\" ...\n",
      " $ seurat_clusters                 : chr  \"1\" \"10\" \"12\" \"13\" ...\n",
      " $ Integrated_annotation_after_rpca: Ord.factor w/ 6 levels \"hESC\"<\"HemogenicEndothelium\"<..: 1 1 1 3 1 3 1 1 1 1 ...\n",
      " $ Freq                            : int  4331 3 1186 10 648 1 3460 3335 2041 2278 ...\n",
      " $ TOTAL                           : int  4331 3 1186 10 648 1 3460 3335 2041 2278 ...\n",
      " $ Perc                            : num  100 100 100 100 100 100 100 100 100 100 ...\n",
      " $ ntime                           : int  17293 17293 17293 17293 17293 17293 17293 17293 17293 17293 ...\n"
     ]
    }
   ],
   "source": [
    "str(Freq.table)"
   ]
  },
  {
   "cell_type": "code",
   "execution_count": 297,
   "id": "4aadb06d-3973-44eb-90af-6cc44acdde09",
   "metadata": {
    "execution": {
     "iopub.execute_input": "2025-10-13T15:10:29.279780Z",
     "iopub.status.busy": "2025-10-13T15:10:29.278831Z",
     "iopub.status.idle": "2025-10-13T15:10:29.288281Z",
     "shell.execute_reply": "2025-10-13T15:10:29.287221Z"
    }
   },
   "outputs": [],
   "source": [
    "Freq.TOTAL<-merge(Freq.TOTAL,\n",
    "                  Freq.orig.ident,\n",
    "                  by=\"orig.ident\")"
   ]
  },
  {
   "cell_type": "code",
   "execution_count": 298,
   "id": "50aed963-84a5-4999-85c8-be5edca5de63",
   "metadata": {
    "execution": {
     "iopub.execute_input": "2025-10-13T15:10:29.562319Z",
     "iopub.status.busy": "2025-10-13T15:10:29.561366Z",
     "iopub.status.idle": "2025-10-13T15:10:29.575410Z",
     "shell.execute_reply": "2025-10-13T15:10:29.574245Z"
    }
   },
   "outputs": [
    {
     "name": "stdout",
     "output_type": "stream",
     "text": [
      "'data.frame':\t31 obs. of  7 variables:\n",
      " $ orig.ident                      : chr  \"MCO_01373_3GEX\" \"MCO_01373_3GEX\" \"MCO_01373_3GEX\" \"MCO_01373_3GEX\" ...\n",
      " $ seurat_clusters                 : chr  \"1\" \"12\" \"13\" \"15\" ...\n",
      " $ Integrated_annotation_after_rpca: Ord.factor w/ 6 levels \"hESC\"<\"HemogenicEndothelium\"<..: 1 1 3 1 1 1 1 1 1 1 ...\n",
      " $ Freq                            : int  4331 1186 10 648 3460 3335 2041 2278 206 280 ...\n",
      " $ TOTAL                           : int  4331 1186 10 648 3460 3335 2041 2278 206 1452 ...\n",
      " $ Perc                            : num  100 100 100 100 100 ...\n",
      " $ ntime                           : int  17293 17293 17293 17293 17293 17293 17293 17293 17927 17927 ...\n"
     ]
    }
   ],
   "source": [
    "Freq.table_filtered<-Freq.table[which(Freq.table$TOTAL >= 10),]\n",
    "\n",
    "str(Freq.table_filtered)"
   ]
  },
  {
   "cell_type": "code",
   "execution_count": 302,
   "id": "698c611a-4661-4cd6-b63c-db2988cedb00",
   "metadata": {
    "execution": {
     "iopub.execute_input": "2025-10-13T15:10:43.652403Z",
     "iopub.status.busy": "2025-10-13T15:10:43.651355Z",
     "iopub.status.idle": "2025-10-13T15:10:43.661166Z",
     "shell.execute_reply": "2025-10-13T15:10:43.660118Z"
    }
   },
   "outputs": [],
   "source": [
    "fill_colours<-c(brewer.pal(9, \"Set1\"),'gray','black')"
   ]
  },
  {
   "cell_type": "code",
   "execution_count": 303,
   "id": "06728776-bb87-4e9e-9435-eea95eec53b3",
   "metadata": {
    "execution": {
     "iopub.execute_input": "2025-10-13T15:10:44.943105Z",
     "iopub.status.busy": "2025-10-13T15:10:44.942125Z",
     "iopub.status.idle": "2025-10-13T15:10:45.442310Z",
     "shell.execute_reply": "2025-10-13T15:10:45.441151Z"
    }
   },
   "outputs": [
    {
     "name": "stdout",
     "output_type": "stream",
     "text": [
      "-------------------------------------->\t0 25 50 75 100\n"
     ]
    },
    {
     "ename": "ERROR",
     "evalue": "Error in value[[3L]](cond): no active device and default getOption(\"device\") is invalid\n",
     "output_type": "error",
     "traceback": [
      "Error in value[[3L]](cond): no active device and default getOption(\"device\") is invalid\nTraceback:\n"
     ]
    },
    {
     "data": {
      "text/plain": [
       "plot without title"
      ]
     },
     "metadata": {
      "image/png": {
       "height": 420,
       "width": 420
      }
     },
     "output_type": "display_data"
    }
   ],
   "source": [
    "#### Stacked Graph #2---------------\n",
    "  \n",
    "  breaks.Rank<-(seq(0,100,by=25))\n",
    "  labels.Rank<-as.character(breaks.Rank)\n",
    "  \n",
    "  cat(\"-------------------------------------->\\t\")\n",
    "  cat(sprintf(as.character(labels.Rank)))\n",
    "  cat(\"\\n\")\n",
    "  \n",
    "  \n",
    "  stacked_barplot<-Freq.table_filtered %>%\n",
    "    mutate(myaxis = paste0(seurat_clusters, \"\\n\", \"n=\", TOTAL), drop=F) %>%\n",
    "    mutate(myaxis=fct_reorder(myaxis,as.numeric(seurat_clusters)), drop=F) %>%\n",
    "    ggplot(aes(x=myaxis, y=Perc, fill=Integrated_annotation_after_rpca)) +\n",
    "    geom_bar(stat=\"identity\",colour='white')+\n",
    "    scale_y_continuous(name=paste(\"Percentage of cells in each cell type\",sep=\" \"),breaks=breaks.Rank,labels=labels.Rank,\n",
    "                       limits=c(breaks.Rank[1],breaks.Rank[length(breaks.Rank)]+1))+\n",
    "    scale_fill_manual(values=fill_colours,\n",
    "                      drop=F,\n",
    "                      name=\"My Annotation\")\n",
    "\n",
    " stacked_barplot<-stacked_barplot+\n",
    "    theme_cowplot(font_size = 2)+\n",
    "    facet_grid(. ~ orig.ident+ntime, scales='free_x', space='free_x', switch=\"y\", labeller=labeller(paste0(Freq.table_filtered$orig.ident, \"\\n\", \"n=\", Freq.table_filtered$ntime)))+   \n",
    "    scale_x_discrete(name=\"Seurat clusters\", drop=T)+\n",
    "    theme( strip.background = element_blank(),\n",
    "           strip.placement = \"outside\",\n",
    "           strip.text = element_text(size=12),\n",
    "           panel.spacing = unit(0.2, \"lines\"),\n",
    "           panel.background=element_rect(fill=\"white\"),\n",
    "           panel.border=element_rect(colour=\"white\",size=0,5),\n",
    "           panel.grid.major = element_blank(),\n",
    "           panel.grid.minor = element_blank())+\n",
    "        theme_classic()+\n",
    "            theme(axis.title.y=element_text(size=12, color=\"black\", family=\"sans\"),\n",
    "                  axis.title.x=element_blank(),\n",
    "                  axis.text.y=element_text(angle=0,size=10, color=\"black\", family=\"sans\"),\n",
    "                  axis.text.x=element_text(angle=45,size=10,vjust=1,hjust=1,color=\"black\", family=\"sans\"),\n",
    "                  axis.line.x = element_line(size = 0.2),\n",
    "                  axis.ticks.x = element_line(size = 0.2),\n",
    "                  axis.ticks.y = element_line(size = 0.2),\n",
    "                  axis.line.y = element_line(size = 0.2))+\n",
    "            theme(legend.title = element_blank(),\n",
    "                  legend.text = element_text(size=12, color=\"black\", family=\"sans\"),\n",
    "                  legend.key.size = unit(0.5, 'cm'), #change legend key size\n",
    "                  legend.key.height = unit(0.5, 'cm'), #change legend key height\n",
    "                  legend.key.width = unit(0.5, 'cm'), #change legend key width\n",
    "                  legend.position=\"bottom\")\n",
    "\n",
    "\n",
    "\n",
    "stacked_barplot"
   ]
  },
  {
   "cell_type": "code",
   "execution_count": 304,
   "id": "89f987f1-5e8e-4c56-ad79-5202da9318d2",
   "metadata": {
    "execution": {
     "iopub.execute_input": "2025-10-13T15:10:46.330167Z",
     "iopub.status.busy": "2025-10-13T15:10:46.329210Z",
     "iopub.status.idle": "2025-10-13T15:10:46.659660Z",
     "shell.execute_reply": "2025-10-13T15:10:46.658425Z"
    }
   },
   "outputs": [],
   "source": [
    "setwd(\"/group/soranzo/manuel.tardaguila/2025_hESC_MK_SCRNAseq_10X/no_competition/RPCA/graphs/\")\n",
    "\n",
    "svgname<-paste(\"Stacked_barplot_Integrated_annotation_after_rpca_and_sample\",\".svg\",sep='')\n",
    "makesvg = TRUE\n",
    "\n",
    "if (makesvg == TRUE)\n",
    "{\n",
    "  ggsave(svgname, plot= stacked_barplot,\n",
    "         width = 25,        # Set the width to 8\n",
    "      height = 12.5,       # Set the height to 5\n",
    "      units = \"cm\",    # Specify the units as inches\n",
    "         device=\"svg\")\n",
    "}\n",
    "\n",
    "\n",
    "  "
   ]
  },
  {
   "cell_type": "markdown",
   "id": "68de3c04-27a3-4414-a91b-56153f2e0190",
   "metadata": {},
   "source": [
    "# FINAL SAVE"
   ]
  },
  {
   "cell_type": "code",
   "execution_count": 305,
   "id": "c2232f24-6d9a-440e-bc71-8e142e160dc0",
   "metadata": {
    "execution": {
     "iopub.execute_input": "2025-10-13T15:13:49.199733Z",
     "iopub.status.busy": "2025-10-13T15:13:49.198717Z",
     "iopub.status.idle": "2025-10-13T15:13:49.212710Z",
     "shell.execute_reply": "2025-10-13T15:13:49.211570Z"
    }
   },
   "outputs": [],
   "source": [
    "setwd(\"/scratch/manuel.tardaguila/hESC_MK_SCRNAseq_10X/no_competition/processing_outputs/\")"
   ]
  },
  {
   "cell_type": "code",
   "execution_count": null,
   "id": "628d9db4-c5e1-4067-b975-7fd0d65c47ec",
   "metadata": {
    "execution": {
     "iopub.execute_input": "2025-10-13T15:13:49.215257Z",
     "iopub.status.busy": "2025-10-13T15:13:49.214348Z"
    }
   },
   "outputs": [],
   "source": [
    "saveRDS(adata, file=\"merged_unprocessed_db_filt_clustered_QCed_cell_annotated_rpca_integrate_clustered_subcluster_majority_vote.rds\")"
   ]
  },
  {
   "cell_type": "code",
   "execution_count": null,
   "id": "53c8d5c6-9cd8-4bf6-86f7-178da5984d81",
   "metadata": {},
   "outputs": [],
   "source": []
  }
 ],
 "metadata": {
  "kernelspec": {
   "display_name": "R [conda env:multiome_NEW_downstream_analysis]",
   "language": "R",
   "name": "conda-env-multiome_NEW_downstream_analysis-r"
  },
  "language_info": {
   "codemirror_mode": "r",
   "file_extension": ".r",
   "mimetype": "text/x-r-source",
   "name": "R",
   "pygments_lexer": "r",
   "version": "4.4.3"
  }
 },
 "nbformat": 4,
 "nbformat_minor": 5
}
